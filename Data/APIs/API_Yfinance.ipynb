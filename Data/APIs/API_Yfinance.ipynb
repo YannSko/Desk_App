{
 "cells": [
  {
   "cell_type": "code",
   "execution_count": 6,
   "metadata": {},
   "outputs": [
    {
     "name": "stderr",
     "output_type": "stream",
     "text": [
      "[*********************100%%**********************]  1 of 1 completed\n",
      "\n",
      "1 Failed download:\n",
      "['TSLA']: Exception('%ticker%: No price data found, symbol may be delisted (1d 2024-01-01 -> 2024-01-02)')\n"
     ]
    },
    {
     "name": "stdout",
     "output_type": "stream",
     "text": [
      "Index(['Open', 'High', 'Low', 'Close', 'Adj Close', 'Volume'], dtype='object')\n"
     ]
    }
   ],
   "source": [
    "import yfinance as yf\n",
    "all_tickers = yf.download(\"TSLA\", \"2024-01-01\", \"2024-01-02\")\n",
    "print(all_tickers.columns)"
   ]
  },
  {
   "cell_type": "code",
   "execution_count": 1,
   "metadata": {},
   "outputs": [
    {
     "name": "stderr",
     "output_type": "stream",
     "text": [
      "C:\\Users\\yskon\\AppData\\Local\\Temp\\ipykernel_20164\\1269030379.py:1: DeprecationWarning: \n",
      "Pyarrow will become a required dependency of pandas in the next major release of pandas (pandas 3.0),\n",
      "(to allow more performant data types, such as the Arrow string type, and better interoperability with other libraries)\n",
      "but was not found to be installed on your system.\n",
      "If this would cause problems for you,\n",
      "please provide us feedback at https://github.com/pandas-dev/pandas/issues/54466\n",
      "        \n",
      "  import pandas as pd\n"
     ]
    },
    {
     "data": {
      "text/html": [
       "<div>\n",
       "<style scoped>\n",
       "    .dataframe tbody tr th:only-of-type {\n",
       "        vertical-align: middle;\n",
       "    }\n",
       "\n",
       "    .dataframe tbody tr th {\n",
       "        vertical-align: top;\n",
       "    }\n",
       "\n",
       "    .dataframe thead th {\n",
       "        text-align: right;\n",
       "    }\n",
       "</style>\n",
       "<table border=\"1\" class=\"dataframe\">\n",
       "  <thead>\n",
       "    <tr style=\"text-align: right;\">\n",
       "      <th></th>\n",
       "      <th>Symbol</th>\n",
       "      <th>Name</th>\n",
       "      <th>Last Sale</th>\n",
       "      <th>Net Change</th>\n",
       "      <th>% Change</th>\n",
       "      <th>Market Cap</th>\n",
       "      <th>Country</th>\n",
       "      <th>IPO Year</th>\n",
       "      <th>Volume</th>\n",
       "      <th>Sector</th>\n",
       "      <th>Industry</th>\n",
       "    </tr>\n",
       "  </thead>\n",
       "  <tbody>\n",
       "    <tr>\n",
       "      <th>0</th>\n",
       "      <td>A</td>\n",
       "      <td>Agilent Technologies Inc. Common Stock</td>\n",
       "      <td>$134.75</td>\n",
       "      <td>2.5100</td>\n",
       "      <td>1.898%</td>\n",
       "      <td>3.948710e+10</td>\n",
       "      <td>United States</td>\n",
       "      <td>1999.0</td>\n",
       "      <td>1514490</td>\n",
       "      <td>Industrials</td>\n",
       "      <td>Electrical Products</td>\n",
       "    </tr>\n",
       "    <tr>\n",
       "      <th>1</th>\n",
       "      <td>AA</td>\n",
       "      <td>Alcoa Corporation Common Stock</td>\n",
       "      <td>$27.39</td>\n",
       "      <td>0.6000</td>\n",
       "      <td>2.24%</td>\n",
       "      <td>4.888346e+09</td>\n",
       "      <td>United States</td>\n",
       "      <td>2016.0</td>\n",
       "      <td>4381614</td>\n",
       "      <td>Industrials</td>\n",
       "      <td>Aluminum</td>\n",
       "    </tr>\n",
       "    <tr>\n",
       "      <th>2</th>\n",
       "      <td>AACG</td>\n",
       "      <td>ATA Creativity Global American Depositary Shares</td>\n",
       "      <td>$1.4297</td>\n",
       "      <td>-0.0203</td>\n",
       "      <td>-1.40%</td>\n",
       "      <td>4.521022e+07</td>\n",
       "      <td>China</td>\n",
       "      <td>2008.0</td>\n",
       "      <td>67391</td>\n",
       "      <td>Real Estate</td>\n",
       "      <td>Other Consumer Services</td>\n",
       "    </tr>\n",
       "    <tr>\n",
       "      <th>3</th>\n",
       "      <td>AACI</td>\n",
       "      <td>Armada Acquisition Corp. I Common Stock</td>\n",
       "      <td>$10.95</td>\n",
       "      <td>0.0000</td>\n",
       "      <td>0.00%</td>\n",
       "      <td>0.000000e+00</td>\n",
       "      <td>United States</td>\n",
       "      <td>2021.0</td>\n",
       "      <td>23</td>\n",
       "      <td>Finance</td>\n",
       "      <td>Blank Checks</td>\n",
       "    </tr>\n",
       "    <tr>\n",
       "      <th>4</th>\n",
       "      <td>AACIW</td>\n",
       "      <td>Armada Acquisition Corp. I Warrant</td>\n",
       "      <td>$0.025</td>\n",
       "      <td>0.0000</td>\n",
       "      <td>0.00%</td>\n",
       "      <td>0.000000e+00</td>\n",
       "      <td>United States</td>\n",
       "      <td>2021.0</td>\n",
       "      <td>3</td>\n",
       "      <td>Finance</td>\n",
       "      <td>Blank Checks</td>\n",
       "    </tr>\n",
       "    <tr>\n",
       "      <th>...</th>\n",
       "      <td>...</td>\n",
       "      <td>...</td>\n",
       "      <td>...</td>\n",
       "      <td>...</td>\n",
       "      <td>...</td>\n",
       "      <td>...</td>\n",
       "      <td>...</td>\n",
       "      <td>...</td>\n",
       "      <td>...</td>\n",
       "      <td>...</td>\n",
       "      <td>...</td>\n",
       "    </tr>\n",
       "    <tr>\n",
       "      <th>7230</th>\n",
       "      <td>ZVRA</td>\n",
       "      <td>Zevra Therapeutics Inc. Common Stock</td>\n",
       "      <td>$6.68</td>\n",
       "      <td>0.5400</td>\n",
       "      <td>8.795%</td>\n",
       "      <td>2.419373e+08</td>\n",
       "      <td>United States</td>\n",
       "      <td>NaN</td>\n",
       "      <td>338840</td>\n",
       "      <td>Health Care</td>\n",
       "      <td>Biotechnology: Pharmaceutical Preparations</td>\n",
       "    </tr>\n",
       "    <tr>\n",
       "      <th>7231</th>\n",
       "      <td>ZVSA</td>\n",
       "      <td>ZyVersa Therapeutics Inc. Common Stock</td>\n",
       "      <td>$0.5768</td>\n",
       "      <td>-0.0018</td>\n",
       "      <td>-0.311%</td>\n",
       "      <td>7.171340e+05</td>\n",
       "      <td>United States</td>\n",
       "      <td>2022.0</td>\n",
       "      <td>133921</td>\n",
       "      <td>Health Care</td>\n",
       "      <td>Biotechnology: Pharmaceutical Preparations</td>\n",
       "    </tr>\n",
       "    <tr>\n",
       "      <th>7232</th>\n",
       "      <td>ZWS</td>\n",
       "      <td>Zurn Elkay Water Solutions Corporation Common ...</td>\n",
       "      <td>$32.07</td>\n",
       "      <td>0.3700</td>\n",
       "      <td>1.167%</td>\n",
       "      <td>5.515916e+09</td>\n",
       "      <td>United States</td>\n",
       "      <td>2012.0</td>\n",
       "      <td>1479726</td>\n",
       "      <td>Industrials</td>\n",
       "      <td>Industrial Machinery/Components</td>\n",
       "    </tr>\n",
       "    <tr>\n",
       "      <th>7233</th>\n",
       "      <td>ZYME</td>\n",
       "      <td>Zymeworks Inc. Common Stock</td>\n",
       "      <td>$11.71</td>\n",
       "      <td>0.3000</td>\n",
       "      <td>2.629%</td>\n",
       "      <td>8.197233e+08</td>\n",
       "      <td>United States</td>\n",
       "      <td>NaN</td>\n",
       "      <td>403184</td>\n",
       "      <td>Health Care</td>\n",
       "      <td>Biotechnology: Pharmaceutical Preparations</td>\n",
       "    </tr>\n",
       "    <tr>\n",
       "      <th>7234</th>\n",
       "      <td>ZYXI</td>\n",
       "      <td>Zynex Inc. Common Stock</td>\n",
       "      <td>$12.70</td>\n",
       "      <td>0.1500</td>\n",
       "      <td>1.195%</td>\n",
       "      <td>4.305780e+08</td>\n",
       "      <td>United States</td>\n",
       "      <td>NaN</td>\n",
       "      <td>169658</td>\n",
       "      <td>Health Care</td>\n",
       "      <td>Biotechnology: Electromedical &amp; Electrotherape...</td>\n",
       "    </tr>\n",
       "  </tbody>\n",
       "</table>\n",
       "<p>7235 rows × 11 columns</p>\n",
       "</div>"
      ],
      "text/plain": [
       "     Symbol                                               Name Last Sale  \\\n",
       "0         A             Agilent Technologies Inc. Common Stock   $134.75   \n",
       "1        AA                    Alcoa Corporation Common Stock     $27.39   \n",
       "2      AACG   ATA Creativity Global American Depositary Shares   $1.4297   \n",
       "3      AACI            Armada Acquisition Corp. I Common Stock    $10.95   \n",
       "4     AACIW                 Armada Acquisition Corp. I Warrant    $0.025   \n",
       "...     ...                                                ...       ...   \n",
       "7230   ZVRA               Zevra Therapeutics Inc. Common Stock     $6.68   \n",
       "7231   ZVSA             ZyVersa Therapeutics Inc. Common Stock   $0.5768   \n",
       "7232    ZWS  Zurn Elkay Water Solutions Corporation Common ...    $32.07   \n",
       "7233   ZYME                        Zymeworks Inc. Common Stock    $11.71   \n",
       "7234   ZYXI                            Zynex Inc. Common Stock    $12.70   \n",
       "\n",
       "      Net Change % Change    Market Cap        Country  IPO Year   Volume  \\\n",
       "0         2.5100   1.898%  3.948710e+10  United States    1999.0  1514490   \n",
       "1         0.6000    2.24%  4.888346e+09  United States    2016.0  4381614   \n",
       "2        -0.0203   -1.40%  4.521022e+07          China    2008.0    67391   \n",
       "3         0.0000    0.00%  0.000000e+00  United States    2021.0       23   \n",
       "4         0.0000    0.00%  0.000000e+00  United States    2021.0        3   \n",
       "...          ...      ...           ...            ...       ...      ...   \n",
       "7230      0.5400   8.795%  2.419373e+08  United States       NaN   338840   \n",
       "7231     -0.0018  -0.311%  7.171340e+05  United States    2022.0   133921   \n",
       "7232      0.3700   1.167%  5.515916e+09  United States    2012.0  1479726   \n",
       "7233      0.3000   2.629%  8.197233e+08  United States       NaN   403184   \n",
       "7234      0.1500   1.195%  4.305780e+08  United States       NaN   169658   \n",
       "\n",
       "           Sector                                           Industry  \n",
       "0     Industrials                                Electrical Products  \n",
       "1     Industrials                                           Aluminum  \n",
       "2     Real Estate                            Other Consumer Services  \n",
       "3         Finance                                       Blank Checks  \n",
       "4         Finance                                       Blank Checks  \n",
       "...           ...                                                ...  \n",
       "7230  Health Care         Biotechnology: Pharmaceutical Preparations  \n",
       "7231  Health Care         Biotechnology: Pharmaceutical Preparations  \n",
       "7232  Industrials                    Industrial Machinery/Components  \n",
       "7233  Health Care         Biotechnology: Pharmaceutical Preparations  \n",
       "7234  Health Care  Biotechnology: Electromedical & Electrotherape...  \n",
       "\n",
       "[7235 rows x 11 columns]"
      ]
     },
     "execution_count": 1,
     "metadata": {},
     "output_type": "execute_result"
    }
   ],
   "source": [
    "import pandas as pd\n",
    "import yfinance as yf\n",
    "import json\n",
    "\n",
    "# Lire le DataFrame depuis le fichier CSV\n",
    "df = pd.read_csv(\"nasdaq_screener_1708057294539.csv\")\n",
    "\n",
    "list_symbol=df['Symbol']\n",
    "print(list_symbol)\n"
   ]
  },
  {
   "cell_type": "code",
   "execution_count": 34,
   "metadata": {},
   "outputs": [
    {
     "name": "stdout",
     "output_type": "stream",
     "text": [
      "Données récupérées pour A\n",
      "Données récupérées pour AA\n",
      "Données récupérées pour AACG\n",
      "Données récupérées pour AACI\n",
      "Données récupérées pour AACIW\n",
      "Données récupérées pour AACT\n",
      "Données récupérées pour AADI\n",
      "Données récupérées pour AAGR\n",
      "Données récupérées pour AAGRW\n",
      "Données récupérées pour AAL\n",
      "Données récupérées pour AAMC\n",
      "Données récupérées pour AAME\n",
      "Données récupérées pour AAN\n",
      "Données récupérées pour AAOI\n",
      "Données récupérées pour AAON\n",
      "Données récupérées pour AAP\n",
      "Données récupérées pour AAPL\n",
      "Données récupérées pour AAT\n",
      "Données récupérées pour AAU\n",
      "Données récupérées pour AB\n",
      "Données récupérées pour ABAT\n",
      "Données récupérées pour ABBV\n",
      "Données récupérées pour ABCB\n",
      "Données récupérées pour ABCL\n",
      "Données récupérées pour ABEO\n",
      "Données récupérées pour ABEV\n",
      "Données récupérées pour ABG\n",
      "Données récupérées pour ABIO\n",
      "Données récupérées pour ABL\n",
      "Données récupérées pour ABLLL\n",
      "Données récupérées pour ABLLW\n",
      "Données récupérées pour ABLV\n",
      "Données récupérées pour ABM\n",
      "Données récupérées pour ABNB\n",
      "Données récupérées pour ABOS\n",
      "Données récupérées pour ABR\n"
     ]
    },
    {
     "name": "stderr",
     "output_type": "stream",
     "text": [
      "404 Client Error: Not Found for url: https://query2.finance.yahoo.com/v10/finance/quoteSummary/ABR%5ED?modules=financialData%2CquoteType%2CdefaultKeyStatistics%2CassetProfile%2CsummaryDetail&corsDomain=finance.yahoo.com&formatted=false&symbol=ABR%5ED&crumb=znKJeXxQthY\n"
     ]
    },
    {
     "name": "stdout",
     "output_type": "stream",
     "text": [
      "Données récupérées pour ABR^D\n"
     ]
    },
    {
     "name": "stderr",
     "output_type": "stream",
     "text": [
      "404 Client Error: Not Found for url: https://query2.finance.yahoo.com/v10/finance/quoteSummary/ABR%5EE?modules=financialData%2CquoteType%2CdefaultKeyStatistics%2CassetProfile%2CsummaryDetail&corsDomain=finance.yahoo.com&formatted=false&symbol=ABR%5EE&crumb=znKJeXxQthY\n"
     ]
    },
    {
     "name": "stdout",
     "output_type": "stream",
     "text": [
      "Données récupérées pour ABR^E\n"
     ]
    },
    {
     "name": "stderr",
     "output_type": "stream",
     "text": [
      "404 Client Error: Not Found for url: https://query2.finance.yahoo.com/v10/finance/quoteSummary/ABR%5EF?modules=financialData%2CquoteType%2CdefaultKeyStatistics%2CassetProfile%2CsummaryDetail&corsDomain=finance.yahoo.com&formatted=false&symbol=ABR%5EF&crumb=znKJeXxQthY\n"
     ]
    },
    {
     "name": "stdout",
     "output_type": "stream",
     "text": [
      "Données récupérées pour ABR^F\n",
      "Données récupérées pour ABSI\n",
      "Données récupérées pour ABT\n",
      "Données récupérées pour ABTS\n",
      "Données récupérées pour ABUS\n",
      "Données récupérées pour ABVC\n",
      "Données récupérées pour ABVX\n",
      "Données récupérées pour AC\n",
      "Données récupérées pour ACA\n",
      "Données récupérées pour ACAB\n",
      "Données récupérées pour ACABW\n",
      "Données récupérées pour ACAC\n",
      "Données récupérées pour ACAD\n",
      "Données récupérées pour ACAH\n",
      "Données récupérées pour ACAHW\n",
      "Données récupérées pour ACB\n",
      "Données récupérées pour ACBA\n",
      "Données récupérées pour ACBAU\n",
      "Données récupérées pour ACCD\n",
      "Données récupérées pour ACCO\n",
      "Données récupérées pour ACDC\n",
      "Données récupérées pour ACEL\n",
      "Données récupérées pour ACET\n",
      "Données récupérées pour ACGL\n",
      "Données récupérées pour ACGLN\n",
      "Données récupérées pour ACGLO\n",
      "Données récupérées pour ACHC\n",
      "Données récupérées pour ACHL\n",
      "Données récupérées pour ACHR\n",
      "Données récupérées pour ACHV\n",
      "Données récupérées pour ACI\n",
      "Données récupérées pour ACIC\n",
      "Données récupérées pour ACIU\n",
      "Données récupérées pour ACIW\n",
      "Données récupérées pour ACLS\n",
      "Données récupérées pour ACLX\n",
      "Données récupérées pour ACM\n",
      "Données récupérées pour ACMR\n",
      "Données récupérées pour ACN\n",
      "Données récupérées pour ACNB\n",
      "Données récupérées pour ACNT\n",
      "Données récupérées pour ACON\n",
      "Données récupérées pour ACONW\n",
      "Données récupérées pour ACOR\n",
      "Données récupérées pour ACP\n"
     ]
    },
    {
     "name": "stderr",
     "output_type": "stream",
     "text": [
      "404 Client Error: Not Found for url: https://query2.finance.yahoo.com/v10/finance/quoteSummary/ACP%5EA?modules=financialData%2CquoteType%2CdefaultKeyStatistics%2CassetProfile%2CsummaryDetail&corsDomain=finance.yahoo.com&formatted=false&symbol=ACP%5EA&crumb=znKJeXxQthY\n"
     ]
    },
    {
     "name": "stdout",
     "output_type": "stream",
     "text": [
      "Données récupérées pour ACP^A\n",
      "Données récupérées pour ACR\n"
     ]
    },
    {
     "name": "stderr",
     "output_type": "stream",
     "text": [
      "404 Client Error: Not Found for url: https://query2.finance.yahoo.com/v10/finance/quoteSummary/ACR%5EC?modules=financialData%2CquoteType%2CdefaultKeyStatistics%2CassetProfile%2CsummaryDetail&corsDomain=finance.yahoo.com&formatted=false&symbol=ACR%5EC&crumb=znKJeXxQthY\n"
     ]
    },
    {
     "name": "stdout",
     "output_type": "stream",
     "text": [
      "Données récupérées pour ACR^C\n"
     ]
    },
    {
     "name": "stderr",
     "output_type": "stream",
     "text": [
      "404 Client Error: Not Found for url: https://query2.finance.yahoo.com/v10/finance/quoteSummary/ACR%5ED?modules=financialData%2CquoteType%2CdefaultKeyStatistics%2CassetProfile%2CsummaryDetail&corsDomain=finance.yahoo.com&formatted=false&symbol=ACR%5ED&crumb=znKJeXxQthY\n"
     ]
    },
    {
     "name": "stdout",
     "output_type": "stream",
     "text": [
      "Données récupérées pour ACR^D\n",
      "Données récupérées pour ACRE\n",
      "Données récupérées pour ACRS\n",
      "Données récupérées pour ACRV\n",
      "Données récupérées pour ACST\n",
      "Données récupérées pour ACT\n",
      "Données récupérées pour ACTG\n",
      "Données récupérées pour ACU\n",
      "Données récupérées pour ACV\n",
      "Données récupérées pour ACVA\n",
      "Données récupérées pour ACXP\n",
      "Données récupérées pour ADAG\n",
      "Données récupérées pour ADAP\n",
      "Données récupérées pour ADBE\n",
      "Données récupérées pour ADC\n"
     ]
    },
    {
     "name": "stderr",
     "output_type": "stream",
     "text": [
      "404 Client Error: Not Found for url: https://query2.finance.yahoo.com/v10/finance/quoteSummary/ADC%5EA?modules=financialData%2CquoteType%2CdefaultKeyStatistics%2CassetProfile%2CsummaryDetail&corsDomain=finance.yahoo.com&formatted=false&symbol=ADC%5EA&crumb=znKJeXxQthY\n"
     ]
    },
    {
     "name": "stdout",
     "output_type": "stream",
     "text": [
      "Données récupérées pour ADC^A\n",
      "Données récupérées pour ADCT\n",
      "Données récupérées pour ADD\n",
      "Données récupérées pour ADEA\n",
      "Données récupérées pour ADI\n",
      "Données récupérées pour ADIL\n",
      "Données récupérées pour ADM\n",
      "Données récupérées pour ADMA\n",
      "Données récupérées pour ADN\n",
      "Données récupérées pour ADNT\n",
      "Données récupérées pour ADNWW\n",
      "Données récupérées pour ADOC\n",
      "Données récupérées pour ADOCR\n",
      "Données récupérées pour ADOCW\n",
      "Données récupérées pour ADP\n",
      "Données récupérées pour ADPT\n",
      "Données récupérées pour ADRT\n",
      "Données récupérées pour ADSE\n",
      "Données récupérées pour ADSEW\n",
      "Données récupérées pour ADSK\n",
      "Données récupérées pour ADT\n",
      "Données récupérées pour ADTH\n",
      "Données récupérées pour ADTHW\n",
      "Données récupérées pour ADTN\n",
      "Données récupérées pour ADTX\n",
      "Données récupérées pour ADUS\n",
      "Données récupérées pour ADV\n",
      "Données récupérées pour ADVM\n",
      "Données récupérées pour ADVWW\n",
      "Données récupérées pour ADX\n",
      "Données récupérées pour ADXN\n",
      "Données récupérées pour AE\n",
      "Données récupérées pour AEAE\n",
      "Données récupérées pour AEAEW\n",
      "Données récupérées pour AEE\n",
      "Données récupérées pour AEF\n",
      "Données récupérées pour AEFC\n",
      "Données récupérées pour AEG\n",
      "Données récupérées pour AEHL\n",
      "Données récupérées pour AEHR\n",
      "Données récupérées pour AEI\n",
      "Données récupérées pour AEIS\n",
      "Données récupérées pour AEL\n"
     ]
    },
    {
     "name": "stderr",
     "output_type": "stream",
     "text": [
      "404 Client Error: Not Found for url: https://query2.finance.yahoo.com/v10/finance/quoteSummary/AEL%5EA?modules=financialData%2CquoteType%2CdefaultKeyStatistics%2CassetProfile%2CsummaryDetail&corsDomain=finance.yahoo.com&formatted=false&symbol=AEL%5EA&crumb=znKJeXxQthY\n"
     ]
    },
    {
     "name": "stdout",
     "output_type": "stream",
     "text": [
      "Données récupérées pour AEL^A\n"
     ]
    },
    {
     "name": "stderr",
     "output_type": "stream",
     "text": [
      "404 Client Error: Not Found for url: https://query2.finance.yahoo.com/v10/finance/quoteSummary/AEL%5EB?modules=financialData%2CquoteType%2CdefaultKeyStatistics%2CassetProfile%2CsummaryDetail&corsDomain=finance.yahoo.com&formatted=false&symbol=AEL%5EB&crumb=znKJeXxQthY\n"
     ]
    },
    {
     "name": "stdout",
     "output_type": "stream",
     "text": [
      "Données récupérées pour AEL^B\n",
      "Données récupérées pour AEM\n",
      "Données récupérées pour AEMD\n",
      "Données récupérées pour AENT\n",
      "Données récupérées pour AENTW\n",
      "Données récupérées pour AEO\n",
      "Données récupérées pour AEON\n",
      "Données récupérées pour AEP\n",
      "Données récupérées pour AER\n",
      "Données récupérées pour AERT\n",
      "Données récupérées pour AERTW\n",
      "Données récupérées pour AES\n",
      "Données récupérées pour AESI\n",
      "Données récupérées pour AEVA\n",
      "Données récupérées pour AEYE\n",
      "Données récupérées pour AEZS\n",
      "Données récupérées pour AFAR\n",
      "Données récupérées pour AFB\n",
      "Données récupérées pour AFBI\n",
      "Données récupérées pour AFCG\n",
      "Données récupérées pour AFG\n",
      "Données récupérées pour AFGB\n",
      "Données récupérées pour AFGC\n",
      "Données récupérées pour AFGD\n",
      "Données récupérées pour AFGE\n",
      "Données récupérées pour AFIB\n",
      "Données récupérées pour AFJK\n",
      "Données récupérées pour AFJKR\n",
      "Données récupérées pour AFJKU\n",
      "Données récupérées pour AFL\n",
      "Données récupérées pour AFMD\n",
      "Données récupérées pour AFRI\n",
      "Données récupérées pour AFRIW\n",
      "Données récupérées pour AFRM\n",
      "Données récupérées pour AFT\n",
      "Données récupérées pour AFYA\n",
      "Données récupérées pour AG\n",
      "Données récupérées pour AGAE\n",
      "Données récupérées pour AGBA\n",
      "Données récupérées pour AGBAW\n",
      "Données récupérées pour AGCO\n",
      "Données récupérées pour AGD\n",
      "Données récupérées pour AGE\n",
      "Données récupérées pour AGEN\n",
      "Données récupérées pour AGFY\n",
      "Données récupérées pour AGI\n",
      "Données récupérées pour AGIO\n",
      "Données récupérées pour AGL\n",
      "Données récupérées pour AGM\n"
     ]
    },
    {
     "name": "stderr",
     "output_type": "stream",
     "text": [
      "404 Client Error: Not Found for url: https://query2.finance.yahoo.com/v10/finance/quoteSummary/AGM%5EC?modules=financialData%2CquoteType%2CdefaultKeyStatistics%2CassetProfile%2CsummaryDetail&corsDomain=finance.yahoo.com&formatted=false&symbol=AGM%5EC&crumb=znKJeXxQthY\n"
     ]
    },
    {
     "name": "stdout",
     "output_type": "stream",
     "text": [
      "Données récupérées pour AGM^C\n"
     ]
    },
    {
     "name": "stderr",
     "output_type": "stream",
     "text": [
      "404 Client Error: Not Found for url: https://query2.finance.yahoo.com/v10/finance/quoteSummary/AGM%5ED?modules=financialData%2CquoteType%2CdefaultKeyStatistics%2CassetProfile%2CsummaryDetail&corsDomain=finance.yahoo.com&formatted=false&symbol=AGM%5ED&crumb=znKJeXxQthY\n"
     ]
    },
    {
     "name": "stdout",
     "output_type": "stream",
     "text": [
      "Données récupérées pour AGM^D\n"
     ]
    },
    {
     "name": "stderr",
     "output_type": "stream",
     "text": [
      "404 Client Error: Not Found for url: https://query2.finance.yahoo.com/v10/finance/quoteSummary/AGM%5EE?modules=financialData%2CquoteType%2CdefaultKeyStatistics%2CassetProfile%2CsummaryDetail&corsDomain=finance.yahoo.com&formatted=false&symbol=AGM%5EE&crumb=znKJeXxQthY\n"
     ]
    },
    {
     "name": "stdout",
     "output_type": "stream",
     "text": [
      "Données récupérées pour AGM^E\n"
     ]
    },
    {
     "name": "stderr",
     "output_type": "stream",
     "text": [
      "404 Client Error: Not Found for url: https://query2.finance.yahoo.com/v10/finance/quoteSummary/AGM%5EF?modules=financialData%2CquoteType%2CdefaultKeyStatistics%2CassetProfile%2CsummaryDetail&corsDomain=finance.yahoo.com&formatted=false&symbol=AGM%5EF&crumb=znKJeXxQthY\n"
     ]
    },
    {
     "name": "stdout",
     "output_type": "stream",
     "text": [
      "Données récupérées pour AGM^F\n"
     ]
    },
    {
     "name": "stderr",
     "output_type": "stream",
     "text": [
      "404 Client Error: Not Found for url: https://query2.finance.yahoo.com/v10/finance/quoteSummary/AGM%5EG?modules=financialData%2CquoteType%2CdefaultKeyStatistics%2CassetProfile%2CsummaryDetail&corsDomain=finance.yahoo.com&formatted=false&symbol=AGM%5EG&crumb=znKJeXxQthY\n"
     ]
    },
    {
     "name": "stdout",
     "output_type": "stream",
     "text": [
      "Données récupérées pour AGM^G\n",
      "Données récupérées pour AGMH\n",
      "Données récupérées pour AGNC\n",
      "Données récupérées pour AGNCL\n",
      "Données récupérées pour AGNCM\n",
      "Données récupérées pour AGNCN\n",
      "Données récupérées pour AGNCO\n",
      "Données récupérées pour AGNCP\n",
      "Données récupérées pour AGO\n",
      "Données récupérées pour AGR\n",
      "Données récupérées pour AGRI\n",
      "Données récupérées pour AGRIW\n",
      "Données récupérées pour AGRO\n",
      "Données récupérées pour AGRX\n",
      "Données récupérées pour AGS\n",
      "Données récupérées pour AGTI\n",
      "Données récupérées pour AGX\n",
      "Données récupérées pour AGYS\n",
      "Données récupérées pour AHCO\n",
      "Données récupérées pour AHG\n",
      "Données récupérées pour AHH\n"
     ]
    },
    {
     "name": "stderr",
     "output_type": "stream",
     "text": [
      "404 Client Error: Not Found for url: https://query2.finance.yahoo.com/v10/finance/quoteSummary/AHH%5EA?modules=financialData%2CquoteType%2CdefaultKeyStatistics%2CassetProfile%2CsummaryDetail&corsDomain=finance.yahoo.com&formatted=false&symbol=AHH%5EA&crumb=znKJeXxQthY\n"
     ]
    },
    {
     "name": "stdout",
     "output_type": "stream",
     "text": [
      "Données récupérées pour AHH^A\n"
     ]
    },
    {
     "name": "stderr",
     "output_type": "stream",
     "text": [
      "404 Client Error: Not Found for url: https://query2.finance.yahoo.com/v10/finance/quoteSummary/AHL%5EC?modules=financialData%2CquoteType%2CdefaultKeyStatistics%2CassetProfile%2CsummaryDetail&corsDomain=finance.yahoo.com&formatted=false&symbol=AHL%5EC&crumb=znKJeXxQthY\n"
     ]
    },
    {
     "name": "stdout",
     "output_type": "stream",
     "text": [
      "Données récupérées pour AHL^C\n"
     ]
    },
    {
     "name": "stderr",
     "output_type": "stream",
     "text": [
      "404 Client Error: Not Found for url: https://query2.finance.yahoo.com/v10/finance/quoteSummary/AHL%5ED?modules=financialData%2CquoteType%2CdefaultKeyStatistics%2CassetProfile%2CsummaryDetail&corsDomain=finance.yahoo.com&formatted=false&symbol=AHL%5ED&crumb=znKJeXxQthY\n"
     ]
    },
    {
     "name": "stdout",
     "output_type": "stream",
     "text": [
      "Données récupérées pour AHL^D\n"
     ]
    },
    {
     "name": "stderr",
     "output_type": "stream",
     "text": [
      "404 Client Error: Not Found for url: https://query2.finance.yahoo.com/v10/finance/quoteSummary/AHL%5EE?modules=financialData%2CquoteType%2CdefaultKeyStatistics%2CassetProfile%2CsummaryDetail&corsDomain=finance.yahoo.com&formatted=false&symbol=AHL%5EE&crumb=znKJeXxQthY\n"
     ]
    },
    {
     "name": "stdout",
     "output_type": "stream",
     "text": [
      "Données récupérées pour AHL^E\n",
      "Données récupérées pour AHR\n",
      "Données récupérées pour AHT\n"
     ]
    },
    {
     "name": "stderr",
     "output_type": "stream",
     "text": [
      "404 Client Error: Not Found for url: https://query2.finance.yahoo.com/v10/finance/quoteSummary/AHT%5ED?modules=financialData%2CquoteType%2CdefaultKeyStatistics%2CassetProfile%2CsummaryDetail&corsDomain=finance.yahoo.com&formatted=false&symbol=AHT%5ED&crumb=znKJeXxQthY\n"
     ]
    },
    {
     "name": "stdout",
     "output_type": "stream",
     "text": [
      "Données récupérées pour AHT^D\n"
     ]
    },
    {
     "name": "stderr",
     "output_type": "stream",
     "text": [
      "404 Client Error: Not Found for url: https://query2.finance.yahoo.com/v10/finance/quoteSummary/AHT%5EF?modules=financialData%2CquoteType%2CdefaultKeyStatistics%2CassetProfile%2CsummaryDetail&corsDomain=finance.yahoo.com&formatted=false&symbol=AHT%5EF&crumb=znKJeXxQthY\n"
     ]
    },
    {
     "name": "stdout",
     "output_type": "stream",
     "text": [
      "Données récupérées pour AHT^F\n"
     ]
    },
    {
     "name": "stderr",
     "output_type": "stream",
     "text": [
      "404 Client Error: Not Found for url: https://query2.finance.yahoo.com/v10/finance/quoteSummary/AHT%5EG?modules=financialData%2CquoteType%2CdefaultKeyStatistics%2CassetProfile%2CsummaryDetail&corsDomain=finance.yahoo.com&formatted=false&symbol=AHT%5EG&crumb=znKJeXxQthY\n"
     ]
    },
    {
     "name": "stdout",
     "output_type": "stream",
     "text": [
      "Données récupérées pour AHT^G\n"
     ]
    },
    {
     "name": "stderr",
     "output_type": "stream",
     "text": [
      "404 Client Error: Not Found for url: https://query2.finance.yahoo.com/v10/finance/quoteSummary/AHT%5EH?modules=financialData%2CquoteType%2CdefaultKeyStatistics%2CassetProfile%2CsummaryDetail&corsDomain=finance.yahoo.com&formatted=false&symbol=AHT%5EH&crumb=znKJeXxQthY\n"
     ]
    },
    {
     "name": "stdout",
     "output_type": "stream",
     "text": [
      "Données récupérées pour AHT^H\n"
     ]
    },
    {
     "name": "stderr",
     "output_type": "stream",
     "text": [
      "404 Client Error: Not Found for url: https://query2.finance.yahoo.com/v10/finance/quoteSummary/AHT%5EI?modules=financialData%2CquoteType%2CdefaultKeyStatistics%2CassetProfile%2CsummaryDetail&corsDomain=finance.yahoo.com&formatted=false&symbol=AHT%5EI&crumb=znKJeXxQthY\n"
     ]
    },
    {
     "name": "stdout",
     "output_type": "stream",
     "text": [
      "Données récupérées pour AHT^I\n",
      "Données récupérées pour AI\n",
      "Données récupérées pour AIB\n",
      "Données récupérées pour AIBBR\n",
      "Données récupérées pour AIF\n",
      "Données récupérées pour AIG\n"
     ]
    },
    {
     "name": "stderr",
     "output_type": "stream",
     "text": [
      "404 Client Error: Not Found for url: https://query2.finance.yahoo.com/v10/finance/quoteSummary/AIG%5EA?modules=financialData%2CquoteType%2CdefaultKeyStatistics%2CassetProfile%2CsummaryDetail&corsDomain=finance.yahoo.com&formatted=false&symbol=AIG%5EA&crumb=znKJeXxQthY\n"
     ]
    },
    {
     "name": "stdout",
     "output_type": "stream",
     "text": [
      "Données récupérées pour AIG^A\n",
      "Données récupérées pour AIH\n",
      "Données récupérées pour AIHS\n",
      "Données récupérées pour AIM\n",
      "Données récupérées pour AIMAW\n",
      "Données récupérées pour AIMD\n",
      "Données récupérées pour AIN\n",
      "Données récupérées pour AINC\n",
      "Données récupérées pour AIO\n",
      "Données récupérées pour AIP\n",
      "Données récupérées pour AIR\n",
      "Données récupérées pour AIRC\n",
      "Données récupérées pour AIRE\n",
      "Données récupérées pour AIRG\n",
      "Données récupérées pour AIRI\n",
      "Données récupérées pour AIRS\n",
      "Données récupérées pour AIRT\n",
      "Données récupérées pour AIRTP\n",
      "Données récupérées pour AISP\n",
      "Données récupérées pour AISPW\n",
      "Données récupérées pour AIT\n",
      "Données récupérées pour AITR\n",
      "Données récupérées pour AITRR\n",
      "Données récupérées pour AITRU\n",
      "Données récupérées pour AIU\n",
      "Données récupérées pour AIV\n",
      "Données récupérées pour AIXI\n",
      "Données récupérées pour AIZ\n",
      "Données récupérées pour AIZN\n",
      "Données récupérées pour AJG\n",
      "Données récupérées pour AJX\n",
      "Données récupérées pour AJXA\n",
      "Données récupérées pour AKA\n",
      "Données récupérées pour AKAM\n",
      "Données récupérées pour AKAN\n",
      "Données récupérées pour AKBA\n",
      "Données récupérées pour AKLI\n"
     ]
    },
    {
     "name": "stderr",
     "output_type": "stream",
     "text": [
      "404 Client Error: Not Found for url: https://query2.finance.yahoo.com/v10/finance/quoteSummary/AKO/A?modules=financialData%2CquoteType%2CdefaultKeyStatistics%2CassetProfile%2CsummaryDetail&corsDomain=finance.yahoo.com&formatted=false&symbol=AKO%2FA&crumb=znKJeXxQthY\n"
     ]
    },
    {
     "name": "stdout",
     "output_type": "stream",
     "text": [
      "Erreur lors de la récupération des données pour AKO/A: Failed to parse json response from Yahoo Finance: {'code': 'Not Found', 'description': 'HTTP 404 Not Found'}\n"
     ]
    },
    {
     "name": "stderr",
     "output_type": "stream",
     "text": [
      "404 Client Error: Not Found for url: https://query2.finance.yahoo.com/v10/finance/quoteSummary/AKO/B?modules=financialData%2CquoteType%2CdefaultKeyStatistics%2CassetProfile%2CsummaryDetail&corsDomain=finance.yahoo.com&formatted=false&symbol=AKO%2FB&crumb=znKJeXxQthY\n"
     ]
    },
    {
     "name": "stdout",
     "output_type": "stream",
     "text": [
      "Erreur lors de la récupération des données pour AKO/B: Failed to parse json response from Yahoo Finance: {'code': 'Not Found', 'description': 'HTTP 404 Not Found'}\n",
      "Données récupérées pour AKR\n",
      "Données récupérées pour AKRO\n",
      "Données récupérées pour AKTS\n",
      "Données récupérées pour AKTX\n",
      "Données récupérées pour AKYA\n",
      "Données récupérées pour AL\n"
     ]
    },
    {
     "name": "stderr",
     "output_type": "stream",
     "text": [
      "404 Client Error: Not Found for url: https://query2.finance.yahoo.com/v10/finance/quoteSummary/AL%5EA?modules=financialData%2CquoteType%2CdefaultKeyStatistics%2CassetProfile%2CsummaryDetail&corsDomain=finance.yahoo.com&formatted=false&symbol=AL%5EA&crumb=znKJeXxQthY\n"
     ]
    },
    {
     "name": "stdout",
     "output_type": "stream",
     "text": [
      "Données récupérées pour AL^A\n",
      "Données récupérées pour ALAR\n",
      "Données récupérées pour ALB\n",
      "Données récupérées pour ALBT\n",
      "Données récupérées pour ALC\n",
      "Données récupérées pour ALCC\n",
      "Données récupérées pour ALCE\n",
      "Données récupérées pour ALCO\n",
      "Données récupérées pour ALCY\n",
      "Données récupérées pour ALDX\n",
      "Données récupérées pour ALE\n",
      "Données récupérées pour ALEC\n",
      "Données récupérées pour ALEX\n",
      "Données récupérées pour ALG\n",
      "Données récupérées pour ALGM\n",
      "Données récupérées pour ALGN\n",
      "Données récupérées pour ALGS\n",
      "Données récupérées pour ALGT\n",
      "Données récupérées pour ALHC\n",
      "Données récupérées pour ALIM\n",
      "Données récupérées pour ALIT\n",
      "Données récupérées pour ALK\n",
      "Données récupérées pour ALKS\n",
      "Données récupérées pour ALKT\n",
      "Données récupérées pour ALL\n"
     ]
    },
    {
     "name": "stderr",
     "output_type": "stream",
     "text": [
      "404 Client Error: Not Found for url: https://query2.finance.yahoo.com/v10/finance/quoteSummary/ALL%5EB?modules=financialData%2CquoteType%2CdefaultKeyStatistics%2CassetProfile%2CsummaryDetail&corsDomain=finance.yahoo.com&formatted=false&symbol=ALL%5EB&crumb=znKJeXxQthY\n"
     ]
    },
    {
     "name": "stdout",
     "output_type": "stream",
     "text": [
      "Données récupérées pour ALL^B\n"
     ]
    },
    {
     "name": "stderr",
     "output_type": "stream",
     "text": [
      "404 Client Error: Not Found for url: https://query2.finance.yahoo.com/v10/finance/quoteSummary/ALL%5EH?modules=financialData%2CquoteType%2CdefaultKeyStatistics%2CassetProfile%2CsummaryDetail&corsDomain=finance.yahoo.com&formatted=false&symbol=ALL%5EH&crumb=znKJeXxQthY\n"
     ]
    },
    {
     "name": "stdout",
     "output_type": "stream",
     "text": [
      "Données récupérées pour ALL^H\n"
     ]
    },
    {
     "name": "stderr",
     "output_type": "stream",
     "text": [
      "404 Client Error: Not Found for url: https://query2.finance.yahoo.com/v10/finance/quoteSummary/ALL%5EI?modules=financialData%2CquoteType%2CdefaultKeyStatistics%2CassetProfile%2CsummaryDetail&corsDomain=finance.yahoo.com&formatted=false&symbol=ALL%5EI&crumb=znKJeXxQthY\n"
     ]
    },
    {
     "name": "stdout",
     "output_type": "stream",
     "text": [
      "Données récupérées pour ALL^I\n"
     ]
    },
    {
     "name": "stderr",
     "output_type": "stream",
     "text": [
      "404 Client Error: Not Found for url: https://query2.finance.yahoo.com/v10/finance/quoteSummary/ALL%5EJ?modules=financialData%2CquoteType%2CdefaultKeyStatistics%2CassetProfile%2CsummaryDetail&corsDomain=finance.yahoo.com&formatted=false&symbol=ALL%5EJ&crumb=znKJeXxQthY\n"
     ]
    },
    {
     "name": "stdout",
     "output_type": "stream",
     "text": [
      "Données récupérées pour ALL^J\n",
      "Données récupérées pour ALLE\n",
      "Données récupérées pour ALLG\n",
      "Données récupérées pour ALLK\n",
      "Données récupérées pour ALLO\n",
      "Données récupérées pour ALLR\n",
      "Données récupérées pour ALLT\n",
      "Données récupérées pour ALLY\n",
      "Données récupérées pour ALNT\n",
      "Données récupérées pour ALNY\n",
      "Données récupérées pour ALOT\n",
      "Données récupérées pour ALPN\n",
      "Données récupérées pour ALPP\n",
      "Données récupérées pour ALRM\n",
      "Données récupérées pour ALRN\n",
      "Données récupérées pour ALRS\n",
      "Données récupérées pour ALSA\n",
      "Données récupérées pour ALSAR\n",
      "Données récupérées pour ALSAW\n",
      "Données récupérées pour ALSN\n",
      "Données récupérées pour ALT\n",
      "Données récupérées pour ALTG\n"
     ]
    },
    {
     "name": "stderr",
     "output_type": "stream",
     "text": [
      "404 Client Error: Not Found for url: https://query2.finance.yahoo.com/v10/finance/quoteSummary/ALTG%5EA?modules=financialData%2CquoteType%2CdefaultKeyStatistics%2CassetProfile%2CsummaryDetail&corsDomain=finance.yahoo.com&formatted=false&symbol=ALTG%5EA&crumb=znKJeXxQthY\n"
     ]
    },
    {
     "name": "stdout",
     "output_type": "stream",
     "text": [
      "Données récupérées pour ALTG^A\n",
      "Données récupérées pour ALTI\n",
      "Données récupérées pour ALTM\n",
      "Données récupérées pour ALTO\n",
      "Données récupérées pour ALTR\n",
      "Données récupérées pour ALTU\n",
      "Données récupérées pour ALTUW\n",
      "Données récupérées pour ALUR\n",
      "Données récupérées pour ALV\n",
      "Données récupérées pour ALVO\n",
      "Données récupérées pour ALVOW\n",
      "Données récupérées pour ALVR\n",
      "Données récupérées pour ALX\n",
      "Données récupérées pour ALXO\n",
      "Données récupérées pour ALZN\n",
      "Données récupérées pour AM\n",
      "Données récupérées pour AMAL\n",
      "Données récupérées pour AMAM\n",
      "Données récupérées pour AMAT\n",
      "Données récupérées pour AMBA\n",
      "Données récupérées pour AMBC\n",
      "Données récupérées pour AMBI\n",
      "Données récupérées pour AMBO\n",
      "Données récupérées pour AMBP\n",
      "Données récupérées pour AMC\n",
      "Données récupérées pour AMCR\n",
      "Données récupérées pour AMCX\n",
      "Données récupérées pour AMD\n",
      "Données récupérées pour AME\n",
      "Données récupérées pour AMED\n",
      "Données récupérées pour AMEH\n",
      "Données récupérées pour AMG\n",
      "Données récupérées pour AMGN\n",
      "Données récupérées pour AMH\n"
     ]
    },
    {
     "name": "stderr",
     "output_type": "stream",
     "text": [
      "404 Client Error: Not Found for url: https://query2.finance.yahoo.com/v10/finance/quoteSummary/AMH%5EG?modules=financialData%2CquoteType%2CdefaultKeyStatistics%2CassetProfile%2CsummaryDetail&corsDomain=finance.yahoo.com&formatted=false&symbol=AMH%5EG&crumb=znKJeXxQthY\n"
     ]
    },
    {
     "name": "stdout",
     "output_type": "stream",
     "text": [
      "Données récupérées pour AMH^G\n"
     ]
    },
    {
     "name": "stderr",
     "output_type": "stream",
     "text": [
      "404 Client Error: Not Found for url: https://query2.finance.yahoo.com/v10/finance/quoteSummary/AMH%5EH?modules=financialData%2CquoteType%2CdefaultKeyStatistics%2CassetProfile%2CsummaryDetail&corsDomain=finance.yahoo.com&formatted=false&symbol=AMH%5EH&crumb=znKJeXxQthY\n"
     ]
    },
    {
     "name": "stdout",
     "output_type": "stream",
     "text": [
      "Données récupérées pour AMH^H\n",
      "Données récupérées pour AMIX\n",
      "Données récupérées pour AMK\n",
      "Données récupérées pour AMKR\n",
      "Données récupérées pour AMLI\n",
      "Données récupérées pour AMLX\n",
      "Données récupérées pour AMN\n",
      "Données récupérées pour AMNB\n",
      "Données récupérées pour AMP\n",
      "Données récupérées pour AMPE\n",
      "Données récupérées pour AMPG\n",
      "Données récupérées pour AMPGW\n",
      "Données récupérées pour AMPH\n",
      "Données récupérées pour AMPL\n",
      "Données récupérées pour AMPS\n",
      "Données récupérées pour AMPX\n",
      "Données récupérées pour AMPY\n",
      "Données récupérées pour AMR\n",
      "Données récupérées pour AMRC\n",
      "Données récupérées pour AMRK\n",
      "Données récupérées pour AMRN\n",
      "Données récupérées pour AMRX\n",
      "Données récupérées pour AMS\n",
      "Données récupérées pour AMSC\n",
      "Données récupérées pour AMSF\n",
      "Données récupérées pour AMST\n",
      "Données récupérées pour AMSWA\n",
      "Données récupérées pour AMT\n",
      "Données récupérées pour AMTB\n",
      "Données récupérées pour AMTD\n",
      "Données récupérées pour AMTX\n",
      "Données récupérées pour AMWD\n",
      "Données récupérées pour AMWL\n",
      "Données récupérées pour AMX\n",
      "Données récupérées pour AMZN\n",
      "Données récupérées pour AN\n",
      "Données récupérées pour ANAB\n",
      "Données récupérées pour ANDE\n",
      "Données récupérées pour ANEB\n",
      "Données récupérées pour ANET\n",
      "Données récupérées pour ANF\n",
      "Données récupérées pour ANGH\n",
      "Données récupérées pour ANGHW\n",
      "Données récupérées pour ANGI\n",
      "Données récupérées pour ANGO\n",
      "Données récupérées pour ANIK\n",
      "Données récupérées pour ANIP\n",
      "Données récupérées pour ANIX\n",
      "Données récupérées pour ANL\n",
      "Données récupérées pour ANNX\n",
      "Données récupérées pour ANRO\n",
      "Données récupérées pour ANSC\n",
      "Données récupérées pour ANSCU\n",
      "Données récupérées pour ANSS\n",
      "Données récupérées pour ANTE\n",
      "Données récupérées pour ANTX\n",
      "Données récupérées pour ANVS\n",
      "Données récupérées pour ANY\n",
      "Données récupérées pour AOD\n",
      "Données récupérées pour AOGO\n",
      "Données récupérées pour AOMR\n",
      "Données récupérées pour AON\n",
      "Données récupérées pour AONC\n",
      "Données récupérées pour AONCW\n",
      "Données récupérées pour AORT\n",
      "Données récupérées pour AOS\n",
      "Données récupérées pour AOSL\n",
      "Données récupérées pour AOUT\n",
      "Données récupérées pour AP\n",
      "Données récupérées pour APA\n",
      "Données récupérées pour APAC\n",
      "Données récupérées pour APACW\n",
      "Données récupérées pour APAM\n",
      "Données récupérées pour APCA\n",
      "Données récupérées pour APCX\n",
      "Données récupérées pour APCXW\n",
      "Données récupérées pour APD\n",
      "Données récupérées pour APDN\n",
      "Données récupérées pour APEI\n",
      "Données récupérées pour APG\n",
      "Données récupérées pour APGE\n",
      "Données récupérées pour APH\n",
      "Données récupérées pour API\n",
      "Données récupérées pour APLD\n",
      "Données récupérées pour APLE\n",
      "Données récupérées pour APLM\n",
      "Données récupérées pour APLMW\n",
      "Données récupérées pour APLS\n",
      "Données récupérées pour APLT\n",
      "Données récupérées pour APM\n",
      "Données récupérées pour APO\n"
     ]
    },
    {
     "name": "stderr",
     "output_type": "stream",
     "text": [
      "404 Client Error: Not Found for url: https://query2.finance.yahoo.com/v10/finance/quoteSummary/APO%5EA?modules=financialData%2CquoteType%2CdefaultKeyStatistics%2CassetProfile%2CsummaryDetail&corsDomain=finance.yahoo.com&formatted=false&symbol=APO%5EA&crumb=znKJeXxQthY\n"
     ]
    },
    {
     "name": "stdout",
     "output_type": "stream",
     "text": [
      "Données récupérées pour APO^A\n",
      "Données récupérées pour APOG\n",
      "Données récupérées pour APOS\n",
      "Données récupérées pour APP\n",
      "Données récupérées pour APPF\n",
      "Données récupérées pour APPN\n",
      "Données récupérées pour APPS\n",
      "Données récupérées pour APRE\n",
      "Données récupérées pour APT\n",
      "Données récupérées pour APTO\n",
      "Données récupérées pour APTV\n",
      "Données récupérées pour APVO\n",
      "Données récupérées pour APWC\n",
      "Données récupérées pour APXI\n",
      "Données récupérées pour APYX\n",
      "Données récupérées pour AQB\n",
      "Données récupérées pour AQMS\n",
      "Données récupérées pour AQN\n",
      "Données récupérées pour AQNB\n",
      "Données récupérées pour AQNU\n",
      "Données récupérées pour AQST\n",
      "Données récupérées pour AQU\n",
      "Données récupérées pour AQUNR\n",
      "Données récupérées pour AR\n",
      "Données récupérées pour ARAY\n",
      "Données récupérées pour ARBB\n",
      "Données récupérées pour ARBE\n",
      "Données récupérées pour ARBEW\n",
      "Données récupérées pour ARBK\n",
      "Données récupérées pour ARBKL\n",
      "Données récupérées pour ARC\n",
      "Données récupérées pour ARCB\n",
      "Données récupérées pour ARCC\n",
      "Données récupérées pour ARCH\n",
      "Données récupérées pour ARCO\n",
      "Données récupérées pour ARCT\n",
      "Données récupérées pour ARDC\n",
      "Données récupérées pour ARDX\n",
      "Données récupérées pour ARE\n",
      "Données récupérées pour AREB\n",
      "Données récupérées pour AREBW\n",
      "Données récupérées pour AREC\n",
      "Données récupérées pour AREN\n",
      "Données récupérées pour ARES\n",
      "Données récupérées pour ARGD\n"
     ]
    },
    {
     "name": "stderr",
     "output_type": "stream",
     "text": [
      "404 Client Error: Not Found for url: https://query2.finance.yahoo.com/v10/finance/quoteSummary/ARGO%5EA?modules=financialData%2CquoteType%2CdefaultKeyStatistics%2CassetProfile%2CsummaryDetail&corsDomain=finance.yahoo.com&formatted=false&symbol=ARGO%5EA&crumb=znKJeXxQthY\n"
     ]
    },
    {
     "name": "stdout",
     "output_type": "stream",
     "text": [
      "Données récupérées pour ARGO^A\n",
      "Données récupérées pour ARGX\n",
      "Données récupérées pour ARHS\n",
      "Données récupérées pour ARI\n",
      "Données récupérées pour ARIS\n",
      "Données récupérées pour ARIZ\n",
      "Données récupérées pour ARIZR\n",
      "Données récupérées pour ARIZW\n",
      "Données récupérées pour ARKO\n",
      "Données récupérées pour ARKOW\n",
      "Données récupérées pour ARKR\n",
      "Données récupérées pour ARL\n",
      "Données récupérées pour ARLO\n",
      "Données récupérées pour ARLP\n",
      "Données récupérées pour ARM\n",
      "Données récupérées pour ARMK\n",
      "Données récupérées pour ARMN\n",
      "Données récupérées pour ARMP\n",
      "Données récupérées pour AROC\n",
      "Données récupérées pour AROW\n",
      "Données récupérées pour ARQ\n",
      "Données récupérées pour ARQQ\n",
      "Données récupérées pour ARQQW\n",
      "Données récupérées pour ARQT\n",
      "Données récupérées pour ARR\n"
     ]
    },
    {
     "name": "stderr",
     "output_type": "stream",
     "text": [
      "404 Client Error: Not Found for url: https://query2.finance.yahoo.com/v10/finance/quoteSummary/ARR%5EC?modules=financialData%2CquoteType%2CdefaultKeyStatistics%2CassetProfile%2CsummaryDetail&corsDomain=finance.yahoo.com&formatted=false&symbol=ARR%5EC&crumb=znKJeXxQthY\n"
     ]
    },
    {
     "name": "stdout",
     "output_type": "stream",
     "text": [
      "Données récupérées pour ARR^C\n",
      "Données récupérées pour ARRW\n",
      "Données récupérées pour ARRWU\n",
      "Données récupérées pour ARRWW\n",
      "Données récupérées pour ARRY\n",
      "Données récupérées pour ARTL\n",
      "Données récupérées pour ARTLW\n",
      "Données récupérées pour ARTNA\n",
      "Données récupérées pour ARTW\n",
      "Données récupérées pour ARVN\n",
      "Données récupérées pour ARW\n",
      "Données récupérées pour ARWR\n",
      "Données récupérées pour ARYD\n",
      "Données récupérées pour AS\n",
      "Données récupérées pour ASA\n",
      "Données récupérées pour ASAI\n",
      "Données récupérées pour ASAN\n",
      "Données récupérées pour ASB\n"
     ]
    },
    {
     "name": "stderr",
     "output_type": "stream",
     "text": [
      "404 Client Error: Not Found for url: https://query2.finance.yahoo.com/v10/finance/quoteSummary/ASB%5EE?modules=financialData%2CquoteType%2CdefaultKeyStatistics%2CassetProfile%2CsummaryDetail&corsDomain=finance.yahoo.com&formatted=false&symbol=ASB%5EE&crumb=znKJeXxQthY\n"
     ]
    },
    {
     "name": "stdout",
     "output_type": "stream",
     "text": [
      "Données récupérées pour ASB^E\n"
     ]
    },
    {
     "name": "stderr",
     "output_type": "stream",
     "text": [
      "404 Client Error: Not Found for url: https://query2.finance.yahoo.com/v10/finance/quoteSummary/ASB%5EF?modules=financialData%2CquoteType%2CdefaultKeyStatistics%2CassetProfile%2CsummaryDetail&corsDomain=finance.yahoo.com&formatted=false&symbol=ASB%5EF&crumb=znKJeXxQthY\n"
     ]
    },
    {
     "name": "stdout",
     "output_type": "stream",
     "text": [
      "Données récupérées pour ASB^F\n",
      "Données récupérées pour ASBA\n",
      "Données récupérées pour ASC\n",
      "Données récupérées pour ASCA\n",
      "Données récupérées pour ASCAW\n",
      "Données récupérées pour ASCB\n",
      "Données récupérées pour ASCBR\n",
      "Données récupérées pour ASG\n",
      "Données récupérées pour ASGI\n",
      "Données récupérées pour ASGN\n",
      "Données récupérées pour ASH\n",
      "Données récupérées pour ASIX\n",
      "Données récupérées pour ASLE\n",
      "Données récupérées pour ASLN\n",
      "Données récupérées pour ASM\n",
      "Données récupérées pour ASMB\n",
      "Données récupérées pour ASML\n",
      "Données récupérées pour ASND\n",
      "Données récupérées pour ASNS\n",
      "Données récupérées pour ASO\n",
      "Données récupérées pour ASPI\n",
      "Données récupérées pour ASPN\n",
      "Données récupérées pour ASPS\n",
      "Données récupérées pour ASR\n",
      "Données récupérées pour ASRT\n",
      "Données récupérées pour ASRV\n",
      "Données récupérées pour ASST\n",
      "Données récupérées pour ASTC\n",
      "Données récupérées pour ASTE\n",
      "Données récupérées pour ASTI\n",
      "Données récupérées pour ASTL\n",
      "Données récupérées pour ASTLW\n",
      "Données récupérées pour ASTR\n",
      "Données récupérées pour ASTS\n",
      "Données récupérées pour ASTSW\n",
      "Données récupérées pour ASUR\n",
      "Données récupérées pour ASX\n",
      "Données récupérées pour ASXC\n",
      "Données récupérées pour ASYS\n",
      "Données récupérées pour ATAI\n",
      "Données récupérées pour ATAT\n",
      "Données récupérées pour ATCH\n"
     ]
    },
    {
     "name": "stderr",
     "output_type": "stream",
     "text": [
      "404 Client Error: Not Found for url: https://query2.finance.yahoo.com/v10/finance/quoteSummary/ATCO%5ED?modules=financialData%2CquoteType%2CdefaultKeyStatistics%2CassetProfile%2CsummaryDetail&corsDomain=finance.yahoo.com&formatted=false&symbol=ATCO%5ED&crumb=znKJeXxQthY\n"
     ]
    },
    {
     "name": "stdout",
     "output_type": "stream",
     "text": [
      "Données récupérées pour ATCO^D\n"
     ]
    },
    {
     "name": "stderr",
     "output_type": "stream",
     "text": [
      "404 Client Error: Not Found for url: https://query2.finance.yahoo.com/v10/finance/quoteSummary/ATCO%5EH?modules=financialData%2CquoteType%2CdefaultKeyStatistics%2CassetProfile%2CsummaryDetail&corsDomain=finance.yahoo.com&formatted=false&symbol=ATCO%5EH&crumb=znKJeXxQthY\n"
     ]
    },
    {
     "name": "stdout",
     "output_type": "stream",
     "text": [
      "Données récupérées pour ATCO^H\n",
      "Données récupérées pour ATCOL\n",
      "Données récupérées pour ATEC\n",
      "Données récupérées pour ATEK\n",
      "Données récupérées pour ATEN\n",
      "Données récupérées pour ATER\n",
      "Données récupérées pour ATEX\n",
      "Données récupérées pour ATGE\n",
      "Données récupérées pour ATGL\n"
     ]
    },
    {
     "name": "stderr",
     "output_type": "stream",
     "text": [
      "404 Client Error: Not Found for url: https://query2.finance.yahoo.com/v10/finance/quoteSummary/ATH%5EA?modules=financialData%2CquoteType%2CdefaultKeyStatistics%2CassetProfile%2CsummaryDetail&corsDomain=finance.yahoo.com&formatted=false&symbol=ATH%5EA&crumb=znKJeXxQthY\n"
     ]
    },
    {
     "name": "stdout",
     "output_type": "stream",
     "text": [
      "Données récupérées pour ATH^A\n"
     ]
    },
    {
     "name": "stderr",
     "output_type": "stream",
     "text": [
      "404 Client Error: Not Found for url: https://query2.finance.yahoo.com/v10/finance/quoteSummary/ATH%5EB?modules=financialData%2CquoteType%2CdefaultKeyStatistics%2CassetProfile%2CsummaryDetail&corsDomain=finance.yahoo.com&formatted=false&symbol=ATH%5EB&crumb=znKJeXxQthY\n"
     ]
    },
    {
     "name": "stdout",
     "output_type": "stream",
     "text": [
      "Données récupérées pour ATH^B\n"
     ]
    },
    {
     "name": "stderr",
     "output_type": "stream",
     "text": [
      "404 Client Error: Not Found for url: https://query2.finance.yahoo.com/v10/finance/quoteSummary/ATH%5EC?modules=financialData%2CquoteType%2CdefaultKeyStatistics%2CassetProfile%2CsummaryDetail&corsDomain=finance.yahoo.com&formatted=false&symbol=ATH%5EC&crumb=znKJeXxQthY\n"
     ]
    },
    {
     "name": "stdout",
     "output_type": "stream",
     "text": [
      "Données récupérées pour ATH^C\n"
     ]
    },
    {
     "name": "stderr",
     "output_type": "stream",
     "text": [
      "404 Client Error: Not Found for url: https://query2.finance.yahoo.com/v10/finance/quoteSummary/ATH%5ED?modules=financialData%2CquoteType%2CdefaultKeyStatistics%2CassetProfile%2CsummaryDetail&corsDomain=finance.yahoo.com&formatted=false&symbol=ATH%5ED&crumb=znKJeXxQthY\n"
     ]
    },
    {
     "name": "stdout",
     "output_type": "stream",
     "text": [
      "Données récupérées pour ATH^D\n"
     ]
    },
    {
     "name": "stderr",
     "output_type": "stream",
     "text": [
      "404 Client Error: Not Found for url: https://query2.finance.yahoo.com/v10/finance/quoteSummary/ATH%5EE?modules=financialData%2CquoteType%2CdefaultKeyStatistics%2CassetProfile%2CsummaryDetail&corsDomain=finance.yahoo.com&formatted=false&symbol=ATH%5EE&crumb=znKJeXxQthY\n"
     ]
    },
    {
     "name": "stdout",
     "output_type": "stream",
     "text": [
      "Données récupérées pour ATH^E\n",
      "Données récupérées pour ATHA\n",
      "Données récupérées pour ATHE\n",
      "Données récupérées pour ATHM\n",
      "Données récupérées pour ATI\n",
      "Données récupérées pour ATIF\n",
      "Données récupérées pour ATIP\n",
      "Données récupérées pour ATKR\n",
      "Données récupérées pour ATLC\n",
      "Données récupérées pour ATLCL\n",
      "Données récupérées pour ATLCP\n",
      "Données récupérées pour ATLCZ\n",
      "Données récupérées pour ATLO\n",
      "Données récupérées pour ATLX\n",
      "Données récupérées pour ATMC\n",
      "Données récupérées pour ATMCR\n",
      "Données récupérées pour ATMCU\n",
      "Données récupérées pour ATMU\n",
      "Données récupérées pour ATMVR\n",
      "Données récupérées pour ATNF\n",
      "Données récupérées pour ATNFW\n",
      "Données récupérées pour ATNI\n",
      "Données récupérées pour ATNM\n",
      "Données récupérées pour ATO\n",
      "Données récupérées pour ATOM\n",
      "Données récupérées pour ATOS\n",
      "Données récupérées pour ATPC\n",
      "Données récupérées pour ATR\n",
      "Données récupérées pour ATRA\n",
      "Données récupérées pour ATRC\n",
      "Données récupérées pour ATRI\n",
      "Données récupérées pour ATRO\n",
      "Données récupérées pour ATS\n",
      "Données récupérées pour ATSG\n",
      "Données récupérées pour ATUS\n",
      "Données récupérées pour ATXG\n",
      "Données récupérées pour ATXI\n",
      "Données récupérées pour ATXS\n",
      "Données récupérées pour AU\n",
      "Données récupérées pour AUB\n"
     ]
    },
    {
     "name": "stderr",
     "output_type": "stream",
     "text": [
      "404 Client Error: Not Found for url: https://query2.finance.yahoo.com/v10/finance/quoteSummary/AUB%5EA?modules=financialData%2CquoteType%2CdefaultKeyStatistics%2CassetProfile%2CsummaryDetail&corsDomain=finance.yahoo.com&formatted=false&symbol=AUB%5EA&crumb=znKJeXxQthY\n"
     ]
    },
    {
     "name": "stdout",
     "output_type": "stream",
     "text": [
      "Données récupérées pour AUB^A\n",
      "Données récupérées pour AUBN\n",
      "Données récupérées pour AUDC\n",
      "Données récupérées pour AUGX\n",
      "Données récupérées pour AUID\n",
      "Données récupérées pour AULT\n"
     ]
    },
    {
     "name": "stderr",
     "output_type": "stream",
     "text": [
      "404 Client Error: Not Found for url: https://query2.finance.yahoo.com/v10/finance/quoteSummary/AULT%5ED?modules=financialData%2CquoteType%2CdefaultKeyStatistics%2CassetProfile%2CsummaryDetail&corsDomain=finance.yahoo.com&formatted=false&symbol=AULT%5ED&crumb=znKJeXxQthY\n"
     ]
    },
    {
     "name": "stdout",
     "output_type": "stream",
     "text": [
      "Données récupérées pour AULT^D\n",
      "Données récupérées pour AUMN\n",
      "Données récupérées pour AUPH\n",
      "Données récupérées pour AUR\n",
      "Données récupérées pour AURA\n",
      "Données récupérées pour AUROW\n",
      "Données récupérées pour AUST\n",
      "Données récupérées pour AUTL\n",
      "Données récupérées pour AUUD\n",
      "Données récupérées pour AUVI\n",
      "Données récupérées pour AUVIP\n",
      "Données récupérées pour AVA\n",
      "Données récupérées pour AVAH\n",
      "Données récupérées pour AVAL\n",
      "Données récupérées pour AVAV\n",
      "Données récupérées pour AVB\n",
      "Données récupérées pour AVBP\n",
      "Données récupérées pour AVD\n",
      "Données récupérées pour AVDL\n",
      "Données récupérées pour AVDX\n",
      "Données récupérées pour AVGO\n",
      "Données récupérées pour AVGR\n",
      "Données récupérées pour AVHI\n",
      "Données récupérées pour AVHIU\n",
      "Données récupérées pour AVHIW\n",
      "Données récupérées pour AVIR\n",
      "Données récupérées pour AVK\n",
      "Données récupérées pour AVNS\n",
      "Données récupérées pour AVNT\n",
      "Données récupérées pour AVNW\n",
      "Données récupérées pour AVO\n",
      "Données récupérées pour AVPT\n",
      "Données récupérées pour AVPTW\n",
      "Données récupérées pour AVRO\n",
      "Données récupérées pour AVT\n",
      "Données récupérées pour AVTE\n",
      "Données récupérées pour AVTR\n",
      "Données récupérées pour AVTX\n",
      "Données récupérées pour AVXL\n",
      "Données récupérées pour AVY\n",
      "Données récupérées pour AWF\n",
      "Données récupérées pour AWH\n",
      "Données récupérées pour AWI\n",
      "Données récupérées pour AWIN\n",
      "Données récupérées pour AWINW\n",
      "Données récupérées pour AWK\n",
      "Données récupérées pour AWP\n",
      "Données récupérées pour AWR\n",
      "Données récupérées pour AWRE\n",
      "Données récupérées pour AWX\n",
      "Données récupérées pour AX\n",
      "Données récupérées pour AXDX\n",
      "Données récupérées pour AXGN\n",
      "Données récupérées pour AXIL\n",
      "Données récupérées pour AXL\n",
      "Données récupérées pour AXNX\n",
      "Données récupérées pour AXON\n",
      "Données récupérées pour AXP\n",
      "Données récupérées pour AXR\n",
      "Données récupérées pour AXS\n"
     ]
    },
    {
     "name": "stderr",
     "output_type": "stream",
     "text": [
      "404 Client Error: Not Found for url: https://query2.finance.yahoo.com/v10/finance/quoteSummary/AXS%5EE?modules=financialData%2CquoteType%2CdefaultKeyStatistics%2CassetProfile%2CsummaryDetail&corsDomain=finance.yahoo.com&formatted=false&symbol=AXS%5EE&crumb=znKJeXxQthY\n"
     ]
    },
    {
     "name": "stdout",
     "output_type": "stream",
     "text": [
      "Données récupérées pour AXS^E\n",
      "Données récupérées pour AXSM\n",
      "Données récupérées pour AXTA\n",
      "Données récupérées pour AXTI\n",
      "Données récupérées pour AY\n",
      "Données récupérées pour AYI\n",
      "Données récupérées pour AYRO\n",
      "Données récupérées pour AYTU\n",
      "Données récupérées pour AYX\n",
      "Données récupérées pour AZ\n",
      "Données récupérées pour AZEK\n",
      "Données récupérées pour AZN\n",
      "Données récupérées pour AZO\n",
      "Données récupérées pour AZPN\n",
      "Données récupérées pour AZTA\n",
      "Données récupérées pour AZTR\n",
      "Données récupérées pour AZUL\n",
      "Données récupérées pour AZZ\n",
      "Données récupérées pour B\n",
      "Données récupérées pour BA\n",
      "Données récupérées pour BABA\n",
      "Données récupérées pour BAC\n"
     ]
    },
    {
     "name": "stderr",
     "output_type": "stream",
     "text": [
      "404 Client Error: Not Found for url: https://query2.finance.yahoo.com/v10/finance/quoteSummary/BAC%5EB?modules=financialData%2CquoteType%2CdefaultKeyStatistics%2CassetProfile%2CsummaryDetail&corsDomain=finance.yahoo.com&formatted=false&symbol=BAC%5EB&crumb=znKJeXxQthY\n"
     ]
    },
    {
     "name": "stdout",
     "output_type": "stream",
     "text": [
      "Données récupérées pour BAC^B\n"
     ]
    },
    {
     "name": "stderr",
     "output_type": "stream",
     "text": [
      "404 Client Error: Not Found for url: https://query2.finance.yahoo.com/v10/finance/quoteSummary/BAC%5EE?modules=financialData%2CquoteType%2CdefaultKeyStatistics%2CassetProfile%2CsummaryDetail&corsDomain=finance.yahoo.com&formatted=false&symbol=BAC%5EE&crumb=znKJeXxQthY\n"
     ]
    },
    {
     "name": "stdout",
     "output_type": "stream",
     "text": [
      "Données récupérées pour BAC^E\n"
     ]
    },
    {
     "name": "stderr",
     "output_type": "stream",
     "text": [
      "404 Client Error: Not Found for url: https://query2.finance.yahoo.com/v10/finance/quoteSummary/BAC%5EK?modules=financialData%2CquoteType%2CdefaultKeyStatistics%2CassetProfile%2CsummaryDetail&corsDomain=finance.yahoo.com&formatted=false&symbol=BAC%5EK&crumb=znKJeXxQthY\n"
     ]
    },
    {
     "name": "stdout",
     "output_type": "stream",
     "text": [
      "Données récupérées pour BAC^K\n"
     ]
    },
    {
     "name": "stderr",
     "output_type": "stream",
     "text": [
      "404 Client Error: Not Found for url: https://query2.finance.yahoo.com/v10/finance/quoteSummary/BAC%5EL?modules=financialData%2CquoteType%2CdefaultKeyStatistics%2CassetProfile%2CsummaryDetail&corsDomain=finance.yahoo.com&formatted=false&symbol=BAC%5EL&crumb=znKJeXxQthY\n"
     ]
    },
    {
     "name": "stdout",
     "output_type": "stream",
     "text": [
      "Données récupérées pour BAC^L\n"
     ]
    },
    {
     "name": "stderr",
     "output_type": "stream",
     "text": [
      "404 Client Error: Not Found for url: https://query2.finance.yahoo.com/v10/finance/quoteSummary/BAC%5EM?modules=financialData%2CquoteType%2CdefaultKeyStatistics%2CassetProfile%2CsummaryDetail&corsDomain=finance.yahoo.com&formatted=false&symbol=BAC%5EM&crumb=znKJeXxQthY\n"
     ]
    },
    {
     "name": "stdout",
     "output_type": "stream",
     "text": [
      "Données récupérées pour BAC^M\n"
     ]
    },
    {
     "name": "stderr",
     "output_type": "stream",
     "text": [
      "404 Client Error: Not Found for url: https://query2.finance.yahoo.com/v10/finance/quoteSummary/BAC%5EN?modules=financialData%2CquoteType%2CdefaultKeyStatistics%2CassetProfile%2CsummaryDetail&corsDomain=finance.yahoo.com&formatted=false&symbol=BAC%5EN&crumb=znKJeXxQthY\n"
     ]
    },
    {
     "name": "stdout",
     "output_type": "stream",
     "text": [
      "Données récupérées pour BAC^N\n"
     ]
    },
    {
     "name": "stderr",
     "output_type": "stream",
     "text": [
      "404 Client Error: Not Found for url: https://query2.finance.yahoo.com/v10/finance/quoteSummary/BAC%5EO?modules=financialData%2CquoteType%2CdefaultKeyStatistics%2CassetProfile%2CsummaryDetail&corsDomain=finance.yahoo.com&formatted=false&symbol=BAC%5EO&crumb=znKJeXxQthY\n"
     ]
    },
    {
     "name": "stdout",
     "output_type": "stream",
     "text": [
      "Données récupérées pour BAC^O\n"
     ]
    },
    {
     "name": "stderr",
     "output_type": "stream",
     "text": [
      "404 Client Error: Not Found for url: https://query2.finance.yahoo.com/v10/finance/quoteSummary/BAC%5EP?modules=financialData%2CquoteType%2CdefaultKeyStatistics%2CassetProfile%2CsummaryDetail&corsDomain=finance.yahoo.com&formatted=false&symbol=BAC%5EP&crumb=znKJeXxQthY\n"
     ]
    },
    {
     "name": "stdout",
     "output_type": "stream",
     "text": [
      "Données récupérées pour BAC^P\n"
     ]
    },
    {
     "name": "stderr",
     "output_type": "stream",
     "text": [
      "404 Client Error: Not Found for url: https://query2.finance.yahoo.com/v10/finance/quoteSummary/BAC%5EQ?modules=financialData%2CquoteType%2CdefaultKeyStatistics%2CassetProfile%2CsummaryDetail&corsDomain=finance.yahoo.com&formatted=false&symbol=BAC%5EQ&crumb=znKJeXxQthY\n"
     ]
    },
    {
     "name": "stdout",
     "output_type": "stream",
     "text": [
      "Données récupérées pour BAC^Q\n"
     ]
    },
    {
     "name": "stderr",
     "output_type": "stream",
     "text": [
      "404 Client Error: Not Found for url: https://query2.finance.yahoo.com/v10/finance/quoteSummary/BAC%5ES?modules=financialData%2CquoteType%2CdefaultKeyStatistics%2CassetProfile%2CsummaryDetail&corsDomain=finance.yahoo.com&formatted=false&symbol=BAC%5ES&crumb=znKJeXxQthY\n"
     ]
    },
    {
     "name": "stdout",
     "output_type": "stream",
     "text": [
      "Données récupérées pour BAC^S\n",
      "Données récupérées pour BACK\n",
      "Données récupérées pour BAER\n",
      "Données récupérées pour BAERW\n",
      "Données récupérées pour BAFN\n",
      "Données récupérées pour BAH\n",
      "Données récupérées pour BAK\n",
      "Données récupérées pour BALL\n",
      "Données récupérées pour BALY\n",
      "Données récupérées pour BAM\n",
      "Données récupérées pour BANC\n"
     ]
    },
    {
     "name": "stderr",
     "output_type": "stream",
     "text": [
      "404 Client Error: Not Found for url: https://query2.finance.yahoo.com/v10/finance/quoteSummary/BANC%5EF?modules=financialData%2CquoteType%2CdefaultKeyStatistics%2CassetProfile%2CsummaryDetail&corsDomain=finance.yahoo.com&formatted=false&symbol=BANC%5EF&crumb=znKJeXxQthY\n"
     ]
    },
    {
     "name": "stdout",
     "output_type": "stream",
     "text": [
      "Données récupérées pour BANC^F\n",
      "Données récupérées pour BAND\n",
      "Données récupérées pour BANF\n",
      "Données récupérées pour BANFP\n",
      "Données récupérées pour BANL\n",
      "Données récupérées pour BANR\n",
      "Données récupérées pour BANX\n",
      "Données récupérées pour BAOS\n",
      "Données récupérées pour BAP\n",
      "Données récupérées pour BARK\n",
      "Données récupérées pour BASE\n",
      "Données récupérées pour BATL\n",
      "Données récupérées pour BATRA\n",
      "Données récupérées pour BATRK\n",
      "Données récupérées pour BAX\n",
      "Données récupérées pour BAYA\n",
      "Données récupérées pour BAYAR\n",
      "Données récupérées pour BAYAU\n",
      "Données récupérées pour BB\n",
      "Données récupérées pour BBAI\n",
      "Données récupérées pour BBAR\n",
      "Données récupérées pour BBCP\n",
      "Données récupérées pour BBD\n",
      "Données récupérées pour BBDC\n",
      "Données récupérées pour BBDO\n",
      "Données récupérées pour BBGI\n",
      "Données récupérées pour BBIO\n",
      "Données récupérées pour BBLG\n",
      "Données récupérées pour BBLGW\n",
      "Données récupérées pour BBN\n",
      "Données récupérées pour BBSI\n",
      "Données récupérées pour BBU\n",
      "Données récupérées pour BBUC\n",
      "Données récupérées pour BBVA\n",
      "Données récupérées pour BBW\n",
      "Données récupérées pour BBWI\n",
      "Données récupérées pour BBY\n",
      "Données récupérées pour BC\n"
     ]
    },
    {
     "name": "stderr",
     "output_type": "stream",
     "text": [
      "404 Client Error: Not Found for url: https://query2.finance.yahoo.com/v10/finance/quoteSummary/BC%5EA?modules=financialData%2CquoteType%2CdefaultKeyStatistics%2CassetProfile%2CsummaryDetail&corsDomain=finance.yahoo.com&formatted=false&symbol=BC%5EA&crumb=znKJeXxQthY\n"
     ]
    },
    {
     "name": "stdout",
     "output_type": "stream",
     "text": [
      "Données récupérées pour BC^A\n"
     ]
    },
    {
     "name": "stderr",
     "output_type": "stream",
     "text": [
      "404 Client Error: Not Found for url: https://query2.finance.yahoo.com/v10/finance/quoteSummary/BC%5EB?modules=financialData%2CquoteType%2CdefaultKeyStatistics%2CassetProfile%2CsummaryDetail&corsDomain=finance.yahoo.com&formatted=false&symbol=BC%5EB&crumb=znKJeXxQthY\n"
     ]
    },
    {
     "name": "stdout",
     "output_type": "stream",
     "text": [
      "Données récupérées pour BC^B\n"
     ]
    },
    {
     "name": "stderr",
     "output_type": "stream",
     "text": [
      "404 Client Error: Not Found for url: https://query2.finance.yahoo.com/v10/finance/quoteSummary/BC%5EC?modules=financialData%2CquoteType%2CdefaultKeyStatistics%2CassetProfile%2CsummaryDetail&corsDomain=finance.yahoo.com&formatted=false&symbol=BC%5EC&crumb=znKJeXxQthY\n"
     ]
    },
    {
     "name": "stdout",
     "output_type": "stream",
     "text": [
      "Données récupérées pour BC^C\n",
      "Données récupérées pour BCAB\n",
      "Données récupérées pour BCAL\n",
      "Données récupérées pour BCAN\n",
      "Données récupérées pour BCAT\n",
      "Données récupérées pour BCBP\n",
      "Données récupérées pour BCC\n",
      "Données récupérées pour BCDA\n",
      "Données récupérées pour BCDAW\n",
      "Données récupérées pour BCE\n",
      "Données récupérées pour BCEL\n",
      "Données récupérées pour BCH\n",
      "Données récupérées pour BCLI\n",
      "Données récupérées pour BCML\n",
      "Données récupérées pour BCO\n",
      "Données récupérées pour BCOV\n",
      "Données récupérées pour BCOW\n",
      "Données récupérées pour BCPC\n",
      "Données récupérées pour BCRX\n",
      "Données récupérées pour BCS\n",
      "Données récupérées pour BCSA\n",
      "Données récupérées pour BCSAU\n",
      "Données récupérées pour BCSAW\n",
      "Données récupérées pour BCSF\n",
      "Données récupérées pour BCTX\n",
      "Données récupérées pour BCTXW\n",
      "Données récupérées pour BCV\n"
     ]
    },
    {
     "name": "stderr",
     "output_type": "stream",
     "text": [
      "404 Client Error: Not Found for url: https://query2.finance.yahoo.com/v10/finance/quoteSummary/BCV%5EA?modules=financialData%2CquoteType%2CdefaultKeyStatistics%2CassetProfile%2CsummaryDetail&corsDomain=finance.yahoo.com&formatted=false&symbol=BCV%5EA&crumb=znKJeXxQthY\n"
     ]
    },
    {
     "name": "stdout",
     "output_type": "stream",
     "text": [
      "Données récupérées pour BCV^A\n",
      "Données récupérées pour BCX\n",
      "Données récupérées pour BCYC\n",
      "Données récupérées pour BDC\n",
      "Données récupérées pour BDJ\n",
      "Données récupérées pour BDL\n",
      "Données récupérées pour BDN\n",
      "Données récupérées pour BDRX\n",
      "Données récupérées pour BDSX\n",
      "Données récupérées pour BDTX\n",
      "Données récupérées pour BDX\n",
      "Données récupérées pour BE\n",
      "Données récupérées pour BEAM\n",
      "Données récupérées pour BEAT\n",
      "Données récupérées pour BEATW\n",
      "Données récupérées pour BECN\n",
      "Données récupérées pour BEDU\n",
      "Données récupérées pour BEEM\n",
      "Données récupérées pour BEEMW\n",
      "Données récupérées pour BEEP\n",
      "Données récupérées pour BEKE\n",
      "Données récupérées pour BELFA\n",
      "Données récupérées pour BELFB\n",
      "Données récupérées pour BEN\n",
      "Données récupérées pour BENF\n",
      "Données récupérées pour BENFW\n",
      "Données récupérées pour BEP\n"
     ]
    },
    {
     "name": "stderr",
     "output_type": "stream",
     "text": [
      "404 Client Error: Not Found for url: https://query2.finance.yahoo.com/v10/finance/quoteSummary/BEP%5EA?modules=financialData%2CquoteType%2CdefaultKeyStatistics%2CassetProfile%2CsummaryDetail&corsDomain=finance.yahoo.com&formatted=false&symbol=BEP%5EA&crumb=znKJeXxQthY\n"
     ]
    },
    {
     "name": "stdout",
     "output_type": "stream",
     "text": [
      "Données récupérées pour BEP^A\n",
      "Données récupérées pour BEPC\n",
      "Données récupérées pour BEPH\n",
      "Données récupérées pour BEPI\n",
      "Données récupérées pour BERY\n",
      "Données récupérées pour BEST\n",
      "Données récupérées pour BETR\n",
      "Données récupérées pour BETRW\n",
      "Données récupérées pour BETS\n"
     ]
    },
    {
     "name": "stderr",
     "output_type": "stream",
     "text": [
      "404 Client Error: Not Found for url: https://query2.finance.yahoo.com/v10/finance/quoteSummary/BF/A?modules=financialData%2CquoteType%2CdefaultKeyStatistics%2CassetProfile%2CsummaryDetail&corsDomain=finance.yahoo.com&formatted=false&symbol=BF%2FA&crumb=znKJeXxQthY\n"
     ]
    },
    {
     "name": "stdout",
     "output_type": "stream",
     "text": [
      "Erreur lors de la récupération des données pour BF/A: Failed to parse json response from Yahoo Finance: {'code': 'Not Found', 'description': 'HTTP 404 Not Found'}\n"
     ]
    },
    {
     "name": "stderr",
     "output_type": "stream",
     "text": [
      "404 Client Error: Not Found for url: https://query2.finance.yahoo.com/v10/finance/quoteSummary/BF/B?modules=financialData%2CquoteType%2CdefaultKeyStatistics%2CassetProfile%2CsummaryDetail&corsDomain=finance.yahoo.com&formatted=false&symbol=BF%2FB&crumb=znKJeXxQthY\n"
     ]
    },
    {
     "name": "stdout",
     "output_type": "stream",
     "text": [
      "Erreur lors de la récupération des données pour BF/B: Failed to parse json response from Yahoo Finance: {'code': 'Not Found', 'description': 'HTTP 404 Not Found'}\n",
      "Données récupérées pour BFAC\n",
      "Données récupérées pour BFAM\n",
      "Données récupérées pour BFC\n",
      "Données récupérées pour BFH\n",
      "Données récupérées pour BFI\n",
      "Données récupérées pour BFIIW\n",
      "Données récupérées pour BFIN\n",
      "Données récupérées pour BFK\n",
      "Données récupérées pour BFLY\n",
      "Données récupérées pour BFRG\n",
      "Données récupérées pour BFRGW\n",
      "Données récupérées pour BFRI\n",
      "Données récupérées pour BFRIW\n",
      "Données récupérées pour BFS\n"
     ]
    },
    {
     "name": "stderr",
     "output_type": "stream",
     "text": [
      "404 Client Error: Not Found for url: https://query2.finance.yahoo.com/v10/finance/quoteSummary/BFS%5ED?modules=financialData%2CquoteType%2CdefaultKeyStatistics%2CassetProfile%2CsummaryDetail&corsDomain=finance.yahoo.com&formatted=false&symbol=BFS%5ED&crumb=znKJeXxQthY\n"
     ]
    },
    {
     "name": "stdout",
     "output_type": "stream",
     "text": [
      "Données récupérées pour BFS^D\n"
     ]
    },
    {
     "name": "stderr",
     "output_type": "stream",
     "text": [
      "404 Client Error: Not Found for url: https://query2.finance.yahoo.com/v10/finance/quoteSummary/BFS%5EE?modules=financialData%2CquoteType%2CdefaultKeyStatistics%2CassetProfile%2CsummaryDetail&corsDomain=finance.yahoo.com&formatted=false&symbol=BFS%5EE&crumb=znKJeXxQthY\n"
     ]
    },
    {
     "name": "stdout",
     "output_type": "stream",
     "text": [
      "Données récupérées pour BFS^E\n",
      "Données récupérées pour BFST\n",
      "Données récupérées pour BFX\n",
      "Données récupérées pour BFZ\n",
      "Données récupérées pour BG\n",
      "Données récupérées pour BGB\n",
      "Données récupérées pour BGC\n",
      "Données récupérées pour BGFV\n",
      "Données récupérées pour BGH\n",
      "Données récupérées pour BGI\n",
      "Données récupérées pour BGLC\n",
      "Données récupérées pour BGNE\n",
      "Données récupérées pour BGR\n",
      "Données récupérées pour BGS\n",
      "Données récupérées pour BGSF\n",
      "Données récupérées pour BGT\n",
      "Données récupérées pour BGX\n",
      "Données récupérées pour BGXX\n",
      "Données récupérées pour BGY\n",
      "Données récupérées pour BH\n",
      "Données récupérées pour BHAC\n",
      "Données récupérées pour BHACW\n",
      "Données récupérées pour BHAT\n",
      "Données récupérées pour BHB\n",
      "Données récupérées pour BHC\n",
      "Données récupérées pour BHE\n",
      "Données récupérées pour BHF\n",
      "Données récupérées pour BHFAL\n",
      "Données récupérées pour BHFAM\n",
      "Données récupérées pour BHFAN\n",
      "Données récupérées pour BHFAO\n",
      "Données récupérées pour BHFAP\n",
      "Données récupérées pour BHIL\n",
      "Données récupérées pour BHK\n",
      "Données récupérées pour BHLB\n",
      "Données récupérées pour BHM\n",
      "Données récupérées pour BHP\n",
      "Données récupérées pour BHR\n"
     ]
    },
    {
     "name": "stderr",
     "output_type": "stream",
     "text": [
      "404 Client Error: Not Found for url: https://query2.finance.yahoo.com/v10/finance/quoteSummary/BHR%5EB?modules=financialData%2CquoteType%2CdefaultKeyStatistics%2CassetProfile%2CsummaryDetail&corsDomain=finance.yahoo.com&formatted=false&symbol=BHR%5EB&crumb=znKJeXxQthY\n"
     ]
    },
    {
     "name": "stdout",
     "output_type": "stream",
     "text": [
      "Données récupérées pour BHR^B\n"
     ]
    },
    {
     "name": "stderr",
     "output_type": "stream",
     "text": [
      "404 Client Error: Not Found for url: https://query2.finance.yahoo.com/v10/finance/quoteSummary/BHR%5ED?modules=financialData%2CquoteType%2CdefaultKeyStatistics%2CassetProfile%2CsummaryDetail&corsDomain=finance.yahoo.com&formatted=false&symbol=BHR%5ED&crumb=znKJeXxQthY\n"
     ]
    },
    {
     "name": "stdout",
     "output_type": "stream",
     "text": [
      "Données récupérées pour BHR^D\n",
      "Données récupérées pour BHRB\n",
      "Données récupérées pour BHV\n",
      "Données récupérées pour BHVN\n",
      "Données récupérées pour BIAF\n",
      "Données récupérées pour BIAFW\n",
      "Données récupérées pour BIDU\n",
      "Données récupérées pour BIG\n",
      "Données récupérées pour BIGC\n",
      "Données récupérées pour BIGZ\n",
      "Données récupérées pour BIIB\n",
      "Données récupérées pour BILI\n",
      "Données récupérées pour BILL\n",
      "Données récupérées pour BIMI\n",
      "Données récupérées pour BIO\n"
     ]
    },
    {
     "name": "stderr",
     "output_type": "stream",
     "text": [
      "404 Client Error: Not Found for url: https://query2.finance.yahoo.com/v10/finance/quoteSummary/BIO/B?modules=financialData%2CquoteType%2CdefaultKeyStatistics%2CassetProfile%2CsummaryDetail&corsDomain=finance.yahoo.com&formatted=false&symbol=BIO%2FB&crumb=znKJeXxQthY\n"
     ]
    },
    {
     "name": "stdout",
     "output_type": "stream",
     "text": [
      "Erreur lors de la récupération des données pour BIO/B: Failed to parse json response from Yahoo Finance: {'code': 'Not Found', 'description': 'HTTP 404 Not Found'}\n",
      "Données récupérées pour BIOL\n",
      "Données récupérées pour BIOR\n",
      "Données récupérées pour BIOX\n",
      "Données récupérées pour BIP\n"
     ]
    },
    {
     "name": "stderr",
     "output_type": "stream",
     "text": [
      "404 Client Error: Not Found for url: https://query2.finance.yahoo.com/v10/finance/quoteSummary/BIP%5EA?modules=financialData%2CquoteType%2CdefaultKeyStatistics%2CassetProfile%2CsummaryDetail&corsDomain=finance.yahoo.com&formatted=false&symbol=BIP%5EA&crumb=znKJeXxQthY\n"
     ]
    },
    {
     "name": "stdout",
     "output_type": "stream",
     "text": [
      "Données récupérées pour BIP^A\n"
     ]
    },
    {
     "name": "stderr",
     "output_type": "stream",
     "text": [
      "404 Client Error: Not Found for url: https://query2.finance.yahoo.com/v10/finance/quoteSummary/BIP%5EB?modules=financialData%2CquoteType%2CdefaultKeyStatistics%2CassetProfile%2CsummaryDetail&corsDomain=finance.yahoo.com&formatted=false&symbol=BIP%5EB&crumb=znKJeXxQthY\n"
     ]
    },
    {
     "name": "stdout",
     "output_type": "stream",
     "text": [
      "Données récupérées pour BIP^B\n",
      "Données récupérées pour BIPC\n",
      "Données récupérées pour BIPH\n",
      "Données récupérées pour BIPI\n",
      "Données récupérées pour BIRD\n",
      "Données récupérées pour BIRK\n",
      "Données récupérées pour BIT\n",
      "Données récupérées pour BITE\n",
      "Données récupérées pour BITF\n",
      "Données récupérées pour BIVI\n",
      "Données récupérées pour BJ\n",
      "Données récupérées pour BJDX\n",
      "Données récupérées pour BJRI\n",
      "Données récupérées pour BK\n",
      "Données récupérées pour BKCC\n",
      "Données récupérées pour BKD\n",
      "Données récupérées pour BKDT\n",
      "Données récupérées pour BKE\n",
      "Données récupérées pour BKH\n",
      "Données récupérées pour BKKT\n",
      "Données récupérées pour BKN\n",
      "Données récupérées pour BKNG\n",
      "Données récupérées pour BKR\n",
      "Données récupérées pour BKSY\n",
      "Données récupérées pour BKT\n",
      "Données récupérées pour BKTI\n",
      "Données récupérées pour BKU\n",
      "Données récupérées pour BKYI\n",
      "Données récupérées pour BL\n",
      "Données récupérées pour BLACU\n",
      "Données récupérées pour BLACW\n",
      "Données récupérées pour BLBD\n",
      "Données récupérées pour BLBX\n",
      "Données récupérées pour BLCO\n",
      "Données récupérées pour BLD\n",
      "Données récupérées pour BLDE\n",
      "Données récupérées pour BLDEW\n",
      "Données récupérées pour BLDP\n",
      "Données récupérées pour BLDR\n",
      "Données récupérées pour BLE\n",
      "Données récupérées pour BLEU\n",
      "Données récupérées pour BLFS\n",
      "Données récupérées pour BLFY\n",
      "Données récupérées pour BLIN\n",
      "Données récupérées pour BLK\n",
      "Données récupérées pour BLKB\n",
      "Données récupérées pour BLMN\n",
      "Données récupérées pour BLND\n",
      "Données récupérées pour BLNK\n",
      "Données récupérées pour BLRX\n",
      "Données récupérées pour BLTE\n",
      "Données récupérées pour BLUA\n",
      "Données récupérées pour BLUE\n",
      "Données récupérées pour BLW\n",
      "Données récupérées pour BLX\n",
      "Données récupérées pour BLZE\n",
      "Données récupérées pour BMA\n",
      "Données récupérées pour BMBL\n",
      "Données récupérées pour BME\n",
      "Données récupérées pour BMEA\n",
      "Données récupérées pour BMEZ\n",
      "Données récupérées pour BMI\n"
     ]
    },
    {
     "name": "stderr",
     "output_type": "stream",
     "text": [
      "404 Client Error: Not Found for url: https://query2.finance.yahoo.com/v10/finance/quoteSummary/BML%5EG?modules=financialData%2CquoteType%2CdefaultKeyStatistics%2CassetProfile%2CsummaryDetail&corsDomain=finance.yahoo.com&formatted=false&symbol=BML%5EG&crumb=znKJeXxQthY\n"
     ]
    },
    {
     "name": "stdout",
     "output_type": "stream",
     "text": [
      "Données récupérées pour BML^G\n"
     ]
    },
    {
     "name": "stderr",
     "output_type": "stream",
     "text": [
      "404 Client Error: Not Found for url: https://query2.finance.yahoo.com/v10/finance/quoteSummary/BML%5EH?modules=financialData%2CquoteType%2CdefaultKeyStatistics%2CassetProfile%2CsummaryDetail&corsDomain=finance.yahoo.com&formatted=false&symbol=BML%5EH&crumb=znKJeXxQthY\n"
     ]
    },
    {
     "name": "stdout",
     "output_type": "stream",
     "text": [
      "Données récupérées pour BML^H\n"
     ]
    },
    {
     "name": "stderr",
     "output_type": "stream",
     "text": [
      "404 Client Error: Not Found for url: https://query2.finance.yahoo.com/v10/finance/quoteSummary/BML%5EJ?modules=financialData%2CquoteType%2CdefaultKeyStatistics%2CassetProfile%2CsummaryDetail&corsDomain=finance.yahoo.com&formatted=false&symbol=BML%5EJ&crumb=znKJeXxQthY\n"
     ]
    },
    {
     "name": "stdout",
     "output_type": "stream",
     "text": [
      "Données récupérées pour BML^J\n"
     ]
    },
    {
     "name": "stderr",
     "output_type": "stream",
     "text": [
      "404 Client Error: Not Found for url: https://query2.finance.yahoo.com/v10/finance/quoteSummary/BML%5EL?modules=financialData%2CquoteType%2CdefaultKeyStatistics%2CassetProfile%2CsummaryDetail&corsDomain=finance.yahoo.com&formatted=false&symbol=BML%5EL&crumb=znKJeXxQthY\n"
     ]
    },
    {
     "name": "stdout",
     "output_type": "stream",
     "text": [
      "Données récupérées pour BML^L\n",
      "Données récupérées pour BMN\n",
      "Données récupérées pour BMO\n",
      "Données récupérées pour BMR\n",
      "Données récupérées pour BMRA\n",
      "Données récupérées pour BMRC\n",
      "Données récupérées pour BMRN\n",
      "Données récupérées pour BMTX\n",
      "Données récupérées pour BMY\n",
      "Données récupérées pour BN\n",
      "Données récupérées pour BNED\n",
      "Données récupérées pour BNGO\n",
      "Données récupérées pour BNH\n",
      "Données récupérées pour BNIXR\n",
      "Données récupérées pour BNIXW\n",
      "Données récupérées pour BNJ\n",
      "Données récupérées pour BNL\n",
      "Données récupérées pour BNOX\n",
      "Données récupérées pour BNR\n",
      "Données récupérées pour BNRE\n",
      "Données récupérées pour BNRG\n",
      "Données récupérées pour BNS\n",
      "Données récupérées pour BNTC\n",
      "Données récupérées pour BNTX\n",
      "Données récupérées pour BNY\n",
      "Données récupérées pour BNZI\n",
      "Données récupérées pour BNZIW\n",
      "Données récupérées pour BOC\n",
      "Données récupérées pour BOCN\n",
      "Données récupérées pour BODY\n",
      "Données récupérées pour BOE\n",
      "Données récupérées pour BOF\n",
      "Données récupérées pour BOH\n"
     ]
    },
    {
     "name": "stderr",
     "output_type": "stream",
     "text": [
      "404 Client Error: Not Found for url: https://query2.finance.yahoo.com/v10/finance/quoteSummary/BOH%5EA?modules=financialData%2CquoteType%2CdefaultKeyStatistics%2CassetProfile%2CsummaryDetail&corsDomain=finance.yahoo.com&formatted=false&symbol=BOH%5EA&crumb=znKJeXxQthY\n"
     ]
    },
    {
     "name": "stdout",
     "output_type": "stream",
     "text": [
      "Données récupérées pour BOH^A\n",
      "Données récupérées pour BOKF\n",
      "Données récupérées pour BOLT\n",
      "Données récupérées pour BON\n",
      "Données récupérées pour BOOM\n",
      "Données récupérées pour BOOT\n",
      "Données récupérées pour BORR\n",
      "Données récupérées pour BOSC\n",
      "Données récupérées pour BOTJ\n",
      "Données récupérées pour BOWL\n",
      "Données récupérées pour BOWN\n",
      "Données récupérées pour BOWNR\n",
      "Données récupérées pour BOX\n",
      "Données récupérées pour BOXL\n",
      "Données récupérées pour BP\n",
      "Données récupérées pour BPMC\n",
      "Données récupérées pour BPOP\n",
      "Données récupérées pour BPOPM\n",
      "Données récupérées pour BPRN\n",
      "Données récupérées pour BPT\n",
      "Données récupérées pour BPTH\n",
      "Données récupérées pour BPTS\n",
      "Données récupérées pour BPYPM\n",
      "Données récupérées pour BPYPN\n",
      "Données récupérées pour BPYPO\n",
      "Données récupérées pour BPYPP\n",
      "Données récupérées pour BQ\n",
      "Données récupérées pour BR\n",
      "Données récupérées pour BRAC\n",
      "Données récupérées pour BRAG\n",
      "Données récupérées pour BRBR\n",
      "Données récupérées pour BRBS\n",
      "Données récupérées pour BRC\n",
      "Données récupérées pour BRCC\n",
      "Données récupérées pour BRDG\n",
      "Données récupérées pour BREA\n",
      "Données récupérées pour BREZ\n",
      "Données récupérées pour BREZR\n",
      "Données récupérées pour BREZW\n",
      "Données récupérées pour BRFH\n",
      "Données récupérées pour BRFS\n",
      "Données récupérées pour BRID\n"
     ]
    },
    {
     "name": "stderr",
     "output_type": "stream",
     "text": [
      "404 Client Error: Not Found for url: https://query2.finance.yahoo.com/v10/finance/quoteSummary/BRK/A?modules=financialData%2CquoteType%2CdefaultKeyStatistics%2CassetProfile%2CsummaryDetail&corsDomain=finance.yahoo.com&formatted=false&symbol=BRK%2FA&crumb=znKJeXxQthY\n"
     ]
    },
    {
     "name": "stdout",
     "output_type": "stream",
     "text": [
      "Erreur lors de la récupération des données pour BRK/A: Failed to parse json response from Yahoo Finance: {'code': 'Not Found', 'description': 'HTTP 404 Not Found'}\n"
     ]
    },
    {
     "name": "stderr",
     "output_type": "stream",
     "text": [
      "404 Client Error: Not Found for url: https://query2.finance.yahoo.com/v10/finance/quoteSummary/BRK/B?modules=financialData%2CquoteType%2CdefaultKeyStatistics%2CassetProfile%2CsummaryDetail&corsDomain=finance.yahoo.com&formatted=false&symbol=BRK%2FB&crumb=znKJeXxQthY\n"
     ]
    },
    {
     "name": "stdout",
     "output_type": "stream",
     "text": [
      "Erreur lors de la récupération des données pour BRK/B: Failed to parse json response from Yahoo Finance: {'code': 'Not Found', 'description': 'HTTP 404 Not Found'}\n",
      "Données récupérées pour BRKH\n",
      "Données récupérées pour BRKHW\n",
      "Données récupérées pour BRKL\n",
      "Données récupérées pour BRKR\n",
      "Données récupérées pour BRLS\n",
      "Données récupérées pour BRLSW\n",
      "Données récupérées pour BRLT\n",
      "Données récupérées pour BRN\n",
      "Données récupérées pour BRNS\n",
      "Données récupérées pour BRO\n",
      "Données récupérées pour BROG\n",
      "Données récupérées pour BROGW\n",
      "Données récupérées pour BROS\n",
      "Données récupérées pour BRP\n",
      "Données récupérées pour BRSH\n",
      "Données récupérées pour BRSHW\n",
      "Données récupérées pour BRSP\n",
      "Données récupérées pour BRT\n",
      "Données récupérées pour BRTX\n",
      "Données récupérées pour BRW\n",
      "Données récupérées pour BRX\n",
      "Données récupérées pour BRY\n",
      "Données récupérées pour BRZE\n",
      "Données récupérées pour BSAC\n",
      "Données récupérées pour BSBK\n",
      "Données récupérées pour BSBR\n",
      "Données récupérées pour BSET\n",
      "Données récupérées pour BSFC\n",
      "Données récupérées pour BSGM\n",
      "Données récupérées pour BSIG\n",
      "Données récupérées pour BSL\n",
      "Données récupérées pour BSM\n",
      "Données récupérées pour BSRR\n",
      "Données récupérées pour BST\n",
      "Données récupérées pour BSTZ\n",
      "Données récupérées pour BSVN\n",
      "Données récupérées pour BSX\n",
      "Données récupérées pour BSY\n",
      "Données récupérées pour BTA\n",
      "Données récupérées pour BTAI\n",
      "Données récupérées pour BTBD\n",
      "Données récupérées pour BTBDW\n",
      "Données récupérées pour BTBT\n",
      "Données récupérées pour BTCM\n",
      "Données récupérées pour BTCS\n",
      "Données récupérées pour BTCT\n",
      "Données récupérées pour BTCTW\n",
      "Données récupérées pour BTCY\n",
      "Données récupérées pour BTDR\n",
      "Données récupérées pour BTE\n",
      "Données récupérées pour BTG\n",
      "Données récupérées pour BTI\n",
      "Données récupérées pour BTM\n",
      "Données récupérées pour BTMD\n",
      "Données récupérées pour BTMWW\n",
      "Données récupérées pour BTO\n",
      "Données récupérées pour BTOG\n",
      "Données récupérées pour BTSG\n",
      "Données récupérées pour BTSGU\n",
      "Données récupérées pour BTT\n",
      "Données récupérées pour BTTR\n",
      "Données récupérées pour BTTX\n",
      "Données récupérées pour BTU\n",
      "Données récupérées pour BTZ\n",
      "Données récupérées pour BUD\n",
      "Données récupérées pour BUI\n",
      "Données récupérées pour BUJA\n",
      "Données récupérées pour BUJAW\n",
      "Données récupérées pour BUR\n",
      "Données récupérées pour BURL\n",
      "Données récupérées pour BURU\n",
      "Données récupérées pour BUSE\n",
      "Données récupérées pour BV\n",
      "Données récupérées pour BVFL\n",
      "Données récupérées pour BVN\n",
      "Données récupérées pour BVS\n",
      "Données récupérées pour BW\n"
     ]
    },
    {
     "name": "stderr",
     "output_type": "stream",
     "text": [
      "404 Client Error: Not Found for url: https://query2.finance.yahoo.com/v10/finance/quoteSummary/BW%5EA?modules=financialData%2CquoteType%2CdefaultKeyStatistics%2CassetProfile%2CsummaryDetail&corsDomain=finance.yahoo.com&formatted=false&symbol=BW%5EA&crumb=znKJeXxQthY\n"
     ]
    },
    {
     "name": "stdout",
     "output_type": "stream",
     "text": [
      "Données récupérées pour BW^A\n",
      "Données récupérées pour BWA\n",
      "Données récupérées pour BWAQ\n",
      "Données récupérées pour BWAQR\n",
      "Données récupérées pour BWAY\n",
      "Données récupérées pour BWB\n",
      "Données récupérées pour BWBBP\n",
      "Données récupérées pour BWEN\n",
      "Données récupérées pour BWFG\n",
      "Données récupérées pour BWG\n",
      "Données récupérées pour BWMN\n",
      "Données récupérées pour BWMX\n",
      "Données récupérées pour BWNB\n",
      "Données récupérées pour BWSN\n",
      "Données récupérées pour BWXT\n",
      "Données récupérées pour BX\n",
      "Données récupérées pour BXC\n",
      "Données récupérées pour BXMT\n",
      "Données récupérées pour BXMX\n",
      "Données récupérées pour BXP\n",
      "Données récupérées pour BXSL\n",
      "Données récupérées pour BY\n",
      "Données récupérées pour BYD\n",
      "Données récupérées pour BYFC\n",
      "Données récupérées pour BYM\n",
      "Données récupérées pour BYND\n",
      "Données récupérées pour BYNO\n",
      "Données récupérées pour BYON\n",
      "Données récupérées pour BYRN\n",
      "Données récupérées pour BYSI\n",
      "Données récupérées pour BYU\n",
      "Données récupérées pour BZ\n",
      "Données récupérées pour BZFD\n",
      "Données récupérées pour BZFDW\n",
      "Données récupérées pour BZH\n",
      "Données récupérées pour BZUN\n",
      "Données récupérées pour C\n"
     ]
    },
    {
     "name": "stderr",
     "output_type": "stream",
     "text": [
      "404 Client Error: Not Found for url: https://query2.finance.yahoo.com/v10/finance/quoteSummary/C%5EJ?modules=financialData%2CquoteType%2CdefaultKeyStatistics%2CassetProfile%2CsummaryDetail&corsDomain=finance.yahoo.com&formatted=false&symbol=C%5EJ&crumb=znKJeXxQthY\n"
     ]
    },
    {
     "name": "stdout",
     "output_type": "stream",
     "text": [
      "Données récupérées pour C^J\n"
     ]
    },
    {
     "name": "stderr",
     "output_type": "stream",
     "text": [
      "404 Client Error: Not Found for url: https://query2.finance.yahoo.com/v10/finance/quoteSummary/C%5EN?modules=financialData%2CquoteType%2CdefaultKeyStatistics%2CassetProfile%2CsummaryDetail&corsDomain=finance.yahoo.com&formatted=false&symbol=C%5EN&crumb=znKJeXxQthY\n"
     ]
    },
    {
     "name": "stdout",
     "output_type": "stream",
     "text": [
      "Données récupérées pour C^N\n",
      "Données récupérées pour CAAP\n",
      "Données récupérées pour CAAS\n",
      "Données récupérées pour CABA\n",
      "Données récupérées pour CABO\n",
      "Données récupérées pour CAC\n",
      "Données récupérées pour CACC\n",
      "Données récupérées pour CACI\n",
      "Données récupérées pour CACO\n",
      "Données récupérées pour CADE\n"
     ]
    },
    {
     "name": "stderr",
     "output_type": "stream",
     "text": [
      "404 Client Error: Not Found for url: https://query2.finance.yahoo.com/v10/finance/quoteSummary/CADE%5EA?modules=financialData%2CquoteType%2CdefaultKeyStatistics%2CassetProfile%2CsummaryDetail&corsDomain=finance.yahoo.com&formatted=false&symbol=CADE%5EA&crumb=znKJeXxQthY\n"
     ]
    },
    {
     "name": "stdout",
     "output_type": "stream",
     "text": [
      "Données récupérées pour CADE^A\n",
      "Données récupérées pour CADL\n",
      "Données récupérées pour CAE\n",
      "Données récupérées pour CAF\n",
      "Données récupérées pour CAG\n",
      "Données récupérées pour CAH\n",
      "Données récupérées pour CAKE\n",
      "Données récupérées pour CAL\n",
      "Données récupérées pour CALB\n",
      "Données récupérées pour CALC\n",
      "Données récupérées pour CALM\n",
      "Données récupérées pour CALT\n",
      "Données récupérées pour CALX\n",
      "Données récupérées pour CAMP\n",
      "Données récupérées pour CAMT\n",
      "Données récupérées pour CAN\n",
      "Données récupérées pour CANF\n",
      "Données récupérées pour CANG\n",
      "Données récupérées pour CAPL\n",
      "Données récupérées pour CAPR\n",
      "Données récupérées pour CAPT\n",
      "Données récupérées pour CAPTW\n",
      "Données récupérées pour CAR\n",
      "Données récupérées pour CARA\n",
      "Données récupérées pour CARE\n",
      "Données récupérées pour CARG\n",
      "Données récupérées pour CARM\n",
      "Données récupérées pour CARR\n",
      "Données récupérées pour CARS\n",
      "Données récupérées pour CART\n",
      "Données récupérées pour CARV\n",
      "Données récupérées pour CASA\n",
      "Données récupérées pour CASH\n",
      "Données récupérées pour CASI\n",
      "Données récupérées pour CASS\n",
      "Données récupérées pour CASY\n",
      "Données récupérées pour CAT\n",
      "Données récupérées pour CATC\n",
      "Données récupérées pour CATO\n",
      "Données récupérées pour CATX\n",
      "Données récupérées pour CATY\n",
      "Données récupérées pour CAUD\n",
      "Données récupérées pour CAVA\n",
      "Données récupérées pour CB\n",
      "Données récupérées pour CBAN\n",
      "Données récupérées pour CBAT\n",
      "Données récupérées pour CBAY\n",
      "Données récupérées pour CBD\n",
      "Données récupérées pour CBFV\n",
      "Données récupérées pour CBH\n",
      "Données récupérées pour CBL\n",
      "Données récupérées pour CBNK\n",
      "Données récupérées pour CBOE\n",
      "Données récupérées pour CBRE\n",
      "Données récupérées pour CBRG\n",
      "Données récupérées pour CBRL\n",
      "Données récupérées pour CBSH\n",
      "Données récupérées pour CBT\n",
      "Données récupérées pour CBU\n",
      "Données récupérées pour CBUS\n",
      "Données récupérées pour CBZ\n",
      "Données récupérées pour CC\n",
      "Données récupérées pour CCAP\n",
      "Données récupérées pour CCB\n",
      "Données récupérées pour CCBG\n",
      "Données récupérées pour CCCC\n",
      "Données récupérées pour CCCS\n",
      "Données récupérées pour CCD\n",
      "Données récupérées pour CCEL\n",
      "Données récupérées pour CCEP\n",
      "Données récupérées pour CCG\n",
      "Données récupérées pour CCGWW\n",
      "Données récupérées pour CCI\n",
      "Données récupérées pour CCIA\n",
      "Données récupérées pour CCIF\n",
      "Données récupérées pour CCJ\n",
      "Données récupérées pour CCK\n",
      "Données récupérées pour CCL\n",
      "Données récupérées pour CCLD\n",
      "Données récupérées pour CCLDO\n",
      "Données récupérées pour CCLDP\n",
      "Données récupérées pour CCLP\n",
      "Données récupérées pour CCM\n",
      "Données récupérées pour CCNE\n",
      "Données récupérées pour CCNEP\n",
      "Données récupérées pour CCO\n",
      "Données récupérées pour CCOI\n",
      "Données récupérées pour CCRD\n",
      "Données récupérées pour CCRN\n",
      "Données récupérées pour CCS\n",
      "Données récupérées pour CCSI\n",
      "Données récupérées pour CCTG\n",
      "Données récupérées pour CCTS\n",
      "Données récupérées pour CCU\n",
      "Données récupérées pour CCZ\n",
      "Données récupérées pour CDAQ\n",
      "Données récupérées pour CDAQU\n",
      "Données récupérées pour CDE\n",
      "Données récupérées pour CDIO\n",
      "Données récupérées pour CDIOW\n",
      "Données récupérées pour CDLR\n",
      "Données récupérées pour CDLX\n",
      "Données récupérées pour CDMO\n",
      "Données récupérées pour CDNA\n",
      "Données récupérées pour CDNS\n",
      "Données récupérées pour CDP\n"
     ]
    },
    {
     "name": "stderr",
     "output_type": "stream",
     "text": [
      "404 Client Error: Not Found for url: https://query2.finance.yahoo.com/v10/finance/quoteSummary/CDR%5EB?modules=financialData%2CquoteType%2CdefaultKeyStatistics%2CassetProfile%2CsummaryDetail&corsDomain=finance.yahoo.com&formatted=false&symbol=CDR%5EB&crumb=znKJeXxQthY\n"
     ]
    },
    {
     "name": "stdout",
     "output_type": "stream",
     "text": [
      "Données récupérées pour CDR^B\n"
     ]
    },
    {
     "name": "stderr",
     "output_type": "stream",
     "text": [
      "404 Client Error: Not Found for url: https://query2.finance.yahoo.com/v10/finance/quoteSummary/CDR%5EC?modules=financialData%2CquoteType%2CdefaultKeyStatistics%2CassetProfile%2CsummaryDetail&corsDomain=finance.yahoo.com&formatted=false&symbol=CDR%5EC&crumb=znKJeXxQthY\n"
     ]
    },
    {
     "name": "stdout",
     "output_type": "stream",
     "text": [
      "Données récupérées pour CDR^C\n",
      "Données récupérées pour CDRE\n",
      "Données récupérées pour CDRO\n",
      "Données récupérées pour CDROW\n",
      "Données récupérées pour CDT\n",
      "Données récupérées pour CDTTW\n",
      "Données récupérées pour CDTX\n",
      "Données récupérées pour CDW\n",
      "Données récupérées pour CDXC\n",
      "Données récupérées pour CDXS\n",
      "Données récupérées pour CDZI\n",
      "Données récupérées pour CDZIP\n",
      "Données récupérées pour CE\n",
      "Données récupérées pour CEAD\n",
      "Données récupérées pour CEADW\n",
      "Données récupérées pour CECO\n",
      "Données récupérées pour CEE\n",
      "Données récupérées pour CEG\n",
      "Données récupérées pour CEI\n",
      "Données récupérées pour CEIX\n",
      "Données récupérées pour CELC\n",
      "Données récupérées pour CELH\n",
      "Données récupérées pour CELU\n",
      "Données récupérées pour CELUW\n",
      "Données récupérées pour CELZ\n",
      "Données récupérées pour CEM\n",
      "Données récupérées pour CENN\n",
      "Données récupérées pour CENT\n",
      "Données récupérées pour CENTA\n",
      "Données récupérées pour CENX\n",
      "Données récupérées pour CEPU\n",
      "Données récupérées pour CERE\n",
      "Données récupérées pour CERO\n",
      "Données récupérées pour CEROW\n",
      "Données récupérées pour CERS\n",
      "Données récupérées pour CERT\n",
      "Données récupérées pour CET\n",
      "Données récupérées pour CETU\n",
      "Données récupérées pour CETUW\n",
      "Données récupérées pour CETX\n",
      "Données récupérées pour CETY\n",
      "Données récupérées pour CEV\n",
      "Données récupérées pour CEVA\n",
      "Données récupérées pour CF\n",
      "Données récupérées pour CFB\n",
      "Données récupérées pour CFBK\n",
      "Données récupérées pour CFFI\n",
      "Données récupérées pour CFFN\n",
      "Données récupérées pour CFFS\n",
      "Données récupérées pour CFFSW\n",
      "Données récupérées pour CFG\n"
     ]
    },
    {
     "name": "stderr",
     "output_type": "stream",
     "text": [
      "404 Client Error: Not Found for url: https://query2.finance.yahoo.com/v10/finance/quoteSummary/CFG%5ED?modules=financialData%2CquoteType%2CdefaultKeyStatistics%2CassetProfile%2CsummaryDetail&corsDomain=finance.yahoo.com&formatted=false&symbol=CFG%5ED&crumb=znKJeXxQthY\n"
     ]
    },
    {
     "name": "stdout",
     "output_type": "stream",
     "text": [
      "Données récupérées pour CFG^D\n"
     ]
    },
    {
     "name": "stderr",
     "output_type": "stream",
     "text": [
      "404 Client Error: Not Found for url: https://query2.finance.yahoo.com/v10/finance/quoteSummary/CFG%5EE?modules=financialData%2CquoteType%2CdefaultKeyStatistics%2CassetProfile%2CsummaryDetail&corsDomain=finance.yahoo.com&formatted=false&symbol=CFG%5EE&crumb=znKJeXxQthY\n"
     ]
    },
    {
     "name": "stdout",
     "output_type": "stream",
     "text": [
      "Données récupérées pour CFG^E\n",
      "Données récupérées pour CFLT\n",
      "Données récupérées pour CFR\n"
     ]
    },
    {
     "name": "stderr",
     "output_type": "stream",
     "text": [
      "404 Client Error: Not Found for url: https://query2.finance.yahoo.com/v10/finance/quoteSummary/CFR%5EB?modules=financialData%2CquoteType%2CdefaultKeyStatistics%2CassetProfile%2CsummaryDetail&corsDomain=finance.yahoo.com&formatted=false&symbol=CFR%5EB&crumb=znKJeXxQthY\n"
     ]
    },
    {
     "name": "stdout",
     "output_type": "stream",
     "text": [
      "Données récupérées pour CFR^B\n",
      "Données récupérées pour CFSB\n",
      "Données récupérées pour CG\n",
      "Données récupérées pour CGA\n",
      "Données récupérées pour CGABL\n",
      "Données récupérées pour CGAU\n",
      "Données récupérées pour CGBD\n",
      "Données récupérées pour CGBDL\n",
      "Données récupérées pour CGC\n",
      "Données récupérées pour CGEM\n",
      "Données récupérées pour CGEN\n",
      "Données récupérées pour CGNT\n",
      "Données récupérées pour CGNX\n",
      "Données récupérées pour CGO\n",
      "Données récupérées pour CGON\n",
      "Données récupérées pour CGTX\n",
      "Données récupérées pour CHAA\n",
      "Données récupérées pour CHCI\n",
      "Données récupérées pour CHCO\n",
      "Données récupérées pour CHCT\n",
      "Données récupérées pour CHD\n",
      "Données récupérées pour CHDN\n",
      "Données récupérées pour CHE\n",
      "Données récupérées pour CHEA\n",
      "Données récupérées pour CHEAU\n",
      "Données récupérées pour CHEF\n",
      "Données récupérées pour CHEK\n",
      "Données récupérées pour CHGG\n",
      "Données récupérées pour CHH\n",
      "Données récupérées pour CHI\n",
      "Données récupérées pour CHK\n",
      "Données récupérées pour CHKEL\n",
      "Données récupérées pour CHKEW\n",
      "Données récupérées pour CHKEZ\n",
      "Données récupérées pour CHKP\n",
      "Données récupérées pour CHMG\n",
      "Données récupérées pour CHMI\n"
     ]
    },
    {
     "name": "stderr",
     "output_type": "stream",
     "text": [
      "404 Client Error: Not Found for url: https://query2.finance.yahoo.com/v10/finance/quoteSummary/CHMI%5EA?modules=financialData%2CquoteType%2CdefaultKeyStatistics%2CassetProfile%2CsummaryDetail&corsDomain=finance.yahoo.com&formatted=false&symbol=CHMI%5EA&crumb=znKJeXxQthY\n"
     ]
    },
    {
     "name": "stdout",
     "output_type": "stream",
     "text": [
      "Données récupérées pour CHMI^A\n"
     ]
    },
    {
     "name": "stderr",
     "output_type": "stream",
     "text": [
      "404 Client Error: Not Found for url: https://query2.finance.yahoo.com/v10/finance/quoteSummary/CHMI%5EB?modules=financialData%2CquoteType%2CdefaultKeyStatistics%2CassetProfile%2CsummaryDetail&corsDomain=finance.yahoo.com&formatted=false&symbol=CHMI%5EB&crumb=znKJeXxQthY\n"
     ]
    },
    {
     "name": "stdout",
     "output_type": "stream",
     "text": [
      "Données récupérées pour CHMI^B\n",
      "Données récupérées pour CHN\n",
      "Données récupérées pour CHNR\n",
      "Données récupérées pour CHPT\n",
      "Données récupérées pour CHR\n",
      "Données récupérées pour CHRD\n",
      "Données récupérées pour CHRS\n",
      "Données récupérées pour CHRW\n",
      "Données récupérées pour CHSCL\n",
      "Données récupérées pour CHSCM\n",
      "Données récupérées pour CHSCN\n",
      "Données récupérées pour CHSCO\n",
      "Données récupérées pour CHSCP\n",
      "Données récupérées pour CHSN\n",
      "Données récupérées pour CHT\n",
      "Données récupérées pour CHTR\n",
      "Données récupérées pour CHUY\n",
      "Données récupérées pour CHW\n",
      "Données récupérées pour CHWY\n",
      "Données récupérées pour CHX\n",
      "Données récupérées pour CHY\n",
      "Données récupérées pour CI\n",
      "Données récupérées pour CIA\n",
      "Données récupérées pour CIB\n",
      "Données récupérées pour CIEN\n",
      "Données récupérées pour CIF\n",
      "Données récupérées pour CIFR\n",
      "Données récupérées pour CIFRW\n",
      "Données récupérées pour CIG\n",
      "Données récupérées pour CIGI\n",
      "Données récupérées pour CII\n",
      "Données récupérées pour CIK\n",
      "Données récupérées pour CIM\n"
     ]
    },
    {
     "name": "stderr",
     "output_type": "stream",
     "text": [
      "404 Client Error: Not Found for url: https://query2.finance.yahoo.com/v10/finance/quoteSummary/CIM%5EA?modules=financialData%2CquoteType%2CdefaultKeyStatistics%2CassetProfile%2CsummaryDetail&corsDomain=finance.yahoo.com&formatted=false&symbol=CIM%5EA&crumb=znKJeXxQthY\n"
     ]
    },
    {
     "name": "stdout",
     "output_type": "stream",
     "text": [
      "Données récupérées pour CIM^A\n"
     ]
    },
    {
     "name": "stderr",
     "output_type": "stream",
     "text": [
      "404 Client Error: Not Found for url: https://query2.finance.yahoo.com/v10/finance/quoteSummary/CIM%5EB?modules=financialData%2CquoteType%2CdefaultKeyStatistics%2CassetProfile%2CsummaryDetail&corsDomain=finance.yahoo.com&formatted=false&symbol=CIM%5EB&crumb=znKJeXxQthY\n"
     ]
    },
    {
     "name": "stdout",
     "output_type": "stream",
     "text": [
      "Données récupérées pour CIM^B\n"
     ]
    },
    {
     "name": "stderr",
     "output_type": "stream",
     "text": [
      "404 Client Error: Not Found for url: https://query2.finance.yahoo.com/v10/finance/quoteSummary/CIM%5EC?modules=financialData%2CquoteType%2CdefaultKeyStatistics%2CassetProfile%2CsummaryDetail&corsDomain=finance.yahoo.com&formatted=false&symbol=CIM%5EC&crumb=znKJeXxQthY\n"
     ]
    },
    {
     "name": "stdout",
     "output_type": "stream",
     "text": [
      "Données récupérées pour CIM^C\n"
     ]
    },
    {
     "name": "stderr",
     "output_type": "stream",
     "text": [
      "404 Client Error: Not Found for url: https://query2.finance.yahoo.com/v10/finance/quoteSummary/CIM%5ED?modules=financialData%2CquoteType%2CdefaultKeyStatistics%2CassetProfile%2CsummaryDetail&corsDomain=finance.yahoo.com&formatted=false&symbol=CIM%5ED&crumb=znKJeXxQthY\n"
     ]
    },
    {
     "name": "stdout",
     "output_type": "stream",
     "text": [
      "Données récupérées pour CIM^D\n",
      "Données récupérées pour CINF\n",
      "Données récupérées pour CING\n",
      "Données récupérées pour CINGW\n",
      "Données récupérées pour CINT\n",
      "Données récupérées pour CIO\n"
     ]
    },
    {
     "name": "stderr",
     "output_type": "stream",
     "text": [
      "404 Client Error: Not Found for url: https://query2.finance.yahoo.com/v10/finance/quoteSummary/CIO%5EA?modules=financialData%2CquoteType%2CdefaultKeyStatistics%2CassetProfile%2CsummaryDetail&corsDomain=finance.yahoo.com&formatted=false&symbol=CIO%5EA&crumb=znKJeXxQthY\n"
     ]
    },
    {
     "name": "stdout",
     "output_type": "stream",
     "text": [
      "Données récupérées pour CIO^A\n",
      "Données récupérées pour CION\n",
      "Données récupérées pour CISO\n",
      "Données récupérées pour CISS\n",
      "Données récupérées pour CITE\n",
      "Données récupérées pour CITEW\n",
      "Données récupérées pour CIVB\n",
      "Données récupérées pour CIVI\n",
      "Données récupérées pour CIX\n",
      "Données récupérées pour CJET\n",
      "Données récupérées pour CJJD\n",
      "Données récupérées pour CKPT\n",
      "Données récupérées pour CKX\n",
      "Données récupérées pour CL\n",
      "Données récupérées pour CLAR\n",
      "Données récupérées pour CLB\n",
      "Données récupérées pour CLBK\n",
      "Données récupérées pour CLBR\n",
      "Données récupérées pour CLBT\n",
      "Données récupérées pour CLBTW\n",
      "Données récupérées pour CLCO\n",
      "Données récupérées pour CLDI\n",
      "Données récupérées pour CLDT\n"
     ]
    },
    {
     "name": "stderr",
     "output_type": "stream",
     "text": [
      "404 Client Error: Not Found for url: https://query2.finance.yahoo.com/v10/finance/quoteSummary/CLDT%5EA?modules=financialData%2CquoteType%2CdefaultKeyStatistics%2CassetProfile%2CsummaryDetail&corsDomain=finance.yahoo.com&formatted=false&symbol=CLDT%5EA&crumb=znKJeXxQthY\n"
     ]
    },
    {
     "name": "stdout",
     "output_type": "stream",
     "text": [
      "Données récupérées pour CLDT^A\n",
      "Données récupérées pour CLDX\n",
      "Données récupérées pour CLEU\n",
      "Données récupérées pour CLF\n",
      "Données récupérées pour CLFD\n",
      "Données récupérées pour CLGN\n",
      "Données récupérées pour CLH\n",
      "Données récupérées pour CLIR\n",
      "Données récupérées pour CLLS\n",
      "Données récupérées pour CLM\n",
      "Données récupérées pour CLMB\n",
      "Données récupérées pour CLMT\n",
      "Données récupérées pour CLNE\n",
      "Données récupérées pour CLNN\n",
      "Données récupérées pour CLNNW\n",
      "Données récupérées pour CLOE\n",
      "Données récupérées pour CLOER\n",
      "Données récupérées pour CLOV\n",
      "Données récupérées pour CLPR\n",
      "Données récupérées pour CLPS\n",
      "Données récupérées pour CLPT\n",
      "Données récupérées pour CLRB\n",
      "Données récupérées pour CLRC\n",
      "Données récupérées pour CLRO\n",
      "Données récupérées pour CLS\n",
      "Données récupérées pour CLSD\n",
      "Données récupérées pour CLSK\n",
      "Données récupérées pour CLST\n",
      "Données récupérées pour CLVR\n",
      "Données récupérées pour CLVRW\n",
      "Données récupérées pour CLVT\n"
     ]
    },
    {
     "name": "stderr",
     "output_type": "stream",
     "text": [
      "404 Client Error: Not Found for url: https://query2.finance.yahoo.com/v10/finance/quoteSummary/CLVT%5EA?modules=financialData%2CquoteType%2CdefaultKeyStatistics%2CassetProfile%2CsummaryDetail&corsDomain=finance.yahoo.com&formatted=false&symbol=CLVT%5EA&crumb=znKJeXxQthY\n"
     ]
    },
    {
     "name": "stdout",
     "output_type": "stream",
     "text": [
      "Données récupérées pour CLVT^A\n",
      "Données récupérées pour CLW\n",
      "Données récupérées pour CLWT\n",
      "Données récupérées pour CLX\n",
      "Données récupérées pour CM\n",
      "Données récupérées pour CMA\n",
      "Données récupérées pour CMAX\n",
      "Données récupérées pour CMAXW\n",
      "Données récupérées pour CMBM\n",
      "Données récupérées pour CMC\n",
      "Données récupérées pour CMCA\n",
      "Données récupérées pour CMCL\n",
      "Données récupérées pour CMCM\n",
      "Données récupérées pour CMCO\n",
      "Données récupérées pour CMCSA\n",
      "Données récupérées pour CMCT\n",
      "Données récupérées pour CME\n",
      "Données récupérées pour CMG\n",
      "Données récupérées pour CMI\n",
      "Données récupérées pour CMLS\n",
      "Données récupérées pour CMMB\n",
      "Données récupérées pour CMND\n",
      "Données récupérées pour CMP\n",
      "Données récupérées pour CMPO\n",
      "Données récupérées pour CMPOW\n",
      "Données récupérées pour CMPR\n",
      "Données récupérées pour CMPS\n",
      "Données récupérées pour CMPX\n",
      "Données récupérées pour CMRE\n"
     ]
    },
    {
     "name": "stderr",
     "output_type": "stream",
     "text": [
      "404 Client Error: Not Found for url: https://query2.finance.yahoo.com/v10/finance/quoteSummary/CMRE%5EB?modules=financialData%2CquoteType%2CdefaultKeyStatistics%2CassetProfile%2CsummaryDetail&corsDomain=finance.yahoo.com&formatted=false&symbol=CMRE%5EB&crumb=znKJeXxQthY\n"
     ]
    },
    {
     "name": "stdout",
     "output_type": "stream",
     "text": [
      "Données récupérées pour CMRE^B\n"
     ]
    },
    {
     "name": "stderr",
     "output_type": "stream",
     "text": [
      "404 Client Error: Not Found for url: https://query2.finance.yahoo.com/v10/finance/quoteSummary/CMRE%5EC?modules=financialData%2CquoteType%2CdefaultKeyStatistics%2CassetProfile%2CsummaryDetail&corsDomain=finance.yahoo.com&formatted=false&symbol=CMRE%5EC&crumb=znKJeXxQthY\n"
     ]
    },
    {
     "name": "stdout",
     "output_type": "stream",
     "text": [
      "Données récupérées pour CMRE^C\n"
     ]
    },
    {
     "name": "stderr",
     "output_type": "stream",
     "text": [
      "404 Client Error: Not Found for url: https://query2.finance.yahoo.com/v10/finance/quoteSummary/CMRE%5ED?modules=financialData%2CquoteType%2CdefaultKeyStatistics%2CassetProfile%2CsummaryDetail&corsDomain=finance.yahoo.com&formatted=false&symbol=CMRE%5ED&crumb=znKJeXxQthY\n"
     ]
    },
    {
     "name": "stdout",
     "output_type": "stream",
     "text": [
      "Données récupérées pour CMRE^D\n"
     ]
    },
    {
     "name": "stderr",
     "output_type": "stream",
     "text": [
      "404 Client Error: Not Found for url: https://query2.finance.yahoo.com/v10/finance/quoteSummary/CMRE%5EE?modules=financialData%2CquoteType%2CdefaultKeyStatistics%2CassetProfile%2CsummaryDetail&corsDomain=finance.yahoo.com&formatted=false&symbol=CMRE%5EE&crumb=znKJeXxQthY\n"
     ]
    },
    {
     "name": "stdout",
     "output_type": "stream",
     "text": [
      "Données récupérées pour CMRE^E\n",
      "Données récupérées pour CMRX\n",
      "Données récupérées pour CMS\n"
     ]
    },
    {
     "name": "stderr",
     "output_type": "stream",
     "text": [
      "404 Client Error: Not Found for url: https://query2.finance.yahoo.com/v10/finance/quoteSummary/CMS%5EB?modules=financialData%2CquoteType%2CdefaultKeyStatistics%2CassetProfile%2CsummaryDetail&corsDomain=finance.yahoo.com&formatted=false&symbol=CMS%5EB&crumb=znKJeXxQthY\n"
     ]
    },
    {
     "name": "stdout",
     "output_type": "stream",
     "text": [
      "Données récupérées pour CMS^B\n"
     ]
    },
    {
     "name": "stderr",
     "output_type": "stream",
     "text": [
      "404 Client Error: Not Found for url: https://query2.finance.yahoo.com/v10/finance/quoteSummary/CMS%5EC?modules=financialData%2CquoteType%2CdefaultKeyStatistics%2CassetProfile%2CsummaryDetail&corsDomain=finance.yahoo.com&formatted=false&symbol=CMS%5EC&crumb=znKJeXxQthY\n"
     ]
    },
    {
     "name": "stdout",
     "output_type": "stream",
     "text": [
      "Données récupérées pour CMS^C\n",
      "Données récupérées pour CMSA\n",
      "Données récupérées pour CMSC\n",
      "Données récupérées pour CMSD\n",
      "Données récupérées pour CMT\n",
      "Données récupérées pour CMTG\n",
      "Données récupérées pour CMTL\n",
      "Données récupérées pour CMU\n",
      "Données récupérées pour CNA\n",
      "Données récupérées pour CNC\n",
      "Données récupérées pour CNDA\n",
      "Données récupérées pour CNDB\n",
      "Données récupérées pour CNDT\n",
      "Données récupérées pour CNET\n",
      "Données récupérées pour CNEY\n",
      "Données récupérées pour CNF\n",
      "Données récupérées pour CNFR\n",
      "Données récupérées pour CNFRZ\n",
      "Données récupérées pour CNGL\n",
      "Données récupérées pour CNGLU\n",
      "Données récupérées pour CNGLW\n",
      "Données récupérées pour CNHI\n",
      "Données récupérées pour CNI\n",
      "Données récupérées pour CNK\n",
      "Données récupérées pour CNM\n",
      "Données récupérées pour CNMD\n",
      "Données récupérées pour CNNE\n",
      "Données récupérées pour CNO\n"
     ]
    },
    {
     "name": "stderr",
     "output_type": "stream",
     "text": [
      "404 Client Error: Not Found for url: https://query2.finance.yahoo.com/v10/finance/quoteSummary/CNO%5EA?modules=financialData%2CquoteType%2CdefaultKeyStatistics%2CassetProfile%2CsummaryDetail&corsDomain=finance.yahoo.com&formatted=false&symbol=CNO%5EA&crumb=znKJeXxQthY\n"
     ]
    },
    {
     "name": "stdout",
     "output_type": "stream",
     "text": [
      "Données récupérées pour CNO^A\n",
      "Données récupérées pour CNOB\n",
      "Données récupérées pour CNOBP\n",
      "Données récupérées pour CNP\n",
      "Données récupérées pour CNQ\n",
      "Données récupérées pour CNS\n",
      "Données récupérées pour CNSL\n",
      "Données récupérées pour CNSP\n",
      "Données récupérées pour CNTA\n",
      "Données récupérées pour CNTB\n",
      "Données récupérées pour CNTG\n",
      "Données récupérées pour CNTX\n",
      "Données récupérées pour CNTY\n",
      "Données récupérées pour CNVS\n",
      "Données récupérées pour CNX\n",
      "Données récupérées pour CNXA\n",
      "Données récupérées pour CNXC\n",
      "Données récupérées pour CNXN\n",
      "Données récupérées pour COCH\n",
      "Données récupérées pour COCHW\n",
      "Données récupérées pour COCO\n",
      "Données récupérées pour COCP\n",
      "Données récupérées pour CODA\n",
      "Données récupérées pour CODI\n"
     ]
    },
    {
     "name": "stderr",
     "output_type": "stream",
     "text": [
      "404 Client Error: Not Found for url: https://query2.finance.yahoo.com/v10/finance/quoteSummary/CODI%5EA?modules=financialData%2CquoteType%2CdefaultKeyStatistics%2CassetProfile%2CsummaryDetail&corsDomain=finance.yahoo.com&formatted=false&symbol=CODI%5EA&crumb=znKJeXxQthY\n"
     ]
    },
    {
     "name": "stdout",
     "output_type": "stream",
     "text": [
      "Données récupérées pour CODI^A\n"
     ]
    },
    {
     "name": "stderr",
     "output_type": "stream",
     "text": [
      "404 Client Error: Not Found for url: https://query2.finance.yahoo.com/v10/finance/quoteSummary/CODI%5EB?modules=financialData%2CquoteType%2CdefaultKeyStatistics%2CassetProfile%2CsummaryDetail&corsDomain=finance.yahoo.com&formatted=false&symbol=CODI%5EB&crumb=znKJeXxQthY\n"
     ]
    },
    {
     "name": "stdout",
     "output_type": "stream",
     "text": [
      "Données récupérées pour CODI^B\n"
     ]
    },
    {
     "name": "stderr",
     "output_type": "stream",
     "text": [
      "404 Client Error: Not Found for url: https://query2.finance.yahoo.com/v10/finance/quoteSummary/CODI%5EC?modules=financialData%2CquoteType%2CdefaultKeyStatistics%2CassetProfile%2CsummaryDetail&corsDomain=finance.yahoo.com&formatted=false&symbol=CODI%5EC&crumb=znKJeXxQthY\n"
     ]
    },
    {
     "name": "stdout",
     "output_type": "stream",
     "text": [
      "Données récupérées pour CODI^C\n",
      "Données récupérées pour CODX\n",
      "Données récupérées pour COE\n",
      "Données récupérées pour COEP\n",
      "Données récupérées pour COEPW\n",
      "Données récupérées pour COF\n"
     ]
    },
    {
     "name": "stderr",
     "output_type": "stream",
     "text": [
      "404 Client Error: Not Found for url: https://query2.finance.yahoo.com/v10/finance/quoteSummary/COF%5EI?modules=financialData%2CquoteType%2CdefaultKeyStatistics%2CassetProfile%2CsummaryDetail&corsDomain=finance.yahoo.com&formatted=false&symbol=COF%5EI&crumb=znKJeXxQthY\n"
     ]
    },
    {
     "name": "stdout",
     "output_type": "stream",
     "text": [
      "Données récupérées pour COF^I\n"
     ]
    },
    {
     "name": "stderr",
     "output_type": "stream",
     "text": [
      "404 Client Error: Not Found for url: https://query2.finance.yahoo.com/v10/finance/quoteSummary/COF%5EJ?modules=financialData%2CquoteType%2CdefaultKeyStatistics%2CassetProfile%2CsummaryDetail&corsDomain=finance.yahoo.com&formatted=false&symbol=COF%5EJ&crumb=znKJeXxQthY\n"
     ]
    },
    {
     "name": "stdout",
     "output_type": "stream",
     "text": [
      "Données récupérées pour COF^J\n"
     ]
    },
    {
     "name": "stderr",
     "output_type": "stream",
     "text": [
      "404 Client Error: Not Found for url: https://query2.finance.yahoo.com/v10/finance/quoteSummary/COF%5EK?modules=financialData%2CquoteType%2CdefaultKeyStatistics%2CassetProfile%2CsummaryDetail&corsDomain=finance.yahoo.com&formatted=false&symbol=COF%5EK&crumb=znKJeXxQthY\n"
     ]
    },
    {
     "name": "stdout",
     "output_type": "stream",
     "text": [
      "Données récupérées pour COF^K\n"
     ]
    },
    {
     "name": "stderr",
     "output_type": "stream",
     "text": [
      "404 Client Error: Not Found for url: https://query2.finance.yahoo.com/v10/finance/quoteSummary/COF%5EL?modules=financialData%2CquoteType%2CdefaultKeyStatistics%2CassetProfile%2CsummaryDetail&corsDomain=finance.yahoo.com&formatted=false&symbol=COF%5EL&crumb=znKJeXxQthY\n"
     ]
    },
    {
     "name": "stdout",
     "output_type": "stream",
     "text": [
      "Données récupérées pour COF^L\n"
     ]
    },
    {
     "name": "stderr",
     "output_type": "stream",
     "text": [
      "404 Client Error: Not Found for url: https://query2.finance.yahoo.com/v10/finance/quoteSummary/COF%5EN?modules=financialData%2CquoteType%2CdefaultKeyStatistics%2CassetProfile%2CsummaryDetail&corsDomain=finance.yahoo.com&formatted=false&symbol=COF%5EN&crumb=znKJeXxQthY\n"
     ]
    },
    {
     "name": "stdout",
     "output_type": "stream",
     "text": [
      "Données récupérées pour COF^N\n",
      "Données récupérées pour COFS\n",
      "Données récupérées pour COGT\n",
      "Données récupérées pour COHN\n",
      "Données récupérées pour COHR\n",
      "Données récupérées pour COHU\n",
      "Données récupérées pour COIN\n",
      "Données récupérées pour COKE\n",
      "Données récupérées pour COLB\n",
      "Données récupérées pour COLD\n",
      "Données récupérées pour COLL\n",
      "Données récupérées pour COLM\n",
      "Données récupérées pour COMM\n",
      "Données récupérées pour COMP\n",
      "Données récupérées pour CONN\n",
      "Données récupérées pour CONX\n",
      "Données récupérées pour CONXW\n",
      "Données récupérées pour COO\n",
      "Données récupérées pour COOK\n",
      "Données récupérées pour COOL\n",
      "Données récupérées pour COOLU\n",
      "Données récupérées pour COOLW\n",
      "Données récupérées pour COOP\n",
      "Données récupérées pour COP\n",
      "Données récupérées pour COR\n",
      "Données récupérées pour CORT\n",
      "Données récupérées pour CORZ\n",
      "Données récupérées pour CORZW\n",
      "Données récupérées pour CORZZ\n",
      "Données récupérées pour COSM\n",
      "Données récupérées pour COST\n",
      "Données récupérées pour COTY\n",
      "Données récupérées pour COUR\n",
      "Données récupérées pour COYA\n",
      "Données récupérées pour CP\n",
      "Données récupérées pour CPA\n",
      "Données récupérées pour CPAC\n",
      "Données récupérées pour CPB\n",
      "Données récupérées pour CPBI\n",
      "Données récupérées pour CPE\n",
      "Données récupérées pour CPF\n",
      "Données récupérées pour CPG\n",
      "Données récupérées pour CPHC\n",
      "Données récupérées pour CPHI\n",
      "Données récupérées pour CPIX\n",
      "Données récupérées pour CPK\n",
      "Données récupérées pour CPLP\n",
      "Données récupérées pour CPNG\n",
      "Données récupérées pour CPOP\n",
      "Données récupérées pour CPRI\n",
      "Données récupérées pour CPRT\n",
      "Données récupérées pour CPRX\n",
      "Données récupérées pour CPS\n",
      "Données récupérées pour CPSH\n",
      "Données récupérées pour CPSI\n",
      "Données récupérées pour CPSS\n",
      "Données récupérées pour CPT\n",
      "Données récupérées pour CPTN\n",
      "Données récupérées pour CPTNW\n",
      "Données récupérées pour CPZ\n",
      "Données récupérées pour CQP\n",
      "Données récupérées pour CR\n",
      "Données récupérées pour CRAI\n",
      "Données récupérées pour CRBG\n",
      "Données récupérées pour CRBP\n",
      "Données récupérées pour CRBU\n",
      "Données récupérées pour CRC\n",
      "Données récupérées pour CRCT\n"
     ]
    },
    {
     "name": "stderr",
     "output_type": "stream",
     "text": [
      "404 Client Error: Not Found for url: https://query2.finance.yahoo.com/v10/finance/quoteSummary/CRD/A?modules=financialData%2CquoteType%2CdefaultKeyStatistics%2CassetProfile%2CsummaryDetail&corsDomain=finance.yahoo.com&formatted=false&symbol=CRD%2FA&crumb=znKJeXxQthY\n"
     ]
    },
    {
     "name": "stdout",
     "output_type": "stream",
     "text": [
      "Erreur lors de la récupération des données pour CRD/A: Failed to parse json response from Yahoo Finance: {'code': 'Not Found', 'description': 'HTTP 404 Not Found'}\n"
     ]
    },
    {
     "name": "stderr",
     "output_type": "stream",
     "text": [
      "404 Client Error: Not Found for url: https://query2.finance.yahoo.com/v10/finance/quoteSummary/CRD/B?modules=financialData%2CquoteType%2CdefaultKeyStatistics%2CassetProfile%2CsummaryDetail&corsDomain=finance.yahoo.com&formatted=false&symbol=CRD%2FB&crumb=znKJeXxQthY\n"
     ]
    },
    {
     "name": "stdout",
     "output_type": "stream",
     "text": [
      "Erreur lors de la récupération des données pour CRD/B: Failed to parse json response from Yahoo Finance: {'code': 'Not Found', 'description': 'HTTP 404 Not Found'}\n",
      "Données récupérées pour CRDF\n",
      "Données récupérées pour CRDL\n",
      "Données récupérées pour CRDO\n",
      "Données récupérées pour CREG\n",
      "Données récupérées pour CRESW\n",
      "Données récupérées pour CRESY\n",
      "Données récupérées pour CREV\n",
      "Données récupérées pour CREVW\n",
      "Données récupérées pour CREX\n",
      "Données récupérées pour CRF\n",
      "Données récupérées pour CRGE\n",
      "Données récupérées pour CRGO\n",
      "Données récupérées pour CRGX\n",
      "Données récupérées pour CRGY\n",
      "Données récupérées pour CRH\n",
      "Données récupérées pour CRI\n",
      "Données récupérées pour CRIS\n",
      "Données récupérées pour CRK\n",
      "Données récupérées pour CRKN\n",
      "Données récupérées pour CRL\n",
      "Données récupérées pour CRM\n",
      "Données récupérées pour CRMD\n",
      "Données récupérées pour CRMT\n",
      "Données récupérées pour CRNC\n",
      "Données récupérées pour CRNT\n",
      "Données récupérées pour CRNX\n",
      "Données récupérées pour CRON\n",
      "Données récupérées pour CROX\n",
      "Données récupérées pour CRS\n",
      "Données récupérées pour CRSP\n",
      "Données récupérées pour CRSR\n",
      "Données récupérées pour CRT\n",
      "Données récupérées pour CRTO\n",
      "Données récupérées pour CRUS\n",
      "Données récupérées pour CRVL\n",
      "Données récupérées pour CRVO\n",
      "Données récupérées pour CRVS\n",
      "Données récupérées pour CRWD\n",
      "Données récupérées pour CRWS\n",
      "Données récupérées pour CSAN\n",
      "Données récupérées pour CSBR\n",
      "Données récupérées pour CSCO\n",
      "Données récupérées pour CSGP\n",
      "Données récupérées pour CSGS\n",
      "Données récupérées pour CSIQ\n",
      "Données récupérées pour CSL\n",
      "Données récupérées pour CSLM\n",
      "Données récupérées pour CSLMR\n",
      "Données récupérées pour CSLR\n",
      "Données récupérées pour CSPI\n",
      "Données récupérées pour CSQ\n",
      "Données récupérées pour CSR\n"
     ]
    },
    {
     "name": "stderr",
     "output_type": "stream",
     "text": [
      "404 Client Error: Not Found for url: https://query2.finance.yahoo.com/v10/finance/quoteSummary/CSR%5EC?modules=financialData%2CquoteType%2CdefaultKeyStatistics%2CassetProfile%2CsummaryDetail&corsDomain=finance.yahoo.com&formatted=false&symbol=CSR%5EC&crumb=znKJeXxQthY\n"
     ]
    },
    {
     "name": "stdout",
     "output_type": "stream",
     "text": [
      "Données récupérées pour CSR^C\n",
      "Données récupérées pour CSSE\n",
      "Données récupérées pour CSSEL\n",
      "Données récupérées pour CSSEN\n",
      "Données récupérées pour CSSEP\n",
      "Données récupérées pour CSTE\n",
      "Données récupérées pour CSTL\n",
      "Données récupérées pour CSTM\n",
      "Données récupérées pour CSTR\n",
      "Données récupérées pour CSV\n",
      "Données récupérées pour CSWC\n",
      "Données récupérées pour CSWCZ\n",
      "Données récupérées pour CSWI\n",
      "Données récupérées pour CSX\n"
     ]
    },
    {
     "name": "stderr",
     "output_type": "stream",
     "text": [
      "404 Client Error: Not Found for url: https://query2.finance.yahoo.com/v10/finance/quoteSummary/CTA%5EA?modules=financialData%2CquoteType%2CdefaultKeyStatistics%2CassetProfile%2CsummaryDetail&corsDomain=finance.yahoo.com&formatted=false&symbol=CTA%5EA&crumb=znKJeXxQthY\n"
     ]
    },
    {
     "name": "stdout",
     "output_type": "stream",
     "text": [
      "Données récupérées pour CTA^A\n"
     ]
    },
    {
     "name": "stderr",
     "output_type": "stream",
     "text": [
      "404 Client Error: Not Found for url: https://query2.finance.yahoo.com/v10/finance/quoteSummary/CTA%5EB?modules=financialData%2CquoteType%2CdefaultKeyStatistics%2CassetProfile%2CsummaryDetail&corsDomain=finance.yahoo.com&formatted=false&symbol=CTA%5EB&crumb=znKJeXxQthY\n"
     ]
    },
    {
     "name": "stdout",
     "output_type": "stream",
     "text": [
      "Données récupérées pour CTA^B\n",
      "Données récupérées pour CTAS\n",
      "Données récupérées pour CTBB\n",
      "Données récupérées pour CTBI\n",
      "Données récupérées pour CTCX\n",
      "Données récupérées pour CTCXW\n",
      "Données récupérées pour CTDD\n",
      "Données récupérées pour CTGO\n",
      "Données récupérées pour CTHR\n",
      "Données récupérées pour CTKB\n",
      "Données récupérées pour CTLP\n",
      "Données récupérées pour CTLT\n",
      "Données récupérées pour CTM\n",
      "Données récupérées pour CTMX\n",
      "Données récupérées pour CTNT\n",
      "Données récupérées pour CTO\n"
     ]
    },
    {
     "name": "stderr",
     "output_type": "stream",
     "text": [
      "404 Client Error: Not Found for url: https://query2.finance.yahoo.com/v10/finance/quoteSummary/CTO%5EA?modules=financialData%2CquoteType%2CdefaultKeyStatistics%2CassetProfile%2CsummaryDetail&corsDomain=finance.yahoo.com&formatted=false&symbol=CTO%5EA&crumb=znKJeXxQthY\n"
     ]
    },
    {
     "name": "stdout",
     "output_type": "stream",
     "text": [
      "Données récupérées pour CTO^A\n",
      "Données récupérées pour CTOS\n",
      "Données récupérées pour CTR\n",
      "Données récupérées pour CTRA\n",
      "Données récupérées pour CTRE\n",
      "Données récupérées pour CTRM\n",
      "Données récupérées pour CTRN\n",
      "Données récupérées pour CTS\n",
      "Données récupérées pour CTSH\n",
      "Données récupérées pour CTSO\n",
      "Données récupérées pour CTV\n",
      "Données récupérées pour CTVA\n",
      "Données récupérées pour CTXR\n",
      "Données récupérées pour CUBA\n",
      "Données récupérées pour CUBB\n",
      "Données récupérées pour CUBE\n",
      "Données récupérées pour CUBI\n"
     ]
    },
    {
     "name": "stderr",
     "output_type": "stream",
     "text": [
      "404 Client Error: Not Found for url: https://query2.finance.yahoo.com/v10/finance/quoteSummary/CUBI%5EE?modules=financialData%2CquoteType%2CdefaultKeyStatistics%2CassetProfile%2CsummaryDetail&corsDomain=finance.yahoo.com&formatted=false&symbol=CUBI%5EE&crumb=znKJeXxQthY\n"
     ]
    },
    {
     "name": "stdout",
     "output_type": "stream",
     "text": [
      "Données récupérées pour CUBI^E\n"
     ]
    },
    {
     "name": "stderr",
     "output_type": "stream",
     "text": [
      "404 Client Error: Not Found for url: https://query2.finance.yahoo.com/v10/finance/quoteSummary/CUBI%5EF?modules=financialData%2CquoteType%2CdefaultKeyStatistics%2CassetProfile%2CsummaryDetail&corsDomain=finance.yahoo.com&formatted=false&symbol=CUBI%5EF&crumb=znKJeXxQthY\n"
     ]
    },
    {
     "name": "stdout",
     "output_type": "stream",
     "text": [
      "Données récupérées pour CUBI^F\n",
      "Données récupérées pour CUE\n",
      "Données récupérées pour CUK\n",
      "Données récupérées pour CULL\n",
      "Données récupérées pour CULP\n",
      "Données récupérées pour CURI\n",
      "Données récupérées pour CURIW\n",
      "Données récupérées pour CURO\n",
      "Données récupérées pour CURV\n",
      "Données récupérées pour CUTR\n",
      "Données récupérées pour CUZ\n",
      "Données récupérées pour CVAC\n",
      "Données récupérées pour CVBF\n",
      "Données récupérées pour CVCO\n",
      "Données récupérées pour CVCY\n",
      "Données récupérées pour CVE\n",
      "Données récupérées pour CVEO\n",
      "Données récupérées pour CVGI\n",
      "Données récupérées pour CVGW\n",
      "Données récupérées pour CVI\n",
      "Données récupérées pour CVII\n",
      "Données récupérées pour CVIIU\n",
      "Données récupérées pour CVIIW\n",
      "Données récupérées pour CVKD\n",
      "Données récupérées pour CVLG\n",
      "Données récupérées pour CVLT\n",
      "Données récupérées pour CVLY\n",
      "Données récupérées pour CVM\n",
      "Données récupérées pour CVNA\n",
      "Données récupérées pour CVR\n",
      "Données récupérées pour CVRX\n",
      "Données récupérées pour CVS\n",
      "Données récupérées pour CVU\n",
      "Données récupérées pour CVV\n",
      "Données récupérées pour CVX\n",
      "Données récupérées pour CW\n",
      "Données récupérées pour CWAN\n",
      "Données récupérées pour CWBC\n",
      "Données récupérées pour CWCO\n",
      "Données récupérées pour CWD\n",
      "Données récupérées pour CWEN\n",
      "Données récupérées pour CWH\n",
      "Données récupérées pour CWK\n",
      "Données récupérées pour CWST\n",
      "Données récupérées pour CWT\n",
      "Données récupérées pour CX\n",
      "Données récupérées pour CXAI\n",
      "Données récupérées pour CXAIW\n",
      "Données récupérées pour CXDO\n",
      "Données récupérées pour CXE\n",
      "Données récupérées pour CXH\n",
      "Données récupérées pour CXM\n",
      "Données récupérées pour CXT\n",
      "Données récupérées pour CXW\n",
      "Données récupérées pour CYAN\n",
      "Données récupérées pour CYBN\n",
      "Données récupérées pour CYBR\n",
      "Données récupérées pour CYCC\n",
      "Données récupérées pour CYCCP\n",
      "Données récupérées pour CYCN\n",
      "Données récupérées pour CYD\n",
      "Données récupérées pour CYH\n",
      "Données récupérées pour CYN\n",
      "Données récupérées pour CYRX\n",
      "Données récupérées pour CYT\n",
      "Données récupérées pour CYTH\n",
      "Données récupérées pour CYTHW\n",
      "Données récupérées pour CYTK\n",
      "Données récupérées pour CYTO\n",
      "Données récupérées pour CZFS\n",
      "Données récupérées pour CZNC\n",
      "Données récupérées pour CZOO\n",
      "Données récupérées pour CZR\n",
      "Données récupérées pour CZWI\n",
      "Données récupérées pour D\n",
      "Données récupérées pour DAC\n",
      "Données récupérées pour DADA\n",
      "Données récupérées pour DAIO\n",
      "Données récupérées pour DAKT\n",
      "Données récupérées pour DAL\n",
      "Données récupérées pour DALN\n",
      "Données récupérées pour DAN\n",
      "Données récupérées pour DAO\n",
      "Données récupérées pour DAR\n",
      "Données récupérées pour DARE\n",
      "Données récupérées pour DASH\n",
      "Données récupérées pour DATS\n",
      "Données récupérées pour DATSW\n",
      "Données récupérées pour DAVA\n",
      "Données récupérées pour DAVE\n",
      "Données récupérées pour DAVEW\n",
      "Données récupérées pour DAWN\n",
      "Données récupérées pour DAY\n",
      "Données récupérées pour DB\n",
      "Données récupérées pour DBD\n",
      "Données récupérées pour DBGI\n",
      "Données récupérées pour DBGIW\n",
      "Données récupérées pour DBI\n",
      "Données récupérées pour DBL\n",
      "Données récupérées pour DBRG\n"
     ]
    },
    {
     "name": "stderr",
     "output_type": "stream",
     "text": [
      "404 Client Error: Not Found for url: https://query2.finance.yahoo.com/v10/finance/quoteSummary/DBRG%5EH?modules=financialData%2CquoteType%2CdefaultKeyStatistics%2CassetProfile%2CsummaryDetail&corsDomain=finance.yahoo.com&formatted=false&symbol=DBRG%5EH&crumb=znKJeXxQthY\n"
     ]
    },
    {
     "name": "stdout",
     "output_type": "stream",
     "text": [
      "Données récupérées pour DBRG^H\n"
     ]
    },
    {
     "name": "stderr",
     "output_type": "stream",
     "text": [
      "404 Client Error: Not Found for url: https://query2.finance.yahoo.com/v10/finance/quoteSummary/DBRG%5EI?modules=financialData%2CquoteType%2CdefaultKeyStatistics%2CassetProfile%2CsummaryDetail&corsDomain=finance.yahoo.com&formatted=false&symbol=DBRG%5EI&crumb=znKJeXxQthY\n"
     ]
    },
    {
     "name": "stdout",
     "output_type": "stream",
     "text": [
      "Données récupérées pour DBRG^I\n"
     ]
    },
    {
     "name": "stderr",
     "output_type": "stream",
     "text": [
      "404 Client Error: Not Found for url: https://query2.finance.yahoo.com/v10/finance/quoteSummary/DBRG%5EJ?modules=financialData%2CquoteType%2CdefaultKeyStatistics%2CassetProfile%2CsummaryDetail&corsDomain=finance.yahoo.com&formatted=false&symbol=DBRG%5EJ&crumb=znKJeXxQthY\n"
     ]
    },
    {
     "name": "stdout",
     "output_type": "stream",
     "text": [
      "Données récupérées pour DBRG^J\n",
      "Données récupérées pour DBVT\n",
      "Données récupérées pour DBX\n",
      "Données récupérées pour DC\n",
      "Données récupérées pour DCBO\n",
      "Données récupérées pour DCF\n",
      "Données récupérées pour DCFC\n",
      "Données récupérées pour DCFCW\n",
      "Données récupérées pour DCGO\n",
      "Données récupérées pour DCI\n",
      "Données récupérées pour DCO\n",
      "Données récupérées pour DCOM\n",
      "Données récupérées pour DCOMP\n",
      "Données récupérées pour DCPH\n",
      "Données récupérées pour DCTH\n",
      "Données récupérées pour DD\n",
      "Données récupérées pour DDC\n",
      "Données récupérées pour DDD\n",
      "Données récupérées pour DDI\n",
      "Données récupérées pour DDL\n",
      "Données récupérées pour DDOG\n",
      "Données récupérées pour DDS\n",
      "Données récupérées pour DDT\n",
      "Données récupérées pour DE\n",
      "Données récupérées pour DEA\n",
      "Données récupérées pour DEC\n",
      "Données récupérées pour DECA\n",
      "Données récupérées pour DECAU\n",
      "Données récupérées pour DECK\n",
      "Données récupérées pour DEI\n",
      "Données récupérées pour DELL\n",
      "Données récupérées pour DENN\n",
      "Données récupérées pour DEO\n",
      "Données récupérées pour DERM\n",
      "Données récupérées pour DESP\n",
      "Données récupérées pour DFH\n",
      "Données récupérées pour DFIN\n",
      "Données récupérées pour DFLI\n",
      "Données récupérées pour DFLIW\n",
      "Données récupérées pour DFP\n",
      "Données récupérées pour DFS\n",
      "Données récupérées pour DG\n",
      "Données récupérées pour DGHI\n",
      "Données récupérées pour DGICA\n",
      "Données récupérées pour DGICB\n",
      "Données récupérées pour DGII\n",
      "Données récupérées pour DGLY\n",
      "Données récupérées pour DGX\n",
      "Données récupérées pour DH\n",
      "Données récupérées pour DHAC\n",
      "Données récupérées pour DHACW\n",
      "Données récupérées pour DHAI\n",
      "Données récupérées pour DHAIW\n",
      "Données récupérées pour DHC\n",
      "Données récupérées pour DHCA\n",
      "Données récupérées pour DHCAW\n",
      "Données récupérées pour DHCNI\n",
      "Données récupérées pour DHCNL\n",
      "Données récupérées pour DHF\n",
      "Données récupérées pour DHI\n",
      "Données récupérées pour DHIL\n",
      "Données récupérées pour DHR\n",
      "Données récupérées pour DHT\n",
      "Données récupérées pour DHX\n",
      "Données récupérées pour DHY\n",
      "Données récupérées pour DIAX\n",
      "Données récupérées pour DIBS\n",
      "Données récupérées pour DIN\n",
      "Données récupérées pour DINO\n",
      "Données récupérées pour DIOD\n",
      "Données récupérées pour DIS\n",
      "Données récupérées pour DIST\n",
      "Données récupérées pour DISTR\n",
      "Données récupérées pour DISTW\n",
      "Données récupérées pour DIT\n",
      "Données récupérées pour DJCO\n",
      "Données récupérées pour DK\n",
      "Données récupérées pour DKL\n",
      "Données récupérées pour DKNG\n",
      "Données récupérées pour DKS\n",
      "Données récupérées pour DLA\n",
      "Données récupérées pour DLB\n",
      "Données récupérées pour DLHC\n",
      "Données récupérées pour DLNG\n"
     ]
    },
    {
     "name": "stderr",
     "output_type": "stream",
     "text": [
      "404 Client Error: Not Found for url: https://query2.finance.yahoo.com/v10/finance/quoteSummary/DLNG%5EA?modules=financialData%2CquoteType%2CdefaultKeyStatistics%2CassetProfile%2CsummaryDetail&corsDomain=finance.yahoo.com&formatted=false&symbol=DLNG%5EA&crumb=znKJeXxQthY\n"
     ]
    },
    {
     "name": "stdout",
     "output_type": "stream",
     "text": [
      "Données récupérées pour DLNG^A\n"
     ]
    },
    {
     "name": "stderr",
     "output_type": "stream",
     "text": [
      "404 Client Error: Not Found for url: https://query2.finance.yahoo.com/v10/finance/quoteSummary/DLNG%5EB?modules=financialData%2CquoteType%2CdefaultKeyStatistics%2CassetProfile%2CsummaryDetail&corsDomain=finance.yahoo.com&formatted=false&symbol=DLNG%5EB&crumb=znKJeXxQthY\n"
     ]
    },
    {
     "name": "stdout",
     "output_type": "stream",
     "text": [
      "Données récupérées pour DLNG^B\n",
      "Données récupérées pour DLO\n",
      "Données récupérées pour DLPN\n",
      "Données récupérées pour DLR\n"
     ]
    },
    {
     "name": "stderr",
     "output_type": "stream",
     "text": [
      "404 Client Error: Not Found for url: https://query2.finance.yahoo.com/v10/finance/quoteSummary/DLR%5EJ?modules=financialData%2CquoteType%2CdefaultKeyStatistics%2CassetProfile%2CsummaryDetail&corsDomain=finance.yahoo.com&formatted=false&symbol=DLR%5EJ&crumb=znKJeXxQthY\n"
     ]
    },
    {
     "name": "stdout",
     "output_type": "stream",
     "text": [
      "Données récupérées pour DLR^J\n"
     ]
    },
    {
     "name": "stderr",
     "output_type": "stream",
     "text": [
      "404 Client Error: Not Found for url: https://query2.finance.yahoo.com/v10/finance/quoteSummary/DLR%5EK?modules=financialData%2CquoteType%2CdefaultKeyStatistics%2CassetProfile%2CsummaryDetail&corsDomain=finance.yahoo.com&formatted=false&symbol=DLR%5EK&crumb=znKJeXxQthY\n"
     ]
    },
    {
     "name": "stdout",
     "output_type": "stream",
     "text": [
      "Données récupérées pour DLR^K\n"
     ]
    },
    {
     "name": "stderr",
     "output_type": "stream",
     "text": [
      "404 Client Error: Not Found for url: https://query2.finance.yahoo.com/v10/finance/quoteSummary/DLR%5EL?modules=financialData%2CquoteType%2CdefaultKeyStatistics%2CassetProfile%2CsummaryDetail&corsDomain=finance.yahoo.com&formatted=false&symbol=DLR%5EL&crumb=znKJeXxQthY\n"
     ]
    },
    {
     "name": "stdout",
     "output_type": "stream",
     "text": [
      "Données récupérées pour DLR^L\n",
      "Données récupérées pour DLTH\n",
      "Données récupérées pour DLTR\n",
      "Données récupérées pour DLX\n",
      "Données récupérées pour DLY\n",
      "Données récupérées pour DM\n",
      "Données récupérées pour DMA\n",
      "Données récupérées pour DMAC\n",
      "Données récupérées pour DMB\n",
      "Données récupérées pour DMF\n",
      "Données récupérées pour DMLP\n",
      "Données récupérées pour DMO\n",
      "Données récupérées pour DMRC\n",
      "Données récupérées pour DMTK\n",
      "Données récupérées pour DMYY\n",
      "Données récupérées pour DNA\n",
      "Données récupérées pour DNB\n",
      "Données récupérées pour DNLI\n",
      "Données récupérées pour DNMR\n",
      "Données récupérées pour DNN\n",
      "Données récupérées pour DNOW\n",
      "Données récupérées pour DNP\n",
      "Données récupérées pour DNTH\n",
      "Données récupérées pour DNUT\n",
      "Données récupérées pour DO\n",
      "Données récupérées pour DOC\n",
      "Données récupérées pour DOCN\n",
      "Données récupérées pour DOCS\n",
      "Données récupérées pour DOCU\n",
      "Données récupérées pour DOGZ\n",
      "Données récupérées pour DOLE\n",
      "Données récupérées pour DOMA\n",
      "Données récupérées pour DOMH\n",
      "Données récupérées pour DOMO\n",
      "Données récupérées pour DOOO\n",
      "Données récupérées pour DOOR\n",
      "Données récupérées pour DORM\n",
      "Données récupérées pour DOUG\n",
      "Données récupérées pour DOV\n",
      "Données récupérées pour DOW\n",
      "Données récupérées pour DOX\n",
      "Données récupérées pour DOYU\n",
      "Données récupérées pour DPCS\n",
      "Données récupérées pour DPG\n",
      "Données récupérées pour DPRO\n",
      "Données récupérées pour DPSI\n",
      "Données récupérées pour DPZ\n",
      "Données récupérées pour DQ\n",
      "Données récupérées pour DRCT\n",
      "Données récupérées pour DRD\n",
      "Données récupérées pour DRH\n"
     ]
    },
    {
     "name": "stderr",
     "output_type": "stream",
     "text": [
      "404 Client Error: Not Found for url: https://query2.finance.yahoo.com/v10/finance/quoteSummary/DRH%5EA?modules=financialData%2CquoteType%2CdefaultKeyStatistics%2CassetProfile%2CsummaryDetail&corsDomain=finance.yahoo.com&formatted=false&symbol=DRH%5EA&crumb=znKJeXxQthY\n"
     ]
    },
    {
     "name": "stdout",
     "output_type": "stream",
     "text": [
      "Données récupérées pour DRH^A\n",
      "Données récupérées pour DRI\n",
      "Données récupérées pour DRIO\n",
      "Données récupérées pour DRMA\n",
      "Données récupérées pour DRMAW\n",
      "Données récupérées pour DRQ\n",
      "Données récupérées pour DRRX\n",
      "Données récupérées pour DRS\n",
      "Données récupérées pour DRTS\n",
      "Données récupérées pour DRUG\n",
      "Données récupérées pour DRVN\n",
      "Données récupérées pour DSAQ\n",
      "Données récupérées pour DSGN\n",
      "Données récupérées pour DSGR\n",
      "Données récupérées pour DSGX\n",
      "Données récupérées pour DSKE\n",
      "Données récupérées pour DSL\n",
      "Données récupérées pour DSM\n",
      "Données récupérées pour DSP\n",
      "Données récupérées pour DSS\n",
      "Données récupérées pour DSU\n",
      "Données récupérées pour DSWL\n",
      "Données récupérées pour DSX\n"
     ]
    },
    {
     "name": "stderr",
     "output_type": "stream",
     "text": [
      "404 Client Error: Not Found for url: https://query2.finance.yahoo.com/v10/finance/quoteSummary/DSX%5EB?modules=financialData%2CquoteType%2CdefaultKeyStatistics%2CassetProfile%2CsummaryDetail&corsDomain=finance.yahoo.com&formatted=false&symbol=DSX%5EB&crumb=znKJeXxQthY\n"
     ]
    },
    {
     "name": "stdout",
     "output_type": "stream",
     "text": [
      "Données récupérées pour DSX^B\n",
      "Données récupérées pour DT\n",
      "Données récupérées pour DTB\n",
      "Données récupérées pour DTC\n",
      "Données récupérées pour DTCK\n",
      "Données récupérées pour DTE\n",
      "Données récupérées pour DTF\n",
      "Données récupérées pour DTG\n",
      "Données récupérées pour DTI\n",
      "Données récupérées pour DTIL\n",
      "Données récupérées pour DTM\n",
      "Données récupérées pour DTSS\n",
      "Données récupérées pour DTST\n",
      "Données récupérées pour DTSTW\n",
      "Données récupérées pour DTW\n",
      "Données récupérées pour DUK\n"
     ]
    },
    {
     "name": "stderr",
     "output_type": "stream",
     "text": [
      "404 Client Error: Not Found for url: https://query2.finance.yahoo.com/v10/finance/quoteSummary/DUK%5EA?modules=financialData%2CquoteType%2CdefaultKeyStatistics%2CassetProfile%2CsummaryDetail&corsDomain=finance.yahoo.com&formatted=false&symbol=DUK%5EA&crumb=znKJeXxQthY\n"
     ]
    },
    {
     "name": "stdout",
     "output_type": "stream",
     "text": [
      "Données récupérées pour DUK^A\n",
      "Données récupérées pour DUKB\n",
      "Données récupérées pour DUO\n",
      "Données récupérées pour DUOL\n",
      "Données récupérées pour DUOT\n",
      "Données récupérées pour DV\n",
      "Données récupérées pour DVA\n",
      "Données récupérées pour DVAX\n",
      "Données récupérées pour DVN\n",
      "Données récupérées pour DWAC\n",
      "Données récupérées pour DWACU\n",
      "Données récupérées pour DWACW\n",
      "Données récupérées pour DWSN\n",
      "Données récupérées pour DX\n"
     ]
    },
    {
     "name": "stderr",
     "output_type": "stream",
     "text": [
      "404 Client Error: Not Found for url: https://query2.finance.yahoo.com/v10/finance/quoteSummary/DX%5EC?modules=financialData%2CquoteType%2CdefaultKeyStatistics%2CassetProfile%2CsummaryDetail&corsDomain=finance.yahoo.com&formatted=false&symbol=DX%5EC&crumb=znKJeXxQthY\n"
     ]
    },
    {
     "name": "stdout",
     "output_type": "stream",
     "text": [
      "Données récupérées pour DX^C\n",
      "Données récupérées pour DXC\n",
      "Données récupérées pour DXCM\n",
      "Données récupérées pour DXF\n",
      "Données récupérées pour DXLG\n",
      "Données récupérées pour DXPE\n",
      "Données récupérées pour DXR\n",
      "Données récupérées pour DXYN\n",
      "Données récupérées pour DY\n",
      "Données récupérées pour DYAI\n",
      "Données récupérées pour DYN\n",
      "Données récupérées pour DYNT\n",
      "Données récupérées pour DZSI\n",
      "Données récupérées pour E\n",
      "Données récupérées pour EA\n",
      "Données récupérées pour EAC\n",
      "Données récupérées pour EACPW\n",
      "Données récupérées pour EAD\n",
      "Données récupérées pour EAF\n",
      "Données récupérées pour EAI\n",
      "Données récupérées pour EAR\n",
      "Données récupérées pour EARN\n",
      "Données récupérées pour EAST\n",
      "Données récupérées pour EAT\n",
      "Données récupérées pour EB\n",
      "Données récupérées pour EBAY\n",
      "Données récupérées pour EBC\n",
      "Données récupérées pour EBF\n",
      "Données récupérées pour EBMT\n",
      "Données récupérées pour EBON\n",
      "Données récupérées pour EBR\n",
      "Données récupérées pour EBS\n",
      "Données récupérées pour EBTC\n",
      "Données récupérées pour EC\n",
      "Données récupérées pour ECAT\n",
      "Données récupérées pour ECBK\n",
      "Données récupérées pour ECC           \n"
     ]
    },
    {
     "name": "stderr",
     "output_type": "stream",
     "text": [
      "404 Client Error: Not Found for url: https://query2.finance.yahoo.com/v10/finance/quoteSummary/ECC%5ED?modules=financialData%2CquoteType%2CdefaultKeyStatistics%2CassetProfile%2CsummaryDetail&corsDomain=finance.yahoo.com&formatted=false&symbol=ECC%5ED&crumb=znKJeXxQthY\n"
     ]
    },
    {
     "name": "stdout",
     "output_type": "stream",
     "text": [
      "Données récupérées pour ECC^D\n",
      "Données récupérées pour ECCC\n",
      "Données récupérées pour ECCF\n",
      "Données récupérées pour ECCV\n",
      "Données récupérées pour ECCW\n",
      "Données récupérées pour ECCX\n",
      "Données récupérées pour ECDA\n",
      "Données récupérées pour ECF\n"
     ]
    },
    {
     "name": "stderr",
     "output_type": "stream",
     "text": [
      "404 Client Error: Not Found for url: https://query2.finance.yahoo.com/v10/finance/quoteSummary/ECF%5EA?modules=financialData%2CquoteType%2CdefaultKeyStatistics%2CassetProfile%2CsummaryDetail&corsDomain=finance.yahoo.com&formatted=false&symbol=ECF%5EA&crumb=znKJeXxQthY\n"
     ]
    },
    {
     "name": "stdout",
     "output_type": "stream",
     "text": [
      "Données récupérées pour ECF^A\n",
      "Données récupérées pour ECL\n",
      "Données récupérées pour ECO\n",
      "Données récupérées pour ECOR\n",
      "Données récupérées pour ECPG\n",
      "Données récupérées pour ECVT\n",
      "Données récupérées pour ECX\n",
      "Données récupérées pour ECXWW\n",
      "Données récupérées pour ED\n",
      "Données récupérées pour EDAP\n",
      "Données récupérées pour EDBL\n",
      "Données récupérées pour EDBLW\n",
      "Données récupérées pour EDD\n",
      "Données récupérées pour EDF\n",
      "Données récupérées pour EDIT\n",
      "Données récupérées pour EDN\n",
      "Données récupérées pour EDR\n",
      "Données récupérées pour EDRY\n",
      "Données récupérées pour EDSA\n",
      "Données récupérées pour EDTK\n",
      "Données récupérées pour EDU\n",
      "Données récupérées pour EDUC\n",
      "Données récupérées pour EE\n",
      "Données récupérées pour EEA\n",
      "Données récupérées pour EEFT\n",
      "Données récupérées pour EEIQ\n",
      "Données récupérées pour EEX\n",
      "Données récupérées pour EFC\n"
     ]
    },
    {
     "name": "stderr",
     "output_type": "stream",
     "text": [
      "404 Client Error: Not Found for url: https://query2.finance.yahoo.com/v10/finance/quoteSummary/EFC%5EA?modules=financialData%2CquoteType%2CdefaultKeyStatistics%2CassetProfile%2CsummaryDetail&corsDomain=finance.yahoo.com&formatted=false&symbol=EFC%5EA&crumb=znKJeXxQthY\n"
     ]
    },
    {
     "name": "stdout",
     "output_type": "stream",
     "text": [
      "Données récupérées pour EFC^A\n"
     ]
    },
    {
     "name": "stderr",
     "output_type": "stream",
     "text": [
      "404 Client Error: Not Found for url: https://query2.finance.yahoo.com/v10/finance/quoteSummary/EFC%5EB?modules=financialData%2CquoteType%2CdefaultKeyStatistics%2CassetProfile%2CsummaryDetail&corsDomain=finance.yahoo.com&formatted=false&symbol=EFC%5EB&crumb=znKJeXxQthY\n"
     ]
    },
    {
     "name": "stdout",
     "output_type": "stream",
     "text": [
      "Données récupérées pour EFC^B\n"
     ]
    },
    {
     "name": "stderr",
     "output_type": "stream",
     "text": [
      "404 Client Error: Not Found for url: https://query2.finance.yahoo.com/v10/finance/quoteSummary/EFC%5EC?modules=financialData%2CquoteType%2CdefaultKeyStatistics%2CassetProfile%2CsummaryDetail&corsDomain=finance.yahoo.com&formatted=false&symbol=EFC%5EC&crumb=znKJeXxQthY\n"
     ]
    },
    {
     "name": "stdout",
     "output_type": "stream",
     "text": [
      "Données récupérées pour EFC^C\n"
     ]
    },
    {
     "name": "stderr",
     "output_type": "stream",
     "text": [
      "404 Client Error: Not Found for url: https://query2.finance.yahoo.com/v10/finance/quoteSummary/EFC%5ED?modules=financialData%2CquoteType%2CdefaultKeyStatistics%2CassetProfile%2CsummaryDetail&corsDomain=finance.yahoo.com&formatted=false&symbol=EFC%5ED&crumb=znKJeXxQthY\n"
     ]
    },
    {
     "name": "stdout",
     "output_type": "stream",
     "text": [
      "Données récupérées pour EFC^D\n"
     ]
    },
    {
     "name": "stderr",
     "output_type": "stream",
     "text": [
      "404 Client Error: Not Found for url: https://query2.finance.yahoo.com/v10/finance/quoteSummary/EFC%5EE?modules=financialData%2CquoteType%2CdefaultKeyStatistics%2CassetProfile%2CsummaryDetail&corsDomain=finance.yahoo.com&formatted=false&symbol=EFC%5EE&crumb=znKJeXxQthY\n"
     ]
    },
    {
     "name": "stdout",
     "output_type": "stream",
     "text": [
      "Données récupérées pour EFC^E\n",
      "Données récupérées pour EFOI\n",
      "Données récupérées pour EFR\n",
      "Données récupérées pour EFSC\n",
      "Données récupérées pour EFSCP\n",
      "Données récupérées pour EFSH\n",
      "Données récupérées pour EFT\n",
      "Données récupérées pour EFTR\n",
      "Données récupérées pour EFTRW\n",
      "Données récupérées pour EFX\n",
      "Données récupérées pour EFXT\n",
      "Données récupérées pour EG\n",
      "Données récupérées pour EGAN\n",
      "Données récupérées pour EGBN\n",
      "Données récupérées pour EGF\n",
      "Données récupérées pour EGHT\n",
      "Données récupérées pour EGIO\n",
      "Données récupérées pour EGLE\n",
      "Données récupérées pour EGO\n",
      "Données récupérées pour EGOX\n",
      "Données récupérées pour EGP\n",
      "Données récupérées pour EGRX\n",
      "Données récupérées pour EGY\n",
      "Données récupérées pour EH\n",
      "Données récupérées pour EHAB\n",
      "Données récupérées pour EHC\n",
      "Données récupérées pour EHI\n",
      "Données récupérées pour EHTH\n",
      "Données récupérées pour EIC\n",
      "Données récupérées pour EICA\n",
      "Données récupérées pour EICB\n",
      "Données récupérées pour EIG\n",
      "Données récupérées pour EIGR\n",
      "Données récupérées pour EIM\n",
      "Données récupérées pour EIX\n",
      "Données récupérées pour EJH\n",
      "Données récupérées pour EKSO\n",
      "Données récupérées pour EL\n",
      "Données récupérées pour ELA\n",
      "Données récupérées pour ELAB\n",
      "Données récupérées pour ELAN\n",
      "Données récupérées pour ELBM\n",
      "Données récupérées pour ELC\n",
      "Données récupérées pour ELDN\n",
      "Données récupérées pour ELEV\n",
      "Données récupérées pour ELF\n",
      "Données récupérées pour ELLO\n",
      "Données récupérées pour ELMD\n",
      "Données récupérées pour ELME\n",
      "Données récupérées pour ELP\n",
      "Données récupérées pour ELPC\n",
      "Données récupérées pour ELS\n",
      "Données récupérées pour ELSE\n",
      "Données récupérées pour ELTK\n",
      "Données récupérées pour ELTX\n",
      "Données récupérées pour ELUT\n",
      "Données récupérées pour ELV\n",
      "Données récupérées pour ELVA\n",
      "Données récupérées pour ELVN\n",
      "Données récupérées pour ELWS\n",
      "Données récupérées pour ELYM\n",
      "Données récupérées pour EM\n",
      "Données récupérées pour EMBC\n",
      "Données récupérées pour EMCG\n",
      "Données récupérées pour EMCGR\n",
      "Données récupérées pour EMCGW\n",
      "Données récupérées pour EMD\n",
      "Données récupérées pour EME\n",
      "Données récupérées pour EMF\n",
      "Données récupérées pour EMKR\n",
      "Données récupérées pour EML\n",
      "Données récupérées pour EMLD\n",
      "Données récupérées pour EMN\n",
      "Données récupérées pour EMO\n",
      "Données récupérées pour EMP\n",
      "Données récupérées pour EMR\n",
      "Données récupérées pour EMX\n",
      "Données récupérées pour ENB\n",
      "Données récupérées pour ENCP\n",
      "Données récupérées pour ENCPU\n",
      "Données récupérées pour ENCPW\n",
      "Données récupérées pour ENFN\n",
      "Données récupérées pour ENG\n",
      "Données récupérées pour ENGN\n",
      "Données récupérées pour ENGNW\n",
      "Données récupérées pour ENIC\n",
      "Données récupérées pour ENJ\n",
      "Données récupérées pour ENLC\n",
      "Données récupérées pour ENLT\n",
      "Données récupérées pour ENLV\n",
      "Données récupérées pour ENO\n",
      "Données récupérées pour ENOV\n",
      "Données récupérées pour ENPH\n",
      "Données récupérées pour ENR\n",
      "Données récupérées pour ENS\n",
      "Données récupérées pour ENSC\n",
      "Données récupérées pour ENSG\n",
      "Données récupérées pour ENSV\n",
      "Données récupérées pour ENTA\n",
      "Données récupérées pour ENTG\n",
      "Données récupérées pour ENTX\n",
      "Données récupérées pour ENV\n",
      "Données récupérées pour ENVA\n",
      "Données récupérées pour ENVB\n",
      "Données récupérées pour ENVX\n",
      "Données récupérées pour ENX\n",
      "Données récupérées pour ENZ\n",
      "Données récupérées pour EOD\n",
      "Données récupérées pour EOG\n",
      "Données récupérées pour EOI\n",
      "Données récupérées pour EOLS\n",
      "Données récupérées pour EOS\n",
      "Données récupérées pour EOSE\n",
      "Données récupérées pour EOSEW\n",
      "Données récupérées pour EOT\n",
      "Données récupérées pour EP\n"
     ]
    },
    {
     "name": "stderr",
     "output_type": "stream",
     "text": [
      "404 Client Error: Not Found for url: https://query2.finance.yahoo.com/v10/finance/quoteSummary/EP%5EC?modules=financialData%2CquoteType%2CdefaultKeyStatistics%2CassetProfile%2CsummaryDetail&corsDomain=finance.yahoo.com&formatted=false&symbol=EP%5EC&crumb=znKJeXxQthY\n"
     ]
    },
    {
     "name": "stdout",
     "output_type": "stream",
     "text": [
      "Données récupérées pour EP^C\n",
      "Données récupérées pour EPAC\n",
      "Données récupérées pour EPAM\n",
      "Données récupérées pour EPC\n",
      "Données récupérées pour EPD\n",
      "Données récupérées pour EPIX\n",
      "Données récupérées pour EPM\n",
      "Données récupérées pour EPOW\n",
      "Données récupérées pour EPR\n"
     ]
    },
    {
     "name": "stderr",
     "output_type": "stream",
     "text": [
      "404 Client Error: Not Found for url: https://query2.finance.yahoo.com/v10/finance/quoteSummary/EPR%5EC?modules=financialData%2CquoteType%2CdefaultKeyStatistics%2CassetProfile%2CsummaryDetail&corsDomain=finance.yahoo.com&formatted=false&symbol=EPR%5EC&crumb=znKJeXxQthY\n"
     ]
    },
    {
     "name": "stdout",
     "output_type": "stream",
     "text": [
      "Données récupérées pour EPR^C\n"
     ]
    },
    {
     "name": "stderr",
     "output_type": "stream",
     "text": [
      "404 Client Error: Not Found for url: https://query2.finance.yahoo.com/v10/finance/quoteSummary/EPR%5EE?modules=financialData%2CquoteType%2CdefaultKeyStatistics%2CassetProfile%2CsummaryDetail&corsDomain=finance.yahoo.com&formatted=false&symbol=EPR%5EE&crumb=znKJeXxQthY\n"
     ]
    },
    {
     "name": "stdout",
     "output_type": "stream",
     "text": [
      "Données récupérées pour EPR^E\n"
     ]
    },
    {
     "name": "stderr",
     "output_type": "stream",
     "text": [
      "404 Client Error: Not Found for url: https://query2.finance.yahoo.com/v10/finance/quoteSummary/EPR%5EG?modules=financialData%2CquoteType%2CdefaultKeyStatistics%2CassetProfile%2CsummaryDetail&corsDomain=finance.yahoo.com&formatted=false&symbol=EPR%5EG&crumb=znKJeXxQthY\n"
     ]
    },
    {
     "name": "stdout",
     "output_type": "stream",
     "text": [
      "Données récupérées pour EPR^G\n",
      "Données récupérées pour EPRT\n",
      "Données récupérées pour EPSN\n",
      "Données récupérées pour EQ\n",
      "Données récupérées pour EQBK\n",
      "Données récupérées pour EQC\n"
     ]
    },
    {
     "name": "stderr",
     "output_type": "stream",
     "text": [
      "404 Client Error: Not Found for url: https://query2.finance.yahoo.com/v10/finance/quoteSummary/EQC%5ED?modules=financialData%2CquoteType%2CdefaultKeyStatistics%2CassetProfile%2CsummaryDetail&corsDomain=finance.yahoo.com&formatted=false&symbol=EQC%5ED&crumb=znKJeXxQthY\n"
     ]
    },
    {
     "name": "stdout",
     "output_type": "stream",
     "text": [
      "Données récupérées pour EQC^D\n",
      "Données récupérées pour EQH\n"
     ]
    },
    {
     "name": "stderr",
     "output_type": "stream",
     "text": [
      "404 Client Error: Not Found for url: https://query2.finance.yahoo.com/v10/finance/quoteSummary/EQH%5EA?modules=financialData%2CquoteType%2CdefaultKeyStatistics%2CassetProfile%2CsummaryDetail&corsDomain=finance.yahoo.com&formatted=false&symbol=EQH%5EA&crumb=znKJeXxQthY\n"
     ]
    },
    {
     "name": "stdout",
     "output_type": "stream",
     "text": [
      "Données récupérées pour EQH^A\n"
     ]
    },
    {
     "name": "stderr",
     "output_type": "stream",
     "text": [
      "404 Client Error: Not Found for url: https://query2.finance.yahoo.com/v10/finance/quoteSummary/EQH%5EC?modules=financialData%2CquoteType%2CdefaultKeyStatistics%2CassetProfile%2CsummaryDetail&corsDomain=finance.yahoo.com&formatted=false&symbol=EQH%5EC&crumb=znKJeXxQthY\n"
     ]
    },
    {
     "name": "stdout",
     "output_type": "stream",
     "text": [
      "Données récupérées pour EQH^C\n",
      "Données récupérées pour EQIX\n",
      "Données récupérées pour EQNR\n",
      "Données récupérées pour EQR\n",
      "Données récupérées pour EQS\n",
      "Données récupérées pour EQT\n",
      "Données récupérées pour EQX\n",
      "Données récupérées pour ERAS\n",
      "Données récupérées pour ERC\n",
      "Données récupérées pour ERF\n",
      "Données récupérées pour ERH\n",
      "Données récupérées pour ERIC\n",
      "Données récupérées pour ERIE\n",
      "Données récupérées pour ERII\n",
      "Données récupérées pour ERJ\n",
      "Données récupérées pour ERNA\n",
      "Données récupérées pour ERO\n",
      "Données récupérées pour ES\n",
      "Données récupérées pour ESAB\n",
      "Données récupérées pour ESAC\n",
      "Données récupérées pour ESACW\n",
      "Données récupérées pour ESCA\n",
      "Données récupérées pour ESE\n",
      "Données récupérées pour ESEA\n",
      "Données récupérées pour ESGL\n",
      "Données récupérées pour ESGLW\n",
      "Données récupérées pour ESGR\n",
      "Données récupérées pour ESGRO\n",
      "Données récupérées pour ESGRP\n",
      "Données récupérées pour ESHA\n",
      "Données récupérées pour ESHAR\n",
      "Données récupérées pour ESI\n",
      "Données récupérées pour ESLA\n",
      "Données récupérées pour ESLT\n",
      "Données récupérées pour ESNT\n",
      "Données récupérées pour ESOA\n",
      "Données récupérées pour ESP\n",
      "Données récupérées pour ESPR\n",
      "Données récupérées pour ESQ\n",
      "Données récupérées pour ESRT\n",
      "Données récupérées pour ESS\n",
      "Données récupérées pour ESSA\n",
      "Données récupérées pour ESTA\n",
      "Données récupérées pour ESTC\n",
      "Données récupérées pour ET\n"
     ]
    },
    {
     "name": "stderr",
     "output_type": "stream",
     "text": [
      "404 Client Error: Not Found for url: https://query2.finance.yahoo.com/v10/finance/quoteSummary/ET%5EE?modules=financialData%2CquoteType%2CdefaultKeyStatistics%2CassetProfile%2CsummaryDetail&corsDomain=finance.yahoo.com&formatted=false&symbol=ET%5EE&crumb=znKJeXxQthY\n"
     ]
    },
    {
     "name": "stdout",
     "output_type": "stream",
     "text": [
      "Données récupérées pour ET^E\n"
     ]
    },
    {
     "name": "stderr",
     "output_type": "stream",
     "text": [
      "404 Client Error: Not Found for url: https://query2.finance.yahoo.com/v10/finance/quoteSummary/ET%5EI?modules=financialData%2CquoteType%2CdefaultKeyStatistics%2CassetProfile%2CsummaryDetail&corsDomain=finance.yahoo.com&formatted=false&symbol=ET%5EI&crumb=znKJeXxQthY\n"
     ]
    },
    {
     "name": "stdout",
     "output_type": "stream",
     "text": [
      "Données récupérées pour ET^I\n",
      "Données récupérées pour ETAO\n",
      "Données récupérées pour ETB\n",
      "Données récupérées pour ETD\n",
      "Données récupérées pour ETG\n"
     ]
    },
    {
     "name": "stderr",
     "output_type": "stream",
     "text": [
      "404 Client Error: Not Found for url: https://query2.finance.yahoo.com/v10/finance/quoteSummary/ETI%5E?modules=financialData%2CquoteType%2CdefaultKeyStatistics%2CassetProfile%2CsummaryDetail&corsDomain=finance.yahoo.com&formatted=false&symbol=ETI%5E&crumb=znKJeXxQthY\n"
     ]
    },
    {
     "name": "stdout",
     "output_type": "stream",
     "text": [
      "Données récupérées pour ETI^\n",
      "Données récupérées pour ETJ\n",
      "Données récupérées pour ETN\n",
      "Données récupérées pour ETNB\n",
      "Données récupérées pour ETO\n",
      "Données récupérées pour ETON\n",
      "Données récupérées pour ETR\n",
      "Données récupérées pour ETRN\n",
      "Données récupérées pour ETSY\n",
      "Données récupérées pour ETV\n",
      "Données récupérées pour ETW\n",
      "Données récupérées pour ETWO\n",
      "Données récupérées pour ETX           \n",
      "Données récupérées pour ETY\n",
      "Données récupérées pour EU\n",
      "Données récupérées pour EUDA\n",
      "Données récupérées pour EUDAW\n",
      "Données récupérées pour EURN\n",
      "Données récupérées pour EVA\n",
      "Données récupérées pour EVAX\n",
      "Données récupérées pour EVBG\n",
      "Données récupérées pour EVBN\n",
      "Données récupérées pour EVC\n",
      "Données récupérées pour EVCM\n",
      "Données récupérées pour EVE\n",
      "Données récupérées pour EVER\n",
      "Données récupérées pour EVEX\n",
      "Données récupérées pour EVF\n",
      "Données récupérées pour EVG\n",
      "Données récupérées pour EVGN\n",
      "Données récupérées pour EVGO\n",
      "Données récupérées pour EVGOW\n",
      "Données récupérées pour EVGR\n",
      "Données récupérées pour EVGRU\n",
      "Données récupérées pour EVH\n",
      "Données récupérées pour EVI\n",
      "Données récupérées pour EVLV\n",
      "Données récupérées pour EVLVW\n",
      "Données récupérées pour EVM\n",
      "Données récupérées pour EVN\n",
      "Données récupérées pour EVO\n",
      "Données récupérées pour EVOK\n",
      "Données récupérées pour EVR\n",
      "Données récupérées pour EVRG\n",
      "Données récupérées pour EVRI\n",
      "Données récupérées pour EVT\n",
      "Données récupérées pour EVTC\n",
      "Données récupérées pour EVTL\n",
      "Données récupérées pour EVTV\n",
      "Données récupérées pour EVV\n",
      "Données récupérées pour EW\n",
      "Données récupérées pour EWBC\n",
      "Données récupérées pour EWCZ\n",
      "Données récupérées pour EWTX\n",
      "Données récupérées pour EXAI\n",
      "Données récupérées pour EXAS\n",
      "Données récupérées pour EXC\n",
      "Données récupérées pour EXEL\n",
      "Données récupérées pour EXFY\n",
      "Données récupérées pour EXG\n",
      "Données récupérées pour EXK\n",
      "Données récupérées pour EXLS\n",
      "Données récupérées pour EXP\n",
      "Données récupérées pour EXPD\n",
      "Données récupérées pour EXPE\n",
      "Données récupérées pour EXPI\n",
      "Données récupérées pour EXPO\n",
      "Données récupérées pour EXPR\n",
      "Données récupérées pour EXR\n",
      "Données récupérées pour EXTO\n",
      "Données récupérées pour EXTR\n",
      "Données récupérées pour EYE\n",
      "Données récupérées pour EYEN\n",
      "Données récupérées pour EYPT\n",
      "Données récupérées pour EZFL\n",
      "Données récupérées pour EZGO\n",
      "Données récupérées pour EZPW\n",
      "Données récupérées pour F\n"
     ]
    },
    {
     "name": "stderr",
     "output_type": "stream",
     "text": [
      "404 Client Error: Not Found for url: https://query2.finance.yahoo.com/v10/finance/quoteSummary/F%5EB?modules=financialData%2CquoteType%2CdefaultKeyStatistics%2CassetProfile%2CsummaryDetail&corsDomain=finance.yahoo.com&formatted=false&symbol=F%5EB&crumb=znKJeXxQthY\n"
     ]
    },
    {
     "name": "stdout",
     "output_type": "stream",
     "text": [
      "Données récupérées pour F^B\n"
     ]
    },
    {
     "name": "stderr",
     "output_type": "stream",
     "text": [
      "404 Client Error: Not Found for url: https://query2.finance.yahoo.com/v10/finance/quoteSummary/F%5EC?modules=financialData%2CquoteType%2CdefaultKeyStatistics%2CassetProfile%2CsummaryDetail&corsDomain=finance.yahoo.com&formatted=false&symbol=F%5EC&crumb=znKJeXxQthY\n"
     ]
    },
    {
     "name": "stdout",
     "output_type": "stream",
     "text": [
      "Données récupérées pour F^C\n"
     ]
    },
    {
     "name": "stderr",
     "output_type": "stream",
     "text": [
      "404 Client Error: Not Found for url: https://query2.finance.yahoo.com/v10/finance/quoteSummary/F%5ED?modules=financialData%2CquoteType%2CdefaultKeyStatistics%2CassetProfile%2CsummaryDetail&corsDomain=finance.yahoo.com&formatted=false&symbol=F%5ED&crumb=znKJeXxQthY\n"
     ]
    },
    {
     "name": "stdout",
     "output_type": "stream",
     "text": [
      "Données récupérées pour F^D\n",
      "Données récupérées pour FA\n",
      "Données récupérées pour FAF\n",
      "Données récupérées pour FAM\n",
      "Données récupérées pour FAMI\n",
      "Données récupérées pour FANG\n",
      "Données récupérées pour FANH\n",
      "Données récupérées pour FARM\n",
      "Données récupérées pour FARO\n",
      "Données récupérées pour FAST\n",
      "Données récupérées pour FAT\n",
      "Données récupérées pour FATBB\n",
      "Données récupérées pour FATBP\n",
      "Données récupérées pour FATBW\n",
      "Données récupérées pour FATE\n",
      "Données récupérées pour FATH\n",
      "Données récupérées pour FAX\n",
      "Données récupérées pour FAZE\n",
      "Données récupérées pour FAZEW\n",
      "Données récupérées pour FBIN\n",
      "Données récupérées pour FBIO\n",
      "Données récupérées pour FBIOP\n",
      "Données récupérées pour FBIZ\n",
      "Données récupérées pour FBK\n",
      "Données récupérées pour FBLG\n",
      "Données récupérées pour FBMS\n",
      "Données récupérées pour FBNC\n",
      "Données récupérées pour FBP\n",
      "Données récupérées pour FBRT\n"
     ]
    },
    {
     "name": "stderr",
     "output_type": "stream",
     "text": [
      "404 Client Error: Not Found for url: https://query2.finance.yahoo.com/v10/finance/quoteSummary/FBRT%5EE?modules=financialData%2CquoteType%2CdefaultKeyStatistics%2CassetProfile%2CsummaryDetail&corsDomain=finance.yahoo.com&formatted=false&symbol=FBRT%5EE&crumb=znKJeXxQthY\n"
     ]
    },
    {
     "name": "stdout",
     "output_type": "stream",
     "text": [
      "Données récupérées pour FBRT^E\n",
      "Données récupérées pour FBRX\n",
      "Données récupérées pour FBYD\n",
      "Données récupérées pour FBYDW\n",
      "Données récupérées pour FC\n",
      "Données récupérées pour FCAP\n",
      "Données récupérées pour FCBC\n",
      "Données récupérées pour FCCO\n",
      "Données récupérées pour FCEL\n",
      "Données récupérées pour FCF\n",
      "Données récupérées pour FCFS\n",
      "Données récupérées pour FCN\n",
      "Données récupérées pour FCNCA\n",
      "Données récupérées pour FCNCO\n",
      "Données récupérées pour FCNCP\n",
      "Données récupérées pour FCO\n",
      "Données récupérées pour FCPT\n",
      "Données récupérées pour FCRX\n",
      "Données récupérées pour FCT\n",
      "Données récupérées pour FCUV\n",
      "Données récupérées pour FCX\n",
      "Données récupérées pour FDBC\n",
      "Données récupérées pour FDMT\n",
      "Données récupérées pour FDP\n",
      "Données récupérées pour FDS\n",
      "Données récupérées pour FDUS\n",
      "Données récupérées pour FDX\n",
      "Données récupérées pour FE\n",
      "Données récupérées pour FEAM\n",
      "Données récupérées pour FEBO\n",
      "Données récupérées pour FEDU\n",
      "Données récupérées pour FEI           \n",
      "Données récupérées pour FEIM\n",
      "Données récupérées pour FELE\n",
      "Données récupérées pour FEMY\n",
      "Données récupérées pour FEN\n",
      "Données récupérées pour FENC\n",
      "Données récupérées pour FENG\n",
      "Données récupérées pour FERG\n",
      "Données récupérées pour FET\n",
      "Données récupérées pour FEXD\n",
      "Données récupérées pour FEXDR\n",
      "Données récupérées pour FEXDW\n",
      "Données récupérées pour FF\n",
      "Données récupérées pour FFA\n",
      "Données récupérées pour FFBC\n",
      "Données récupérées pour FFC\n",
      "Données récupérées pour FFIC\n",
      "Données récupérées pour FFIE\n",
      "Données récupérées pour FFIEW\n",
      "Données récupérées pour FFIN\n",
      "Données récupérées pour FFIV\n",
      "Données récupérées pour FFNW\n",
      "Données récupérées pour FFWM\n",
      "Données récupérées pour FG\n",
      "Données récupérées pour FGB\n",
      "Données récupérées pour FGBI\n",
      "Données récupérées pour FGBIP\n",
      "Données récupérées pour FGEN\n",
      "Données récupérées pour FGF\n",
      "Données récupérées pour FGFPP\n",
      "Données récupérées pour FGH\n",
      "Données récupérées pour FGI\n",
      "Données récupérées pour FGIWW\n",
      "Données récupérées pour FGN\n",
      "Données récupérées pour FHB\n",
      "Données récupérées pour FHI\n",
      "Données récupérées pour FHLT\n",
      "Données récupérées pour FHLTW\n",
      "Données récupérées pour FHN\n"
     ]
    },
    {
     "name": "stderr",
     "output_type": "stream",
     "text": [
      "404 Client Error: Not Found for url: https://query2.finance.yahoo.com/v10/finance/quoteSummary/FHN%5EB?modules=financialData%2CquoteType%2CdefaultKeyStatistics%2CassetProfile%2CsummaryDetail&corsDomain=finance.yahoo.com&formatted=false&symbol=FHN%5EB&crumb=znKJeXxQthY\n"
     ]
    },
    {
     "name": "stdout",
     "output_type": "stream",
     "text": [
      "Données récupérées pour FHN^B\n"
     ]
    },
    {
     "name": "stderr",
     "output_type": "stream",
     "text": [
      "404 Client Error: Not Found for url: https://query2.finance.yahoo.com/v10/finance/quoteSummary/FHN%5EC?modules=financialData%2CquoteType%2CdefaultKeyStatistics%2CassetProfile%2CsummaryDetail&corsDomain=finance.yahoo.com&formatted=false&symbol=FHN%5EC&crumb=znKJeXxQthY\n"
     ]
    },
    {
     "name": "stdout",
     "output_type": "stream",
     "text": [
      "Données récupérées pour FHN^C\n"
     ]
    },
    {
     "name": "stderr",
     "output_type": "stream",
     "text": [
      "404 Client Error: Not Found for url: https://query2.finance.yahoo.com/v10/finance/quoteSummary/FHN%5ED?modules=financialData%2CquoteType%2CdefaultKeyStatistics%2CassetProfile%2CsummaryDetail&corsDomain=finance.yahoo.com&formatted=false&symbol=FHN%5ED&crumb=znKJeXxQthY\n"
     ]
    },
    {
     "name": "stdout",
     "output_type": "stream",
     "text": [
      "Données récupérées pour FHN^D\n"
     ]
    },
    {
     "name": "stderr",
     "output_type": "stream",
     "text": [
      "404 Client Error: Not Found for url: https://query2.finance.yahoo.com/v10/finance/quoteSummary/FHN%5EE?modules=financialData%2CquoteType%2CdefaultKeyStatistics%2CassetProfile%2CsummaryDetail&corsDomain=finance.yahoo.com&formatted=false&symbol=FHN%5EE&crumb=znKJeXxQthY\n"
     ]
    },
    {
     "name": "stdout",
     "output_type": "stream",
     "text": [
      "Données récupérées pour FHN^E\n"
     ]
    },
    {
     "name": "stderr",
     "output_type": "stream",
     "text": [
      "404 Client Error: Not Found for url: https://query2.finance.yahoo.com/v10/finance/quoteSummary/FHN%5EF?modules=financialData%2CquoteType%2CdefaultKeyStatistics%2CassetProfile%2CsummaryDetail&corsDomain=finance.yahoo.com&formatted=false&symbol=FHN%5EF&crumb=znKJeXxQthY\n"
     ]
    },
    {
     "name": "stdout",
     "output_type": "stream",
     "text": [
      "Données récupérées pour FHN^F\n",
      "Données récupérées pour FHTX\n",
      "Données récupérées pour FI\n",
      "Données récupérées pour FIAC\n",
      "Données récupérées pour FIBK\n",
      "Données récupérées pour FICO\n",
      "Données récupérées pour FICV\n",
      "Données récupérées pour FICVW\n",
      "Données récupérées pour FIF\n",
      "Données récupérées pour FIGS\n",
      "Données récupérées pour FIHL\n",
      "Données récupérées pour FINS\n",
      "Données récupérées pour FINV\n",
      "Données récupérées pour FINW\n",
      "Données récupérées pour FIP\n",
      "Données récupérées pour FIS\n",
      "Données récupérées pour FISI\n",
      "Données récupérées pour FITB\n",
      "Données récupérées pour FITBI\n",
      "Données récupérées pour FITBO\n",
      "Données récupérées pour FITBP\n",
      "Données récupérées pour FIVE\n",
      "Données récupérées pour FIVN\n",
      "Données récupérées pour FIX\n",
      "Données récupérées pour FIXX\n",
      "Données récupérées pour FIZZ\n",
      "Données récupérées pour FKWL\n",
      "Données récupérées pour FL\n",
      "Données récupérées pour FLC\n",
      "Données récupérées pour FLEX\n",
      "Données récupérées pour FLFV\n",
      "Données récupérées pour FLFVR\n",
      "Données récupérées pour FLFVW\n",
      "Données récupérées pour FLGC\n",
      "Données récupérées pour FLGT\n",
      "Données récupérées pour FLIC\n",
      "Données récupérées pour FLJ\n",
      "Données récupérées pour FLL\n",
      "Données récupérées pour FLNC\n",
      "Données récupérées pour FLNG\n",
      "Données récupérées pour FLNT\n",
      "Données récupérées pour FLO\n",
      "Données récupérées pour FLR\n",
      "Données récupérées pour FLS\n",
      "Données récupérées pour FLT\n",
      "Données récupérées pour FLUT\n",
      "Données récupérées pour FLUX\n",
      "Données récupérées pour FLWS\n",
      "Données récupérées pour FLXS\n",
      "Données récupérées pour FLYW\n",
      "Données récupérées pour FLYX\n",
      "Données récupérées pour FMAO\n",
      "Données récupérées pour FMBH\n",
      "Données récupérées pour FMC\n",
      "Données récupérées pour FMN\n",
      "Données récupérées pour FMNB\n",
      "Données récupérées pour FMS\n",
      "Données récupérées pour FMST\n",
      "Données récupérées pour FMSTW\n",
      "Données récupérées pour FMX\n",
      "Données récupérées pour FMY\n",
      "Données récupérées pour FN\n",
      "Données récupérées pour FNA\n",
      "Données récupérées pour FNB\n",
      "Données récupérées pour FNCB\n",
      "Données récupérées pour FNCH\n",
      "Données récupérées pour FND\n",
      "Données récupérées pour FNF\n",
      "Données récupérées pour FNGR\n",
      "Données récupérées pour FNKO\n",
      "Données récupérées pour FNLC\n",
      "Données récupérées pour FNV\n",
      "Données récupérées pour FNVT\n",
      "Données récupérées pour FNWB\n",
      "Données récupérées pour FNWD\n",
      "Données récupérées pour FOA\n",
      "Données récupérées pour FOF\n",
      "Données récupérées pour FOLD\n",
      "Données récupérées pour FONR\n",
      "Données récupérées pour FOR\n",
      "Données récupérées pour FORA\n",
      "Données récupérées pour FORD\n",
      "Données récupérées pour FORL\n",
      "Données récupérées pour FORLU\n",
      "Données récupérées pour FORM\n",
      "Données récupérées pour FORR\n",
      "Données récupérées pour FORTY\n",
      "Données récupérées pour FOSL\n",
      "Données récupérées pour FOSLL\n",
      "Données récupérées pour FOUR\n",
      "Données récupérées pour FOX\n",
      "Données récupérées pour FOXA\n",
      "Données récupérées pour FOXF\n",
      "Données récupérées pour FOXO\n",
      "Données récupérées pour FPAY\n",
      "Données récupérées pour FPF\n",
      "Données récupérées pour FPH\n",
      "Données récupérées pour FPI\n",
      "Données récupérées pour FPL\n",
      "Données récupérées pour FR\n",
      "Données récupérées pour FRA\n",
      "Données récupérées pour FRAF\n",
      "Données récupérées pour FRBA\n",
      "Données récupérées pour FRD\n",
      "Données récupérées pour FREE\n",
      "Données récupérées pour FREEW\n",
      "Données récupérées pour FRES\n",
      "Données récupérées pour FREY\n",
      "Données récupérées pour FRGE\n",
      "Données récupérées pour FRGT\n",
      "Données récupérées pour FRHC\n",
      "Données récupérées pour FRLA\n",
      "Données récupérées pour FRLN\n",
      "Données récupérées pour FRME\n",
      "Données récupérées pour FRMEP\n",
      "Données récupérées pour FRO\n",
      "Données récupérées pour FROG\n",
      "Données récupérées pour FRPH\n",
      "Données récupérées pour FRPT\n",
      "Données récupérées pour FRSH\n",
      "Données récupérées pour FRST\n",
      "Données récupérées pour FRSX\n",
      "Données récupérées pour FRT\n"
     ]
    },
    {
     "name": "stderr",
     "output_type": "stream",
     "text": [
      "404 Client Error: Not Found for url: https://query2.finance.yahoo.com/v10/finance/quoteSummary/FRT%5EC?modules=financialData%2CquoteType%2CdefaultKeyStatistics%2CassetProfile%2CsummaryDetail&corsDomain=finance.yahoo.com&formatted=false&symbol=FRT%5EC&crumb=znKJeXxQthY\n"
     ]
    },
    {
     "name": "stdout",
     "output_type": "stream",
     "text": [
      "Données récupérées pour FRT^C\n",
      "Données récupérées pour FRZA\n",
      "Données récupérées pour FSBC\n",
      "Données récupérées pour FSBW\n",
      "Données récupérées pour FSCO\n",
      "Données récupérées pour FSD\n",
      "Données récupérées pour FSEA\n",
      "Données récupérées pour FSFG\n",
      "Données récupérées pour FSI\n",
      "Données récupérées pour FSK\n",
      "Données récupérées pour FSLR\n",
      "Données récupérées pour FSLY\n",
      "Données récupérées pour FSM\n",
      "Données récupérées pour FSP\n",
      "Données récupérées pour FSR\n",
      "Données récupérées pour FSS\n",
      "Données récupérées pour FSTR\n",
      "Données récupérées pour FSV\n",
      "Données récupérées pour FT\n",
      "Données récupérées pour FTAI\n",
      "Données récupérées pour FTAIM\n",
      "Données récupérées pour FTAIN\n",
      "Données récupérées pour FTAIO\n",
      "Données récupérées pour FTAIP\n",
      "Données récupérées pour FTCI\n",
      "Données récupérées pour FTDR\n",
      "Données récupérées pour FTEK\n",
      "Données récupérées pour FTEL\n",
      "Données récupérées pour FTF\n",
      "Données récupérées pour FTFT\n",
      "Données récupérées pour FTHM\n",
      "Données récupérées pour FTHY\n",
      "Données récupérées pour FTI\n",
      "Données récupérées pour FTII\n",
      "Données récupérées pour FTIIW\n",
      "Données récupérées pour FTK\n",
      "Données récupérées pour FTLF\n",
      "Données récupérées pour FTNT\n",
      "Données récupérées pour FTRE\n",
      "Données récupérées pour FTS\n",
      "Données récupérées pour FTV\n",
      "Données récupérées pour FUBO\n",
      "Données récupérées pour FUL\n",
      "Données récupérées pour FULC\n",
      "Données récupérées pour FULT\n",
      "Données récupérées pour FULTP\n",
      "Données récupérées pour FUN\n",
      "Données récupérées pour FUNC\n",
      "Données récupérées pour FUND\n",
      "Données récupérées pour FURY\n",
      "Données récupérées pour FUSB\n",
      "Données récupérées pour FUSN\n",
      "Données récupérées pour FUTU\n",
      "Données récupérées pour FUV\n",
      "Données récupérées pour FVCB\n",
      "Données récupérées pour FVRR\n",
      "Données récupérées pour FWBI\n",
      "Données récupérées pour FWONA\n",
      "Données récupérées pour FWONK\n",
      "Données récupérées pour FWRD\n",
      "Données récupérées pour FWRG\n",
      "Données récupérées pour FXNC\n",
      "Données récupérées pour FYBR\n",
      "Données récupérées pour G\n",
      "Données récupérées pour GAB\n"
     ]
    },
    {
     "name": "stderr",
     "output_type": "stream",
     "text": [
      "404 Client Error: Not Found for url: https://query2.finance.yahoo.com/v10/finance/quoteSummary/GAB%5EG?modules=financialData%2CquoteType%2CdefaultKeyStatistics%2CassetProfile%2CsummaryDetail&corsDomain=finance.yahoo.com&formatted=false&symbol=GAB%5EG&crumb=znKJeXxQthY\n"
     ]
    },
    {
     "name": "stdout",
     "output_type": "stream",
     "text": [
      "Données récupérées pour GAB^G\n"
     ]
    },
    {
     "name": "stderr",
     "output_type": "stream",
     "text": [
      "404 Client Error: Not Found for url: https://query2.finance.yahoo.com/v10/finance/quoteSummary/GAB%5EH?modules=financialData%2CquoteType%2CdefaultKeyStatistics%2CassetProfile%2CsummaryDetail&corsDomain=finance.yahoo.com&formatted=false&symbol=GAB%5EH&crumb=znKJeXxQthY\n"
     ]
    },
    {
     "name": "stdout",
     "output_type": "stream",
     "text": [
      "Données récupérées pour GAB^H\n"
     ]
    },
    {
     "name": "stderr",
     "output_type": "stream",
     "text": [
      "404 Client Error: Not Found for url: https://query2.finance.yahoo.com/v10/finance/quoteSummary/GAB%5EK?modules=financialData%2CquoteType%2CdefaultKeyStatistics%2CassetProfile%2CsummaryDetail&corsDomain=finance.yahoo.com&formatted=false&symbol=GAB%5EK&crumb=znKJeXxQthY\n"
     ]
    },
    {
     "name": "stdout",
     "output_type": "stream",
     "text": [
      "Données récupérées pour GAB^K\n",
      "Données récupérées pour GABC\n",
      "Données récupérées pour GAIA\n",
      "Données récupérées pour GAIN\n",
      "Données récupérées pour GAINL\n",
      "Données récupérées pour GAINN\n",
      "Données récupérées pour GAINZ\n",
      "Données récupérées pour GALT\n",
      "Données récupérées pour GAM\n"
     ]
    },
    {
     "name": "stderr",
     "output_type": "stream",
     "text": [
      "404 Client Error: Not Found for url: https://query2.finance.yahoo.com/v10/finance/quoteSummary/GAM%5EB?modules=financialData%2CquoteType%2CdefaultKeyStatistics%2CassetProfile%2CsummaryDetail&corsDomain=finance.yahoo.com&formatted=false&symbol=GAM%5EB&crumb=znKJeXxQthY\n"
     ]
    },
    {
     "name": "stdout",
     "output_type": "stream",
     "text": [
      "Données récupérées pour GAM^B\n",
      "Données récupérées pour GAMB\n",
      "Données récupérées pour GAMCU\n",
      "Données récupérées pour GAMCW\n",
      "Données récupérées pour GAME\n",
      "Données récupérées pour GAN\n",
      "Données récupérées pour GANX\n",
      "Données récupérées pour GASS\n",
      "Données récupérées pour GATE\n",
      "Données récupérées pour GATO\n",
      "Données récupérées pour GATX\n",
      "Données récupérées pour GAU\n",
      "Données récupérées pour GB\n",
      "Données récupérées pour GBAB\n",
      "Données récupérées pour GBBK\n",
      "Données récupérées pour GBBKR\n",
      "Données récupérées pour GBBKW\n",
      "Données récupérées pour GBCI\n",
      "Données récupérées pour GBDC\n",
      "Données récupérées pour GBIO\n",
      "Données récupérées pour GBLI\n",
      "Données récupérées pour GBNH\n",
      "Données récupérées pour GBNY\n",
      "Données récupérées pour GBR\n",
      "Données récupérées pour GBTG\n",
      "Données récupérées pour GBX\n",
      "Données récupérées pour GCBC\n",
      "Données récupérées pour GCI\n",
      "Données récupérées pour GCMG\n",
      "Données récupérées pour GCMGW\n",
      "Données récupérées pour GCO\n",
      "Données récupérées pour GCT\n",
      "Données récupérées pour GCTK\n",
      "Données récupérées pour GCV\n",
      "Données récupérées pour GD\n",
      "Données récupérées pour GDC\n",
      "Données récupérées pour GDDY\n",
      "Données récupérées pour GDEN\n",
      "Données récupérées pour GDEV\n",
      "Données récupérées pour GDEVW\n",
      "Données récupérées pour GDHG\n",
      "Données récupérées pour GDL\n"
     ]
    },
    {
     "name": "stderr",
     "output_type": "stream",
     "text": [
      "404 Client Error: Not Found for url: https://query2.finance.yahoo.com/v10/finance/quoteSummary/GDL%5EC?modules=financialData%2CquoteType%2CdefaultKeyStatistics%2CassetProfile%2CsummaryDetail&corsDomain=finance.yahoo.com&formatted=false&symbol=GDL%5EC&crumb=znKJeXxQthY\n"
     ]
    },
    {
     "name": "stdout",
     "output_type": "stream",
     "text": [
      "Données récupérées pour GDL^C\n",
      "Données récupérées pour GDO\n",
      "Données récupérées pour GDOT\n",
      "Données récupérées pour GDRX\n",
      "Données récupérées pour GDS\n",
      "Données récupérées pour GDST\n",
      "Données récupérées pour GDTC\n",
      "Données récupérées pour GDV\n"
     ]
    },
    {
     "name": "stderr",
     "output_type": "stream",
     "text": [
      "404 Client Error: Not Found for url: https://query2.finance.yahoo.com/v10/finance/quoteSummary/GDV%5EH?modules=financialData%2CquoteType%2CdefaultKeyStatistics%2CassetProfile%2CsummaryDetail&corsDomain=finance.yahoo.com&formatted=false&symbol=GDV%5EH&crumb=znKJeXxQthY\n"
     ]
    },
    {
     "name": "stdout",
     "output_type": "stream",
     "text": [
      "Données récupérées pour GDV^H\n"
     ]
    },
    {
     "name": "stderr",
     "output_type": "stream",
     "text": [
      "404 Client Error: Not Found for url: https://query2.finance.yahoo.com/v10/finance/quoteSummary/GDV%5EK?modules=financialData%2CquoteType%2CdefaultKeyStatistics%2CassetProfile%2CsummaryDetail&corsDomain=finance.yahoo.com&formatted=false&symbol=GDV%5EK&crumb=znKJeXxQthY\n"
     ]
    },
    {
     "name": "stdout",
     "output_type": "stream",
     "text": [
      "Données récupérées pour GDV^K\n",
      "Données récupérées pour GDYN\n",
      "Données récupérées pour GE\n",
      "Données récupérées pour GECC\n",
      "Données récupérées pour GECCM\n",
      "Données récupérées pour GECCO\n",
      "Données récupérées pour GECCZ\n",
      "Données récupérées pour GEF\n",
      "Données récupérées pour GEG\n",
      "Données récupérées pour GEGGL\n",
      "Données récupérées pour GEHC\n",
      "Données récupérées pour GEL\n",
      "Données récupérées pour GEN\n",
      "Données récupérées pour GENC\n",
      "Données récupérées pour GENE\n",
      "Données récupérées pour GENI\n",
      "Données récupérées pour GENK\n",
      "Données récupérées pour GEO\n",
      "Données récupérées pour GEOS\n",
      "Données récupérées pour GERN\n",
      "Données récupérées pour GES\n",
      "Données récupérées pour GETR\n",
      "Données récupérées pour GETY\n",
      "Données récupérées pour GEVO\n",
      "Données récupérées pour GF\n",
      "Données récupérées pour GFAI\n",
      "Données récupérées pour GFAIW\n",
      "Données récupérées pour GFF\n",
      "Données récupérées pour GFI\n",
      "Données récupérées pour GFL\n",
      "Données récupérées pour GFR\n",
      "Données récupérées pour GFS\n",
      "Données récupérées pour GGAL\n",
      "Données récupérées pour GGB\n",
      "Données récupérées pour GGE\n",
      "Données récupérées pour GGG\n",
      "Données récupérées pour GGN\n"
     ]
    },
    {
     "name": "stderr",
     "output_type": "stream",
     "text": [
      "404 Client Error: Not Found for url: https://query2.finance.yahoo.com/v10/finance/quoteSummary/GGN%5EB?modules=financialData%2CquoteType%2CdefaultKeyStatistics%2CassetProfile%2CsummaryDetail&corsDomain=finance.yahoo.com&formatted=false&symbol=GGN%5EB&crumb=znKJeXxQthY\n"
     ]
    },
    {
     "name": "stdout",
     "output_type": "stream",
     "text": [
      "Données récupérées pour GGN^B\n",
      "Données récupérées pour GGR\n",
      "Données récupérées pour GGROW\n",
      "Données récupérées pour GGT\n"
     ]
    },
    {
     "name": "stderr",
     "output_type": "stream",
     "text": [
      "404 Client Error: Not Found for url: https://query2.finance.yahoo.com/v10/finance/quoteSummary/GGT%5EE?modules=financialData%2CquoteType%2CdefaultKeyStatistics%2CassetProfile%2CsummaryDetail&corsDomain=finance.yahoo.com&formatted=false&symbol=GGT%5EE&crumb=znKJeXxQthY\n"
     ]
    },
    {
     "name": "stdout",
     "output_type": "stream",
     "text": [
      "Données récupérées pour GGT^E\n"
     ]
    },
    {
     "name": "stderr",
     "output_type": "stream",
     "text": [
      "404 Client Error: Not Found for url: https://query2.finance.yahoo.com/v10/finance/quoteSummary/GGT%5EG?modules=financialData%2CquoteType%2CdefaultKeyStatistics%2CassetProfile%2CsummaryDetail&corsDomain=finance.yahoo.com&formatted=false&symbol=GGT%5EG&crumb=znKJeXxQthY\n"
     ]
    },
    {
     "name": "stdout",
     "output_type": "stream",
     "text": [
      "Données récupérées pour GGT^G\n",
      "Données récupérées pour GGZ\n",
      "Données récupérées pour GH\n",
      "Données récupérées pour GHC\n",
      "Données récupérées pour GHG\n",
      "Données récupérées pour GHI\n",
      "Données récupérées pour GHIX\n",
      "Données récupérées pour GHLD\n",
      "Données récupérées pour GHM\n",
      "Données récupérées pour GHRS\n",
      "Données récupérées pour GHSI\n",
      "Données récupérées pour GHY\n",
      "Données récupérées pour GIA\n",
      "Données récupérées pour GIB\n",
      "Données récupérées pour GIC\n",
      "Données récupérées pour GIFI\n",
      "Données récupérées pour GIGM\n",
      "Données récupérées pour GIII\n",
      "Données récupérées pour GIL\n",
      "Données récupérées pour GILD\n",
      "Données récupérées pour GILT\n",
      "Données récupérées pour GIPR\n",
      "Données récupérées pour GIPRW\n",
      "Données récupérées pour GIS\n",
      "Données récupérées pour GJH\n",
      "Données récupérées pour GJO\n",
      "Données récupérées pour GJP\n",
      "Données récupérées pour GJR\n",
      "Données récupérées pour GJS\n",
      "Données récupérées pour GJT\n",
      "Données récupérées pour GKOS\n",
      "Données récupérées pour GL\n"
     ]
    },
    {
     "name": "stderr",
     "output_type": "stream",
     "text": [
      "404 Client Error: Not Found for url: https://query2.finance.yahoo.com/v10/finance/quoteSummary/GL%5ED?modules=financialData%2CquoteType%2CdefaultKeyStatistics%2CassetProfile%2CsummaryDetail&corsDomain=finance.yahoo.com&formatted=false&symbol=GL%5ED&crumb=znKJeXxQthY\n"
     ]
    },
    {
     "name": "stdout",
     "output_type": "stream",
     "text": [
      "Données récupérées pour GL^D\n",
      "Données récupérées pour GLAC\n",
      "Données récupérées pour GLACR\n",
      "Données récupérées pour GLACU\n",
      "Données récupérées pour GLAD\n",
      "Données récupérées pour GLADZ\n",
      "Données récupérées pour GLBE\n",
      "Données récupérées pour GLBS\n",
      "Données récupérées pour GLBZ\n",
      "Données récupérées pour GLDD\n",
      "Données récupérées pour GLDG\n",
      "Données récupérées pour GLLI\n",
      "Données récupérées pour GLLIW\n",
      "Données récupérées pour GLMD\n",
      "Données récupérées pour GLNG\n",
      "Données récupérées pour GLO\n",
      "Données récupérées pour GLOB\n"
     ]
    },
    {
     "name": "stderr",
     "output_type": "stream",
     "text": [
      "404 Client Error: Not Found for url: https://query2.finance.yahoo.com/v10/finance/quoteSummary/GLOG%5EA?modules=financialData%2CquoteType%2CdefaultKeyStatistics%2CassetProfile%2CsummaryDetail&corsDomain=finance.yahoo.com&formatted=false&symbol=GLOG%5EA&crumb=znKJeXxQthY\n"
     ]
    },
    {
     "name": "stdout",
     "output_type": "stream",
     "text": [
      "Données récupérées pour GLOG^A\n"
     ]
    },
    {
     "name": "stderr",
     "output_type": "stream",
     "text": [
      "404 Client Error: Not Found for url: https://query2.finance.yahoo.com/v10/finance/quoteSummary/GLOP%5EA?modules=financialData%2CquoteType%2CdefaultKeyStatistics%2CassetProfile%2CsummaryDetail&corsDomain=finance.yahoo.com&formatted=false&symbol=GLOP%5EA&crumb=znKJeXxQthY\n"
     ]
    },
    {
     "name": "stdout",
     "output_type": "stream",
     "text": [
      "Données récupérées pour GLOP^A\n"
     ]
    },
    {
     "name": "stderr",
     "output_type": "stream",
     "text": [
      "404 Client Error: Not Found for url: https://query2.finance.yahoo.com/v10/finance/quoteSummary/GLOP%5EB?modules=financialData%2CquoteType%2CdefaultKeyStatistics%2CassetProfile%2CsummaryDetail&corsDomain=finance.yahoo.com&formatted=false&symbol=GLOP%5EB&crumb=znKJeXxQthY\n"
     ]
    },
    {
     "name": "stdout",
     "output_type": "stream",
     "text": [
      "Données récupérées pour GLOP^B\n"
     ]
    },
    {
     "name": "stderr",
     "output_type": "stream",
     "text": [
      "404 Client Error: Not Found for url: https://query2.finance.yahoo.com/v10/finance/quoteSummary/GLOP%5EC?modules=financialData%2CquoteType%2CdefaultKeyStatistics%2CassetProfile%2CsummaryDetail&corsDomain=finance.yahoo.com&formatted=false&symbol=GLOP%5EC&crumb=znKJeXxQthY\n"
     ]
    },
    {
     "name": "stdout",
     "output_type": "stream",
     "text": [
      "Données récupérées pour GLOP^C\n",
      "Données récupérées pour GLP\n"
     ]
    },
    {
     "name": "stderr",
     "output_type": "stream",
     "text": [
      "404 Client Error: Not Found for url: https://query2.finance.yahoo.com/v10/finance/quoteSummary/GLP%5EA?modules=financialData%2CquoteType%2CdefaultKeyStatistics%2CassetProfile%2CsummaryDetail&corsDomain=finance.yahoo.com&formatted=false&symbol=GLP%5EA&crumb=znKJeXxQthY\n"
     ]
    },
    {
     "name": "stdout",
     "output_type": "stream",
     "text": [
      "Données récupérées pour GLP^A\n"
     ]
    },
    {
     "name": "stderr",
     "output_type": "stream",
     "text": [
      "404 Client Error: Not Found for url: https://query2.finance.yahoo.com/v10/finance/quoteSummary/GLP%5EB?modules=financialData%2CquoteType%2CdefaultKeyStatistics%2CassetProfile%2CsummaryDetail&corsDomain=finance.yahoo.com&formatted=false&symbol=GLP%5EB&crumb=znKJeXxQthY\n"
     ]
    },
    {
     "name": "stdout",
     "output_type": "stream",
     "text": [
      "Données récupérées pour GLP^B\n",
      "Données récupérées pour GLPG\n",
      "Données récupérées pour GLPI\n",
      "Données récupérées pour GLQ\n",
      "Données récupérées pour GLRE\n",
      "Données récupérées pour GLSI\n",
      "Données récupérées pour GLST\n",
      "Données récupérées pour GLSTR\n",
      "Données récupérées pour GLT\n",
      "Données récupérées pour GLTO\n",
      "Données récupérées pour GLU\n"
     ]
    },
    {
     "name": "stderr",
     "output_type": "stream",
     "text": [
      "404 Client Error: Not Found for url: https://query2.finance.yahoo.com/v10/finance/quoteSummary/GLU%5EA?modules=financialData%2CquoteType%2CdefaultKeyStatistics%2CassetProfile%2CsummaryDetail&corsDomain=finance.yahoo.com&formatted=false&symbol=GLU%5EA&crumb=znKJeXxQthY\n"
     ]
    },
    {
     "name": "stdout",
     "output_type": "stream",
     "text": [
      "Données récupérées pour GLU^A\n"
     ]
    },
    {
     "name": "stderr",
     "output_type": "stream",
     "text": [
      "404 Client Error: Not Found for url: https://query2.finance.yahoo.com/v10/finance/quoteSummary/GLU%5EB?modules=financialData%2CquoteType%2CdefaultKeyStatistics%2CassetProfile%2CsummaryDetail&corsDomain=finance.yahoo.com&formatted=false&symbol=GLU%5EB&crumb=znKJeXxQthY\n"
     ]
    },
    {
     "name": "stdout",
     "output_type": "stream",
     "text": [
      "Données récupérées pour GLU^B\n",
      "Données récupérées pour GLUE\n",
      "Données récupérées pour GLV\n",
      "Données récupérées pour GLW\n",
      "Données récupérées pour GLYC\n",
      "Données récupérées pour GM\n",
      "Données récupérées pour GMAB\n",
      "Données récupérées pour GMBL\n",
      "Données récupérées pour GMBLP\n",
      "Données récupérées pour GMBLW\n",
      "Données récupérées pour GMBLZ\n",
      "Données récupérées pour GMDA\n",
      "Données récupérées pour GME\n",
      "Données récupérées pour GMED\n",
      "Données récupérées pour GMFI\n",
      "Données récupérées pour GMFIU\n",
      "Données récupérées pour GMGI\n",
      "Données récupérées pour GMM\n",
      "Données récupérées pour GMRE\n"
     ]
    },
    {
     "name": "stderr",
     "output_type": "stream",
     "text": [
      "404 Client Error: Not Found for url: https://query2.finance.yahoo.com/v10/finance/quoteSummary/GMRE%5EA?modules=financialData%2CquoteType%2CdefaultKeyStatistics%2CassetProfile%2CsummaryDetail&corsDomain=finance.yahoo.com&formatted=false&symbol=GMRE%5EA&crumb=znKJeXxQthY\n"
     ]
    },
    {
     "name": "stdout",
     "output_type": "stream",
     "text": [
      "Données récupérées pour GMRE^A\n",
      "Données récupérées pour GMS\n",
      "Données récupérées pour GNE\n",
      "Données récupérées pour GNFT\n",
      "Données récupérées pour GNK\n",
      "Données récupérées pour GNL\n"
     ]
    },
    {
     "name": "stderr",
     "output_type": "stream",
     "text": [
      "404 Client Error: Not Found for url: https://query2.finance.yahoo.com/v10/finance/quoteSummary/GNL%5EA?modules=financialData%2CquoteType%2CdefaultKeyStatistics%2CassetProfile%2CsummaryDetail&corsDomain=finance.yahoo.com&formatted=false&symbol=GNL%5EA&crumb=znKJeXxQthY\n"
     ]
    },
    {
     "name": "stdout",
     "output_type": "stream",
     "text": [
      "Données récupérées pour GNL^A\n"
     ]
    },
    {
     "name": "stderr",
     "output_type": "stream",
     "text": [
      "404 Client Error: Not Found for url: https://query2.finance.yahoo.com/v10/finance/quoteSummary/GNL%5EB?modules=financialData%2CquoteType%2CdefaultKeyStatistics%2CassetProfile%2CsummaryDetail&corsDomain=finance.yahoo.com&formatted=false&symbol=GNL%5EB&crumb=znKJeXxQthY\n"
     ]
    },
    {
     "name": "stdout",
     "output_type": "stream",
     "text": [
      "Données récupérées pour GNL^B\n"
     ]
    },
    {
     "name": "stderr",
     "output_type": "stream",
     "text": [
      "404 Client Error: Not Found for url: https://query2.finance.yahoo.com/v10/finance/quoteSummary/GNL%5ED?modules=financialData%2CquoteType%2CdefaultKeyStatistics%2CassetProfile%2CsummaryDetail&corsDomain=finance.yahoo.com&formatted=false&symbol=GNL%5ED&crumb=znKJeXxQthY\n"
     ]
    },
    {
     "name": "stdout",
     "output_type": "stream",
     "text": [
      "Données récupérées pour GNL^D\n"
     ]
    },
    {
     "name": "stderr",
     "output_type": "stream",
     "text": [
      "404 Client Error: Not Found for url: https://query2.finance.yahoo.com/v10/finance/quoteSummary/GNL%5EE?modules=financialData%2CquoteType%2CdefaultKeyStatistics%2CassetProfile%2CsummaryDetail&corsDomain=finance.yahoo.com&formatted=false&symbol=GNL%5EE&crumb=znKJeXxQthY\n"
     ]
    },
    {
     "name": "stdout",
     "output_type": "stream",
     "text": [
      "Données récupérées pour GNL^E\n",
      "Données récupérées pour GNLN\n",
      "Données récupérées pour GNLX\n",
      "Données récupérées pour GNPX\n",
      "Données récupérées pour GNRC\n",
      "Données récupérées pour GNS\n",
      "Données récupérées pour GNSS\n",
      "Données récupérées pour GNT\n"
     ]
    },
    {
     "name": "stderr",
     "output_type": "stream",
     "text": [
      "404 Client Error: Not Found for url: https://query2.finance.yahoo.com/v10/finance/quoteSummary/GNT%5EA?modules=financialData%2CquoteType%2CdefaultKeyStatistics%2CassetProfile%2CsummaryDetail&corsDomain=finance.yahoo.com&formatted=false&symbol=GNT%5EA&crumb=znKJeXxQthY\n"
     ]
    },
    {
     "name": "stdout",
     "output_type": "stream",
     "text": [
      "Données récupérées pour GNT^A\n",
      "Données récupérées pour GNTA\n",
      "Données récupérées pour GNTX\n",
      "Données récupérées pour GNTY\n",
      "Données récupérées pour GNW\n",
      "Données récupérées pour GO\n",
      "Données récupérées pour GOCO\n",
      "Données récupérées pour GODN\n",
      "Données récupérées pour GODNR\n",
      "Données récupérées pour GOEV\n",
      "Données récupérées pour GOEVW\n",
      "Données récupérées pour GOF\n",
      "Données récupérées pour GOGL\n",
      "Données récupérées pour GOGO\n",
      "Données récupérées pour GOLD\n",
      "Données récupérées pour GOLF\n",
      "Données récupérées pour GOOD\n",
      "Données récupérées pour GOODN\n",
      "Données récupérées pour GOODO\n",
      "Données récupérées pour GOOG\n",
      "Données récupérées pour GOOGL\n",
      "Données récupérées pour GOOS\n",
      "Données récupérées pour GORO\n",
      "Données récupérées pour GORV\n",
      "Données récupérées pour GOSS\n",
      "Données récupérées pour GOTU\n",
      "Données récupérées pour GOVX\n",
      "Données récupérées pour GOVXW\n",
      "Données récupérées pour GP\n",
      "Données récupérées pour GPAC\n",
      "Données récupérées pour GPAK\n",
      "Données récupérées pour GPC\n",
      "Données récupérées pour GPCR\n",
      "Données récupérées pour GPI\n",
      "Données récupérées pour GPJA\n",
      "Données récupérées pour GPK\n",
      "Données récupérées pour GPMT\n"
     ]
    },
    {
     "name": "stderr",
     "output_type": "stream",
     "text": [
      "404 Client Error: Not Found for url: https://query2.finance.yahoo.com/v10/finance/quoteSummary/GPMT%5EA?modules=financialData%2CquoteType%2CdefaultKeyStatistics%2CassetProfile%2CsummaryDetail&corsDomain=finance.yahoo.com&formatted=false&symbol=GPMT%5EA&crumb=znKJeXxQthY\n"
     ]
    },
    {
     "name": "stdout",
     "output_type": "stream",
     "text": [
      "Données récupérées pour GPMT^A\n",
      "Données récupérées pour GPN\n",
      "Données récupérées pour GPOR\n",
      "Données récupérées pour GPRE\n",
      "Données récupérées pour GPRK\n",
      "Données récupérées pour GPRO\n",
      "Données récupérées pour GPS\n",
      "Données récupérées pour GRAB\n",
      "Données récupérées pour GRABW\n",
      "Données récupérées pour GRBK\n"
     ]
    },
    {
     "name": "stderr",
     "output_type": "stream",
     "text": [
      "404 Client Error: Not Found for url: https://query2.finance.yahoo.com/v10/finance/quoteSummary/GRBK%5EA?modules=financialData%2CquoteType%2CdefaultKeyStatistics%2CassetProfile%2CsummaryDetail&corsDomain=finance.yahoo.com&formatted=false&symbol=GRBK%5EA&crumb=znKJeXxQthY\n"
     ]
    },
    {
     "name": "stdout",
     "output_type": "stream",
     "text": [
      "Données récupérées pour GRBK^A\n",
      "Données récupérées pour GRC\n",
      "Données récupérées pour GRCL\n",
      "Données récupérées pour GRDI\n",
      "Données récupérées pour GRDIW\n",
      "Données récupérées pour GREE\n",
      "Données récupérées pour GREEL\n",
      "Données récupérées pour GRF\n",
      "Données récupérées pour GRFS\n",
      "Données récupérées pour GRFX\n",
      "Données récupérées pour GRI\n",
      "Données récupérées pour GRIN\n",
      "Données récupérées pour GRMN\n",
      "Données récupérées pour GRND\n",
      "Données récupérées pour GRNQ\n",
      "Données récupérées pour GRNT\n",
      "Données récupérées pour GROM\n",
      "Données récupérées pour GROMW\n",
      "Données récupérées pour GROV\n",
      "Données récupérées pour GROW\n",
      "Données récupérées pour GROY\n",
      "Données récupérées pour GRPH\n",
      "Données récupérées pour GRPN\n",
      "Données récupérées pour GRRR\n",
      "Données récupérées pour GRRRW\n",
      "Données récupérées pour GRTS\n",
      "Données récupérées pour GRTX\n",
      "Données récupérées pour GRVY\n",
      "Données récupérées pour GRWG\n",
      "Données récupérées pour GRX\n",
      "Données récupérées pour GRYP\n",
      "Données récupérées pour GS\n"
     ]
    },
    {
     "name": "stderr",
     "output_type": "stream",
     "text": [
      "404 Client Error: Not Found for url: https://query2.finance.yahoo.com/v10/finance/quoteSummary/GS%5EA?modules=financialData%2CquoteType%2CdefaultKeyStatistics%2CassetProfile%2CsummaryDetail&corsDomain=finance.yahoo.com&formatted=false&symbol=GS%5EA&crumb=znKJeXxQthY\n"
     ]
    },
    {
     "name": "stdout",
     "output_type": "stream",
     "text": [
      "Données récupérées pour GS^A\n"
     ]
    },
    {
     "name": "stderr",
     "output_type": "stream",
     "text": [
      "404 Client Error: Not Found for url: https://query2.finance.yahoo.com/v10/finance/quoteSummary/GS%5EC?modules=financialData%2CquoteType%2CdefaultKeyStatistics%2CassetProfile%2CsummaryDetail&corsDomain=finance.yahoo.com&formatted=false&symbol=GS%5EC&crumb=znKJeXxQthY\n"
     ]
    },
    {
     "name": "stdout",
     "output_type": "stream",
     "text": [
      "Données récupérées pour GS^C\n"
     ]
    },
    {
     "name": "stderr",
     "output_type": "stream",
     "text": [
      "404 Client Error: Not Found for url: https://query2.finance.yahoo.com/v10/finance/quoteSummary/GS%5ED?modules=financialData%2CquoteType%2CdefaultKeyStatistics%2CassetProfile%2CsummaryDetail&corsDomain=finance.yahoo.com&formatted=false&symbol=GS%5ED&crumb=znKJeXxQthY\n"
     ]
    },
    {
     "name": "stdout",
     "output_type": "stream",
     "text": [
      "Données récupérées pour GS^D\n"
     ]
    },
    {
     "name": "stderr",
     "output_type": "stream",
     "text": [
      "404 Client Error: Not Found for url: https://query2.finance.yahoo.com/v10/finance/quoteSummary/GS%5EK?modules=financialData%2CquoteType%2CdefaultKeyStatistics%2CassetProfile%2CsummaryDetail&corsDomain=finance.yahoo.com&formatted=false&symbol=GS%5EK&crumb=znKJeXxQthY\n"
     ]
    },
    {
     "name": "stdout",
     "output_type": "stream",
     "text": [
      "Données récupérées pour GS^K\n",
      "Données récupérées pour GSAT\n",
      "Données récupérées pour GSBC\n",
      "Données récupérées pour GSBD\n",
      "Données récupérées pour GSHD\n",
      "Données récupérées pour GSIT\n",
      "Données récupérées pour GSIW\n",
      "Données récupérées pour GSK\n",
      "Données récupérées pour GSL\n"
     ]
    },
    {
     "name": "stderr",
     "output_type": "stream",
     "text": [
      "404 Client Error: Not Found for url: https://query2.finance.yahoo.com/v10/finance/quoteSummary/GSL%5EB?modules=financialData%2CquoteType%2CdefaultKeyStatistics%2CassetProfile%2CsummaryDetail&corsDomain=finance.yahoo.com&formatted=false&symbol=GSL%5EB&crumb=znKJeXxQthY\n"
     ]
    },
    {
     "name": "stdout",
     "output_type": "stream",
     "text": [
      "Données récupérées pour GSL^B\n",
      "Données récupérées pour GSM\n",
      "Données récupérées pour GSMGW\n",
      "Données récupérées pour GSUN\n",
      "Données récupérées pour GT\n",
      "Données récupérées pour GTAC\n",
      "Données récupérées pour GTACW\n",
      "Données récupérées pour GTBP\n",
      "Données récupérées pour GTE\n",
      "Données récupérées pour GTEC\n",
      "Données récupérées pour GTES\n",
      "Données récupérées pour GTH\n",
      "Données récupérées pour GTHX\n",
      "Données récupérées pour GTIM\n",
      "Données récupérées pour GTLB\n",
      "Données récupérées pour GTLS\n"
     ]
    },
    {
     "name": "stderr",
     "output_type": "stream",
     "text": [
      "404 Client Error: Not Found for url: https://query2.finance.yahoo.com/v10/finance/quoteSummary/GTLS%5EB?modules=financialData%2CquoteType%2CdefaultKeyStatistics%2CassetProfile%2CsummaryDetail&corsDomain=finance.yahoo.com&formatted=false&symbol=GTLS%5EB&crumb=znKJeXxQthY\n"
     ]
    },
    {
     "name": "stdout",
     "output_type": "stream",
     "text": [
      "Données récupérées pour GTLS^B\n",
      "Données récupérées pour GTN\n",
      "Données récupérées pour GTX\n",
      "Données récupérées pour GTY\n",
      "Données récupérées pour GUG\n",
      "Données récupérées pour GURE\n",
      "Données récupérées pour GUT\n"
     ]
    },
    {
     "name": "stderr",
     "output_type": "stream",
     "text": [
      "404 Client Error: Not Found for url: https://query2.finance.yahoo.com/v10/finance/quoteSummary/GUT%5EC?modules=financialData%2CquoteType%2CdefaultKeyStatistics%2CassetProfile%2CsummaryDetail&corsDomain=finance.yahoo.com&formatted=false&symbol=GUT%5EC&crumb=znKJeXxQthY\n"
     ]
    },
    {
     "name": "stdout",
     "output_type": "stream",
     "text": [
      "Données récupérées pour GUT^C\n",
      "Données récupérées pour GUTS\n",
      "Données récupérées pour GV\n",
      "Données récupérées pour GVA\n",
      "Données récupérées pour GVH\n",
      "Données récupérées pour GVP\n",
      "Données récupérées pour GWAV\n",
      "Données récupérées pour GWH\n",
      "Données récupérées pour GWRE\n",
      "Données récupérées pour GWRS\n",
      "Données récupérées pour GWW\n",
      "Données récupérées pour GXAI\n",
      "Données récupérées pour GXO\n",
      "Données récupérées pour GYRE\n",
      "Données récupérées pour GYRO\n",
      "Données récupérées pour H\n",
      "Données récupérées pour HA\n",
      "Données récupérées pour HAE\n",
      "Données récupérées pour HAFC\n",
      "Données récupérées pour HAIA\n",
      "Données récupérées pour HAIN\n",
      "Données récupérées pour HAL\n",
      "Données récupérées pour HALO\n",
      "Données récupérées pour HAO\n",
      "Données récupérées pour HARP\n",
      "Données récupérées pour HAS\n",
      "Données récupérées pour HASI\n",
      "Données récupérées pour HAYN\n",
      "Données récupérées pour HAYW\n",
      "Données récupérées pour HBAN\n",
      "Données récupérées pour HBANL\n",
      "Données récupérées pour HBANM\n",
      "Données récupérées pour HBANP\n",
      "Données récupérées pour HBB\n",
      "Données récupérées pour HBCP\n",
      "Données récupérées pour HBI\n",
      "Données récupérées pour HBIO\n",
      "Données récupérées pour HBM\n",
      "Données récupérées pour HBNC\n",
      "Données récupérées pour HBT\n",
      "Données récupérées pour HCA\n",
      "Données récupérées pour HCAT\n",
      "Données récupérées pour HCC\n",
      "Données récupérées pour HCI\n",
      "Données récupérées pour HCKT\n",
      "Données récupérées pour HCM\n",
      "Données récupérées pour HCMA\n",
      "Données récupérées pour HCMAW\n",
      "Données récupérées pour HCP\n",
      "Données récupérées pour HCSG\n",
      "Données récupérées pour HCTI\n",
      "Données récupérées pour HCVI\n",
      "Données récupérées pour HCVIU\n",
      "Données récupérées pour HCVIW\n",
      "Données récupérées pour HCWB\n",
      "Données récupérées pour HCXY\n",
      "Données récupérées pour HD\n",
      "Données récupérées pour HDB\n",
      "Données récupérées pour HDSN\n",
      "Données récupérées pour HE\n",
      "Données récupérées pour HEAR\n",
      "Données récupérées pour HEES\n",
      "Données récupérées pour HEI\n"
     ]
    },
    {
     "name": "stderr",
     "output_type": "stream",
     "text": [
      "404 Client Error: Not Found for url: https://query2.finance.yahoo.com/v10/finance/quoteSummary/HEI/A?modules=financialData%2CquoteType%2CdefaultKeyStatistics%2CassetProfile%2CsummaryDetail&corsDomain=finance.yahoo.com&formatted=false&symbol=HEI%2FA&crumb=znKJeXxQthY\n"
     ]
    },
    {
     "name": "stdout",
     "output_type": "stream",
     "text": [
      "Erreur lors de la récupération des données pour HEI/A: Failed to parse json response from Yahoo Finance: {'code': 'Not Found', 'description': 'HTTP 404 Not Found'}\n",
      "Données récupérées pour HELE\n",
      "Données récupérées pour HEPA\n",
      "Données récupérées pour HEPS\n",
      "Données récupérées pour HEQ\n",
      "Données récupérées pour HES\n",
      "Données récupérées pour HESM\n",
      "Données récupérées pour HFBL\n",
      "Données récupérées pour HFFG\n",
      "Données récupérées pour HFRO\n"
     ]
    },
    {
     "name": "stderr",
     "output_type": "stream",
     "text": [
      "404 Client Error: Not Found for url: https://query2.finance.yahoo.com/v10/finance/quoteSummary/HFRO%5EA?modules=financialData%2CquoteType%2CdefaultKeyStatistics%2CassetProfile%2CsummaryDetail&corsDomain=finance.yahoo.com&formatted=false&symbol=HFRO%5EA&crumb=znKJeXxQthY\n"
     ]
    },
    {
     "name": "stdout",
     "output_type": "stream",
     "text": [
      "Données récupérées pour HFRO^A\n",
      "Données récupérées pour HFWA\n",
      "Données récupérées pour HG\n",
      "Données récupérées pour HGAS\n",
      "Données récupérées pour HGASW\n",
      "Données récupérées pour HGBL\n",
      "Données récupérées pour HGLB\n",
      "Données récupérées pour HGTY\n",
      "Données récupérées pour HGV\n",
      "Données récupérées pour HHGC\n",
      "Données récupérées pour HHH\n",
      "Données récupérées pour HHS\n",
      "Données récupérées pour HI\n",
      "Données récupérées pour HIBB\n",
      "Données récupérées pour HIE\n",
      "Données récupérées pour HIFS\n",
      "Données récupérées pour HIG\n"
     ]
    },
    {
     "name": "stderr",
     "output_type": "stream",
     "text": [
      "404 Client Error: Not Found for url: https://query2.finance.yahoo.com/v10/finance/quoteSummary/HIG%5EG?modules=financialData%2CquoteType%2CdefaultKeyStatistics%2CassetProfile%2CsummaryDetail&corsDomain=finance.yahoo.com&formatted=false&symbol=HIG%5EG&crumb=znKJeXxQthY\n"
     ]
    },
    {
     "name": "stdout",
     "output_type": "stream",
     "text": [
      "Données récupérées pour HIG^G\n",
      "Données récupérées pour HIHO\n",
      "Données récupérées pour HII\n",
      "Données récupérées pour HIMS\n",
      "Données récupérées pour HIMX\n",
      "Données récupérées pour HIO\n",
      "Données récupérées pour HIPO\n",
      "Données récupérées pour HITI\n",
      "Données récupérées pour HIVE\n",
      "Données récupérées pour HIW\n",
      "Données récupérées pour HIX\n",
      "Données récupérées pour HKD\n",
      "Données récupérées pour HKIT\n",
      "Données récupérées pour HL\n",
      "Données récupérées pour HLF\n",
      "Données récupérées pour HLI\n",
      "Données récupérées pour HLIO\n",
      "Données récupérées pour HLIT\n",
      "Données récupérées pour HLLY\n",
      "Données récupérées pour HLMN\n",
      "Données récupérées pour HLN\n",
      "Données récupérées pour HLNE\n",
      "Données récupérées pour HLP\n",
      "Données récupérées pour HLT\n",
      "Données récupérées pour HLTH\n",
      "Données récupérées pour HLVX\n",
      "Données récupérées pour HLX\n",
      "Données récupérées pour HLXB\n",
      "Données récupérées pour HMC\n",
      "Données récupérées pour HMN\n",
      "Données récupérées pour HMNF\n",
      "Données récupérées pour HMST\n",
      "Données récupérées pour HMY\n",
      "Données récupérées pour HNI\n",
      "Données récupérées pour HNNA\n",
      "Données récupérées pour HNNAZ\n",
      "Données récupérées pour HNRA\n",
      "Données récupérées pour HNRG\n",
      "Données récupérées pour HNST\n",
      "Données récupérées pour HNVR\n",
      "Données récupérées pour HNW\n",
      "Données récupérées pour HOFT\n",
      "Données récupérées pour HOFV\n",
      "Données récupérées pour HOFVW\n",
      "Données récupérées pour HOG\n",
      "Données récupérées pour HOLI\n",
      "Données récupérées pour HOLO\n",
      "Données récupérées pour HOLOW\n",
      "Données récupérées pour HOLX\n",
      "Données récupérées pour HOMB\n",
      "Données récupérées pour HON\n",
      "Données récupérées pour HONE\n",
      "Données récupérées pour HOOD\n",
      "Données récupérées pour HOOK\n",
      "Données récupérées pour HOPE\n",
      "Données récupérées pour HOTH\n",
      "Données récupérées pour HOUR\n",
      "Données récupérées pour HOUS\n",
      "Données récupérées pour HOV\n",
      "Données récupérées pour HOVNP\n",
      "Données récupérées pour HOVR\n",
      "Données récupérées pour HOVRW\n",
      "Données récupérées pour HOWL\n",
      "Données récupérées pour HP\n",
      "Données récupérées pour HPCO\n",
      "Données récupérées pour HPE\n",
      "Données récupérées pour HPF\n",
      "Données récupérées pour HPI\n",
      "Données récupérées pour HPK\n",
      "Données récupérées pour HPKEW\n",
      "Données récupérées pour HPP\n"
     ]
    },
    {
     "name": "stderr",
     "output_type": "stream",
     "text": [
      "404 Client Error: Not Found for url: https://query2.finance.yahoo.com/v10/finance/quoteSummary/HPP%5EC?modules=financialData%2CquoteType%2CdefaultKeyStatistics%2CassetProfile%2CsummaryDetail&corsDomain=finance.yahoo.com&formatted=false&symbol=HPP%5EC&crumb=znKJeXxQthY\n"
     ]
    },
    {
     "name": "stdout",
     "output_type": "stream",
     "text": [
      "Données récupérées pour HPP^C\n",
      "Données récupérées pour HPQ\n",
      "Données récupérées pour HPS\n",
      "Données récupérées pour HQH\n",
      "Données récupérées pour HQI\n",
      "Données récupérées pour HQL\n",
      "Données récupérées pour HQY\n",
      "Données récupérées pour HR\n",
      "Données récupérées pour HRB\n",
      "Données récupérées pour HRI\n",
      "Données récupérées pour HRL\n",
      "Données récupérées pour HRMY\n",
      "Données récupérées pour HROW\n",
      "Données récupérées pour HROWL\n",
      "Données récupérées pour HROWM\n",
      "Données récupérées pour HRT\n",
      "Données récupérées pour HRTG\n",
      "Données récupérées pour HRTX\n",
      "Données récupérées pour HRYU\n",
      "Données récupérées pour HRZN\n",
      "Données récupérées pour HSAI\n",
      "Données récupérées pour HSBC\n",
      "Données récupérées pour HSCS\n",
      "Données récupérées pour HSDT\n",
      "Données récupérées pour HSHP\n",
      "Données récupérées pour HSIC\n",
      "Données récupérées pour HSII\n",
      "Données récupérées pour HSON\n",
      "Données récupérées pour HSPOR\n",
      "Données récupérées pour HSPOW\n",
      "Données récupérées pour HST\n",
      "Données récupérées pour HSTM\n",
      "Données récupérées pour HSY\n",
      "Données récupérées pour HTBI\n",
      "Données récupérées pour HTBK\n",
      "Données récupérées pour HTCR\n",
      "Données récupérées pour HTD\n",
      "Données récupérées pour HTFB\n",
      "Données récupérées pour HTFC\n",
      "Données récupérées pour HTGC\n",
      "Données récupérées pour HTH\n",
      "Données récupérées pour HTHT\n",
      "Données récupérées pour HTIA\n",
      "Données récupérées pour HTIBP\n",
      "Données récupérées pour HTLD\n",
      "Données récupérées pour HTLF\n",
      "Données récupérées pour HTLFP\n",
      "Données récupérées pour HTOO\n",
      "Données récupérées pour HTOOW\n",
      "Données récupérées pour HTY\n",
      "Données récupérées pour HTZ\n",
      "Données récupérées pour HTZWW\n",
      "Données récupérées pour HUBB\n",
      "Données récupérées pour HUBC\n",
      "Données récupérées pour HUBCW\n",
      "Données récupérées pour HUBCZ\n",
      "Données récupérées pour HUBG\n",
      "Données récupérées pour HUBS\n",
      "Données récupérées pour HUDA\n",
      "Données récupérées pour HUDAR\n",
      "Données récupérées pour HUDI\n",
      "Données récupérées pour HUGE\n",
      "Données récupérées pour HUIZ\n",
      "Données récupérées pour HUM\n",
      "Données récupérées pour HUMA\n",
      "Données récupérées pour HUMAW\n",
      "Données récupérées pour HUN\n",
      "Données récupérées pour HURC\n",
      "Données récupérées pour HURN\n",
      "Données récupérées pour HUSA\n",
      "Données récupérées pour HUT\n",
      "Données récupérées pour HUYA\n",
      "Données récupérées pour HVT\n"
     ]
    },
    {
     "name": "stderr",
     "output_type": "stream",
     "text": [
      "404 Client Error: Not Found for url: https://query2.finance.yahoo.com/v10/finance/quoteSummary/HVT/A?modules=financialData%2CquoteType%2CdefaultKeyStatistics%2CassetProfile%2CsummaryDetail&corsDomain=finance.yahoo.com&formatted=false&symbol=HVT%2FA&crumb=znKJeXxQthY\n"
     ]
    },
    {
     "name": "stdout",
     "output_type": "stream",
     "text": [
      "Erreur lors de la récupération des données pour HVT/A: Failed to parse json response from Yahoo Finance: {'code': 'Not Found', 'description': 'HTTP 404 Not Found'}\n",
      "Données récupérées pour HWBK\n",
      "Données récupérées pour HWC\n",
      "Données récupérées pour HWCPZ\n",
      "Données récupérées pour HWH\n",
      "Données récupérées pour HWKN\n",
      "Données récupérées pour HWM\n"
     ]
    },
    {
     "name": "stderr",
     "output_type": "stream",
     "text": [
      "404 Client Error: Not Found for url: https://query2.finance.yahoo.com/v10/finance/quoteSummary/HWM%5E?modules=financialData%2CquoteType%2CdefaultKeyStatistics%2CassetProfile%2CsummaryDetail&corsDomain=finance.yahoo.com&formatted=false&symbol=HWM%5E&crumb=znKJeXxQthY\n"
     ]
    },
    {
     "name": "stdout",
     "output_type": "stream",
     "text": [
      "Données récupérées pour HWM^\n",
      "Données récupérées pour HXL\n",
      "Données récupérées pour HY\n",
      "Données récupérées pour HYAC\n",
      "Données récupérées pour HYB\n",
      "Données récupérées pour HYFM\n",
      "Données récupérées pour HYI\n",
      "Données récupérées pour HYLN\n",
      "Données récupérées pour HYMC\n",
      "Données récupérées pour HYMCL\n",
      "Données récupérées pour HYMCW\n",
      "Données récupérées pour HYPR\n",
      "Données récupérées pour HYT\n",
      "Données récupérées pour HYW\n",
      "Données récupérées pour HYZN\n",
      "Données récupérées pour HYZNW\n",
      "Données récupérées pour HZO\n",
      "Données récupérées pour IAC\n",
      "Données récupérées pour IAE\n",
      "Données récupérées pour IAF\n",
      "Données récupérées pour IAG\n",
      "Données récupérées pour IART\n",
      "Données récupérées pour IAS\n",
      "Données récupérées pour IAUX\n",
      "Données récupérées pour IBCP\n",
      "Données récupérées pour IBEX\n",
      "Données récupérées pour IBIO\n",
      "Données récupérées pour IBKR\n",
      "Données récupérées pour IBM\n",
      "Données récupérées pour IBN\n",
      "Données récupérées pour IBOC\n",
      "Données récupérées pour IBP\n",
      "Données récupérées pour IBRX\n",
      "Données récupérées pour IBTX\n",
      "Données récupérées pour ICAD\n",
      "Données récupérées pour ICCC\n",
      "Données récupérées pour ICCH\n",
      "Données récupérées pour ICCM\n",
      "Données récupérées pour ICCT\n",
      "Données récupérées pour ICD\n",
      "Données récupérées pour ICE\n",
      "Données récupérées pour ICFI\n",
      "Données récupérées pour ICG\n",
      "Données récupérées pour ICHR\n",
      "Données récupérées pour ICL\n",
      "Données récupérées pour ICLK\n",
      "Données récupérées pour ICLR\n",
      "Données récupérées pour ICMB\n"
     ]
    },
    {
     "name": "stderr",
     "output_type": "stream",
     "text": [
      "404 Client Error: Not Found for url: https://query2.finance.yahoo.com/v10/finance/quoteSummary/ICR%5EA?modules=financialData%2CquoteType%2CdefaultKeyStatistics%2CassetProfile%2CsummaryDetail&corsDomain=finance.yahoo.com&formatted=false&symbol=ICR%5EA&crumb=znKJeXxQthY\n"
     ]
    },
    {
     "name": "stdout",
     "output_type": "stream",
     "text": [
      "Données récupérées pour ICR^A\n",
      "Données récupérées pour ICU\n",
      "Données récupérées pour ICUCW\n",
      "Données récupérées pour ICUI\n",
      "Données récupérées pour ICVX\n",
      "Données récupérées pour IDA\n",
      "Données récupérées pour IDAI\n",
      "Données récupérées pour IDCC\n",
      "Données récupérées pour IDE\n",
      "Données récupérées pour IDEX\n",
      "Données récupérées pour IDN\n",
      "Données récupérées pour IDR\n",
      "Données récupérées pour IDT\n",
      "Données récupérées pour IDXX\n",
      "Données récupérées pour IDYA\n",
      "Données récupérées pour IE\n",
      "Données récupérées pour IEP\n",
      "Données récupérées pour IESC\n",
      "Données récupérées pour IEX\n",
      "Données récupérées pour IFBD\n",
      "Données récupérées pour IFF\n",
      "Données récupérées pour IFN\n",
      "Données récupérées pour IFRX\n",
      "Données récupérées pour IFS\n",
      "Données récupérées pour IGA\n",
      "Données récupérées pour IGC\n",
      "Données récupérées pour IGD\n",
      "Données récupérées pour IGI\n",
      "Données récupérées pour IGIC\n",
      "Données récupérées pour IGMS\n",
      "Données récupérées pour IGR\n",
      "Données récupérées pour IGT\n",
      "Données récupérées pour IGTA\n",
      "Données récupérées pour IGTAR\n",
      "Données récupérées pour IGTAW\n",
      "Données récupérées pour IH\n",
      "Données récupérées pour IHD\n",
      "Données récupérées pour IHG\n",
      "Données récupérées pour IHRT\n",
      "Données récupérées pour IHS\n",
      "Données récupérées pour IHT\n",
      "Données récupérées pour IHTA\n",
      "Données récupérées pour IIF\n",
      "Données récupérées pour III\n",
      "Données récupérées pour IIIN\n",
      "Données récupérées pour IIIV\n",
      "Données récupérées pour IIM\n",
      "Données récupérées pour IINN\n",
      "Données récupérées pour IINNW\n",
      "Données récupérées pour IIPR\n"
     ]
    },
    {
     "name": "stderr",
     "output_type": "stream",
     "text": [
      "404 Client Error: Not Found for url: https://query2.finance.yahoo.com/v10/finance/quoteSummary/IIPR%5EA?modules=financialData%2CquoteType%2CdefaultKeyStatistics%2CassetProfile%2CsummaryDetail&corsDomain=finance.yahoo.com&formatted=false&symbol=IIPR%5EA&crumb=znKJeXxQthY\n"
     ]
    },
    {
     "name": "stdout",
     "output_type": "stream",
     "text": [
      "Données récupérées pour IIPR^A\n",
      "Données récupérées pour IKNA\n",
      "Données récupérées pour IKT\n",
      "Données récupérées pour ILAG\n",
      "Données récupérées pour ILMN\n",
      "Données récupérées pour ILPT\n",
      "Données récupérées pour IMAB\n",
      "Données récupérées pour IMAQ\n",
      "Données récupérées pour IMAQR\n",
      "Données récupérées pour IMAQW\n",
      "Données récupérées pour IMAX\n",
      "Données récupérées pour IMCC\n",
      "Données récupérées pour IMCR\n",
      "Données récupérées pour IMKTA\n",
      "Données récupérées pour IMMP\n",
      "Données récupérées pour IMMR\n",
      "Données récupérées pour IMMX\n",
      "Données récupérées pour IMNM\n",
      "Données récupérées pour IMNN\n",
      "Données récupérées pour IMO\n",
      "Données récupérées pour IMOS\n",
      "Données récupérées pour IMPP\n",
      "Données récupérées pour IMPPP\n",
      "Données récupérées pour IMRN\n",
      "Données récupérées pour IMRX\n",
      "Données récupérées pour IMTE\n",
      "Données récupérées pour IMTX\n",
      "Données récupérées pour IMTXW\n",
      "Données récupérées pour IMUX\n",
      "Données récupérées pour IMVT\n",
      "Données récupérées pour IMXI\n",
      "Données récupérées pour INAB\n",
      "Données récupérées pour INAQ\n",
      "Données récupérées pour INAQW\n",
      "Données récupérées pour INBK\n",
      "Données récupérées pour INBKZ\n",
      "Données récupérées pour INBS\n",
      "Données récupérées pour INBX\n",
      "Données récupérées pour INCR\n",
      "Données récupérées pour INCY\n",
      "Données récupérées pour INDB\n",
      "Données récupérées pour INDI\n",
      "Données récupérées pour INDO\n",
      "Données récupérées pour INDP\n",
      "Données récupérées pour INDV\n",
      "Données récupérées pour INFA\n",
      "Données récupérées pour INFN\n",
      "Données récupérées pour INFU\n",
      "Données récupérées pour INFY\n",
      "Données récupérées pour ING\n",
      "Données récupérées pour INGN\n",
      "Données récupérées pour INGR\n",
      "Données récupérées pour INHD\n",
      "Données récupérées pour INKT\n",
      "Données récupérées pour INLX\n",
      "Données récupérées pour INM\n",
      "Données récupérées pour INMB\n",
      "Données récupérées pour INMD\n",
      "Données récupérées pour INN\n"
     ]
    },
    {
     "name": "stderr",
     "output_type": "stream",
     "text": [
      "404 Client Error: Not Found for url: https://query2.finance.yahoo.com/v10/finance/quoteSummary/INN%5EE?modules=financialData%2CquoteType%2CdefaultKeyStatistics%2CassetProfile%2CsummaryDetail&corsDomain=finance.yahoo.com&formatted=false&symbol=INN%5EE&crumb=znKJeXxQthY\n"
     ]
    },
    {
     "name": "stdout",
     "output_type": "stream",
     "text": [
      "Données récupérées pour INN^E\n"
     ]
    },
    {
     "name": "stderr",
     "output_type": "stream",
     "text": [
      "404 Client Error: Not Found for url: https://query2.finance.yahoo.com/v10/finance/quoteSummary/INN%5EF?modules=financialData%2CquoteType%2CdefaultKeyStatistics%2CassetProfile%2CsummaryDetail&corsDomain=finance.yahoo.com&formatted=false&symbol=INN%5EF&crumb=znKJeXxQthY\n"
     ]
    },
    {
     "name": "stdout",
     "output_type": "stream",
     "text": [
      "Données récupérées pour INN^F\n",
      "Données récupérées pour INNV\n",
      "Données récupérées pour INO\n",
      "Données récupérées pour INOD\n",
      "Données récupérées pour INPX\n",
      "Données récupérées pour INSE\n",
      "Données récupérées pour INSG\n",
      "Données récupérées pour INSI\n",
      "Données récupérées pour INSM\n",
      "Données récupérées pour INSP\n",
      "Données récupérées pour INST\n",
      "Données récupérées pour INSW\n",
      "Données récupérées pour INTA\n",
      "Données récupérées pour INTC\n",
      "Données récupérées pour INTE\n",
      "Données récupérées pour INTEW\n",
      "Données récupérées pour INTG\n",
      "Données récupérées pour INTR\n",
      "Données récupérées pour INTS\n",
      "Données récupérées pour INTT\n",
      "Données récupérées pour INTU\n",
      "Données récupérées pour INTZ\n",
      "Données récupérées pour INUV\n",
      "Données récupérées pour INVA\n",
      "Données récupérées pour INVE\n",
      "Données récupérées pour INVH\n",
      "Données récupérées pour INVO\n",
      "Données récupérées pour INVZ\n",
      "Données récupérées pour INVZW\n",
      "Données récupérées pour INZY\n",
      "Données récupérées pour IOBT\n",
      "Données récupérées pour IONM\n",
      "Données récupérées pour IONQ\n",
      "Données récupérées pour IONR\n",
      "Données récupérées pour IONS\n",
      "Données récupérées pour IOR\n",
      "Données récupérées pour IOSP\n",
      "Données récupérées pour IOT\n",
      "Données récupérées pour IOVA\n",
      "Données récupérées pour IP\n",
      "Données récupérées pour IPA\n",
      "Données récupérées pour IPAR\n",
      "Données récupérées pour IPDN\n",
      "Données récupérées pour IPG\n",
      "Données récupérées pour IPGP\n",
      "Données récupérées pour IPHA\n",
      "Données récupérées pour IPI\n",
      "Données récupérées pour IPSC\n",
      "Données récupérées pour IPW\n",
      "Données récupérées pour IPWR\n",
      "Données récupérées pour IPX\n",
      "Données récupérées pour IPXX\n",
      "Données récupérées pour IPXXU\n",
      "Données récupérées pour IPXXW\n",
      "Données récupérées pour IQ\n",
      "Données récupérées pour IQI\n",
      "Données récupérées pour IQV\n",
      "Données récupérées pour IR\n",
      "Données récupérées pour IRAA\n",
      "Données récupérées pour IRBT\n",
      "Données récupérées pour IRDM\n",
      "Données récupérées pour IREN\n",
      "Données récupérées pour IRIX\n",
      "Données récupérées pour IRM\n",
      "Données récupérées pour IRMD\n",
      "Données récupérées pour IROHU\n",
      "Données récupérées pour IRON\n",
      "Données récupérées pour IROQ\n",
      "Données récupérées pour IRRX\n",
      "Données récupérées pour IRS\n",
      "Données récupérées pour IRT\n",
      "Données récupérées pour IRTC\n",
      "Données récupérées pour IRWD\n",
      "Données récupérées pour ISD\n",
      "Données récupérées pour ISDR\n",
      "Données récupérées pour ISPC\n",
      "Données récupérées pour ISPO\n",
      "Données récupérées pour ISPOW\n",
      "Données récupérées pour ISPR\n",
      "Données récupérées pour ISRG\n",
      "Données récupérées pour ISRL\n",
      "Données récupérées pour ISRLU\n",
      "Données récupérées pour ISSC\n",
      "Données récupérées pour ISTR\n",
      "Données récupérées pour ISUN\n",
      "Données récupérées pour IT\n",
      "Données récupérées pour ITCI\n",
      "Données récupérées pour ITGR\n",
      "Données récupérées pour ITI\n",
      "Données récupérées pour ITIC\n",
      "Données récupérées pour ITOS\n",
      "Données récupérées pour ITP\n",
      "Données récupérées pour ITRG\n",
      "Données récupérées pour ITRI\n",
      "Données récupérées pour ITRM\n",
      "Données récupérées pour ITRN\n",
      "Données récupérées pour ITT\n",
      "Données récupérées pour ITUB\n",
      "Données récupérées pour ITW\n",
      "Données récupérées pour IVA\n",
      "Données récupérées pour IVAC\n",
      "Données récupérées pour IVCA\n",
      "Données récupérées pour IVCAW\n",
      "Données récupérées pour IVCB\n",
      "Données récupérées pour IVCP\n",
      "Données récupérées pour IVCPW\n",
      "Données récupérées pour IVDA\n",
      "Données récupérées pour IVDAW\n",
      "Données récupérées pour IVP\n",
      "Données récupérées pour IVR\n"
     ]
    },
    {
     "name": "stderr",
     "output_type": "stream",
     "text": [
      "404 Client Error: Not Found for url: https://query2.finance.yahoo.com/v10/finance/quoteSummary/IVR%5EB?modules=financialData%2CquoteType%2CdefaultKeyStatistics%2CassetProfile%2CsummaryDetail&corsDomain=finance.yahoo.com&formatted=false&symbol=IVR%5EB&crumb=znKJeXxQthY\n"
     ]
    },
    {
     "name": "stdout",
     "output_type": "stream",
     "text": [
      "Données récupérées pour IVR^B\n"
     ]
    },
    {
     "name": "stderr",
     "output_type": "stream",
     "text": [
      "404 Client Error: Not Found for url: https://query2.finance.yahoo.com/v10/finance/quoteSummary/IVR%5EC?modules=financialData%2CquoteType%2CdefaultKeyStatistics%2CassetProfile%2CsummaryDetail&corsDomain=finance.yahoo.com&formatted=false&symbol=IVR%5EC&crumb=znKJeXxQthY\n"
     ]
    },
    {
     "name": "stdout",
     "output_type": "stream",
     "text": [
      "Données récupérées pour IVR^C\n",
      "Données récupérées pour IVT\n",
      "Données récupérées pour IVVD\n",
      "Données récupérées pour IVZ\n",
      "Données récupérées pour IX\n",
      "Données récupérées pour IXAQ\n",
      "Données récupérées pour IXAQW\n",
      "Données récupérées pour IXHL\n",
      "Données récupérées pour IZEA\n",
      "Données récupérées pour IZM\n",
      "Données récupérées pour J\n",
      "Données récupérées pour JACK\n",
      "Données récupérées pour JAGX\n",
      "Données récupérées pour JAKK\n",
      "Données récupérées pour JAMF\n",
      "Données récupérées pour JAN\n",
      "Données récupérées pour JANX\n",
      "Données récupérées pour JAZZ\n",
      "Données récupérées pour JBGS\n",
      "Données récupérées pour JBHT\n",
      "Données récupérées pour JBI\n",
      "Données récupérées pour JBL\n",
      "Données récupérées pour JBLU\n",
      "Données récupérées pour JBSS\n",
      "Données récupérées pour JBT\n",
      "Données récupérées pour JCE\n",
      "Données récupérées pour JCI\n",
      "Données récupérées pour JCSE\n",
      "Données récupérées pour JCTCF\n",
      "Données récupérées pour JD\n",
      "Données récupérées pour JEF\n",
      "Données récupérées pour JELD\n",
      "Données récupérées pour JEQ\n",
      "Données récupérées pour JEWL\n",
      "Données récupérées pour JFBR\n",
      "Données récupérées pour JFBRW\n",
      "Données récupérées pour JFIN\n",
      "Données récupérées pour JFR\n",
      "Données récupérées pour JFU\n",
      "Données récupérées pour JG\n",
      "Données récupérées pour JGH\n",
      "Données récupérées pour JHG\n",
      "Données récupérées pour JHI\n",
      "Données récupérées pour JHS\n",
      "Données récupérées pour JHX\n",
      "Données récupérées pour JILL\n",
      "Données récupérées pour JJSF\n",
      "Données récupérées pour JKHY\n",
      "Données récupérées pour JKS\n",
      "Données récupérées pour JL\n",
      "Données récupérées pour JLL\n",
      "Données récupérées pour JLS\n",
      "Données récupérées pour JMIA\n",
      "Données récupérées pour JMM\n",
      "Données récupérées pour JMSB\n",
      "Données récupérées pour JNJ\n",
      "Données récupérées pour JNPR\n",
      "Données récupérées pour JNVR\n",
      "Données récupérées pour JOAN\n",
      "Données récupérées pour JOB\n",
      "Données récupérées pour JOBY\n",
      "Données récupérées pour JOE\n",
      "Données récupérées pour JOF\n",
      "Données récupérées pour JOUT\n",
      "Données récupérées pour JPC\n",
      "Données récupérées pour JPI\n",
      "Données récupérées pour JPM\n"
     ]
    },
    {
     "name": "stderr",
     "output_type": "stream",
     "text": [
      "404 Client Error: Not Found for url: https://query2.finance.yahoo.com/v10/finance/quoteSummary/JPM%5EC?modules=financialData%2CquoteType%2CdefaultKeyStatistics%2CassetProfile%2CsummaryDetail&corsDomain=finance.yahoo.com&formatted=false&symbol=JPM%5EC&crumb=znKJeXxQthY\n"
     ]
    },
    {
     "name": "stdout",
     "output_type": "stream",
     "text": [
      "Données récupérées pour JPM^C\n"
     ]
    },
    {
     "name": "stderr",
     "output_type": "stream",
     "text": [
      "404 Client Error: Not Found for url: https://query2.finance.yahoo.com/v10/finance/quoteSummary/JPM%5ED?modules=financialData%2CquoteType%2CdefaultKeyStatistics%2CassetProfile%2CsummaryDetail&corsDomain=finance.yahoo.com&formatted=false&symbol=JPM%5ED&crumb=znKJeXxQthY\n"
     ]
    },
    {
     "name": "stdout",
     "output_type": "stream",
     "text": [
      "Données récupérées pour JPM^D\n"
     ]
    },
    {
     "name": "stderr",
     "output_type": "stream",
     "text": [
      "404 Client Error: Not Found for url: https://query2.finance.yahoo.com/v10/finance/quoteSummary/JPM%5EJ?modules=financialData%2CquoteType%2CdefaultKeyStatistics%2CassetProfile%2CsummaryDetail&corsDomain=finance.yahoo.com&formatted=false&symbol=JPM%5EJ&crumb=znKJeXxQthY\n"
     ]
    },
    {
     "name": "stdout",
     "output_type": "stream",
     "text": [
      "Données récupérées pour JPM^J\n"
     ]
    },
    {
     "name": "stderr",
     "output_type": "stream",
     "text": [
      "404 Client Error: Not Found for url: https://query2.finance.yahoo.com/v10/finance/quoteSummary/JPM%5EK?modules=financialData%2CquoteType%2CdefaultKeyStatistics%2CassetProfile%2CsummaryDetail&corsDomain=finance.yahoo.com&formatted=false&symbol=JPM%5EK&crumb=znKJeXxQthY\n"
     ]
    },
    {
     "name": "stdout",
     "output_type": "stream",
     "text": [
      "Données récupérées pour JPM^K\n"
     ]
    },
    {
     "name": "stderr",
     "output_type": "stream",
     "text": [
      "404 Client Error: Not Found for url: https://query2.finance.yahoo.com/v10/finance/quoteSummary/JPM%5EL?modules=financialData%2CquoteType%2CdefaultKeyStatistics%2CassetProfile%2CsummaryDetail&corsDomain=finance.yahoo.com&formatted=false&symbol=JPM%5EL&crumb=znKJeXxQthY\n"
     ]
    },
    {
     "name": "stdout",
     "output_type": "stream",
     "text": [
      "Données récupérées pour JPM^L\n"
     ]
    },
    {
     "name": "stderr",
     "output_type": "stream",
     "text": [
      "404 Client Error: Not Found for url: https://query2.finance.yahoo.com/v10/finance/quoteSummary/JPM%5EM?modules=financialData%2CquoteType%2CdefaultKeyStatistics%2CassetProfile%2CsummaryDetail&corsDomain=finance.yahoo.com&formatted=false&symbol=JPM%5EM&crumb=znKJeXxQthY\n"
     ]
    },
    {
     "name": "stdout",
     "output_type": "stream",
     "text": [
      "Données récupérées pour JPM^M\n",
      "Données récupérées pour JQC\n",
      "Données récupérées pour JRI\n",
      "Données récupérées pour JRS\n",
      "Données récupérées pour JRSH\n",
      "Données récupérées pour JRVR\n",
      "Données récupérées pour JSM\n",
      "Données récupérées pour JSPR\n",
      "Données récupérées pour JSPRW\n",
      "Données récupérées pour JT\n",
      "Données récupérées pour JTAI\n",
      "Données récupérées pour JTAIW\n",
      "Données récupérées pour JTAIZ\n",
      "Données récupérées pour JVA\n",
      "Données récupérées pour JVSAU\n",
      "Données récupérées pour JWEL\n",
      "Données récupérées pour JWN\n",
      "Données récupérées pour JWSM\n",
      "Données récupérées pour JXJT\n",
      "Données récupérées pour JXN\n"
     ]
    },
    {
     "name": "stderr",
     "output_type": "stream",
     "text": [
      "404 Client Error: Not Found for url: https://query2.finance.yahoo.com/v10/finance/quoteSummary/JXN%5EA?modules=financialData%2CquoteType%2CdefaultKeyStatistics%2CassetProfile%2CsummaryDetail&corsDomain=finance.yahoo.com&formatted=false&symbol=JXN%5EA&crumb=znKJeXxQthY\n"
     ]
    },
    {
     "name": "stdout",
     "output_type": "stream",
     "text": [
      "Données récupérées pour JXN^A\n",
      "Données récupérées pour JYD\n",
      "Données récupérées pour JYNT\n",
      "Données récupérées pour JZ\n",
      "Données récupérées pour JZXN\n",
      "Données récupérées pour K\n",
      "Données récupérées pour KA\n",
      "Données récupérées pour KACL\n",
      "Données récupérées pour KAI\n",
      "Données récupérées pour KALA\n",
      "Données récupérées pour KALU\n",
      "Données récupérées pour KALV\n",
      "Données récupérées pour KAMN\n",
      "Données récupérées pour KAR\n",
      "Données récupérées pour KARO\n",
      "Données récupérées pour KAVL\n",
      "Données récupérées pour KB\n",
      "Données récupérées pour KBH\n",
      "Données récupérées pour KBR\n",
      "Données récupérées pour KC\n",
      "Données récupérées pour KD\n",
      "Données récupérées pour KDP\n",
      "Données récupérées pour KE\n",
      "Données récupérées pour KELYA\n",
      "Données récupérées pour KELYB\n",
      "Données récupérées pour KEN\n",
      "Données récupérées pour KEP\n",
      "Données récupérées pour KEQU\n",
      "Données récupérées pour KEX\n",
      "Données récupérées pour KEY\n"
     ]
    },
    {
     "name": "stderr",
     "output_type": "stream",
     "text": [
      "404 Client Error: Not Found for url: https://query2.finance.yahoo.com/v10/finance/quoteSummary/KEY%5EI?modules=financialData%2CquoteType%2CdefaultKeyStatistics%2CassetProfile%2CsummaryDetail&corsDomain=finance.yahoo.com&formatted=false&symbol=KEY%5EI&crumb=znKJeXxQthY\n"
     ]
    },
    {
     "name": "stdout",
     "output_type": "stream",
     "text": [
      "Données récupérées pour KEY^I\n"
     ]
    },
    {
     "name": "stderr",
     "output_type": "stream",
     "text": [
      "404 Client Error: Not Found for url: https://query2.finance.yahoo.com/v10/finance/quoteSummary/KEY%5EJ?modules=financialData%2CquoteType%2CdefaultKeyStatistics%2CassetProfile%2CsummaryDetail&corsDomain=finance.yahoo.com&formatted=false&symbol=KEY%5EJ&crumb=znKJeXxQthY\n"
     ]
    },
    {
     "name": "stdout",
     "output_type": "stream",
     "text": [
      "Données récupérées pour KEY^J\n"
     ]
    },
    {
     "name": "stderr",
     "output_type": "stream",
     "text": [
      "404 Client Error: Not Found for url: https://query2.finance.yahoo.com/v10/finance/quoteSummary/KEY%5EK?modules=financialData%2CquoteType%2CdefaultKeyStatistics%2CassetProfile%2CsummaryDetail&corsDomain=finance.yahoo.com&formatted=false&symbol=KEY%5EK&crumb=znKJeXxQthY\n"
     ]
    },
    {
     "name": "stdout",
     "output_type": "stream",
     "text": [
      "Données récupérées pour KEY^K\n"
     ]
    },
    {
     "name": "stderr",
     "output_type": "stream",
     "text": [
      "404 Client Error: Not Found for url: https://query2.finance.yahoo.com/v10/finance/quoteSummary/KEY%5EL?modules=financialData%2CquoteType%2CdefaultKeyStatistics%2CassetProfile%2CsummaryDetail&corsDomain=finance.yahoo.com&formatted=false&symbol=KEY%5EL&crumb=znKJeXxQthY\n"
     ]
    },
    {
     "name": "stdout",
     "output_type": "stream",
     "text": [
      "Données récupérées pour KEY^L\n",
      "Données récupérées pour KEYS\n",
      "Données récupérées pour KF\n",
      "Données récupérées pour KFFB\n",
      "Données récupérées pour KFRC\n",
      "Données récupérées pour KFS\n",
      "Données récupérées pour KFY\n",
      "Données récupérées pour KGC\n",
      "Données récupérées pour KGEI\n",
      "Données récupérées pour KGS\n",
      "Données récupérées pour KHC\n",
      "Données récupérées pour KIDS\n",
      "Données récupérées pour KIM\n"
     ]
    },
    {
     "name": "stderr",
     "output_type": "stream",
     "text": [
      "404 Client Error: Not Found for url: https://query2.finance.yahoo.com/v10/finance/quoteSummary/KIM%5EL?modules=financialData%2CquoteType%2CdefaultKeyStatistics%2CassetProfile%2CsummaryDetail&corsDomain=finance.yahoo.com&formatted=false&symbol=KIM%5EL&crumb=znKJeXxQthY\n"
     ]
    },
    {
     "name": "stdout",
     "output_type": "stream",
     "text": [
      "Données récupérées pour KIM^L\n"
     ]
    },
    {
     "name": "stderr",
     "output_type": "stream",
     "text": [
      "404 Client Error: Not Found for url: https://query2.finance.yahoo.com/v10/finance/quoteSummary/KIM%5EM?modules=financialData%2CquoteType%2CdefaultKeyStatistics%2CassetProfile%2CsummaryDetail&corsDomain=finance.yahoo.com&formatted=false&symbol=KIM%5EM&crumb=znKJeXxQthY\n"
     ]
    },
    {
     "name": "stdout",
     "output_type": "stream",
     "text": [
      "Données récupérées pour KIM^M\n"
     ]
    },
    {
     "name": "stderr",
     "output_type": "stream",
     "text": [
      "404 Client Error: Not Found for url: https://query2.finance.yahoo.com/v10/finance/quoteSummary/KIM%5EN?modules=financialData%2CquoteType%2CdefaultKeyStatistics%2CassetProfile%2CsummaryDetail&corsDomain=finance.yahoo.com&formatted=false&symbol=KIM%5EN&crumb=znKJeXxQthY\n"
     ]
    },
    {
     "name": "stdout",
     "output_type": "stream",
     "text": [
      "Données récupérées pour KIM^N\n",
      "Données récupérées pour KIND\n",
      "Données récupérées pour KINS\n",
      "Données récupérées pour KIO\n",
      "Données récupérées pour KIQ\n",
      "Données récupérées pour KIRK\n",
      "Données récupérées pour KITT\n",
      "Données récupérées pour KITTW\n",
      "Données récupérées pour KKR\n",
      "Données récupérées pour KKRS\n",
      "Données récupérées pour KLAC\n",
      "Données récupérées pour KLG\n",
      "Données récupérées pour KLIC\n",
      "Données récupérées pour KLTR\n",
      "Données récupérées pour KLXE\n",
      "Données récupérées pour KMB\n",
      "Données récupérées pour KMDA\n",
      "Données récupérées pour KMI\n",
      "Données récupérées pour KMPB\n",
      "Données récupérées pour KMPR\n",
      "Données récupérées pour KMT\n",
      "Données récupérées pour KMX\n",
      "Données récupérées pour KN\n",
      "Données récupérées pour KNDI\n",
      "Données récupérées pour KNF\n",
      "Données récupérées pour KNOP\n",
      "Données récupérées pour KNSA\n",
      "Données récupérées pour KNSL\n",
      "Données récupérées pour KNTE\n",
      "Données récupérées pour KNTK\n",
      "Données récupérées pour KNW\n",
      "Données récupérées pour KNX\n",
      "Données récupérées pour KO\n",
      "Données récupérées pour KOD\n",
      "Données récupérées pour KODK\n",
      "Données récupérées pour KOF\n",
      "Données récupérées pour KOP\n",
      "Données récupérées pour KOPN\n",
      "Données récupérées pour KORE\n",
      "Données récupérées pour KOS\n",
      "Données récupérées pour KOSS\n",
      "Données récupérées pour KPLT\n",
      "Données récupérées pour KPLTW\n",
      "Données récupérées pour KPRX\n",
      "Données récupérées pour KPTI\n",
      "Données récupérées pour KR\n",
      "Données récupérées pour KRC\n",
      "Données récupérées pour KREF\n"
     ]
    },
    {
     "name": "stderr",
     "output_type": "stream",
     "text": [
      "404 Client Error: Not Found for url: https://query2.finance.yahoo.com/v10/finance/quoteSummary/KREF%5EA?modules=financialData%2CquoteType%2CdefaultKeyStatistics%2CassetProfile%2CsummaryDetail&corsDomain=finance.yahoo.com&formatted=false&symbol=KREF%5EA&crumb=znKJeXxQthY\n"
     ]
    },
    {
     "name": "stdout",
     "output_type": "stream",
     "text": [
      "Données récupérées pour KREF^A\n",
      "Données récupérées pour KRG\n",
      "Données récupérées pour KRKR\n",
      "Données récupérées pour KRMD\n",
      "Données récupérées pour KRNL\n",
      "Données récupérées pour KRNLU\n",
      "Données récupérées pour KRNT\n",
      "Données récupérées pour KRNY\n",
      "Données récupérées pour KRO\n",
      "Données récupérées pour KRON\n",
      "Données récupérées pour KROS\n",
      "Données récupérées pour KRP\n",
      "Données récupérées pour KRRO\n",
      "Données récupérées pour KRT\n",
      "Données récupérées pour KRTX\n",
      "Données récupérées pour KRUS\n",
      "Données récupérées pour KRYS\n",
      "Données récupérées pour KSCP\n",
      "Données récupérées pour KSM\n",
      "Données récupérées pour KSPI\n",
      "Données récupérées pour KSS\n",
      "Données récupérées pour KT\n",
      "Données récupérées pour KTB\n",
      "Données récupérées pour KTCC\n",
      "Données récupérées pour KTF\n",
      "Données récupérées pour KTH\n",
      "Données récupérées pour KTN\n",
      "Données récupérées pour KTOS\n",
      "Données récupérées pour KTRA\n",
      "Données récupérées pour KTTA\n",
      "Données récupérées pour KTTAW\n",
      "Données récupérées pour KUKE\n",
      "Données récupérées pour KULR\n",
      "Données récupérées pour KURA\n",
      "Données récupérées pour KVAC\n",
      "Données récupérées pour KVACU\n",
      "Données récupérées pour KVHI\n",
      "Données récupérées pour KVUE\n",
      "Données récupérées pour KVYO\n",
      "Données récupérées pour KW\n",
      "Données récupérées pour KWE\n",
      "Données récupérées pour KWESW\n",
      "Données récupérées pour KWR\n",
      "Données récupérées pour KXIN\n",
      "Données récupérées pour KYCH\n",
      "Données récupérées pour KYMR\n",
      "Données récupérées pour KYN\n",
      "Données récupérées pour KYTX\n",
      "Données récupérées pour KZIA\n",
      "Données récupérées pour KZR\n",
      "Données récupérées pour L\n",
      "Données récupérées pour LAAC\n",
      "Données récupérées pour LAB\n",
      "Données récupérées pour LABP\n",
      "Données récupérées pour LAC\n",
      "Données récupérées pour LAD\n",
      "Données récupérées pour LADR\n",
      "Données récupérées pour LAES\n",
      "Données récupérées pour LAKE\n",
      "Données récupérées pour LAMR\n",
      "Données récupérées pour LANC\n",
      "Données récupérées pour LAND\n",
      "Données récupérées pour LANDM\n",
      "Données récupérées pour LANDO\n",
      "Données récupérées pour LANDP\n",
      "Données récupérées pour LANV\n",
      "Données récupérées pour LARK\n",
      "Données récupérées pour LASE\n",
      "Données récupérées pour LASR\n",
      "Données récupérées pour LATG\n",
      "Données récupérées pour LATGU\n",
      "Données récupérées pour LAUR\n",
      "Données récupérées pour LAW\n",
      "Données récupérées pour LAZ\n",
      "Données récupérées pour LAZR\n",
      "Données récupérées pour LBAI\n",
      "Données récupérées pour LBBB\n",
      "Données récupérées pour LBBBR\n",
      "Données récupérées pour LBBBU\n",
      "Données récupérées pour LBBBW\n",
      "Données récupérées pour LBC\n",
      "Données récupérées pour LBPH\n",
      "Données récupérées pour LBRDA\n",
      "Données récupérées pour LBRDK\n",
      "Données récupérées pour LBRDP\n",
      "Données récupérées pour LBRT\n",
      "Données récupérées pour LBTYA\n",
      "Données récupérées pour LBTYB\n",
      "Données récupérées pour LBTYK\n",
      "Données récupérées pour LC\n",
      "Données récupérées pour LCA\n",
      "Données récupérées pour LCAA\n",
      "Données récupérées pour LCAAW\n",
      "Données récupérées pour LCAHU\n",
      "Données récupérées pour LCAHW\n",
      "Données récupérées pour LCFY\n",
      "Données récupérées pour LCFYW\n",
      "Données récupérées pour LCID\n",
      "Données récupérées pour LCII\n",
      "Données récupérées pour LCNB\n",
      "Données récupérées pour LCTX\n",
      "Données récupérées pour LCUT\n",
      "Données récupérées pour LCW\n",
      "Données récupérées pour LDI\n",
      "Données récupérées pour LDOS\n",
      "Données récupérées pour LDP\n",
      "Données récupérées pour LDTC\n",
      "Données récupérées pour LDTCW\n",
      "Données récupérées pour LDWY\n",
      "Données récupérées pour LE\n",
      "Données récupérées pour LEA\n",
      "Données récupérées pour LECO\n",
      "Données récupérées pour LEDS\n",
      "Données récupérées pour LEE\n",
      "Données récupérées pour LEG\n",
      "Données récupérées pour LEGH\n",
      "Données récupérées pour LEGN\n",
      "Données récupérées pour LEJU\n",
      "Données récupérées pour LEN\n",
      "Données récupérées pour LEO\n",
      "Données récupérées pour LESL\n",
      "Données récupérées pour LEU\n",
      "Données récupérées pour LEV\n",
      "Données récupérées pour LEVI\n",
      "Données récupérées pour LEXX\n",
      "Données récupérées pour LEXXW\n",
      "Données récupérées pour LFCR\n",
      "Données récupérées pour LFLY\n",
      "Données récupérées pour LFLYW\n",
      "Données récupérées pour LFMD\n",
      "Données récupérées pour LFMDP\n",
      "Données récupérées pour LFST\n",
      "Données récupérées pour LFT\n"
     ]
    },
    {
     "name": "stderr",
     "output_type": "stream",
     "text": [
      "404 Client Error: Not Found for url: https://query2.finance.yahoo.com/v10/finance/quoteSummary/LFT%5EA?modules=financialData%2CquoteType%2CdefaultKeyStatistics%2CassetProfile%2CsummaryDetail&corsDomain=finance.yahoo.com&formatted=false&symbol=LFT%5EA&crumb=znKJeXxQthY\n"
     ]
    },
    {
     "name": "stdout",
     "output_type": "stream",
     "text": [
      "Données récupérées pour LFT^A\n",
      "Données récupérées pour LFUS\n",
      "Données récupérées pour LFVN\n",
      "Données récupérées pour LFWD\n",
      "Données récupérées pour LGCB\n",
      "Données récupérées pour LGHL\n",
      "Données récupérées pour LGHLW\n",
      "Données récupérées pour LGI\n",
      "Données récupérées pour LGIH\n",
      "Données récupérées pour LGL\n",
      "Données récupérées pour LGMK\n",
      "Données récupérées pour LGND\n",
      "Données récupérées pour LGO\n",
      "Données récupérées pour LGVC\n",
      "Données récupérées pour LGVCW\n",
      "Données récupérées pour LGVN\n",
      "Données récupérées pour LH\n",
      "Données récupérées pour LHX\n",
      "Données récupérées pour LI\n",
      "Données récupérées pour LIAN\n",
      "Données récupérées pour LIBY\n",
      "Données récupérées pour LIBYU\n",
      "Données récupérées pour LIBYW\n",
      "Données récupérées pour LICN\n",
      "Données récupérées pour LICY\n",
      "Données récupérées pour LIDR\n",
      "Données récupérées pour LIDRW\n",
      "Données récupérées pour LIFE\n",
      "Données récupérées pour LIFW\n",
      "Données récupérées pour LIFWW\n",
      "Données récupérées pour LIFWZ\n",
      "Données récupérées pour LII\n",
      "Données récupérées pour LILA\n",
      "Données récupérées pour LILAK\n",
      "Données récupérées pour LILM\n",
      "Données récupérées pour LILMW\n",
      "Données récupérées pour LIN\n",
      "Données récupérées pour LINC\n",
      "Données récupérées pour LIND\n",
      "Données récupérées pour LINK\n",
      "Données récupérées pour LIPO\n",
      "Données récupérées pour LIQT\n",
      "Données récupérées pour LITB\n",
      "Données récupérées pour LITE\n",
      "Données récupérées pour LITM\n",
      "Données récupérées pour LIVE\n",
      "Données récupérées pour LIVN\n",
      "Données récupérées pour LIXT\n",
      "Données récupérées pour LIXTW\n",
      "Données récupérées pour LKCO\n",
      "Données récupérées pour LKFN\n",
      "Données récupérées pour LKQ\n",
      "Données récupérées pour LL\n",
      "Données récupérées pour LLAP\n",
      "Données récupérées pour LLY\n",
      "Données récupérées pour LLYVA\n",
      "Données récupérées pour LLYVK\n",
      "Données récupérées pour LMAT\n",
      "Données récupérées pour LMB\n",
      "Données récupérées pour LMFA\n",
      "Données récupérées pour LMND\n",
      "Données récupérées pour LMNR\n",
      "Données récupérées pour LMT\n",
      "Données récupérées pour LNC\n"
     ]
    },
    {
     "name": "stderr",
     "output_type": "stream",
     "text": [
      "404 Client Error: Not Found for url: https://query2.finance.yahoo.com/v10/finance/quoteSummary/LNC%5ED?modules=financialData%2CquoteType%2CdefaultKeyStatistics%2CassetProfile%2CsummaryDetail&corsDomain=finance.yahoo.com&formatted=false&symbol=LNC%5ED&crumb=znKJeXxQthY\n"
     ]
    },
    {
     "name": "stdout",
     "output_type": "stream",
     "text": [
      "Données récupérées pour LNC^D\n",
      "Données récupérées pour LND\n",
      "Données récupérées pour LNG\n",
      "Données récupérées pour LNKB\n",
      "Données récupérées pour LNN\n",
      "Données récupérées pour LNSR\n",
      "Données récupérées pour LNT\n",
      "Données récupérées pour LNTH\n",
      "Données récupérées pour LNW\n",
      "Données récupérées pour LNZA\n",
      "Données récupérées pour LNZAW\n",
      "Données récupérées pour LOAN\n",
      "Données récupérées pour LOB\n",
      "Données récupérées pour LOCL\n",
      "Données récupérées pour LOCO\n",
      "Données récupérées pour LODE\n",
      "Données récupérées pour LOGI\n",
      "Données récupérées pour LOMA\n",
      "Données récupérées pour LOOP\n",
      "Données récupérées pour LOPE\n",
      "Données récupérées pour LOVE\n",
      "Données récupérées pour LOW\n",
      "Données récupérées pour LPCN\n",
      "Données récupérées pour LPG\n",
      "Données récupérées pour LPL\n",
      "Données récupérées pour LPLA\n",
      "Données récupérées pour LPRO\n",
      "Données récupérées pour LPSN\n",
      "Données récupérées pour LPTH\n",
      "Données récupérées pour LPTV\n",
      "Données récupérées pour LPTX\n",
      "Données récupérées pour LPX\n",
      "Données récupérées pour LQDA\n",
      "Données récupérées pour LQDT\n",
      "Données récupérées pour LQR\n",
      "Données récupérées pour LRCX\n",
      "Données récupérées pour LRE\n",
      "Données récupérées pour LRFC\n",
      "Données récupérées pour LRHC\n",
      "Données récupérées pour LRMR\n",
      "Données récupérées pour LRN\n",
      "Données récupérées pour LSAK\n",
      "Données récupérées pour LSBK\n",
      "Données récupérées pour LSCC\n",
      "Données récupérées pour LSDI\n",
      "Données récupérées pour LSEA\n",
      "Données récupérées pour LSEAW\n",
      "Données récupérées pour LSF\n",
      "Données récupérées pour LSPD\n",
      "Données récupérées pour LSTA\n",
      "Données récupérées pour LSTR\n",
      "Données récupérées pour LSXMA\n",
      "Données récupérées pour LSXMB\n",
      "Données récupérées pour LSXMK\n",
      "Données récupérées pour LTBR\n",
      "Données récupérées pour LTC\n",
      "Données récupérées pour LTH\n",
      "Données récupérées pour LTRN\n",
      "Données récupérées pour LTRX\n",
      "Données récupérées pour LTRY\n",
      "Données récupérées pour LTRYW\n",
      "Données récupérées pour LU\n",
      "Données récupérées pour LUCD\n",
      "Données récupérées pour LUCY\n",
      "Données récupérées pour LULU\n",
      "Données récupérées pour LUMN\n",
      "Données récupérées pour LUMO\n",
      "Données récupérées pour LUNA\n",
      "Données récupérées pour LUNG\n",
      "Données récupérées pour LUNR\n",
      "Données récupérées pour LUNRW\n",
      "Données récupérées pour LUV\n",
      "Données récupérées pour LUXH\n",
      "Données récupérées pour LUXHP\n",
      "Données récupérées pour LVLU\n",
      "Données récupérées pour LVO\n",
      "Données récupérées pour LVRO\n",
      "Données récupérées pour LVROW\n",
      "Données récupérées pour LVS\n",
      "Données récupérées pour LVTX\n",
      "Données récupérées pour LVWR\n",
      "Données récupérées pour LW\n",
      "Données récupérées pour LWAY\n",
      "Données récupérées pour LWLG\n",
      "Données récupérées pour LX\n",
      "Données récupérées pour LXEH\n",
      "Données récupérées pour LXEO\n",
      "Données récupérées pour LXFR\n",
      "Données récupérées pour LXP\n"
     ]
    },
    {
     "name": "stderr",
     "output_type": "stream",
     "text": [
      "404 Client Error: Not Found for url: https://query2.finance.yahoo.com/v10/finance/quoteSummary/LXP%5EC?modules=financialData%2CquoteType%2CdefaultKeyStatistics%2CassetProfile%2CsummaryDetail&corsDomain=finance.yahoo.com&formatted=false&symbol=LXP%5EC&crumb=znKJeXxQthY\n"
     ]
    },
    {
     "name": "stdout",
     "output_type": "stream",
     "text": [
      "Données récupérées pour LXP^C\n",
      "Données récupérées pour LXRX\n",
      "Données récupérées pour LXU\n",
      "Données récupérées pour LYB\n",
      "Données récupérées pour LYEL\n",
      "Données récupérées pour LYFT\n",
      "Données récupérées pour LYG\n",
      "Données récupérées pour LYRA\n",
      "Données récupérées pour LYT\n",
      "Données récupérées pour LYTS\n",
      "Données récupérées pour LYV\n",
      "Données récupérées pour LZ\n",
      "Données récupérées pour LZB\n",
      "Données récupérées pour LZM\n",
      "Données récupérées pour M\n",
      "Données récupérées pour MA\n",
      "Données récupérées pour MAA\n"
     ]
    },
    {
     "name": "stderr",
     "output_type": "stream",
     "text": [
      "404 Client Error: Not Found for url: https://query2.finance.yahoo.com/v10/finance/quoteSummary/MAA%5EI?modules=financialData%2CquoteType%2CdefaultKeyStatistics%2CassetProfile%2CsummaryDetail&corsDomain=finance.yahoo.com&formatted=false&symbol=MAA%5EI&crumb=znKJeXxQthY\n"
     ]
    },
    {
     "name": "stdout",
     "output_type": "stream",
     "text": [
      "Données récupérées pour MAA^I\n",
      "Données récupérées pour MAC\n",
      "Données récupérées pour MACA\n",
      "Données récupérées pour MACAW\n",
      "Données récupérées pour MACK\n",
      "Données récupérées pour MAG\n",
      "Données récupérées pour MAIA\n",
      "Données récupérées pour MAIN\n",
      "Données récupérées pour MAMA\n",
      "Données récupérées pour MAN\n",
      "Données récupérées pour MANH\n",
      "Données récupérées pour MANU\n",
      "Données récupérées pour MAPS\n",
      "Données récupérées pour MAPSW\n",
      "Données récupérées pour MAQC\n",
      "Données récupérées pour MAQCW\n",
      "Données récupérées pour MAR\n",
      "Données récupérées pour MARA\n",
      "Données récupérées pour MARPS\n",
      "Données récupérées pour MARX\n",
      "Données récupérées pour MAS\n",
      "Données récupérées pour MASI\n",
      "Données récupérées pour MASS\n",
      "Données récupérées pour MAT\n",
      "Données récupérées pour MATH\n",
      "Données récupérées pour MATV\n",
      "Données récupérées pour MATW\n",
      "Données récupérées pour MATX\n",
      "Données récupérées pour MAV\n",
      "Données récupérées pour MAX\n",
      "Données récupérées pour MAXN\n",
      "Données récupérées pour MAYS\n",
      "Données récupérées pour MBC\n",
      "Données récupérées pour MBCN\n",
      "Données récupérées pour MBI\n",
      "Données récupérées pour MBIN\n",
      "Données récupérées pour MBINM\n",
      "Données récupérées pour MBINN\n",
      "Données récupérées pour MBINO\n",
      "Données récupérées pour MBINP\n",
      "Données récupérées pour MBIO\n",
      "Données récupérées pour MBLY\n",
      "Données récupérées pour MBNKP\n",
      "Données récupérées pour MBOT\n",
      "Données récupérées pour MBRX\n",
      "Données récupérées pour MBTC\n",
      "Données récupérées pour MBTCR\n",
      "Données récupérées pour MBUU\n",
      "Données récupérées pour MBWM\n",
      "Données récupérées pour MC\n",
      "Données récupérées pour MCAA\n",
      "Données récupérées pour MCAAW\n",
      "Données récupérées pour MCAC\n",
      "Données récupérées pour MCACW\n",
      "Données récupérées pour MCAF\n",
      "Données récupérées pour MCAFR\n",
      "Données récupérées pour MCAFU\n",
      "Données récupérées pour MCAG\n",
      "Données récupérées pour MCB\n",
      "Données récupérées pour MCBC\n",
      "Données récupérées pour MCBS\n",
      "Données récupérées pour MCD\n",
      "Données récupérées pour MCFT\n",
      "Données récupérées pour MCHP\n",
      "Données récupérées pour MCHX\n",
      "Données récupérées pour MCI\n",
      "Données récupérées pour MCK\n",
      "Données récupérées pour MCN\n",
      "Données récupérées pour MCO\n",
      "Données récupérées pour MCR\n",
      "Données récupérées pour MCRB\n",
      "Données récupérées pour MCRI\n",
      "Données récupérées pour MCS\n",
      "Données récupérées pour MCVT\n",
      "Données récupérées pour MCW\n",
      "Données récupérées pour MCY\n",
      "Données récupérées pour MD\n",
      "Données récupérées pour MDAI\n",
      "Données récupérées pour MDAIW\n",
      "Données récupérées pour MDB\n",
      "Données récupérées pour MDBH\n",
      "Données récupérées pour MDC\n",
      "Données récupérées pour MDGL\n",
      "Données récupérées pour MDGS\n",
      "Données récupérées pour MDIA\n",
      "Données récupérées pour MDJH\n",
      "Données récupérées pour MDLZ\n",
      "Données récupérées pour MDRR\n",
      "Données récupérées pour MDRRP\n",
      "Données récupérées pour MDRX\n",
      "Données récupérées pour MDT\n",
      "Données récupérées pour MDU\n",
      "Données récupérées pour MDV\n"
     ]
    },
    {
     "name": "stderr",
     "output_type": "stream",
     "text": [
      "404 Client Error: Not Found for url: https://query2.finance.yahoo.com/v10/finance/quoteSummary/MDV%5EA?modules=financialData%2CquoteType%2CdefaultKeyStatistics%2CassetProfile%2CsummaryDetail&corsDomain=finance.yahoo.com&formatted=false&symbol=MDV%5EA&crumb=znKJeXxQthY\n"
     ]
    },
    {
     "name": "stdout",
     "output_type": "stream",
     "text": [
      "Données récupérées pour MDV^A\n",
      "Données récupérées pour MDWD\n",
      "Données récupérées pour MDXG\n",
      "Données récupérées pour MDXH\n",
      "Données récupérées pour ME\n",
      "Données récupérées pour MEC\n",
      "Données récupérées pour MED\n",
      "Données récupérées pour MEDP\n",
      "Données récupérées pour MEDS\n",
      "Données récupérées pour MEG\n",
      "Données récupérées pour MEGI\n",
      "Données récupérées pour MEGL\n",
      "Données récupérées pour MEI\n",
      "Données récupérées pour MEIP\n",
      "Données récupérées pour MELI\n",
      "Données récupérées pour MEOH\n"
     ]
    },
    {
     "name": "stderr",
     "output_type": "stream",
     "text": [
      "404 Client Error: Not Found for url: https://query2.finance.yahoo.com/v10/finance/quoteSummary/MER%5EK?modules=financialData%2CquoteType%2CdefaultKeyStatistics%2CassetProfile%2CsummaryDetail&corsDomain=finance.yahoo.com&formatted=false&symbol=MER%5EK&crumb=znKJeXxQthY\n"
     ]
    },
    {
     "name": "stdout",
     "output_type": "stream",
     "text": [
      "Données récupérées pour MER^K\n",
      "Données récupérées pour MERC\n",
      "Données récupérées pour MESA\n",
      "Données récupérées pour MESO\n",
      "Données récupérées pour MET\n"
     ]
    },
    {
     "name": "stderr",
     "output_type": "stream",
     "text": [
      "404 Client Error: Not Found for url: https://query2.finance.yahoo.com/v10/finance/quoteSummary/MET%5EA?modules=financialData%2CquoteType%2CdefaultKeyStatistics%2CassetProfile%2CsummaryDetail&corsDomain=finance.yahoo.com&formatted=false&symbol=MET%5EA&crumb=znKJeXxQthY\n"
     ]
    },
    {
     "name": "stdout",
     "output_type": "stream",
     "text": [
      "Données récupérées pour MET^A\n"
     ]
    },
    {
     "name": "stderr",
     "output_type": "stream",
     "text": [
      "404 Client Error: Not Found for url: https://query2.finance.yahoo.com/v10/finance/quoteSummary/MET%5EE?modules=financialData%2CquoteType%2CdefaultKeyStatistics%2CassetProfile%2CsummaryDetail&corsDomain=finance.yahoo.com&formatted=false&symbol=MET%5EE&crumb=znKJeXxQthY\n"
     ]
    },
    {
     "name": "stdout",
     "output_type": "stream",
     "text": [
      "Données récupérées pour MET^E\n"
     ]
    },
    {
     "name": "stderr",
     "output_type": "stream",
     "text": [
      "404 Client Error: Not Found for url: https://query2.finance.yahoo.com/v10/finance/quoteSummary/MET%5EF?modules=financialData%2CquoteType%2CdefaultKeyStatistics%2CassetProfile%2CsummaryDetail&corsDomain=finance.yahoo.com&formatted=false&symbol=MET%5EF&crumb=znKJeXxQthY\n"
     ]
    },
    {
     "name": "stdout",
     "output_type": "stream",
     "text": [
      "Données récupérées pour MET^F\n",
      "Données récupérées pour META\n",
      "Données récupérées pour METC\n",
      "Données récupérées pour METCB\n",
      "Données récupérées pour METCL\n",
      "Données récupérées pour MFA\n"
     ]
    },
    {
     "name": "stderr",
     "output_type": "stream",
     "text": [
      "404 Client Error: Not Found for url: https://query2.finance.yahoo.com/v10/finance/quoteSummary/MFA%5EB?modules=financialData%2CquoteType%2CdefaultKeyStatistics%2CassetProfile%2CsummaryDetail&corsDomain=finance.yahoo.com&formatted=false&symbol=MFA%5EB&crumb=znKJeXxQthY\n"
     ]
    },
    {
     "name": "stdout",
     "output_type": "stream",
     "text": [
      "Données récupérées pour MFA^B\n"
     ]
    },
    {
     "name": "stderr",
     "output_type": "stream",
     "text": [
      "404 Client Error: Not Found for url: https://query2.finance.yahoo.com/v10/finance/quoteSummary/MFA%5EC?modules=financialData%2CquoteType%2CdefaultKeyStatistics%2CassetProfile%2CsummaryDetail&corsDomain=finance.yahoo.com&formatted=false&symbol=MFA%5EC&crumb=znKJeXxQthY\n"
     ]
    },
    {
     "name": "stdout",
     "output_type": "stream",
     "text": [
      "Données récupérées pour MFA^C\n",
      "Données récupérées pour MFAN\n",
      "Données récupérées pour MFC\n",
      "Données récupérées pour MFD\n",
      "Données récupérées pour MFG\n",
      "Données récupérées pour MFH\n",
      "Données récupérées pour MFIC\n",
      "Données récupérées pour MFICL\n",
      "Données récupérées pour MFIN\n",
      "Données récupérées pour MFM\n",
      "Données récupérées pour MFV\n",
      "Données récupérées pour MG\n",
      "Données récupérées pour MGA\n",
      "Données récupérées pour MGAM\n",
      "Données récupérées pour MGEE\n",
      "Données récupérées pour MGF\n",
      "Données récupérées pour MGIC\n",
      "Données récupérées pour MGIH\n",
      "Données récupérées pour MGLD\n",
      "Données récupérées pour MGM\n",
      "Données récupérées pour MGNI\n",
      "Données récupérées pour MGNX\n",
      "Données récupérées pour MGOL\n",
      "Données récupérées pour MGPI\n",
      "Données récupérées pour MGR\n",
      "Données récupérées pour MGRB\n",
      "Données récupérées pour MGRC\n",
      "Données récupérées pour MGRD\n",
      "Données récupérées pour MGRM\n",
      "Données récupérées pour MGRX\n",
      "Données récupérées pour MGTX\n",
      "Données récupérées pour MGX\n",
      "Données récupérées pour MGY\n",
      "Données récupérées pour MGYR\n",
      "Données récupérées pour MHD\n",
      "Données récupérées pour MHF\n",
      "Données récupérées pour MHH\n",
      "Données récupérées pour MHI\n",
      "Données récupérées pour MHK\n",
      "Données récupérées pour MHLA\n",
      "Données récupérées pour MHLD\n",
      "Données récupérées pour MHN\n",
      "Données récupérées pour MHNC\n",
      "Données récupérées pour MHO\n",
      "Données récupérées pour MHUA\n",
      "Données récupérées pour MI\n",
      "Données récupérées pour MICS\n",
      "Données récupérées pour MIDD\n",
      "Données récupérées pour MIGI\n",
      "Données récupérées pour MIMO\n",
      "Données récupérées pour MIN\n",
      "Données récupérées pour MIND\n",
      "Données récupérées pour MINDP\n",
      "Données récupérées pour MINM\n",
      "Données récupérées pour MIO\n",
      "Données récupérées pour MIR\n",
      "Données récupérées pour MIRA\n",
      "Données récupérées pour MIRM\n",
      "Données récupérées pour MIST\n",
      "Données récupérées pour MITA\n",
      "Données récupérées pour MITK\n",
      "Données récupérées pour MITN\n",
      "Données récupérées pour MITQ\n",
      "Données récupérées pour MITT\n"
     ]
    },
    {
     "name": "stderr",
     "output_type": "stream",
     "text": [
      "404 Client Error: Not Found for url: https://query2.finance.yahoo.com/v10/finance/quoteSummary/MITT%5EA?modules=financialData%2CquoteType%2CdefaultKeyStatistics%2CassetProfile%2CsummaryDetail&corsDomain=finance.yahoo.com&formatted=false&symbol=MITT%5EA&crumb=znKJeXxQthY\n"
     ]
    },
    {
     "name": "stdout",
     "output_type": "stream",
     "text": [
      "Données récupérées pour MITT^A\n"
     ]
    },
    {
     "name": "stderr",
     "output_type": "stream",
     "text": [
      "404 Client Error: Not Found for url: https://query2.finance.yahoo.com/v10/finance/quoteSummary/MITT%5EB?modules=financialData%2CquoteType%2CdefaultKeyStatistics%2CassetProfile%2CsummaryDetail&corsDomain=finance.yahoo.com&formatted=false&symbol=MITT%5EB&crumb=znKJeXxQthY\n"
     ]
    },
    {
     "name": "stdout",
     "output_type": "stream",
     "text": [
      "Données récupérées pour MITT^B\n"
     ]
    },
    {
     "name": "stderr",
     "output_type": "stream",
     "text": [
      "404 Client Error: Not Found for url: https://query2.finance.yahoo.com/v10/finance/quoteSummary/MITT%5EC?modules=financialData%2CquoteType%2CdefaultKeyStatistics%2CassetProfile%2CsummaryDetail&corsDomain=finance.yahoo.com&formatted=false&symbol=MITT%5EC&crumb=znKJeXxQthY\n"
     ]
    },
    {
     "name": "stdout",
     "output_type": "stream",
     "text": [
      "Données récupérées pour MITT^C\n",
      "Données récupérées pour MIXT\n",
      "Données récupérées pour MIY\n",
      "Données récupérées pour MKC\n",
      "Données récupérées pour MKFG\n",
      "Données récupérées pour MKL\n",
      "Données récupérées pour MKSI\n",
      "Données récupérées pour MKTW\n",
      "Données récupérées pour MKTX\n",
      "Données récupérées pour ML\n",
      "Données récupérées pour MLAB\n",
      "Données récupérées pour MLCO\n",
      "Données récupérées pour MLEC\n",
      "Données récupérées pour MLGO\n",
      "Données récupérées pour MLI\n",
      "Données récupérées pour MLKN\n",
      "Données récupérées pour MLM\n",
      "Données récupérées pour MLNK\n",
      "Données récupérées pour MLP\n",
      "Données récupérées pour MLR\n",
      "Données récupérées pour MLSS\n",
      "Données récupérées pour MLTX\n",
      "Données récupérées pour MLYS\n",
      "Données récupérées pour MMAT\n",
      "Données récupérées pour MMC\n",
      "Données récupérées pour MMD\n",
      "Données récupérées pour MMI\n",
      "Données récupérées pour MMLP\n",
      "Données récupérées pour MMM\n",
      "Données récupérées pour MMS\n",
      "Données récupérées pour MMSI\n",
      "Données récupérées pour MMT\n",
      "Données récupérées pour MMU\n",
      "Données récupérées pour MMV\n",
      "Données récupérées pour MMVWW\n",
      "Données récupérées pour MMYT\n",
      "Données récupérées pour MNDO\n",
      "Données récupérées pour MNDY\n",
      "Données récupérées pour MNKD\n",
      "Données récupérées pour MNMD\n",
      "Données récupérées pour MNOV\n",
      "Données récupérées pour MNPR\n",
      "Données récupérées pour MNR\n",
      "Données récupérées pour MNRO\n",
      "Données récupérées pour MNSB\n",
      "Données récupérées pour MNSBP\n",
      "Données récupérées pour MNSO\n",
      "Données récupérées pour MNST\n",
      "Données récupérées pour MNTK\n",
      "Données récupérées pour MNTN\n",
      "Données récupérées pour MNTS\n",
      "Données récupérées pour MNTSW\n",
      "Données récupérées pour MNTX\n",
      "Données récupérées pour MNY\n",
      "Données récupérées pour MNYWW\n",
      "Données récupérées pour MO\n",
      "Données récupérées pour MOB\n",
      "Données récupérées pour MOBBW\n",
      "Données récupérées pour MOBX\n",
      "Données récupérées pour MOBXW\n",
      "Données récupérées pour MOD\n",
      "Données récupérées pour MODD\n",
      "Données récupérées pour MODG\n",
      "Données récupérées pour MODN\n",
      "Données récupérées pour MODV\n",
      "Données récupérées pour MOFG\n",
      "Données récupérées pour MOGO\n",
      "Données récupérées pour MOGU\n",
      "Données récupérées pour MOH\n",
      "Données récupérées pour MOLN\n",
      "Données récupérées pour MOMO\n",
      "Données récupérées pour MOND\n",
      "Données récupérées pour MOR\n",
      "Données récupérées pour MORF\n",
      "Données récupérées pour MORN\n",
      "Données récupérées pour MOS\n",
      "Données récupérées pour MOTS\n",
      "Données récupérées pour MOV\n",
      "Données récupérées pour MOVE\n",
      "Données récupérées pour MP\n",
      "Données récupérées pour MPA\n",
      "Données récupérées pour MPAA\n",
      "Données récupérées pour MPB\n",
      "Données récupérées pour MPC\n",
      "Données récupérées pour MPLN\n",
      "Données récupérées pour MPLX\n",
      "Données récupérées pour MPTI\n",
      "Données récupérées pour MPU\n",
      "Données récupérées pour MPV\n",
      "Données récupérées pour MPW\n",
      "Données récupérées pour MPWR\n",
      "Données récupérées pour MPX\n",
      "Données récupérées pour MQ\n",
      "Données récupérées pour MQT\n",
      "Données récupérées pour MQY\n",
      "Données récupérées pour MRAI\n",
      "Données récupérées pour MRAM\n",
      "Données récupérées pour MRBK\n",
      "Données récupérées pour MRC\n",
      "Données récupérées pour MRCC\n",
      "Données récupérées pour MRCY\n",
      "Données récupérées pour MRDB\n",
      "Données récupérées pour MREO\n",
      "Données récupérées pour MRIN\n",
      "Données récupérées pour MRK\n",
      "Données récupérées pour MRKR\n",
      "Données récupérées pour MRM\n",
      "Données récupérées pour MRNA\n",
      "Données récupérées pour MRNS\n",
      "Données récupérées pour MRO\n",
      "Données récupérées pour MRSN\n",
      "Données récupérées pour MRT\n",
      "Données récupérées pour MRTN\n",
      "Données récupérées pour MRUS\n",
      "Données récupérées pour MRVI\n",
      "Données récupérées pour MRVL\n",
      "Données récupérées pour MS\n"
     ]
    },
    {
     "name": "stderr",
     "output_type": "stream",
     "text": [
      "404 Client Error: Not Found for url: https://query2.finance.yahoo.com/v10/finance/quoteSummary/MS%5EA?modules=financialData%2CquoteType%2CdefaultKeyStatistics%2CassetProfile%2CsummaryDetail&corsDomain=finance.yahoo.com&formatted=false&symbol=MS%5EA&crumb=znKJeXxQthY\n"
     ]
    },
    {
     "name": "stdout",
     "output_type": "stream",
     "text": [
      "Données récupérées pour MS^A\n"
     ]
    },
    {
     "name": "stderr",
     "output_type": "stream",
     "text": [
      "404 Client Error: Not Found for url: https://query2.finance.yahoo.com/v10/finance/quoteSummary/MS%5EE?modules=financialData%2CquoteType%2CdefaultKeyStatistics%2CassetProfile%2CsummaryDetail&corsDomain=finance.yahoo.com&formatted=false&symbol=MS%5EE&crumb=znKJeXxQthY\n"
     ]
    },
    {
     "name": "stdout",
     "output_type": "stream",
     "text": [
      "Données récupérées pour MS^E\n"
     ]
    },
    {
     "name": "stderr",
     "output_type": "stream",
     "text": [
      "404 Client Error: Not Found for url: https://query2.finance.yahoo.com/v10/finance/quoteSummary/MS%5EF?modules=financialData%2CquoteType%2CdefaultKeyStatistics%2CassetProfile%2CsummaryDetail&corsDomain=finance.yahoo.com&formatted=false&symbol=MS%5EF&crumb=znKJeXxQthY\n"
     ]
    },
    {
     "name": "stdout",
     "output_type": "stream",
     "text": [
      "Données récupérées pour MS^F\n"
     ]
    },
    {
     "name": "stderr",
     "output_type": "stream",
     "text": [
      "404 Client Error: Not Found for url: https://query2.finance.yahoo.com/v10/finance/quoteSummary/MS%5EI?modules=financialData%2CquoteType%2CdefaultKeyStatistics%2CassetProfile%2CsummaryDetail&corsDomain=finance.yahoo.com&formatted=false&symbol=MS%5EI&crumb=znKJeXxQthY\n"
     ]
    },
    {
     "name": "stdout",
     "output_type": "stream",
     "text": [
      "Données récupérées pour MS^I\n"
     ]
    },
    {
     "name": "stderr",
     "output_type": "stream",
     "text": [
      "404 Client Error: Not Found for url: https://query2.finance.yahoo.com/v10/finance/quoteSummary/MS%5EK?modules=financialData%2CquoteType%2CdefaultKeyStatistics%2CassetProfile%2CsummaryDetail&corsDomain=finance.yahoo.com&formatted=false&symbol=MS%5EK&crumb=znKJeXxQthY\n"
     ]
    },
    {
     "name": "stdout",
     "output_type": "stream",
     "text": [
      "Données récupérées pour MS^K\n"
     ]
    },
    {
     "name": "stderr",
     "output_type": "stream",
     "text": [
      "404 Client Error: Not Found for url: https://query2.finance.yahoo.com/v10/finance/quoteSummary/MS%5EL?modules=financialData%2CquoteType%2CdefaultKeyStatistics%2CassetProfile%2CsummaryDetail&corsDomain=finance.yahoo.com&formatted=false&symbol=MS%5EL&crumb=znKJeXxQthY\n"
     ]
    },
    {
     "name": "stdout",
     "output_type": "stream",
     "text": [
      "Données récupérées pour MS^L\n"
     ]
    },
    {
     "name": "stderr",
     "output_type": "stream",
     "text": [
      "404 Client Error: Not Found for url: https://query2.finance.yahoo.com/v10/finance/quoteSummary/MS%5EO?modules=financialData%2CquoteType%2CdefaultKeyStatistics%2CassetProfile%2CsummaryDetail&corsDomain=finance.yahoo.com&formatted=false&symbol=MS%5EO&crumb=znKJeXxQthY\n"
     ]
    },
    {
     "name": "stdout",
     "output_type": "stream",
     "text": [
      "Données récupérées pour MS^O\n"
     ]
    },
    {
     "name": "stderr",
     "output_type": "stream",
     "text": [
      "404 Client Error: Not Found for url: https://query2.finance.yahoo.com/v10/finance/quoteSummary/MS%5EP?modules=financialData%2CquoteType%2CdefaultKeyStatistics%2CassetProfile%2CsummaryDetail&corsDomain=finance.yahoo.com&formatted=false&symbol=MS%5EP&crumb=znKJeXxQthY\n"
     ]
    },
    {
     "name": "stdout",
     "output_type": "stream",
     "text": [
      "Données récupérées pour MS^P\n",
      "Données récupérées pour MSA\n",
      "Données récupérées pour MSAI\n",
      "Données récupérées pour MSAIW\n",
      "Données récupérées pour MSB\n",
      "Données récupérées pour MSBI\n",
      "Données récupérées pour MSBIP\n",
      "Données récupérées pour MSC\n",
      "Données récupérées pour MSCI\n",
      "Données récupérées pour MSD\n",
      "Données récupérées pour MSDL\n",
      "Données récupérées pour MSEX\n",
      "Données récupérées pour MSFT\n",
      "Données récupérées pour MSGE\n",
      "Données récupérées pour MSGM\n",
      "Données récupérées pour MSGS\n",
      "Données récupérées pour MSI\n",
      "Données récupérées pour MSM\n",
      "Données récupérées pour MSN\n",
      "Données récupérées pour MSS\n",
      "Données récupérées pour MSSA\n",
      "Données récupérées pour MSSAW\n",
      "Données récupérées pour MSTR\n",
      "Données récupérées pour MT\n",
      "Données récupérées pour MTA\n",
      "Données récupérées pour MTAL\n",
      "Données récupérées pour MTB\n"
     ]
    },
    {
     "name": "stderr",
     "output_type": "stream",
     "text": [
      "404 Client Error: Not Found for url: https://query2.finance.yahoo.com/v10/finance/quoteSummary/MTB%5EH?modules=financialData%2CquoteType%2CdefaultKeyStatistics%2CassetProfile%2CsummaryDetail&corsDomain=finance.yahoo.com&formatted=false&symbol=MTB%5EH&crumb=znKJeXxQthY\n"
     ]
    },
    {
     "name": "stdout",
     "output_type": "stream",
     "text": [
      "Données récupérées pour MTB^H\n",
      "Données récupérées pour MTBL\n",
      "Données récupérées pour MTC\n",
      "Données récupérées pour MTCH\n",
      "Données récupérées pour MTD\n",
      "Données récupérées pour MTDR\n",
      "Données récupérées pour MTEK\n",
      "Données récupérées pour MTEKW\n",
      "Données récupérées pour MTEM\n",
      "Données récupérées pour MTEX\n",
      "Données récupérées pour MTG\n",
      "Données récupérées pour MTH\n",
      "Données récupérées pour MTLS\n",
      "Données récupérées pour MTN\n",
      "Données récupérées pour MTNB\n",
      "Données récupérées pour MTR\n",
      "Données récupérées pour MTRN\n",
      "Données récupérées pour MTRX\n",
      "Données récupérées pour MTSI\n",
      "Données récupérées pour MTTR\n",
      "Données récupérées pour MTW\n",
      "Données récupérées pour MTX\n",
      "Données récupérées pour MTZ\n",
      "Données récupérées pour MU\n",
      "Données récupérées pour MUA\n",
      "Données récupérées pour MUC\n",
      "Données récupérées pour MUE\n",
      "Données récupérées pour MUFG\n",
      "Données récupérées pour MUI\n",
      "Données récupérées pour MUJ\n",
      "Données récupérées pour MULN\n",
      "Données récupérées pour MUR\n",
      "Données récupérées pour MURA\n",
      "Données récupérées pour MUSA\n",
      "Données récupérées pour MUX\n",
      "Données récupérées pour MVBF\n",
      "Données récupérées pour MVF\n",
      "Données récupérées pour MVIS\n",
      "Données récupérées pour MVLA\n",
      "Données récupérées pour MVLAW\n",
      "Données récupérées pour MVO\n",
      "Données récupérées pour MVST\n",
      "Données récupérées pour MVSTW\n",
      "Données récupérées pour MVT\n",
      "Données récupérées pour MWA\n",
      "Données récupérées pour MWG\n",
      "Données récupérées pour MX\n",
      "Données récupérées pour MXC\n",
      "Données récupérées pour MXCT\n",
      "Données récupérées pour MXE\n",
      "Données récupérées pour MXF\n",
      "Données récupérées pour MXL\n",
      "Données récupérées pour MYD\n",
      "Données récupérées pour MYE\n",
      "Données récupérées pour MYFW\n",
      "Données récupérées pour MYGN\n",
      "Données récupérées pour MYI\n",
      "Données récupérées pour MYMD\n",
      "Données récupérées pour MYN\n",
      "Données récupérées pour MYNA\n",
      "Données récupérées pour MYND\n",
      "Données récupérées pour MYNZ\n",
      "Données récupérées pour MYO\n",
      "Données récupérées pour MYPS\n",
      "Données récupérées pour MYPSW\n",
      "Données récupérées pour MYRG\n",
      "Données récupérées pour MYSZ\n",
      "Données récupérées pour MYTE\n",
      "Erreur lors de la récupération des données pour nan: 'float' object has no attribute 'upper'\n",
      "Données récupérées pour NAAS\n",
      "Données récupérées pour NABL\n",
      "Données récupérées pour NAC\n",
      "Données récupérées pour NAD\n",
      "Données récupérées pour NAII\n",
      "Données récupérées pour NAK\n",
      "Données récupérées pour NAMS\n",
      "Données récupérées pour NAMSW\n",
      "Données récupérées pour NAN\n",
      "Données récupérées pour NAOV\n",
      "Données récupérées pour NAPA\n",
      "Données récupérées pour NARI\n",
      "Données récupérées pour NAT\n",
      "Données récupérées pour NATH\n",
      "Données récupérées pour NATL\n",
      "Données récupérées pour NATR\n",
      "Données récupérées pour NAUT\n",
      "Données récupérées pour NAVI\n",
      "Données récupérées pour NAZ\n",
      "Données récupérées pour NB\n",
      "Données récupérées pour NBB\n",
      "Données récupérées pour NBBK\n",
      "Données récupérées pour NBH\n",
      "Données récupérées pour NBHC\n",
      "Données récupérées pour NBIX\n",
      "Données récupérées pour NBN\n",
      "Données récupérées pour NBR\n",
      "Données récupérées pour NBSE\n",
      "Données récupérées pour NBST\n",
      "Données récupérées pour NBSTW\n",
      "Données récupérées pour NBTB\n",
      "Données récupérées pour NBTX\n",
      "Données récupérées pour NBXG\n",
      "Données récupérées pour NBY\n",
      "Données récupérées pour NC\n",
      "Données récupérées pour NCA\n",
      "Données récupérées pour NCDL\n",
      "Données récupérées pour NCL\n",
      "Données récupérées pour NCLH\n",
      "Données récupérées pour NCMI\n",
      "Données récupérées pour NCNA\n",
      "Données récupérées pour NCNC\n",
      "Données récupérées pour NCNCW\n",
      "Données récupérées pour NCNO\n",
      "Données récupérées pour NCPL\n",
      "Données récupérées pour NCPLW\n",
      "Données récupérées pour NCRA\n",
      "Données récupérées pour NCSM\n",
      "Données récupérées pour NCTY\n",
      "Données récupérées pour NCV\n"
     ]
    },
    {
     "name": "stderr",
     "output_type": "stream",
     "text": [
      "404 Client Error: Not Found for url: https://query2.finance.yahoo.com/v10/finance/quoteSummary/NCV%5EA?modules=financialData%2CquoteType%2CdefaultKeyStatistics%2CassetProfile%2CsummaryDetail&corsDomain=finance.yahoo.com&formatted=false&symbol=NCV%5EA&crumb=znKJeXxQthY\n"
     ]
    },
    {
     "name": "stdout",
     "output_type": "stream",
     "text": [
      "Données récupérées pour NCV^A\n",
      "Données récupérées pour NCZ\n"
     ]
    },
    {
     "name": "stderr",
     "output_type": "stream",
     "text": [
      "404 Client Error: Not Found for url: https://query2.finance.yahoo.com/v10/finance/quoteSummary/NCZ%5EA?modules=financialData%2CquoteType%2CdefaultKeyStatistics%2CassetProfile%2CsummaryDetail&corsDomain=finance.yahoo.com&formatted=false&symbol=NCZ%5EA&crumb=znKJeXxQthY\n"
     ]
    },
    {
     "name": "stdout",
     "output_type": "stream",
     "text": [
      "Données récupérées pour NCZ^A\n",
      "Données récupérées pour NDAQ\n",
      "Données récupérées pour NDLS\n",
      "Données récupérées pour NDMO\n",
      "Données récupérées pour NDP\n",
      "Données récupérées pour NDRA\n",
      "Données récupérées pour NDSN\n",
      "Données récupérées pour NE\n",
      "Données récupérées pour NEA\n",
      "Données récupérées pour NECB\n",
      "Données récupérées pour NEE\n"
     ]
    },
    {
     "name": "stderr",
     "output_type": "stream",
     "text": [
      "404 Client Error: Not Found for url: https://query2.finance.yahoo.com/v10/finance/quoteSummary/NEE%5EN?modules=financialData%2CquoteType%2CdefaultKeyStatistics%2CassetProfile%2CsummaryDetail&corsDomain=finance.yahoo.com&formatted=false&symbol=NEE%5EN&crumb=znKJeXxQthY\n"
     ]
    },
    {
     "name": "stdout",
     "output_type": "stream",
     "text": [
      "Données récupérées pour NEE^N\n"
     ]
    },
    {
     "name": "stderr",
     "output_type": "stream",
     "text": [
      "404 Client Error: Not Found for url: https://query2.finance.yahoo.com/v10/finance/quoteSummary/NEE%5ER?modules=financialData%2CquoteType%2CdefaultKeyStatistics%2CassetProfile%2CsummaryDetail&corsDomain=finance.yahoo.com&formatted=false&symbol=NEE%5ER&crumb=znKJeXxQthY\n"
     ]
    },
    {
     "name": "stdout",
     "output_type": "stream",
     "text": [
      "Données récupérées pour NEE^R\n",
      "Données récupérées pour NEGG\n",
      "Données récupérées pour NEM\n",
      "Données récupérées pour NEN\n",
      "Données récupérées pour NEO\n",
      "Données récupérées pour NEOG\n",
      "Données récupérées pour NEON\n",
      "Données récupérées pour NEOV\n",
      "Données récupérées pour NEOVW\n",
      "Données récupérées pour NEP\n",
      "Données récupérées pour NEPH\n",
      "Données récupérées pour NEPT\n",
      "Données récupérées pour NERV\n",
      "Données récupérées pour NET\n",
      "Données récupérées pour NETD\n",
      "Données récupérées pour NETDU\n",
      "Données récupérées pour NETDW\n",
      "Données récupérées pour NEU\n",
      "Données récupérées pour NEUE\n",
      "Données récupérées pour NEWP\n",
      "Données récupérées pour NEWT\n",
      "Données récupérées pour NEWTI\n",
      "Données récupérées pour NEWTL\n",
      "Données récupérées pour NEWTZ\n",
      "Données récupérées pour NEXA\n",
      "Données récupérées pour NEXI\n",
      "Données récupérées pour NEXN\n",
      "Données récupérées pour NEXT\n",
      "Données récupérées pour NFBK\n",
      "Données récupérées pour NFE\n",
      "Données récupérées pour NFG\n",
      "Données récupérées pour NFGC\n",
      "Données récupérées pour NFJ\n",
      "Données récupérées pour NFLX\n",
      "Données récupérées pour NG\n",
      "Données récupérées pour NGD\n",
      "Données récupérées pour NGG\n",
      "Données récupérées pour NGL\n"
     ]
    },
    {
     "name": "stderr",
     "output_type": "stream",
     "text": [
      "404 Client Error: Not Found for url: https://query2.finance.yahoo.com/v10/finance/quoteSummary/NGL%5EB?modules=financialData%2CquoteType%2CdefaultKeyStatistics%2CassetProfile%2CsummaryDetail&corsDomain=finance.yahoo.com&formatted=false&symbol=NGL%5EB&crumb=znKJeXxQthY\n"
     ]
    },
    {
     "name": "stdout",
     "output_type": "stream",
     "text": [
      "Données récupérées pour NGL^B\n"
     ]
    },
    {
     "name": "stderr",
     "output_type": "stream",
     "text": [
      "404 Client Error: Not Found for url: https://query2.finance.yahoo.com/v10/finance/quoteSummary/NGL%5EC?modules=financialData%2CquoteType%2CdefaultKeyStatistics%2CassetProfile%2CsummaryDetail&corsDomain=finance.yahoo.com&formatted=false&symbol=NGL%5EC&crumb=znKJeXxQthY\n"
     ]
    },
    {
     "name": "stdout",
     "output_type": "stream",
     "text": [
      "Données récupérées pour NGL^C\n",
      "Données récupérées pour NGM\n",
      "Données récupérées pour NGMS\n",
      "Données récupérées pour NGNE\n",
      "Données récupérées pour NGS\n",
      "Données récupérées pour NGVC\n",
      "Données récupérées pour NGVT\n",
      "Données récupérées pour NHC\n",
      "Données récupérées pour NHI\n",
      "Données récupérées pour NHS\n",
      "Données récupérées pour NHTC\n",
      "Données récupérées pour NI\n"
     ]
    },
    {
     "name": "stderr",
     "output_type": "stream",
     "text": [
      "404 Client Error: Not Found for url: https://query2.finance.yahoo.com/v10/finance/quoteSummary/NI%5EB?modules=financialData%2CquoteType%2CdefaultKeyStatistics%2CassetProfile%2CsummaryDetail&corsDomain=finance.yahoo.com&formatted=false&symbol=NI%5EB&crumb=znKJeXxQthY\n"
     ]
    },
    {
     "name": "stdout",
     "output_type": "stream",
     "text": [
      "Données récupérées pour NI^B\n",
      "Données récupérées pour NIC\n",
      "Données récupérées pour NICE\n",
      "Données récupérées pour NICK\n",
      "Données récupérées pour NIE\n",
      "Données récupérées pour NIM\n",
      "Données récupérées pour NINE\n",
      "Données récupérées pour NIO\n",
      "Données récupérées pour NIOBW\n",
      "Données récupérées pour NISN\n",
      "Données récupérées pour NIU\n",
      "Données récupérées pour NJR\n",
      "Données récupérées pour NKE\n",
      "Données récupérées pour NKGN\n",
      "Données récupérées pour NKLA\n",
      "Données récupérées pour NKSH\n",
      "Données récupérées pour NKTR\n",
      "Données récupérées pour NKTX\n",
      "Données récupérées pour NKX\n",
      "Données récupérées pour NL\n",
      "Données récupérées pour NLOP\n",
      "Données récupérées pour NLSP\n",
      "Données récupérées pour NLSPW\n",
      "Données récupérées pour NLY\n"
     ]
    },
    {
     "name": "stderr",
     "output_type": "stream",
     "text": [
      "404 Client Error: Not Found for url: https://query2.finance.yahoo.com/v10/finance/quoteSummary/NLY%5EF?modules=financialData%2CquoteType%2CdefaultKeyStatistics%2CassetProfile%2CsummaryDetail&corsDomain=finance.yahoo.com&formatted=false&symbol=NLY%5EF&crumb=znKJeXxQthY\n"
     ]
    },
    {
     "name": "stdout",
     "output_type": "stream",
     "text": [
      "Données récupérées pour NLY^F\n"
     ]
    },
    {
     "name": "stderr",
     "output_type": "stream",
     "text": [
      "404 Client Error: Not Found for url: https://query2.finance.yahoo.com/v10/finance/quoteSummary/NLY%5EG?modules=financialData%2CquoteType%2CdefaultKeyStatistics%2CassetProfile%2CsummaryDetail&corsDomain=finance.yahoo.com&formatted=false&symbol=NLY%5EG&crumb=znKJeXxQthY\n"
     ]
    },
    {
     "name": "stdout",
     "output_type": "stream",
     "text": [
      "Données récupérées pour NLY^G\n"
     ]
    },
    {
     "name": "stderr",
     "output_type": "stream",
     "text": [
      "404 Client Error: Not Found for url: https://query2.finance.yahoo.com/v10/finance/quoteSummary/NLY%5EI?modules=financialData%2CquoteType%2CdefaultKeyStatistics%2CassetProfile%2CsummaryDetail&corsDomain=finance.yahoo.com&formatted=false&symbol=NLY%5EI&crumb=znKJeXxQthY\n"
     ]
    },
    {
     "name": "stdout",
     "output_type": "stream",
     "text": [
      "Données récupérées pour NLY^I\n",
      "Données récupérées pour NMAI\n",
      "Données récupérées pour NMCO\n",
      "Données récupérées pour NMFC\n",
      "Données récupérées pour NMFCZ\n",
      "Données récupérées pour NMG\n",
      "Données récupérées pour NMI\n",
      "Données récupérées pour NMIH\n",
      "Données récupérées pour NML\n",
      "Données récupérées pour NMM\n",
      "Données récupérées pour NMR\n",
      "Données récupérées pour NMRA\n",
      "Données récupérées pour NMRK\n",
      "Données récupérées pour NMS\n",
      "Données récupérées pour NMT\n",
      "Données récupérées pour NMTC\n",
      "Données récupérées pour NMZ\n",
      "Données récupérées pour NN\n",
      "Données récupérées pour NNAG\n",
      "Données récupérées pour NNAGR\n",
      "Données récupérées pour NNAGU\n",
      "Données récupérées pour NNAGW\n",
      "Données récupérées pour NNAVW\n",
      "Données récupérées pour NNBR\n",
      "Données récupérées pour NNDM\n",
      "Données récupérées pour NNI\n",
      "Données récupérées pour NNN\n",
      "Données récupérées pour NNOX\n",
      "Données récupérées pour NNVC\n",
      "Données récupérées pour NNY\n",
      "Données récupérées pour NOA\n",
      "Données récupérées pour NOAH\n",
      "Données récupérées pour NOC\n",
      "Données récupérées pour NODK\n",
      "Données récupérées pour NOG\n",
      "Données récupérées pour NOK\n",
      "Données récupérées pour NOM\n",
      "Données récupérées pour NOMD\n",
      "Données récupérées pour NOTE\n",
      "Données récupérées pour NOTV\n",
      "Données récupérées pour NOV\n",
      "Données récupérées pour NOVA\n",
      "Données récupérées pour NOVT\n",
      "Données récupérées pour NOVV\n",
      "Données récupérées pour NOVVR\n",
      "Données récupérées pour NOW\n",
      "Données récupérées pour NPAB\n",
      "Données récupérées pour NPCE\n",
      "Données récupérées pour NPCT\n",
      "Données récupérées pour NPFD\n",
      "Données récupérées pour NPK\n",
      "Données récupérées pour NPO\n",
      "Données récupérées pour NPV\n",
      "Données récupérées pour NPWR\n",
      "Données récupérées pour NQP\n",
      "Données récupérées pour NR\n",
      "Données récupérées pour NRBO\n",
      "Données récupérées pour NRC\n",
      "Données récupérées pour NRDS\n",
      "Données récupérées pour NRDY\n",
      "Données récupérées pour NREF\n"
     ]
    },
    {
     "name": "stderr",
     "output_type": "stream",
     "text": [
      "404 Client Error: Not Found for url: https://query2.finance.yahoo.com/v10/finance/quoteSummary/NREF%5EA?modules=financialData%2CquoteType%2CdefaultKeyStatistics%2CassetProfile%2CsummaryDetail&corsDomain=finance.yahoo.com&formatted=false&symbol=NREF%5EA&crumb=znKJeXxQthY\n"
     ]
    },
    {
     "name": "stdout",
     "output_type": "stream",
     "text": [
      "Données récupérées pour NREF^A\n",
      "Données récupérées pour NRG\n",
      "Données récupérées pour NRGV\n",
      "Données récupérées pour NRIM\n",
      "Données récupérées pour NRIX\n",
      "Données récupérées pour NRK\n",
      "Données récupérées pour NRO\n",
      "Données récupérées pour NRP\n",
      "Données récupérées pour NRSN\n",
      "Données récupérées pour NRSNW\n",
      "Données récupérées pour NRT\n",
      "Données récupérées pour NRUC\n",
      "Données récupérées pour NRXP\n",
      "Données récupérées pour NRXPW\n",
      "Données récupérées pour NRXS\n",
      "Données récupérées pour NS\n"
     ]
    },
    {
     "name": "stderr",
     "output_type": "stream",
     "text": [
      "404 Client Error: Not Found for url: https://query2.finance.yahoo.com/v10/finance/quoteSummary/NS%5EA?modules=financialData%2CquoteType%2CdefaultKeyStatistics%2CassetProfile%2CsummaryDetail&corsDomain=finance.yahoo.com&formatted=false&symbol=NS%5EA&crumb=znKJeXxQthY\n"
     ]
    },
    {
     "name": "stdout",
     "output_type": "stream",
     "text": [
      "Données récupérées pour NS^A\n"
     ]
    },
    {
     "name": "stderr",
     "output_type": "stream",
     "text": [
      "404 Client Error: Not Found for url: https://query2.finance.yahoo.com/v10/finance/quoteSummary/NS%5EB?modules=financialData%2CquoteType%2CdefaultKeyStatistics%2CassetProfile%2CsummaryDetail&corsDomain=finance.yahoo.com&formatted=false&symbol=NS%5EB&crumb=znKJeXxQthY\n"
     ]
    },
    {
     "name": "stdout",
     "output_type": "stream",
     "text": [
      "Données récupérées pour NS^B\n"
     ]
    },
    {
     "name": "stderr",
     "output_type": "stream",
     "text": [
      "404 Client Error: Not Found for url: https://query2.finance.yahoo.com/v10/finance/quoteSummary/NS%5EC?modules=financialData%2CquoteType%2CdefaultKeyStatistics%2CassetProfile%2CsummaryDetail&corsDomain=finance.yahoo.com&formatted=false&symbol=NS%5EC&crumb=znKJeXxQthY\n"
     ]
    },
    {
     "name": "stdout",
     "output_type": "stream",
     "text": [
      "Données récupérées pour NS^C\n",
      "Données récupérées pour NSA\n"
     ]
    },
    {
     "name": "stderr",
     "output_type": "stream",
     "text": [
      "404 Client Error: Not Found for url: https://query2.finance.yahoo.com/v10/finance/quoteSummary/NSA%5EA?modules=financialData%2CquoteType%2CdefaultKeyStatistics%2CassetProfile%2CsummaryDetail&corsDomain=finance.yahoo.com&formatted=false&symbol=NSA%5EA&crumb=znKJeXxQthY\n"
     ]
    },
    {
     "name": "stdout",
     "output_type": "stream",
     "text": [
      "Données récupérées pour NSA^A\n",
      "Données récupérées pour NSC\n",
      "Données récupérées pour NSIT\n",
      "Données récupérées pour NSP\n",
      "Données récupérées pour NSPR\n",
      "Données récupérées pour NSS\n",
      "Données récupérées pour NSSC\n",
      "Données récupérées pour NSTS\n",
      "Données récupérées pour NSYS\n",
      "Données récupérées pour NTAP\n",
      "Données récupérées pour NTB\n",
      "Données récupérées pour NTBL\n",
      "Données récupérées pour NTCT\n",
      "Données récupérées pour NTES\n",
      "Données récupérées pour NTG\n",
      "Données récupérées pour NTGR\n",
      "Données récupérées pour NTIC\n",
      "Données récupérées pour NTIP\n",
      "Données récupérées pour NTLA\n",
      "Données récupérées pour NTNX\n",
      "Données récupérées pour NTR\n",
      "Données récupérées pour NTRA\n",
      "Données récupérées pour NTRB\n",
      "Données récupérées pour NTRBW\n",
      "Données récupérées pour NTRS\n",
      "Données récupérées pour NTRSO\n",
      "Données récupérées pour NTST\n",
      "Données récupérées pour NTWK\n",
      "Données récupérées pour NTZ\n",
      "Données récupérées pour NU\n",
      "Données récupérées pour NUE\n",
      "Données récupérées pour NUKK\n",
      "Données récupérées pour NUKKW\n",
      "Données récupérées pour NURO\n",
      "Données récupérées pour NUS\n",
      "Données récupérées pour NUTX\n",
      "Données récupérées pour NUV\n",
      "Données récupérées pour NUVB\n",
      "Données récupérées pour NUVL\n",
      "Données récupérées pour NUW\n",
      "Données récupérées pour NUWE\n",
      "Données récupérées pour NUZE\n",
      "Données récupérées pour NVAC\n",
      "Données récupérées pour NVAX\n",
      "Données récupérées pour NVCR\n",
      "Données récupérées pour NVCT\n",
      "Données récupérées pour NVDA\n",
      "Données récupérées pour NVEC\n",
      "Données récupérées pour NVEE\n",
      "Données récupérées pour NVEI\n",
      "Données récupérées pour NVFY\n",
      "Données récupérées pour NVG\n",
      "Données récupérées pour NVGS\n",
      "Données récupérées pour NVMI\n",
      "Données récupérées pour NVNI\n",
      "Données récupérées pour NVNIW\n",
      "Données récupérées pour NVNO\n",
      "Données récupérées pour NVO\n",
      "Données récupérées pour NVOS\n",
      "Données récupérées pour NVR\n",
      "Données récupérées pour NVRI\n",
      "Données récupérées pour NVRO\n",
      "Données récupérées pour NVS\n",
      "Données récupérées pour NVST\n",
      "Données récupérées pour NVT\n",
      "Données récupérées pour NVTS\n",
      "Données récupérées pour NVVE\n",
      "Données récupérées pour NVVEW\n",
      "Données récupérées pour NVX\n",
      "Données récupérées pour NWBI\n",
      "Données récupérées pour NWE\n",
      "Données récupérées pour NWFL\n",
      "Données récupérées pour NWG\n",
      "Données récupérées pour NWGL\n",
      "Données récupérées pour NWL\n",
      "Données récupérées pour NWLI\n",
      "Données récupérées pour NWN\n",
      "Données récupérées pour NWPX\n",
      "Données récupérées pour NWS\n",
      "Données récupérées pour NWSA\n",
      "Données récupérées pour NWTN\n",
      "Données récupérées pour NWTNW\n",
      "Données récupérées pour NX\n",
      "Données récupérées pour NXC\n",
      "Données récupérées pour NXDT\n"
     ]
    },
    {
     "name": "stderr",
     "output_type": "stream",
     "text": [
      "404 Client Error: Not Found for url: https://query2.finance.yahoo.com/v10/finance/quoteSummary/NXDT%5EA?modules=financialData%2CquoteType%2CdefaultKeyStatistics%2CassetProfile%2CsummaryDetail&corsDomain=finance.yahoo.com&formatted=false&symbol=NXDT%5EA&crumb=znKJeXxQthY\n"
     ]
    },
    {
     "name": "stdout",
     "output_type": "stream",
     "text": [
      "Données récupérées pour NXDT^A\n",
      "Données récupérées pour NXE\n",
      "Données récupérées pour NXG\n",
      "Données récupérées pour NXGL\n",
      "Données récupérées pour NXGLW\n",
      "Données récupérées pour NXJ\n",
      "Données récupérées pour NXL\n",
      "Données récupérées pour NXLIW\n",
      "Données récupérées pour NXN\n",
      "Données récupérées pour NXP\n",
      "Données récupérées pour NXPI\n",
      "Données récupérées pour NXPL\n",
      "Données récupérées pour NXPLW\n",
      "Données récupérées pour NXRT\n",
      "Données récupérées pour NXST\n",
      "Données récupérées pour NXT\n",
      "Données récupérées pour NXTC\n",
      "Données récupérées pour NXTP\n",
      "Données récupérées pour NXU\n",
      "Données récupérées pour NYAX\n",
      "Données récupérées pour NYC\n",
      "Données récupérées pour NYCB\n"
     ]
    },
    {
     "name": "stderr",
     "output_type": "stream",
     "text": [
      "404 Client Error: Not Found for url: https://query2.finance.yahoo.com/v10/finance/quoteSummary/NYCB%5EA?modules=financialData%2CquoteType%2CdefaultKeyStatistics%2CassetProfile%2CsummaryDetail&corsDomain=finance.yahoo.com&formatted=false&symbol=NYCB%5EA&crumb=znKJeXxQthY\n"
     ]
    },
    {
     "name": "stdout",
     "output_type": "stream",
     "text": [
      "Données récupérées pour NYCB^A\n"
     ]
    },
    {
     "name": "stderr",
     "output_type": "stream",
     "text": [
      "404 Client Error: Not Found for url: https://query2.finance.yahoo.com/v10/finance/quoteSummary/NYCB%5EU?modules=financialData%2CquoteType%2CdefaultKeyStatistics%2CassetProfile%2CsummaryDetail&corsDomain=finance.yahoo.com&formatted=false&symbol=NYCB%5EU&crumb=znKJeXxQthY\n"
     ]
    },
    {
     "name": "stdout",
     "output_type": "stream",
     "text": [
      "Données récupérées pour NYCB^U\n",
      "Données récupérées pour NYMT\n",
      "Données récupérées pour NYMTL\n",
      "Données récupérées pour NYMTM\n",
      "Données récupérées pour NYMTN\n",
      "Données récupérées pour NYMTZ\n",
      "Données récupérées pour NYT\n",
      "Données récupérées pour NYXH\n",
      "Données récupérées pour NZF\n",
      "Données récupérées pour O\n"
     ]
    },
    {
     "name": "stderr",
     "output_type": "stream",
     "text": [
      "404 Client Error: Not Found for url: https://query2.finance.yahoo.com/v10/finance/quoteSummary/O%5E?modules=financialData%2CquoteType%2CdefaultKeyStatistics%2CassetProfile%2CsummaryDetail&corsDomain=finance.yahoo.com&formatted=false&symbol=O%5E&crumb=znKJeXxQthY\n"
     ]
    },
    {
     "name": "stdout",
     "output_type": "stream",
     "text": [
      "Données récupérées pour O^\n",
      "Données récupérées pour OABI\n",
      "Données récupérées pour OABIW\n"
     ]
    },
    {
     "name": "stderr",
     "output_type": "stream",
     "text": [
      "404 Client Error: Not Found for url: https://query2.finance.yahoo.com/v10/finance/quoteSummary/OAK%5EA?modules=financialData%2CquoteType%2CdefaultKeyStatistics%2CassetProfile%2CsummaryDetail&corsDomain=finance.yahoo.com&formatted=false&symbol=OAK%5EA&crumb=znKJeXxQthY\n"
     ]
    },
    {
     "name": "stdout",
     "output_type": "stream",
     "text": [
      "Données récupérées pour OAK^A\n"
     ]
    },
    {
     "name": "stderr",
     "output_type": "stream",
     "text": [
      "404 Client Error: Not Found for url: https://query2.finance.yahoo.com/v10/finance/quoteSummary/OAK%5EB?modules=financialData%2CquoteType%2CdefaultKeyStatistics%2CassetProfile%2CsummaryDetail&corsDomain=finance.yahoo.com&formatted=false&symbol=OAK%5EB&crumb=znKJeXxQthY\n"
     ]
    },
    {
     "name": "stdout",
     "output_type": "stream",
     "text": [
      "Données récupérées pour OAK^B\n",
      "Données récupérées pour OAKU\n",
      "Données récupérées pour OAKUR\n",
      "Données récupérées pour OAKUW\n",
      "Données récupérées pour OB\n",
      "Données récupérées pour OBDC\n",
      "Données récupérées pour OBDE\n",
      "Données récupérées pour OBE\n",
      "Données récupérées pour OBIO\n",
      "Données récupérées pour OBK\n",
      "Données récupérées pour OBLG\n",
      "Données récupérées pour OBT\n",
      "Données récupérées pour OC\n",
      "Données récupérées pour OCAX\n",
      "Données récupérées pour OCC\n",
      "Données récupérées pour OCCI\n",
      "Données récupérées pour OCCIN\n",
      "Données récupérées pour OCCIO\n",
      "Données récupérées pour OCEA\n",
      "Données récupérées pour OCEAW\n",
      "Données récupérées pour OCFC\n",
      "Données récupérées pour OCFCP\n",
      "Données récupérées pour OCFT\n",
      "Données récupérées pour OCG\n",
      "Données récupérées pour OCGN\n",
      "Données récupérées pour OCN\n",
      "Données récupérées pour OCS\n",
      "Données récupérées pour OCSAW\n",
      "Données récupérées pour OCSL\n",
      "Données récupérées pour OCTO\n",
      "Données récupérées pour OCUL\n",
      "Données récupérées pour OCUP\n",
      "Données récupérées pour OCX\n",
      "Données récupérées pour ODC\n",
      "Données récupérées pour ODD\n",
      "Données récupérées pour ODFL\n",
      "Données récupérées pour ODP\n",
      "Données récupérées pour ODV\n",
      "Données récupérées pour ODVWZ\n",
      "Données récupérées pour OEC\n",
      "Données récupérées pour OESX\n",
      "Données récupérées pour OFG\n",
      "Données récupérées pour OFIX\n",
      "Données récupérées pour OFLX\n",
      "Données récupérées pour OFS\n",
      "Données récupérées pour OFSSH\n",
      "Données récupérées pour OGE\n",
      "Données récupérées pour OGEN\n",
      "Données récupérées pour OGI\n",
      "Données récupérées pour OGN\n",
      "Données récupérées pour OGS\n",
      "Données récupérées pour OHI\n",
      "Données récupérées pour OI\n",
      "Données récupérées pour OIA\n",
      "Données récupérées pour OII\n",
      "Données récupérées pour OIS\n",
      "Données récupérées pour OKE\n",
      "Données récupérées pour OKTA\n",
      "Données récupérées pour OKYO\n",
      "Données récupérées pour OLB\n",
      "Données récupérées pour OLED\n",
      "Données récupérées pour OLK\n",
      "Données récupérées pour OLLI\n",
      "Données récupérées pour OLMA\n",
      "Données récupérées pour OLN\n",
      "Données récupérées pour OLO\n",
      "Données récupérées pour OLP\n",
      "Données récupérées pour OLPX\n",
      "Données récupérées pour OM\n",
      "Données récupérées pour OMAB\n",
      "Données récupérées pour OMC\n",
      "Données récupérées pour OMCL\n",
      "Données récupérées pour OMER\n",
      "Données récupérées pour OMEX\n",
      "Données récupérées pour OMF\n",
      "Données récupérées pour OMGA\n",
      "Données récupérées pour OMH\n",
      "Données récupérées pour OMI\n",
      "Données récupérées pour OMIC\n",
      "Données récupérées pour OMQS\n",
      "Données récupérées pour ON\n",
      "Données récupérées pour ONB\n",
      "Données récupérées pour ONBPO\n",
      "Données récupérées pour ONBPP\n",
      "Données récupérées pour ONCO\n",
      "Données récupérées pour ONCT\n",
      "Données récupérées pour ONCY\n",
      "Données récupérées pour ONDS\n",
      "Données récupérées pour ONEW\n",
      "Données récupérées pour ONFO\n",
      "Données récupérées pour ONFOW\n",
      "Données récupérées pour ONL\n",
      "Données récupérées pour ONMD\n",
      "Données récupérées pour ONMDW\n",
      "Données récupérées pour ONON\n",
      "Données récupérées pour ONTF\n",
      "Données récupérées pour ONTO\n",
      "Données récupérées pour ONTX\n",
      "Données récupérées pour ONVO\n",
      "Données récupérées pour ONYX\n",
      "Données récupérées pour OOMA\n",
      "Données récupérées pour OP\n",
      "Données récupérées pour OPAD\n",
      "Données récupérées pour OPAL\n",
      "Données récupérées pour OPBK\n",
      "Données récupérées pour OPCH\n",
      "Données récupérées pour OPEN\n",
      "Données récupérées pour OPFI\n",
      "Données récupérées pour OPGN\n",
      "Données récupérées pour OPHC\n",
      "Données récupérées pour OPI\n",
      "Données récupérées pour OPINL\n",
      "Données récupérées pour OPK\n",
      "Données récupérées pour OPOF\n",
      "Données récupérées pour OPP\n"
     ]
    },
    {
     "name": "stderr",
     "output_type": "stream",
     "text": [
      "404 Client Error: Not Found for url: https://query2.finance.yahoo.com/v10/finance/quoteSummary/OPP%5EA?modules=financialData%2CquoteType%2CdefaultKeyStatistics%2CassetProfile%2CsummaryDetail&corsDomain=finance.yahoo.com&formatted=false&symbol=OPP%5EA&crumb=znKJeXxQthY\n"
     ]
    },
    {
     "name": "stdout",
     "output_type": "stream",
     "text": [
      "Données récupérées pour OPP^A\n"
     ]
    },
    {
     "name": "stderr",
     "output_type": "stream",
     "text": [
      "404 Client Error: Not Found for url: https://query2.finance.yahoo.com/v10/finance/quoteSummary/OPP%5EB?modules=financialData%2CquoteType%2CdefaultKeyStatistics%2CassetProfile%2CsummaryDetail&corsDomain=finance.yahoo.com&formatted=false&symbol=OPP%5EB&crumb=znKJeXxQthY\n"
     ]
    },
    {
     "name": "stdout",
     "output_type": "stream",
     "text": [
      "Données récupérées pour OPP^B\n",
      "Données récupérées pour OPRA\n",
      "Données récupérées pour OPRT\n",
      "Données récupérées pour OPRX\n",
      "Données récupérées pour OPT\n",
      "Données récupérées pour OPTN\n",
      "Données récupérées pour OPTT\n",
      "Données récupérées pour OPTX\n",
      "Données récupérées pour OPTXW\n",
      "Données récupérées pour OPXS\n",
      "Données récupérées pour OPY\n",
      "Données récupérées pour OR\n",
      "Données récupérées pour ORA\n",
      "Données récupérées pour ORAN\n",
      "Données récupérées pour ORC\n",
      "Données récupérées pour ORCL\n",
      "Données récupérées pour ORGN\n",
      "Données récupérées pour ORGNW\n",
      "Données récupérées pour ORGO\n",
      "Données récupérées pour ORGS\n",
      "Données récupérées pour ORI\n",
      "Données récupérées pour ORIC\n",
      "Données récupérées pour ORLA\n",
      "Données récupérées pour ORLY\n",
      "Données récupérées pour ORMP\n",
      "Données récupérées pour ORN\n",
      "Données récupérées pour ORRF\n",
      "Données récupérées pour OSA\n",
      "Données récupérées pour OSAAW\n",
      "Données récupérées pour OSBC\n",
      "Données récupérées pour OSCR\n",
      "Données récupérées pour OSG\n",
      "Données récupérées pour OSI\n",
      "Données récupérées pour OSIS\n",
      "Données récupérées pour OSK\n",
      "Données récupérées pour OSPN\n",
      "Données récupérées pour OSS\n",
      "Données récupérées pour OST\n",
      "Données récupérées pour OSUR\n",
      "Données récupérées pour OSW\n",
      "Données récupérées pour OTEX\n",
      "Données récupérées pour OTIS\n",
      "Données récupérées pour OTLK\n",
      "Données récupérées pour OTLY\n",
      "Données récupérées pour OTRK\n",
      "Données récupérées pour OTTR\n",
      "Données récupérées pour OUST\n",
      "Données récupérées pour OUT\n",
      "Données récupérées pour OVBC\n",
      "Données récupérées pour OVID\n",
      "Données récupérées pour OVLY\n",
      "Données récupérées pour OVV\n",
      "Données récupérées pour OWL\n",
      "Données récupérées pour OWLT\n",
      "Données récupérées pour OXBR\n",
      "Données récupérées pour OXBRW\n",
      "Données récupérées pour OXLC\n",
      "Données récupérées pour OXLCL\n",
      "Données récupérées pour OXLCM\n",
      "Données récupérées pour OXLCN\n",
      "Données récupérées pour OXLCO\n",
      "Données récupérées pour OXLCP\n",
      "Données récupérées pour OXLCZ\n",
      "Données récupérées pour OXM\n",
      "Données récupérées pour OXSQ\n",
      "Données récupérées pour OXSQG\n",
      "Données récupérées pour OXSQZ\n",
      "Données récupérées pour OXY\n",
      "Données récupérées pour OZ\n",
      "Données récupérées pour OZK\n",
      "Données récupérées pour OZKAP\n",
      "Données récupérées pour PAA\n",
      "Données récupérées pour PAAS\n",
      "Données récupérées pour PAC\n",
      "Données récupérées pour PACB\n",
      "Données récupérées pour PACK\n",
      "Données récupérées pour PAG\n",
      "Données récupérées pour PAGP\n",
      "Données récupérées pour PAGS\n",
      "Données récupérées pour PAHC\n",
      "Données récupérées pour PAI\n",
      "Données récupérées pour PALI\n",
      "Données récupérées pour PALT\n",
      "Données récupérées pour PAM\n",
      "Données récupérées pour PANL\n",
      "Données récupérées pour PANW\n",
      "Données récupérées pour PAPL\n",
      "Données récupérées pour PAR\n",
      "Données récupérées pour PARA\n",
      "Données récupérées pour PARAA\n",
      "Données récupérées pour PARAP\n",
      "Données récupérées pour PARR\n",
      "Données récupérées pour PASG\n",
      "Données récupérées pour PATH\n",
      "Données récupérées pour PATK\n",
      "Données récupérées pour PAVM\n",
      "Données récupérées pour PAVMZ\n",
      "Données récupérées pour PAVS\n",
      "Données récupérées pour PAX\n",
      "Données récupérées pour PAXS\n",
      "Données récupérées pour PAY\n",
      "Données récupérées pour PAYC\n",
      "Données récupérées pour PAYO\n",
      "Données récupérées pour PAYOW\n",
      "Données récupérées pour PAYS\n",
      "Données récupérées pour PAYX\n",
      "Données récupérées pour PB\n",
      "Données récupérées pour PBA\n",
      "Données récupérées pour PBBK\n",
      "Données récupérées pour PBF\n",
      "Données récupérées pour PBFS\n",
      "Données récupérées pour PBH\n",
      "Données récupérées pour PBHC\n",
      "Données récupérées pour PBI\n"
     ]
    },
    {
     "name": "stderr",
     "output_type": "stream",
     "text": [
      "404 Client Error: Not Found for url: https://query2.finance.yahoo.com/v10/finance/quoteSummary/PBI%5EB?modules=financialData%2CquoteType%2CdefaultKeyStatistics%2CassetProfile%2CsummaryDetail&corsDomain=finance.yahoo.com&formatted=false&symbol=PBI%5EB&crumb=znKJeXxQthY\n"
     ]
    },
    {
     "name": "stdout",
     "output_type": "stream",
     "text": [
      "Données récupérées pour PBI^B\n",
      "Données récupérées pour PBLA\n",
      "Données récupérées pour PBM\n",
      "Données récupérées pour PBMWW\n",
      "Données récupérées pour PBPB\n",
      "Données récupérées pour PBR\n",
      "Données récupérées pour PBT\n",
      "Données récupérées pour PBYI\n",
      "Données récupérées pour PCAR\n",
      "Données récupérées pour PCB\n",
      "Données récupérées pour PCF\n",
      "Données récupérées pour PCG\n"
     ]
    },
    {
     "name": "stderr",
     "output_type": "stream",
     "text": [
      "404 Client Error: Not Found for url: https://query2.finance.yahoo.com/v10/finance/quoteSummary/PCG%5EA?modules=financialData%2CquoteType%2CdefaultKeyStatistics%2CassetProfile%2CsummaryDetail&corsDomain=finance.yahoo.com&formatted=false&symbol=PCG%5EA&crumb=znKJeXxQthY\n"
     ]
    },
    {
     "name": "stdout",
     "output_type": "stream",
     "text": [
      "Données récupérées pour PCG^A\n"
     ]
    },
    {
     "name": "stderr",
     "output_type": "stream",
     "text": [
      "404 Client Error: Not Found for url: https://query2.finance.yahoo.com/v10/finance/quoteSummary/PCG%5EB?modules=financialData%2CquoteType%2CdefaultKeyStatistics%2CassetProfile%2CsummaryDetail&corsDomain=finance.yahoo.com&formatted=false&symbol=PCG%5EB&crumb=znKJeXxQthY\n"
     ]
    },
    {
     "name": "stdout",
     "output_type": "stream",
     "text": [
      "Données récupérées pour PCG^B\n"
     ]
    },
    {
     "name": "stderr",
     "output_type": "stream",
     "text": [
      "404 Client Error: Not Found for url: https://query2.finance.yahoo.com/v10/finance/quoteSummary/PCG%5EC?modules=financialData%2CquoteType%2CdefaultKeyStatistics%2CassetProfile%2CsummaryDetail&corsDomain=finance.yahoo.com&formatted=false&symbol=PCG%5EC&crumb=znKJeXxQthY\n"
     ]
    },
    {
     "name": "stdout",
     "output_type": "stream",
     "text": [
      "Données récupérées pour PCG^C\n"
     ]
    },
    {
     "name": "stderr",
     "output_type": "stream",
     "text": [
      "404 Client Error: Not Found for url: https://query2.finance.yahoo.com/v10/finance/quoteSummary/PCG%5ED?modules=financialData%2CquoteType%2CdefaultKeyStatistics%2CassetProfile%2CsummaryDetail&corsDomain=finance.yahoo.com&formatted=false&symbol=PCG%5ED&crumb=znKJeXxQthY\n"
     ]
    },
    {
     "name": "stdout",
     "output_type": "stream",
     "text": [
      "Données récupérées pour PCG^D\n"
     ]
    },
    {
     "name": "stderr",
     "output_type": "stream",
     "text": [
      "404 Client Error: Not Found for url: https://query2.finance.yahoo.com/v10/finance/quoteSummary/PCG%5EE?modules=financialData%2CquoteType%2CdefaultKeyStatistics%2CassetProfile%2CsummaryDetail&corsDomain=finance.yahoo.com&formatted=false&symbol=PCG%5EE&crumb=znKJeXxQthY\n"
     ]
    },
    {
     "name": "stdout",
     "output_type": "stream",
     "text": [
      "Données récupérées pour PCG^E\n"
     ]
    },
    {
     "name": "stderr",
     "output_type": "stream",
     "text": [
      "404 Client Error: Not Found for url: https://query2.finance.yahoo.com/v10/finance/quoteSummary/PCG%5EG?modules=financialData%2CquoteType%2CdefaultKeyStatistics%2CassetProfile%2CsummaryDetail&corsDomain=finance.yahoo.com&formatted=false&symbol=PCG%5EG&crumb=znKJeXxQthY\n"
     ]
    },
    {
     "name": "stdout",
     "output_type": "stream",
     "text": [
      "Données récupérées pour PCG^G\n"
     ]
    },
    {
     "name": "stderr",
     "output_type": "stream",
     "text": [
      "404 Client Error: Not Found for url: https://query2.finance.yahoo.com/v10/finance/quoteSummary/PCG%5EH?modules=financialData%2CquoteType%2CdefaultKeyStatistics%2CassetProfile%2CsummaryDetail&corsDomain=finance.yahoo.com&formatted=false&symbol=PCG%5EH&crumb=znKJeXxQthY\n"
     ]
    },
    {
     "name": "stdout",
     "output_type": "stream",
     "text": [
      "Données récupérées pour PCG^H\n"
     ]
    },
    {
     "name": "stderr",
     "output_type": "stream",
     "text": [
      "404 Client Error: Not Found for url: https://query2.finance.yahoo.com/v10/finance/quoteSummary/PCG%5EI?modules=financialData%2CquoteType%2CdefaultKeyStatistics%2CassetProfile%2CsummaryDetail&corsDomain=finance.yahoo.com&formatted=false&symbol=PCG%5EI&crumb=znKJeXxQthY\n"
     ]
    },
    {
     "name": "stdout",
     "output_type": "stream",
     "text": [
      "Données récupérées pour PCG^I\n",
      "Données récupérées pour PCH\n",
      "Données récupérées pour PCK\n",
      "Données récupérées pour PCM\n",
      "Données récupérées pour PCN\n",
      "Données récupérées pour PCOR\n",
      "Données récupérées pour PCQ\n",
      "Données récupérées pour PCRX\n",
      "Données récupérées pour PCSA\n",
      "Données récupérées pour PCT\n",
      "Données récupérées pour PCTTU\n",
      "Données récupérées pour PCTTW\n",
      "Données récupérées pour PCTY\n",
      "Données récupérées pour PCVX\n",
      "Données récupérées pour PCYO\n",
      "Données récupérées pour PD\n",
      "Données récupérées pour PDCO\n",
      "Données récupérées pour PDD\n",
      "Données récupérées pour PDEX\n",
      "Données récupérées pour PDFS\n",
      "Données récupérées pour PDI\n",
      "Données récupérées pour PDLB\n",
      "Données récupérées pour PDM\n",
      "Données récupérées pour PDO\n",
      "Données récupérées pour PDS\n",
      "Données récupérées pour PDSB\n",
      "Données récupérées pour PDT\n",
      "Données récupérées pour PDX\n",
      "Données récupérées pour PEAK\n",
      "Données récupérées pour PEB\n"
     ]
    },
    {
     "name": "stderr",
     "output_type": "stream",
     "text": [
      "404 Client Error: Not Found for url: https://query2.finance.yahoo.com/v10/finance/quoteSummary/PEB%5EE?modules=financialData%2CquoteType%2CdefaultKeyStatistics%2CassetProfile%2CsummaryDetail&corsDomain=finance.yahoo.com&formatted=false&symbol=PEB%5EE&crumb=znKJeXxQthY\n"
     ]
    },
    {
     "name": "stdout",
     "output_type": "stream",
     "text": [
      "Données récupérées pour PEB^E\n"
     ]
    },
    {
     "name": "stderr",
     "output_type": "stream",
     "text": [
      "404 Client Error: Not Found for url: https://query2.finance.yahoo.com/v10/finance/quoteSummary/PEB%5EF?modules=financialData%2CquoteType%2CdefaultKeyStatistics%2CassetProfile%2CsummaryDetail&corsDomain=finance.yahoo.com&formatted=false&symbol=PEB%5EF&crumb=znKJeXxQthY\n"
     ]
    },
    {
     "name": "stdout",
     "output_type": "stream",
     "text": [
      "Données récupérées pour PEB^F\n"
     ]
    },
    {
     "name": "stderr",
     "output_type": "stream",
     "text": [
      "404 Client Error: Not Found for url: https://query2.finance.yahoo.com/v10/finance/quoteSummary/PEB%5EG?modules=financialData%2CquoteType%2CdefaultKeyStatistics%2CassetProfile%2CsummaryDetail&corsDomain=finance.yahoo.com&formatted=false&symbol=PEB%5EG&crumb=znKJeXxQthY\n"
     ]
    },
    {
     "name": "stdout",
     "output_type": "stream",
     "text": [
      "Données récupérées pour PEB^G\n"
     ]
    },
    {
     "name": "stderr",
     "output_type": "stream",
     "text": [
      "404 Client Error: Not Found for url: https://query2.finance.yahoo.com/v10/finance/quoteSummary/PEB%5EH?modules=financialData%2CquoteType%2CdefaultKeyStatistics%2CassetProfile%2CsummaryDetail&corsDomain=finance.yahoo.com&formatted=false&symbol=PEB%5EH&crumb=znKJeXxQthY\n"
     ]
    },
    {
     "name": "stdout",
     "output_type": "stream",
     "text": [
      "Données récupérées pour PEB^H\n",
      "Données récupérées pour PEBK\n",
      "Données récupérées pour PEBO\n",
      "Données récupérées pour PECO\n",
      "Données récupérées pour PED\n",
      "Données récupérées pour PEG\n",
      "Données récupérées pour PEGA\n",
      "Données récupérées pour PEGR\n",
      "Données récupérées pour PEGRW\n",
      "Données récupérées pour PEGY\n",
      "Données récupérées pour PEN\n",
      "Données récupérées pour PENN\n",
      "Données récupérées pour PEO\n",
      "Données récupérées pour PEP\n",
      "Données récupérées pour PEPG\n",
      "Données récupérées pour PEPL\n",
      "Données récupérées pour PEPLW\n",
      "Données récupérées pour PERF\n",
      "Données récupérées pour PERI\n",
      "Données récupérées pour PESI\n",
      "Données récupérées pour PET\n",
      "Données récupérées pour PETQ\n",
      "Données récupérées pour PETS\n",
      "Données récupérées pour PETV\n",
      "Données récupérées pour PETVW\n",
      "Données récupérées pour PETWW\n",
      "Données récupérées pour PETZ\n",
      "Données récupérées pour PEV\n",
      "Données récupérées pour PFBC\n",
      "Données récupérées pour PFC\n",
      "Données récupérées pour PFD\n",
      "Données récupérées pour PFE\n",
      "Données récupérées pour PFG\n",
      "Données récupérées pour PFGC\n",
      "Données récupérées pour PFH\n",
      "Données récupérées pour PFIE\n",
      "Données récupérées pour PFIS\n",
      "Données récupérées pour PFL\n",
      "Données récupérées pour PFLT\n",
      "Données récupérées pour PFMT\n",
      "Données récupérées pour PFN\n",
      "Données récupérées pour PFO\n",
      "Données récupérées pour PFS\n",
      "Données récupérées pour PFSI\n",
      "Données récupérées pour PFTA\n",
      "Données récupérées pour PFTAU\n",
      "Données récupérées pour PFX\n",
      "Données récupérées pour PFXNZ\n",
      "Données récupérées pour PG\n",
      "Données récupérées pour PGC\n",
      "Données récupérées pour PGEN\n",
      "Données récupérées pour PGNY\n",
      "Données récupérées pour PGP\n",
      "Données récupérées pour PGR\n",
      "Données récupérées pour PGRE\n",
      "Données récupérées pour PGRU\n",
      "Données récupérées pour PGSS\n",
      "Données récupérées pour PGTI\n",
      "Données récupérées pour PGY\n",
      "Données récupérées pour PGYWW\n",
      "Données récupérées pour PGZ\n",
      "Données récupérées pour PH\n",
      "Données récupérées pour PHAR\n",
      "Données récupérées pour PHAT\n",
      "Données récupérées pour PHD\n",
      "Données récupérées pour PHG\n",
      "Données récupérées pour PHGE\n",
      "Données récupérées pour PHI\n",
      "Données récupérées pour PHIN\n",
      "Données récupérées pour PHIO\n",
      "Données récupérées pour PHK\n",
      "Données récupérées pour PHM\n",
      "Données récupérées pour PHR\n",
      "Données récupérées pour PHT\n",
      "Données récupérées pour PHUN\n",
      "Données récupérées pour PHVS\n",
      "Données récupérées pour PHX\n",
      "Données récupérées pour PHXM\n",
      "Données récupérées pour PHYT\n",
      "Données récupérées pour PI\n",
      "Données récupérées pour PII\n",
      "Données récupérées pour PIII\n",
      "Données récupérées pour PIK\n",
      "Données récupérées pour PIM\n",
      "Données récupérées pour PINC\n",
      "Données récupérées pour PINE\n",
      "Données récupérées pour PINS\n",
      "Données récupérées pour PIPR\n",
      "Données récupérées pour PIRS\n",
      "Données récupérées pour PIXY\n",
      "Données récupérées pour PJT\n",
      "Données récupérées pour PK\n",
      "Données récupérées pour PKBK\n",
      "Données récupérées pour PKE\n",
      "Données récupérées pour PKG\n",
      "Données récupérées pour PKOH\n",
      "Données récupérées pour PKST\n",
      "Données récupérées pour PKX\n",
      "Données récupérées pour PL\n",
      "Données récupérées pour PLAB\n",
      "Données récupérées pour PLAG\n",
      "Données récupérées pour PLAO\n",
      "Données récupérées pour PLAOW\n",
      "Données récupérées pour PLAY\n",
      "Données récupérées pour PLBC\n",
      "Données récupérées pour PLBY\n",
      "Données récupérées pour PLCE\n",
      "Données récupérées pour PLD\n",
      "Données récupérées pour PLG\n",
      "Données récupérées pour PLL\n",
      "Données récupérées pour PLMI\n",
      "Données récupérées pour PLMIW\n",
      "Données récupérées pour PLMJ\n",
      "Données récupérées pour PLMR\n",
      "Données récupérées pour PLNT\n",
      "Données récupérées pour PLOW\n",
      "Données récupérées pour PLPC\n",
      "Données récupérées pour PLRX\n",
      "Données récupérées pour PLSE\n",
      "Données récupérées pour PLTK\n",
      "Données récupérées pour PLTN\n",
      "Données récupérées pour PLTNR\n",
      "Données récupérées pour PLTNW\n",
      "Données récupérées pour PLTR\n",
      "Données récupérées pour PLUG\n",
      "Données récupérées pour PLUR\n",
      "Données récupérées pour PLUS\n",
      "Données récupérées pour PLX\n",
      "Données récupérées pour PLXS\n",
      "Données récupérées pour PLYA\n",
      "Données récupérées pour PLYM\n",
      "Données récupérées pour PM\n",
      "Données récupérées pour PMCB\n",
      "Données récupérées pour PMD\n",
      "Données récupérées pour PMEC\n",
      "Données récupérées pour PMF\n",
      "Données récupérées pour PMGM\n",
      "Données récupérées pour PMGMW\n",
      "Données récupérées pour PML\n",
      "Données récupérées pour PMM\n",
      "Données récupérées pour PMN\n",
      "Données récupérées pour PMNT\n",
      "Données récupérées pour PMO\n",
      "Données récupérées pour PMT\n"
     ]
    },
    {
     "name": "stderr",
     "output_type": "stream",
     "text": [
      "404 Client Error: Not Found for url: https://query2.finance.yahoo.com/v10/finance/quoteSummary/PMT%5EA?modules=financialData%2CquoteType%2CdefaultKeyStatistics%2CassetProfile%2CsummaryDetail&corsDomain=finance.yahoo.com&formatted=false&symbol=PMT%5EA&crumb=znKJeXxQthY\n"
     ]
    },
    {
     "name": "stdout",
     "output_type": "stream",
     "text": [
      "Données récupérées pour PMT^A\n"
     ]
    },
    {
     "name": "stderr",
     "output_type": "stream",
     "text": [
      "404 Client Error: Not Found for url: https://query2.finance.yahoo.com/v10/finance/quoteSummary/PMT%5EB?modules=financialData%2CquoteType%2CdefaultKeyStatistics%2CassetProfile%2CsummaryDetail&corsDomain=finance.yahoo.com&formatted=false&symbol=PMT%5EB&crumb=znKJeXxQthY\n"
     ]
    },
    {
     "name": "stdout",
     "output_type": "stream",
     "text": [
      "Données récupérées pour PMT^B\n"
     ]
    },
    {
     "name": "stderr",
     "output_type": "stream",
     "text": [
      "404 Client Error: Not Found for url: https://query2.finance.yahoo.com/v10/finance/quoteSummary/PMT%5EC?modules=financialData%2CquoteType%2CdefaultKeyStatistics%2CassetProfile%2CsummaryDetail&corsDomain=finance.yahoo.com&formatted=false&symbol=PMT%5EC&crumb=znKJeXxQthY\n"
     ]
    },
    {
     "name": "stdout",
     "output_type": "stream",
     "text": [
      "Données récupérées pour PMT^C\n",
      "Données récupérées pour PMTS\n",
      "Données récupérées pour PMTU\n",
      "Données récupérées pour PMVP\n",
      "Données récupérées pour PMX\n",
      "Données récupérées pour PNBK\n",
      "Données récupérées pour PNC\n",
      "Données récupérées pour PNF\n",
      "Données récupérées pour PNFP\n",
      "Données récupérées pour PNFPP\n",
      "Données récupérées pour PNI\n",
      "Données récupérées pour PNM\n",
      "Données récupérées pour PNNT\n",
      "Données récupérées pour PNR\n",
      "Données récupérées pour PNRG\n",
      "Données récupérées pour PNST\n",
      "Données récupérées pour PNTG\n",
      "Données récupérées pour PNW\n",
      "Données récupérées pour POAI\n",
      "Données récupérées pour POCI\n",
      "Données récupérées pour PODC\n",
      "Données récupérées pour PODD\n",
      "Données récupérées pour POET\n",
      "Données récupérées pour POL\n",
      "Données récupérées pour POLA\n",
      "Données récupérées pour POOL\n",
      "Données récupérées pour POR\n",
      "Données récupérées pour PORT\n",
      "Données récupérées pour POST\n",
      "Données récupérées pour POWI\n",
      "Données récupérées pour POWL\n",
      "Données récupérées pour POWW\n",
      "Données récupérées pour POWWP\n",
      "Données récupérées pour PPBI\n",
      "Données récupérées pour PPBT\n",
      "Données récupérées pour PPC\n",
      "Données récupérées pour PPG\n",
      "Données récupérées pour PPHP\n",
      "Données récupérées pour PPHPR\n",
      "Données récupérées pour PPIH\n",
      "Données récupérées pour PPL\n",
      "Données récupérées pour PPSI\n",
      "Données récupérées pour PPT\n",
      "Données récupérées pour PPTA\n",
      "Données récupérées pour PPYA\n",
      "Données récupérées pour PR\n",
      "Données récupérées pour PRA\n",
      "Données récupérées pour PRAA\n",
      "Données récupérées pour PRAX\n",
      "Données récupérées pour PRCH\n",
      "Données récupérées pour PRCT\n",
      "Données récupérées pour PRDO\n",
      "Données récupérées pour PRE\n"
     ]
    },
    {
     "name": "stderr",
     "output_type": "stream",
     "text": [
      "404 Client Error: Not Found for url: https://query2.finance.yahoo.com/v10/finance/quoteSummary/PRE%5EJ?modules=financialData%2CquoteType%2CdefaultKeyStatistics%2CassetProfile%2CsummaryDetail&corsDomain=finance.yahoo.com&formatted=false&symbol=PRE%5EJ&crumb=znKJeXxQthY\n"
     ]
    },
    {
     "name": "stdout",
     "output_type": "stream",
     "text": [
      "Données récupérées pour PRE^J\n",
      "Données récupérées pour PRENW\n",
      "Données récupérées pour PRFT\n",
      "Données récupérées pour PRFX\n",
      "Données récupérées pour PRG\n",
      "Données récupérées pour PRGO\n",
      "Données récupérées pour PRGS\n",
      "Données récupérées pour PRH\n",
      "Données récupérées pour PRI\n"
     ]
    },
    {
     "name": "stderr",
     "output_type": "stream",
     "text": [
      "404 Client Error: Not Found for url: https://query2.finance.yahoo.com/v10/finance/quoteSummary/PRIF%5ED?modules=financialData%2CquoteType%2CdefaultKeyStatistics%2CassetProfile%2CsummaryDetail&corsDomain=finance.yahoo.com&formatted=false&symbol=PRIF%5ED&crumb=znKJeXxQthY\n"
     ]
    },
    {
     "name": "stdout",
     "output_type": "stream",
     "text": [
      "Données récupérées pour PRIF^D\n"
     ]
    },
    {
     "name": "stderr",
     "output_type": "stream",
     "text": [
      "404 Client Error: Not Found for url: https://query2.finance.yahoo.com/v10/finance/quoteSummary/PRIF%5EF?modules=financialData%2CquoteType%2CdefaultKeyStatistics%2CassetProfile%2CsummaryDetail&corsDomain=finance.yahoo.com&formatted=false&symbol=PRIF%5EF&crumb=znKJeXxQthY\n"
     ]
    },
    {
     "name": "stdout",
     "output_type": "stream",
     "text": [
      "Données récupérées pour PRIF^F\n"
     ]
    },
    {
     "name": "stderr",
     "output_type": "stream",
     "text": [
      "404 Client Error: Not Found for url: https://query2.finance.yahoo.com/v10/finance/quoteSummary/PRIF%5EG?modules=financialData%2CquoteType%2CdefaultKeyStatistics%2CassetProfile%2CsummaryDetail&corsDomain=finance.yahoo.com&formatted=false&symbol=PRIF%5EG&crumb=znKJeXxQthY\n"
     ]
    },
    {
     "name": "stdout",
     "output_type": "stream",
     "text": [
      "Données récupérées pour PRIF^G\n"
     ]
    },
    {
     "name": "stderr",
     "output_type": "stream",
     "text": [
      "404 Client Error: Not Found for url: https://query2.finance.yahoo.com/v10/finance/quoteSummary/PRIF%5EH?modules=financialData%2CquoteType%2CdefaultKeyStatistics%2CassetProfile%2CsummaryDetail&corsDomain=finance.yahoo.com&formatted=false&symbol=PRIF%5EH&crumb=znKJeXxQthY\n"
     ]
    },
    {
     "name": "stdout",
     "output_type": "stream",
     "text": [
      "Données récupérées pour PRIF^H\n"
     ]
    },
    {
     "name": "stderr",
     "output_type": "stream",
     "text": [
      "404 Client Error: Not Found for url: https://query2.finance.yahoo.com/v10/finance/quoteSummary/PRIF%5EI?modules=financialData%2CquoteType%2CdefaultKeyStatistics%2CassetProfile%2CsummaryDetail&corsDomain=finance.yahoo.com&formatted=false&symbol=PRIF%5EI&crumb=znKJeXxQthY\n"
     ]
    },
    {
     "name": "stdout",
     "output_type": "stream",
     "text": [
      "Données récupérées pour PRIF^I\n"
     ]
    },
    {
     "name": "stderr",
     "output_type": "stream",
     "text": [
      "404 Client Error: Not Found for url: https://query2.finance.yahoo.com/v10/finance/quoteSummary/PRIF%5EJ?modules=financialData%2CquoteType%2CdefaultKeyStatistics%2CassetProfile%2CsummaryDetail&corsDomain=finance.yahoo.com&formatted=false&symbol=PRIF%5EJ&crumb=znKJeXxQthY\n"
     ]
    },
    {
     "name": "stdout",
     "output_type": "stream",
     "text": [
      "Données récupérées pour PRIF^J\n"
     ]
    },
    {
     "name": "stderr",
     "output_type": "stream",
     "text": [
      "404 Client Error: Not Found for url: https://query2.finance.yahoo.com/v10/finance/quoteSummary/PRIF%5EK?modules=financialData%2CquoteType%2CdefaultKeyStatistics%2CassetProfile%2CsummaryDetail&corsDomain=finance.yahoo.com&formatted=false&symbol=PRIF%5EK&crumb=znKJeXxQthY\n"
     ]
    },
    {
     "name": "stdout",
     "output_type": "stream",
     "text": [
      "Données récupérées pour PRIF^K\n"
     ]
    },
    {
     "name": "stderr",
     "output_type": "stream",
     "text": [
      "404 Client Error: Not Found for url: https://query2.finance.yahoo.com/v10/finance/quoteSummary/PRIF%5EL?modules=financialData%2CquoteType%2CdefaultKeyStatistics%2CassetProfile%2CsummaryDetail&corsDomain=finance.yahoo.com&formatted=false&symbol=PRIF%5EL&crumb=znKJeXxQthY\n"
     ]
    },
    {
     "name": "stdout",
     "output_type": "stream",
     "text": [
      "Données récupérées pour PRIF^L\n",
      "Données récupérées pour PRIM\n",
      "Données récupérées pour PRK\n",
      "Données récupérées pour PRKS\n",
      "Données récupérées pour PRLB\n",
      "Données récupérées pour PRLD\n",
      "Données récupérées pour PRLH\n",
      "Données récupérées pour PRM\n",
      "Données récupérées pour PRME\n",
      "Données récupérées pour PRMW\n",
      "Données récupérées pour PRO\n",
      "Données récupérées pour PROC\n",
      "Données récupérées pour PROCW\n",
      "Données récupérées pour PROF\n",
      "Données récupérées pour PROK\n",
      "Données récupérées pour PROP\n",
      "Données récupérées pour PROV\n",
      "Données récupérées pour PRPH\n",
      "Données récupérées pour PRPL\n",
      "Données récupérées pour PRPO\n",
      "Données récupérées pour PRQR\n",
      "Données récupérées pour PRS\n",
      "Données récupérées pour PRSO\n",
      "Données récupérées pour PRST\n",
      "Données récupérées pour PRSTW\n",
      "Données récupérées pour PRT\n",
      "Données récupérées pour PRTA\n",
      "Données récupérées pour PRTC\n",
      "Données récupérées pour PRTG\n",
      "Données récupérées pour PRTH\n",
      "Données récupérées pour PRTS\n",
      "Données récupérées pour PRU\n",
      "Données récupérées pour PRVA\n",
      "Données récupérées pour PRZO\n",
      "Données récupérées pour PSA\n"
     ]
    },
    {
     "name": "stderr",
     "output_type": "stream",
     "text": [
      "404 Client Error: Not Found for url: https://query2.finance.yahoo.com/v10/finance/quoteSummary/PSA%5EF?modules=financialData%2CquoteType%2CdefaultKeyStatistics%2CassetProfile%2CsummaryDetail&corsDomain=finance.yahoo.com&formatted=false&symbol=PSA%5EF&crumb=znKJeXxQthY\n"
     ]
    },
    {
     "name": "stdout",
     "output_type": "stream",
     "text": [
      "Données récupérées pour PSA^F\n"
     ]
    },
    {
     "name": "stderr",
     "output_type": "stream",
     "text": [
      "404 Client Error: Not Found for url: https://query2.finance.yahoo.com/v10/finance/quoteSummary/PSA%5EG?modules=financialData%2CquoteType%2CdefaultKeyStatistics%2CassetProfile%2CsummaryDetail&corsDomain=finance.yahoo.com&formatted=false&symbol=PSA%5EG&crumb=znKJeXxQthY\n"
     ]
    },
    {
     "name": "stdout",
     "output_type": "stream",
     "text": [
      "Données récupérées pour PSA^G\n"
     ]
    },
    {
     "name": "stderr",
     "output_type": "stream",
     "text": [
      "404 Client Error: Not Found for url: https://query2.finance.yahoo.com/v10/finance/quoteSummary/PSA%5EH?modules=financialData%2CquoteType%2CdefaultKeyStatistics%2CassetProfile%2CsummaryDetail&corsDomain=finance.yahoo.com&formatted=false&symbol=PSA%5EH&crumb=znKJeXxQthY\n"
     ]
    },
    {
     "name": "stdout",
     "output_type": "stream",
     "text": [
      "Données récupérées pour PSA^H\n"
     ]
    },
    {
     "name": "stderr",
     "output_type": "stream",
     "text": [
      "404 Client Error: Not Found for url: https://query2.finance.yahoo.com/v10/finance/quoteSummary/PSA%5EI?modules=financialData%2CquoteType%2CdefaultKeyStatistics%2CassetProfile%2CsummaryDetail&corsDomain=finance.yahoo.com&formatted=false&symbol=PSA%5EI&crumb=znKJeXxQthY\n"
     ]
    },
    {
     "name": "stdout",
     "output_type": "stream",
     "text": [
      "Données récupérées pour PSA^I\n"
     ]
    },
    {
     "name": "stderr",
     "output_type": "stream",
     "text": [
      "404 Client Error: Not Found for url: https://query2.finance.yahoo.com/v10/finance/quoteSummary/PSA%5EJ?modules=financialData%2CquoteType%2CdefaultKeyStatistics%2CassetProfile%2CsummaryDetail&corsDomain=finance.yahoo.com&formatted=false&symbol=PSA%5EJ&crumb=znKJeXxQthY\n"
     ]
    },
    {
     "name": "stdout",
     "output_type": "stream",
     "text": [
      "Données récupérées pour PSA^J\n"
     ]
    },
    {
     "name": "stderr",
     "output_type": "stream",
     "text": [
      "404 Client Error: Not Found for url: https://query2.finance.yahoo.com/v10/finance/quoteSummary/PSA%5EK?modules=financialData%2CquoteType%2CdefaultKeyStatistics%2CassetProfile%2CsummaryDetail&corsDomain=finance.yahoo.com&formatted=false&symbol=PSA%5EK&crumb=znKJeXxQthY\n"
     ]
    },
    {
     "name": "stdout",
     "output_type": "stream",
     "text": [
      "Données récupérées pour PSA^K\n"
     ]
    },
    {
     "name": "stderr",
     "output_type": "stream",
     "text": [
      "404 Client Error: Not Found for url: https://query2.finance.yahoo.com/v10/finance/quoteSummary/PSA%5EL?modules=financialData%2CquoteType%2CdefaultKeyStatistics%2CassetProfile%2CsummaryDetail&corsDomain=finance.yahoo.com&formatted=false&symbol=PSA%5EL&crumb=znKJeXxQthY\n"
     ]
    },
    {
     "name": "stdout",
     "output_type": "stream",
     "text": [
      "Données récupérées pour PSA^L\n"
     ]
    },
    {
     "name": "stderr",
     "output_type": "stream",
     "text": [
      "404 Client Error: Not Found for url: https://query2.finance.yahoo.com/v10/finance/quoteSummary/PSA%5EM?modules=financialData%2CquoteType%2CdefaultKeyStatistics%2CassetProfile%2CsummaryDetail&corsDomain=finance.yahoo.com&formatted=false&symbol=PSA%5EM&crumb=znKJeXxQthY\n"
     ]
    },
    {
     "name": "stdout",
     "output_type": "stream",
     "text": [
      "Données récupérées pour PSA^M\n"
     ]
    },
    {
     "name": "stderr",
     "output_type": "stream",
     "text": [
      "404 Client Error: Not Found for url: https://query2.finance.yahoo.com/v10/finance/quoteSummary/PSA%5EN?modules=financialData%2CquoteType%2CdefaultKeyStatistics%2CassetProfile%2CsummaryDetail&corsDomain=finance.yahoo.com&formatted=false&symbol=PSA%5EN&crumb=znKJeXxQthY\n"
     ]
    },
    {
     "name": "stdout",
     "output_type": "stream",
     "text": [
      "Données récupérées pour PSA^N\n"
     ]
    },
    {
     "name": "stderr",
     "output_type": "stream",
     "text": [
      "404 Client Error: Not Found for url: https://query2.finance.yahoo.com/v10/finance/quoteSummary/PSA%5EO?modules=financialData%2CquoteType%2CdefaultKeyStatistics%2CassetProfile%2CsummaryDetail&corsDomain=finance.yahoo.com&formatted=false&symbol=PSA%5EO&crumb=znKJeXxQthY\n"
     ]
    },
    {
     "name": "stdout",
     "output_type": "stream",
     "text": [
      "Données récupérées pour PSA^O\n"
     ]
    },
    {
     "name": "stderr",
     "output_type": "stream",
     "text": [
      "404 Client Error: Not Found for url: https://query2.finance.yahoo.com/v10/finance/quoteSummary/PSA%5EP?modules=financialData%2CquoteType%2CdefaultKeyStatistics%2CassetProfile%2CsummaryDetail&corsDomain=finance.yahoo.com&formatted=false&symbol=PSA%5EP&crumb=znKJeXxQthY\n"
     ]
    },
    {
     "name": "stdout",
     "output_type": "stream",
     "text": [
      "Données récupérées pour PSA^P\n"
     ]
    },
    {
     "name": "stderr",
     "output_type": "stream",
     "text": [
      "404 Client Error: Not Found for url: https://query2.finance.yahoo.com/v10/finance/quoteSummary/PSA%5EQ?modules=financialData%2CquoteType%2CdefaultKeyStatistics%2CassetProfile%2CsummaryDetail&corsDomain=finance.yahoo.com&formatted=false&symbol=PSA%5EQ&crumb=znKJeXxQthY\n"
     ]
    },
    {
     "name": "stdout",
     "output_type": "stream",
     "text": [
      "Données récupérées pour PSA^Q\n"
     ]
    },
    {
     "name": "stderr",
     "output_type": "stream",
     "text": [
      "404 Client Error: Not Found for url: https://query2.finance.yahoo.com/v10/finance/quoteSummary/PSA%5ER?modules=financialData%2CquoteType%2CdefaultKeyStatistics%2CassetProfile%2CsummaryDetail&corsDomain=finance.yahoo.com&formatted=false&symbol=PSA%5ER&crumb=znKJeXxQthY\n"
     ]
    },
    {
     "name": "stdout",
     "output_type": "stream",
     "text": [
      "Données récupérées pour PSA^R\n"
     ]
    },
    {
     "name": "stderr",
     "output_type": "stream",
     "text": [
      "404 Client Error: Not Found for url: https://query2.finance.yahoo.com/v10/finance/quoteSummary/PSA%5ES?modules=financialData%2CquoteType%2CdefaultKeyStatistics%2CassetProfile%2CsummaryDetail&corsDomain=finance.yahoo.com&formatted=false&symbol=PSA%5ES&crumb=znKJeXxQthY\n"
     ]
    },
    {
     "name": "stdout",
     "output_type": "stream",
     "text": [
      "Données récupérées pour PSA^S\n",
      "Données récupérées pour PSBD\n",
      "Données récupérées pour PSEC\n"
     ]
    },
    {
     "name": "stderr",
     "output_type": "stream",
     "text": [
      "404 Client Error: Not Found for url: https://query2.finance.yahoo.com/v10/finance/quoteSummary/PSEC%5EA?modules=financialData%2CquoteType%2CdefaultKeyStatistics%2CassetProfile%2CsummaryDetail&corsDomain=finance.yahoo.com&formatted=false&symbol=PSEC%5EA&crumb=znKJeXxQthY\n"
     ]
    },
    {
     "name": "stdout",
     "output_type": "stream",
     "text": [
      "Données récupérées pour PSEC^A\n",
      "Données récupérées pour PSF\n",
      "Données récupérées pour PSFE\n",
      "Données récupérées pour PSHG\n",
      "Données récupérées pour PSMT\n",
      "Données récupérées pour PSN\n",
      "Données récupérées pour PSNL\n",
      "Données récupérées pour PSNY\n",
      "Données récupérées pour PSNYW\n",
      "Données récupérées pour PSO\n",
      "Données récupérées pour PSQH\n",
      "Données récupérées pour PSTG\n",
      "Données récupérées pour PSTL\n",
      "Données récupérées pour PSTV\n",
      "Données récupérées pour PSTX\n",
      "Données récupérées pour PSX\n",
      "Données récupérées pour PT\n",
      "Données récupérées pour PTA\n",
      "Données récupérées pour PTC\n",
      "Données récupérées pour PTCT\n",
      "Données récupérées pour PTEN\n",
      "Données récupérées pour PTGX\n",
      "Données récupérées pour PTIX\n",
      "Données récupérées pour PTLO\n",
      "Données récupérées pour PTMN\n",
      "Données récupérées pour PTN\n",
      "Données récupérées pour PTON\n",
      "Données récupérées pour PTPI\n",
      "Données récupérées pour PTSI\n",
      "Données récupérées pour PTVE\n",
      "Données récupérées pour PTWO\n",
      "Données récupérées pour PTWOU\n",
      "Données récupérées pour PTWOW\n",
      "Données récupérées pour PTY\n",
      "Données récupérées pour PUBM\n",
      "Données récupérées pour PUCK\n",
      "Données récupérées pour PUK\n",
      "Données récupérées pour PULM\n",
      "Données récupérées pour PUMP\n",
      "Données récupérées pour PUYI\n",
      "Données récupérées pour PVBC\n",
      "Données récupérées pour PVH\n",
      "Données récupérées pour PVL\n",
      "Données récupérées pour PW\n"
     ]
    },
    {
     "name": "stderr",
     "output_type": "stream",
     "text": [
      "404 Client Error: Not Found for url: https://query2.finance.yahoo.com/v10/finance/quoteSummary/PW%5EA?modules=financialData%2CquoteType%2CdefaultKeyStatistics%2CassetProfile%2CsummaryDetail&corsDomain=finance.yahoo.com&formatted=false&symbol=PW%5EA&crumb=znKJeXxQthY\n"
     ]
    },
    {
     "name": "stdout",
     "output_type": "stream",
     "text": [
      "Données récupérées pour PW^A\n",
      "Données récupérées pour PWFL\n",
      "Données récupérées pour PWM\n",
      "Données récupérées pour PWOD\n",
      "Données récupérées pour PWP\n",
      "Données récupérées pour PWR\n",
      "Données récupérées pour PWSC\n",
      "Données récupérées pour PWUP\n",
      "Données récupérées pour PWUPW\n",
      "Données récupérées pour PX\n",
      "Données récupérées pour PXD\n",
      "Données récupérées pour PXDT\n",
      "Données récupérées pour PXLW\n",
      "Données récupérées pour PXMD\n",
      "Données récupérées pour PXS\n",
      "Données récupérées pour PXSAP\n",
      "Données récupérées pour PXSAW\n",
      "Données récupérées pour PYCR\n",
      "Données récupérées pour PYN\n",
      "Données récupérées pour PYPD\n",
      "Données récupérées pour PYPL\n",
      "Données récupérées pour PYT\n",
      "Données récupérées pour PYXS\n",
      "Données récupérées pour PZC\n",
      "Données récupérées pour PZG\n",
      "Données récupérées pour PZZA\n",
      "Données récupérées pour QBTS\n",
      "Données récupérées pour QCOM\n",
      "Données récupérées pour QCRH\n",
      "Données récupérées pour QD\n",
      "Données récupérées pour QDEL\n",
      "Données récupérées pour QDRO\n",
      "Données récupérées pour QETA\n",
      "Données récupérées pour QETAR\n",
      "Données récupérées pour QFIN\n",
      "Données récupérées pour QGEN\n",
      "Données récupérées pour QH\n",
      "Données récupérées pour QIPT\n",
      "Données récupérées pour QLGN\n",
      "Données récupérées pour QLI\n",
      "Données récupérées pour QLYS\n",
      "Données récupérées pour QMCO\n",
      "Données récupérées pour QNCX\n",
      "Données récupérées pour QNRX\n",
      "Données récupérées pour QNST\n",
      "Données récupérées pour QOMO\n",
      "Données récupérées pour QOMOW\n",
      "Données récupérées pour QQQX\n",
      "Données récupérées pour QRHC\n",
      "Données récupérées pour QRTEA\n",
      "Données récupérées pour QRTEB\n",
      "Données récupérées pour QRTEP\n",
      "Données récupérées pour QRVO\n",
      "Données récupérées pour QS\n",
      "Données récupérées pour QSG\n",
      "Données récupérées pour QSI\n",
      "Données récupérées pour QSIAW\n",
      "Données récupérées pour QSR\n",
      "Données récupérées pour QTRX\n",
      "Données récupérées pour QTWO\n",
      "Données récupérées pour QUAD\n",
      "Données récupérées pour QUBT\n",
      "Données récupérées pour QUIK\n",
      "Données récupérées pour QURE\n",
      "Données récupérées pour QVCC\n",
      "Données récupérées pour QVCD\n",
      "Données récupérées pour R\n",
      "Données récupérées pour RA\n",
      "Données récupérées pour RACE\n",
      "Données récupérées pour RAIL\n",
      "Données récupérées pour RAMP\n",
      "Données récupérées pour RAND\n",
      "Données récupérées pour RANI\n",
      "Données récupérées pour RAPT\n",
      "Données récupérées pour RARE\n",
      "Données récupérées pour RAVE\n",
      "Données récupérées pour RAYA\n",
      "Données récupérées pour RBA\n",
      "Données récupérées pour RBB\n",
      "Données récupérées pour RBBN\n",
      "Données récupérées pour RBC\n",
      "Données récupérées pour RBCAA\n",
      "Données récupérées pour RBCP\n",
      "Données récupérées pour RBKB\n",
      "Données récupérées pour RBLX\n",
      "Données récupérées pour RBOT\n",
      "Données récupérées pour RBT\n",
      "Données récupérées pour RC\n"
     ]
    },
    {
     "name": "stderr",
     "output_type": "stream",
     "text": [
      "404 Client Error: Not Found for url: https://query2.finance.yahoo.com/v10/finance/quoteSummary/RC%5EC?modules=financialData%2CquoteType%2CdefaultKeyStatistics%2CassetProfile%2CsummaryDetail&corsDomain=finance.yahoo.com&formatted=false&symbol=RC%5EC&crumb=znKJeXxQthY\n"
     ]
    },
    {
     "name": "stdout",
     "output_type": "stream",
     "text": [
      "Données récupérées pour RC^C\n"
     ]
    },
    {
     "name": "stderr",
     "output_type": "stream",
     "text": [
      "404 Client Error: Not Found for url: https://query2.finance.yahoo.com/v10/finance/quoteSummary/RC%5EE?modules=financialData%2CquoteType%2CdefaultKeyStatistics%2CassetProfile%2CsummaryDetail&corsDomain=finance.yahoo.com&formatted=false&symbol=RC%5EE&crumb=znKJeXxQthY\n"
     ]
    },
    {
     "name": "stdout",
     "output_type": "stream",
     "text": [
      "Données récupérées pour RC^E\n",
      "Données récupérées pour RCAC\n",
      "Données récupérées pour RCAT\n",
      "Données récupérées pour RCB\n",
      "Données récupérées pour RCC\n",
      "Données récupérées pour RCEL\n",
      "Données récupérées pour RCFA\n",
      "Données récupérées pour RCG\n",
      "Données récupérées pour RCI\n",
      "Données récupérées pour RCKT\n",
      "Données récupérées pour RCKTW\n",
      "Données récupérées pour RCKY\n",
      "Données récupérées pour RCL\n",
      "Données récupérées pour RCM\n",
      "Données récupérées pour RCMT\n",
      "Données récupérées pour RCON\n",
      "Données récupérées pour RCRT\n",
      "Données récupérées pour RCRTW\n",
      "Données récupérées pour RCS\n",
      "Données récupérées pour RCUS\n",
      "Données récupérées pour RDCM\n",
      "Données récupérées pour RDFN\n",
      "Données récupérées pour RDHL\n",
      "Données récupérées pour RDI\n",
      "Données récupérées pour RDIB\n",
      "Données récupérées pour RDN\n",
      "Données récupérées pour RDNT\n",
      "Données récupérées pour RDUS\n",
      "Données récupérées pour RDVT\n",
      "Données récupérées pour RDW\n",
      "Données récupérées pour RDWR\n",
      "Données récupérées pour RDY\n",
      "Données récupérées pour RDZN\n",
      "Données récupérées pour REAL\n",
      "Données récupérées pour REAX\n",
      "Données récupérées pour REBN\n",
      "Données récupérées pour REE\n",
      "Données récupérées pour REFI\n",
      "Données récupérées pour REFR\n",
      "Données récupérées pour REG\n",
      "Données récupérées pour REGCO\n",
      "Données récupérées pour REGCP\n",
      "Données récupérées pour REGN\n",
      "Données récupérées pour REI\n",
      "Données récupérées pour REKR\n",
      "Données récupérées pour RELI\n",
      "Données récupérées pour RELL\n",
      "Données récupérées pour RELX\n",
      "Données récupérées pour RELY\n",
      "Données récupérées pour RENB\n",
      "Données récupérées pour RENE\n",
      "Données récupérées pour RENEW\n",
      "Données récupérées pour RENT\n",
      "Données récupérées pour REPL\n",
      "Données récupérées pour REPX\n",
      "Données récupérées pour RERE\n",
      "Données récupérées pour RES\n",
      "Données récupérées pour RETO\n",
      "Données récupérées pour REVB\n",
      "Données récupérées pour REVBW\n",
      "Données récupérées pour REVG\n",
      "Données récupérées pour REX\n",
      "Données récupérées pour REXR\n"
     ]
    },
    {
     "name": "stderr",
     "output_type": "stream",
     "text": [
      "404 Client Error: Not Found for url: https://query2.finance.yahoo.com/v10/finance/quoteSummary/REXR%5EB?modules=financialData%2CquoteType%2CdefaultKeyStatistics%2CassetProfile%2CsummaryDetail&corsDomain=finance.yahoo.com&formatted=false&symbol=REXR%5EB&crumb=znKJeXxQthY\n"
     ]
    },
    {
     "name": "stdout",
     "output_type": "stream",
     "text": [
      "Données récupérées pour REXR^B\n"
     ]
    },
    {
     "name": "stderr",
     "output_type": "stream",
     "text": [
      "404 Client Error: Not Found for url: https://query2.finance.yahoo.com/v10/finance/quoteSummary/REXR%5EC?modules=financialData%2CquoteType%2CdefaultKeyStatistics%2CassetProfile%2CsummaryDetail&corsDomain=finance.yahoo.com&formatted=false&symbol=REXR%5EC&crumb=znKJeXxQthY\n"
     ]
    },
    {
     "name": "stdout",
     "output_type": "stream",
     "text": [
      "Données récupérées pour REXR^C\n",
      "Données récupérées pour REYN\n",
      "Données récupérées pour REZI\n",
      "Données récupérées pour RF\n"
     ]
    },
    {
     "name": "stderr",
     "output_type": "stream",
     "text": [
      "404 Client Error: Not Found for url: https://query2.finance.yahoo.com/v10/finance/quoteSummary/RF%5EB?modules=financialData%2CquoteType%2CdefaultKeyStatistics%2CassetProfile%2CsummaryDetail&corsDomain=finance.yahoo.com&formatted=false&symbol=RF%5EB&crumb=znKJeXxQthY\n"
     ]
    },
    {
     "name": "stdout",
     "output_type": "stream",
     "text": [
      "Données récupérées pour RF^B\n"
     ]
    },
    {
     "name": "stderr",
     "output_type": "stream",
     "text": [
      "404 Client Error: Not Found for url: https://query2.finance.yahoo.com/v10/finance/quoteSummary/RF%5EC?modules=financialData%2CquoteType%2CdefaultKeyStatistics%2CassetProfile%2CsummaryDetail&corsDomain=finance.yahoo.com&formatted=false&symbol=RF%5EC&crumb=znKJeXxQthY\n"
     ]
    },
    {
     "name": "stdout",
     "output_type": "stream",
     "text": [
      "Données récupérées pour RF^C\n"
     ]
    },
    {
     "name": "stderr",
     "output_type": "stream",
     "text": [
      "404 Client Error: Not Found for url: https://query2.finance.yahoo.com/v10/finance/quoteSummary/RF%5EE?modules=financialData%2CquoteType%2CdefaultKeyStatistics%2CassetProfile%2CsummaryDetail&corsDomain=finance.yahoo.com&formatted=false&symbol=RF%5EE&crumb=znKJeXxQthY\n"
     ]
    },
    {
     "name": "stdout",
     "output_type": "stream",
     "text": [
      "Données récupérées pour RF^E\n",
      "Données récupérées pour RFACW\n",
      "Données récupérées pour RFI\n",
      "Données récupérées pour RFIL\n",
      "Données récupérées pour RFL\n",
      "Données récupérées pour RFM\n",
      "Données récupérées pour RFMZ\n",
      "Données récupérées pour RGA\n",
      "Données récupérées pour RGC\n",
      "Données récupérées pour RGCO\n",
      "Données récupérées pour RGEN\n",
      "Données récupérées pour RGF\n",
      "Données récupérées pour RGLD\n",
      "Données récupérées pour RGLS\n",
      "Données récupérées pour RGNX\n",
      "Données récupérées pour RGP\n",
      "Données récupérées pour RGR\n",
      "Données récupérées pour RGS\n",
      "Données récupérées pour RGT\n",
      "Données récupérées pour RGTI\n",
      "Données récupérées pour RGTIW\n",
      "Données récupérées pour RH\n",
      "Données récupérées pour RHE\n"
     ]
    },
    {
     "name": "stderr",
     "output_type": "stream",
     "text": [
      "404 Client Error: Not Found for url: https://query2.finance.yahoo.com/v10/finance/quoteSummary/RHE%5EA?modules=financialData%2CquoteType%2CdefaultKeyStatistics%2CassetProfile%2CsummaryDetail&corsDomain=finance.yahoo.com&formatted=false&symbol=RHE%5EA&crumb=znKJeXxQthY\n"
     ]
    },
    {
     "name": "stdout",
     "output_type": "stream",
     "text": [
      "Données récupérées pour RHE^A\n",
      "Données récupérées pour RHI\n",
      "Données récupérées pour RHP\n",
      "Données récupérées pour RICK\n",
      "Données récupérées pour RIG\n",
      "Données récupérées pour RIGL\n",
      "Données récupérées pour RILY\n",
      "Données récupérées pour RILYG\n",
      "Données récupérées pour RILYK\n",
      "Données récupérées pour RILYL\n",
      "Données récupérées pour RILYM\n",
      "Données récupérées pour RILYN\n",
      "Données récupérées pour RILYO\n",
      "Données récupérées pour RILYP\n",
      "Données récupérées pour RILYT\n",
      "Données récupérées pour RILYZ\n",
      "Données récupérées pour RIO\n",
      "Données récupérées pour RIOT\n",
      "Données récupérées pour RITM\n"
     ]
    },
    {
     "name": "stderr",
     "output_type": "stream",
     "text": [
      "404 Client Error: Not Found for url: https://query2.finance.yahoo.com/v10/finance/quoteSummary/RITM%5EA?modules=financialData%2CquoteType%2CdefaultKeyStatistics%2CassetProfile%2CsummaryDetail&corsDomain=finance.yahoo.com&formatted=false&symbol=RITM%5EA&crumb=znKJeXxQthY\n"
     ]
    },
    {
     "name": "stdout",
     "output_type": "stream",
     "text": [
      "Données récupérées pour RITM^A\n"
     ]
    },
    {
     "name": "stderr",
     "output_type": "stream",
     "text": [
      "404 Client Error: Not Found for url: https://query2.finance.yahoo.com/v10/finance/quoteSummary/RITM%5EB?modules=financialData%2CquoteType%2CdefaultKeyStatistics%2CassetProfile%2CsummaryDetail&corsDomain=finance.yahoo.com&formatted=false&symbol=RITM%5EB&crumb=znKJeXxQthY\n"
     ]
    },
    {
     "name": "stdout",
     "output_type": "stream",
     "text": [
      "Données récupérées pour RITM^B\n"
     ]
    },
    {
     "name": "stderr",
     "output_type": "stream",
     "text": [
      "404 Client Error: Not Found for url: https://query2.finance.yahoo.com/v10/finance/quoteSummary/RITM%5EC?modules=financialData%2CquoteType%2CdefaultKeyStatistics%2CassetProfile%2CsummaryDetail&corsDomain=finance.yahoo.com&formatted=false&symbol=RITM%5EC&crumb=znKJeXxQthY\n"
     ]
    },
    {
     "name": "stdout",
     "output_type": "stream",
     "text": [
      "Données récupérées pour RITM^C\n"
     ]
    },
    {
     "name": "stderr",
     "output_type": "stream",
     "text": [
      "404 Client Error: Not Found for url: https://query2.finance.yahoo.com/v10/finance/quoteSummary/RITM%5ED?modules=financialData%2CquoteType%2CdefaultKeyStatistics%2CassetProfile%2CsummaryDetail&corsDomain=finance.yahoo.com&formatted=false&symbol=RITM%5ED&crumb=znKJeXxQthY\n"
     ]
    },
    {
     "name": "stdout",
     "output_type": "stream",
     "text": [
      "Données récupérées pour RITM^D\n",
      "Données récupérées pour RIV\n"
     ]
    },
    {
     "name": "stderr",
     "output_type": "stream",
     "text": [
      "404 Client Error: Not Found for url: https://query2.finance.yahoo.com/v10/finance/quoteSummary/RIV%5EA?modules=financialData%2CquoteType%2CdefaultKeyStatistics%2CassetProfile%2CsummaryDetail&corsDomain=finance.yahoo.com&formatted=false&symbol=RIV%5EA&crumb=znKJeXxQthY\n"
     ]
    },
    {
     "name": "stdout",
     "output_type": "stream",
     "text": [
      "Données récupérées pour RIV^A\n",
      "Données récupérées pour RIVN\n",
      "Données récupérées pour RJF\n"
     ]
    },
    {
     "name": "stderr",
     "output_type": "stream",
     "text": [
      "404 Client Error: Not Found for url: https://query2.finance.yahoo.com/v10/finance/quoteSummary/RJF%5EB?modules=financialData%2CquoteType%2CdefaultKeyStatistics%2CassetProfile%2CsummaryDetail&corsDomain=finance.yahoo.com&formatted=false&symbol=RJF%5EB&crumb=znKJeXxQthY\n"
     ]
    },
    {
     "name": "stdout",
     "output_type": "stream",
     "text": [
      "Données récupérées pour RJF^B\n",
      "Données récupérées pour RKDA\n",
      "Données récupérées pour RKLB\n",
      "Données récupérées pour RKT\n",
      "Données récupérées pour RL\n",
      "Données récupérées pour RLAY\n",
      "Données récupérées pour RLGT\n",
      "Données récupérées pour RLI\n",
      "Données récupérées pour RLJ\n"
     ]
    },
    {
     "name": "stderr",
     "output_type": "stream",
     "text": [
      "404 Client Error: Not Found for url: https://query2.finance.yahoo.com/v10/finance/quoteSummary/RLJ%5EA?modules=financialData%2CquoteType%2CdefaultKeyStatistics%2CassetProfile%2CsummaryDetail&corsDomain=finance.yahoo.com&formatted=false&symbol=RLJ%5EA&crumb=znKJeXxQthY\n"
     ]
    },
    {
     "name": "stdout",
     "output_type": "stream",
     "text": [
      "Données récupérées pour RLJ^A\n",
      "Données récupérées pour RLMD\n",
      "Données récupérées pour RLTY\n",
      "Données récupérées pour RLX\n",
      "Données récupérées pour RLYB\n",
      "Données récupérées pour RM\n",
      "Données récupérées pour RMAX\n",
      "Données récupérées pour RMBI\n",
      "Données récupérées pour RMBL\n",
      "Données récupérées pour RMBS\n",
      "Données récupérées pour RMCF\n",
      "Données récupérées pour RMCO\n",
      "Données récupérées pour RMCOW\n",
      "Données récupérées pour RMD\n",
      "Données récupérées pour RMGC\n",
      "Données récupérées pour RMGCU\n",
      "Données récupérées pour RMI\n",
      "Données récupérées pour RMM\n",
      "Données récupérées pour RMMZ\n",
      "Données récupérées pour RMNI\n"
     ]
    },
    {
     "name": "stderr",
     "output_type": "stream",
     "text": [
      "404 Client Error: Not Found for url: https://query2.finance.yahoo.com/v10/finance/quoteSummary/RMPL%5E?modules=financialData%2CquoteType%2CdefaultKeyStatistics%2CassetProfile%2CsummaryDetail&corsDomain=finance.yahoo.com&formatted=false&symbol=RMPL%5E&crumb=znKJeXxQthY\n"
     ]
    },
    {
     "name": "stdout",
     "output_type": "stream",
     "text": [
      "Données récupérées pour RMPL^\n",
      "Données récupérées pour RMR\n",
      "Données récupérées pour RMT\n",
      "Données récupérées pour RMTI\n",
      "Données récupérées pour RNA\n",
      "Données récupérées pour RNAC\n",
      "Données récupérées pour RNAZ\n",
      "Données récupérées pour RNG\n",
      "Données récupérées pour RNGR\n",
      "Données récupérées pour RNLX\n",
      "Données récupérées pour RNP\n",
      "Données récupérées pour RNR\n"
     ]
    },
    {
     "name": "stderr",
     "output_type": "stream",
     "text": [
      "404 Client Error: Not Found for url: https://query2.finance.yahoo.com/v10/finance/quoteSummary/RNR%5EF?modules=financialData%2CquoteType%2CdefaultKeyStatistics%2CassetProfile%2CsummaryDetail&corsDomain=finance.yahoo.com&formatted=false&symbol=RNR%5EF&crumb=znKJeXxQthY\n"
     ]
    },
    {
     "name": "stdout",
     "output_type": "stream",
     "text": [
      "Données récupérées pour RNR^F\n"
     ]
    },
    {
     "name": "stderr",
     "output_type": "stream",
     "text": [
      "404 Client Error: Not Found for url: https://query2.finance.yahoo.com/v10/finance/quoteSummary/RNR%5EG?modules=financialData%2CquoteType%2CdefaultKeyStatistics%2CassetProfile%2CsummaryDetail&corsDomain=finance.yahoo.com&formatted=false&symbol=RNR%5EG&crumb=znKJeXxQthY\n"
     ]
    },
    {
     "name": "stdout",
     "output_type": "stream",
     "text": [
      "Données récupérées pour RNR^G\n",
      "Données récupérées pour RNST\n",
      "Données récupérées pour RNW\n",
      "Données récupérées pour RNWWW\n",
      "Données récupérées pour RNXT\n",
      "Données récupérées pour ROAD\n",
      "Données récupérées pour ROCK\n",
      "Données récupérées pour ROCL\n",
      "Données récupérées pour ROCLW\n",
      "Données récupérées pour ROG\n",
      "Données récupérées pour ROI\n",
      "Données récupérées pour ROIC\n",
      "Données récupérées pour ROIV\n",
      "Données récupérées pour ROK\n",
      "Données récupérées pour ROKU\n",
      "Données récupérées pour ROL\n",
      "Données récupérées pour ROMA\n",
      "Données récupérées pour ROOT\n",
      "Données récupérées pour ROP\n",
      "Données récupérées pour ROSS\n",
      "Données récupérées pour ROST\n",
      "Données récupérées pour ROVR\n",
      "Données récupérées pour RPAY\n",
      "Données récupérées pour RPD\n",
      "Données récupérées pour RPHM\n",
      "Données récupérées pour RPID\n",
      "Données récupérées pour RPM\n",
      "Données récupérées pour RPRX\n",
      "Données récupérées pour RPTX\n",
      "Données récupérées pour RQI\n",
      "Données récupérées pour RR\n",
      "Données récupérées pour RRAC\n",
      "Données récupérées pour RRBI\n",
      "Données récupérées pour RRC\n",
      "Données récupérées pour RRGB\n",
      "Données récupérées pour RRR\n",
      "Données récupérées pour RRX\n",
      "Données récupérées pour RS\n",
      "Données récupérées pour RSF\n",
      "Données récupérées pour RSG\n",
      "Données récupérées pour RSI\n",
      "Données récupérées pour RSKD\n",
      "Données récupérées pour RSLS\n",
      "Données récupérées pour RSSS\n",
      "Données récupérées pour RSVR\n",
      "Données récupérées pour RSVRW\n",
      "Données récupérées pour RTC\n",
      "Données récupérées pour RTO\n",
      "Données récupérées pour RTX\n",
      "Données récupérées pour RUM\n",
      "Données récupérées pour RUMBW\n",
      "Données récupérées pour RUN\n",
      "Données récupérées pour RUSHA\n",
      "Données récupérées pour RUSHB\n",
      "Données récupérées pour RVLV\n",
      "Données récupérées pour RVMD\n",
      "Données récupérées pour RVMDW\n",
      "Données récupérées pour RVNC\n",
      "Données récupérées pour RVP\n",
      "Données récupérées pour RVPH\n",
      "Données récupérées pour RVPHW\n",
      "Données récupérées pour RVSB\n",
      "Données récupérées pour RVSN\n",
      "Données récupérées pour RVSNW\n",
      "Données récupérées pour RVT\n",
      "Données récupérées pour RVTY\n",
      "Données récupérées pour RVYL\n",
      "Données récupérées pour RWAY\n",
      "Données récupérées pour RWAYL\n",
      "Données récupérées pour RWAYZ\n",
      "Données récupérées pour RWOD\n",
      "Données récupérées pour RWODR\n",
      "Données récupérées pour RWT\n"
     ]
    },
    {
     "name": "stderr",
     "output_type": "stream",
     "text": [
      "404 Client Error: Not Found for url: https://query2.finance.yahoo.com/v10/finance/quoteSummary/RWT%5EA?modules=financialData%2CquoteType%2CdefaultKeyStatistics%2CassetProfile%2CsummaryDetail&corsDomain=finance.yahoo.com&formatted=false&symbol=RWT%5EA&crumb=znKJeXxQthY\n"
     ]
    },
    {
     "name": "stdout",
     "output_type": "stream",
     "text": [
      "Données récupérées pour RWT^A\n",
      "Données récupérées pour RWTN\n",
      "Données récupérées pour RXO\n",
      "Données récupérées pour RXRX\n",
      "Données récupérées pour RXST\n",
      "Données récupérées pour RXT\n",
      "Données récupérées pour RY\n",
      "Données récupérées pour RYAAY\n",
      "Données récupérées pour RYAM\n",
      "Données récupérées pour RYAN\n",
      "Données récupérées pour RYI\n",
      "Données récupérées pour RYN\n",
      "Données récupérées pour RYTM\n",
      "Données récupérées pour RYZB\n",
      "Données récupérées pour RZB\n",
      "Données récupérées pour RZC\n",
      "Données récupérées pour RZLT\n",
      "Données récupérées pour S\n",
      "Données récupérées pour SA\n",
      "Données récupérées pour SABA\n",
      "Données récupérées pour SABR\n",
      "Données récupérées pour SABS\n",
      "Données récupérées pour SABSW\n",
      "Données récupérées pour SACC\n",
      "Données récupérées pour SACH\n"
     ]
    },
    {
     "name": "stderr",
     "output_type": "stream",
     "text": [
      "404 Client Error: Not Found for url: https://query2.finance.yahoo.com/v10/finance/quoteSummary/SACH%5EA?modules=financialData%2CquoteType%2CdefaultKeyStatistics%2CassetProfile%2CsummaryDetail&corsDomain=finance.yahoo.com&formatted=false&symbol=SACH%5EA&crumb=znKJeXxQthY\n"
     ]
    },
    {
     "name": "stdout",
     "output_type": "stream",
     "text": [
      "Données récupérées pour SACH^A\n",
      "Données récupérées pour SAFE\n",
      "Données récupérées pour SAFT\n",
      "Données récupérées pour SAGA\n",
      "Données récupérées pour SAGAR\n",
      "Données récupérées pour SAGE\n",
      "Données récupérées pour SAH\n",
      "Données récupérées pour SAI\n",
      "Données récupérées pour SAIA\n",
      "Données récupérées pour SAIC\n",
      "Données récupérées pour SAITW\n",
      "Données récupérées pour SAJ\n",
      "Données récupérées pour SAM\n",
      "Données récupérées pour SAMG\n",
      "Données récupérées pour SAN\n",
      "Données récupérées pour SANA\n",
      "Données récupérées pour SAND          \n",
      "Données récupérées pour SANG\n",
      "Données récupérées pour SANM\n",
      "Données récupérées pour SANW\n",
      "Données récupérées pour SAP\n",
      "Données récupérées pour SAR\n",
      "Données récupérées pour SASI\n",
      "Données récupérées pour SASR\n",
      "Données récupérées pour SAT\n",
      "Données récupérées pour SATL\n",
      "Données récupérées pour SATS\n",
      "Données récupérées pour SATX\n",
      "Données récupérées pour SAVA\n",
      "Données récupérées pour SAVAW\n",
      "Données récupérées pour SAVE\n",
      "Données récupérées pour SAY\n",
      "Données récupérées pour SAZ\n",
      "Données récupérées pour SB\n"
     ]
    },
    {
     "name": "stderr",
     "output_type": "stream",
     "text": [
      "404 Client Error: Not Found for url: https://query2.finance.yahoo.com/v10/finance/quoteSummary/SB%5EC?modules=financialData%2CquoteType%2CdefaultKeyStatistics%2CassetProfile%2CsummaryDetail&corsDomain=finance.yahoo.com&formatted=false&symbol=SB%5EC&crumb=znKJeXxQthY\n"
     ]
    },
    {
     "name": "stdout",
     "output_type": "stream",
     "text": [
      "Données récupérées pour SB^C\n"
     ]
    },
    {
     "name": "stderr",
     "output_type": "stream",
     "text": [
      "404 Client Error: Not Found for url: https://query2.finance.yahoo.com/v10/finance/quoteSummary/SB%5ED?modules=financialData%2CquoteType%2CdefaultKeyStatistics%2CassetProfile%2CsummaryDetail&corsDomain=finance.yahoo.com&formatted=false&symbol=SB%5ED&crumb=znKJeXxQthY\n"
     ]
    },
    {
     "name": "stdout",
     "output_type": "stream",
     "text": [
      "Données récupérées pour SB^D\n",
      "Données récupérées pour SBAC\n",
      "Données récupérées pour SBBA\n",
      "Données récupérées pour SBCF\n",
      "Données récupérées pour SBET\n",
      "Données récupérées pour SBEV\n",
      "Données récupérées pour SBFG\n",
      "Données récupérées pour SBFM\n",
      "Données récupérées pour SBFMW\n",
      "Données récupérées pour SBGI\n",
      "Données récupérées pour SBH\n",
      "Données récupérées pour SBI\n",
      "Données récupérées pour SBLK\n",
      "Données récupérées pour SBOW\n",
      "Données récupérées pour SBR\n",
      "Données récupérées pour SBRA\n",
      "Données récupérées pour SBS\n",
      "Données récupérées pour SBSI\n",
      "Données récupérées pour SBSW\n",
      "Données récupérées pour SBT\n",
      "Données récupérées pour SBUX\n",
      "Données récupérées pour SBXC\n",
      "Données récupérées pour SCCB\n",
      "Données récupérées pour SCCC\n",
      "Données récupérées pour SCCD\n",
      "Données récupérées pour SCCE\n",
      "Données récupérées pour SCCF\n",
      "Données récupérées pour SCCG\n",
      "Données récupérées pour SCCO\n",
      "Données récupérées pour SCD\n"
     ]
    },
    {
     "name": "stderr",
     "output_type": "stream",
     "text": [
      "404 Client Error: Not Found for url: https://query2.finance.yahoo.com/v10/finance/quoteSummary/SCE%5EG?modules=financialData%2CquoteType%2CdefaultKeyStatistics%2CassetProfile%2CsummaryDetail&corsDomain=finance.yahoo.com&formatted=false&symbol=SCE%5EG&crumb=znKJeXxQthY\n"
     ]
    },
    {
     "name": "stdout",
     "output_type": "stream",
     "text": [
      "Données récupérées pour SCE^G\n"
     ]
    },
    {
     "name": "stderr",
     "output_type": "stream",
     "text": [
      "404 Client Error: Not Found for url: https://query2.finance.yahoo.com/v10/finance/quoteSummary/SCE%5EH?modules=financialData%2CquoteType%2CdefaultKeyStatistics%2CassetProfile%2CsummaryDetail&corsDomain=finance.yahoo.com&formatted=false&symbol=SCE%5EH&crumb=znKJeXxQthY\n"
     ]
    },
    {
     "name": "stdout",
     "output_type": "stream",
     "text": [
      "Données récupérées pour SCE^H\n"
     ]
    },
    {
     "name": "stderr",
     "output_type": "stream",
     "text": [
      "404 Client Error: Not Found for url: https://query2.finance.yahoo.com/v10/finance/quoteSummary/SCE%5EJ?modules=financialData%2CquoteType%2CdefaultKeyStatistics%2CassetProfile%2CsummaryDetail&corsDomain=finance.yahoo.com&formatted=false&symbol=SCE%5EJ&crumb=znKJeXxQthY\n"
     ]
    },
    {
     "name": "stdout",
     "output_type": "stream",
     "text": [
      "Données récupérées pour SCE^J\n"
     ]
    },
    {
     "name": "stderr",
     "output_type": "stream",
     "text": [
      "404 Client Error: Not Found for url: https://query2.finance.yahoo.com/v10/finance/quoteSummary/SCE%5EK?modules=financialData%2CquoteType%2CdefaultKeyStatistics%2CassetProfile%2CsummaryDetail&corsDomain=finance.yahoo.com&formatted=false&symbol=SCE%5EK&crumb=znKJeXxQthY\n"
     ]
    },
    {
     "name": "stdout",
     "output_type": "stream",
     "text": [
      "Données récupérées pour SCE^K\n"
     ]
    },
    {
     "name": "stderr",
     "output_type": "stream",
     "text": [
      "404 Client Error: Not Found for url: https://query2.finance.yahoo.com/v10/finance/quoteSummary/SCE%5EL?modules=financialData%2CquoteType%2CdefaultKeyStatistics%2CassetProfile%2CsummaryDetail&corsDomain=finance.yahoo.com&formatted=false&symbol=SCE%5EL&crumb=znKJeXxQthY\n"
     ]
    },
    {
     "name": "stdout",
     "output_type": "stream",
     "text": [
      "Données récupérées pour SCE^L\n"
     ]
    },
    {
     "name": "stderr",
     "output_type": "stream",
     "text": [
      "404 Client Error: Not Found for url: https://query2.finance.yahoo.com/v10/finance/quoteSummary/SCE%5EM?modules=financialData%2CquoteType%2CdefaultKeyStatistics%2CassetProfile%2CsummaryDetail&corsDomain=finance.yahoo.com&formatted=false&symbol=SCE%5EM&crumb=znKJeXxQthY\n"
     ]
    },
    {
     "name": "stdout",
     "output_type": "stream",
     "text": [
      "Données récupérées pour SCE^M\n",
      "Données récupérées pour SCHL\n",
      "Données récupérées pour SCHW\n"
     ]
    },
    {
     "name": "stderr",
     "output_type": "stream",
     "text": [
      "404 Client Error: Not Found for url: https://query2.finance.yahoo.com/v10/finance/quoteSummary/SCHW%5ED?modules=financialData%2CquoteType%2CdefaultKeyStatistics%2CassetProfile%2CsummaryDetail&corsDomain=finance.yahoo.com&formatted=false&symbol=SCHW%5ED&crumb=znKJeXxQthY\n"
     ]
    },
    {
     "name": "stdout",
     "output_type": "stream",
     "text": [
      "Données récupérées pour SCHW^D\n"
     ]
    },
    {
     "name": "stderr",
     "output_type": "stream",
     "text": [
      "404 Client Error: Not Found for url: https://query2.finance.yahoo.com/v10/finance/quoteSummary/SCHW%5EJ?modules=financialData%2CquoteType%2CdefaultKeyStatistics%2CassetProfile%2CsummaryDetail&corsDomain=finance.yahoo.com&formatted=false&symbol=SCHW%5EJ&crumb=znKJeXxQthY\n"
     ]
    },
    {
     "name": "stdout",
     "output_type": "stream",
     "text": [
      "Données récupérées pour SCHW^J\n",
      "Données récupérées pour SCI\n",
      "Données récupérées pour SCKT\n",
      "Données récupérées pour SCL\n",
      "Données récupérées pour SCLX\n",
      "Données récupérées pour SCLXW\n",
      "Données récupérées pour SCM\n",
      "Données récupérées pour SCNI\n",
      "Données récupérées pour SCOR\n",
      "Données récupérées pour SCPH\n",
      "Données récupérées pour SCPX\n",
      "Données récupérées pour SCRM\n",
      "Données récupérées pour SCRMU\n",
      "Données récupérées pour SCRMW\n",
      "Données récupérées pour SCS\n",
      "Données récupérées pour SCSC\n",
      "Données récupérées pour SCTL\n",
      "Données récupérées pour SCVL\n",
      "Données récupérées pour SCWO\n",
      "Données récupérées pour SCWX\n",
      "Données récupérées pour SCX\n",
      "Données récupérées pour SCYX\n",
      "Données récupérées pour SD\n",
      "Données récupérées pour SDA\n",
      "Données récupérées pour SDAWW\n",
      "Données récupérées pour SDGR\n",
      "Données récupérées pour SDHC\n",
      "Données récupérées pour SDHY\n",
      "Données récupérées pour SDIG\n",
      "Données récupérées pour SDOT\n",
      "Données récupérées pour SDPI\n",
      "Données récupérées pour SDRL\n",
      "Données récupérées pour SE\n"
     ]
    },
    {
     "name": "stderr",
     "output_type": "stream",
     "text": [
      "404 Client Error: Not Found for url: https://query2.finance.yahoo.com/v10/finance/quoteSummary/SEAL%5EA?modules=financialData%2CquoteType%2CdefaultKeyStatistics%2CassetProfile%2CsummaryDetail&corsDomain=finance.yahoo.com&formatted=false&symbol=SEAL%5EA&crumb=znKJeXxQthY\n"
     ]
    },
    {
     "name": "stdout",
     "output_type": "stream",
     "text": [
      "Données récupérées pour SEAL^A\n"
     ]
    },
    {
     "name": "stderr",
     "output_type": "stream",
     "text": [
      "404 Client Error: Not Found for url: https://query2.finance.yahoo.com/v10/finance/quoteSummary/SEAL%5EB?modules=financialData%2CquoteType%2CdefaultKeyStatistics%2CassetProfile%2CsummaryDetail&corsDomain=finance.yahoo.com&formatted=false&symbol=SEAL%5EB&crumb=znKJeXxQthY\n"
     ]
    },
    {
     "name": "stdout",
     "output_type": "stream",
     "text": [
      "Données récupérées pour SEAL^B\n",
      "Données récupérées pour SEAT\n",
      "Données récupérées pour SEATW\n",
      "Données récupérées pour SEB\n",
      "Données récupérées pour SECO\n",
      "Données récupérées pour SEDA\n",
      "Données récupérées pour SEDG\n",
      "Données récupérées pour SEE\n",
      "Données récupérées pour SEED\n",
      "Données récupérées pour SEEL\n",
      "Données récupérées pour SEER\n",
      "Données récupérées pour SEIC\n",
      "Données récupérées pour SELF\n",
      "Données récupérées pour SEM\n",
      "Données récupérées pour SEMR\n",
      "Données récupérées pour SENEA\n",
      "Données récupérées pour SENEB\n",
      "Données récupérées pour SENS\n",
      "Données récupérées pour SEPA\n",
      "Données récupérées pour SEPAW\n",
      "Données récupérées pour SERA\n",
      "Données récupérées pour SES\n",
      "Données récupérées pour SEVN\n",
      "Données récupérées pour SEZL\n",
      "Données récupérées pour SF\n"
     ]
    },
    {
     "name": "stderr",
     "output_type": "stream",
     "text": [
      "404 Client Error: Not Found for url: https://query2.finance.yahoo.com/v10/finance/quoteSummary/SF%5EB?modules=financialData%2CquoteType%2CdefaultKeyStatistics%2CassetProfile%2CsummaryDetail&corsDomain=finance.yahoo.com&formatted=false&symbol=SF%5EB&crumb=znKJeXxQthY\n"
     ]
    },
    {
     "name": "stdout",
     "output_type": "stream",
     "text": [
      "Données récupérées pour SF^B\n"
     ]
    },
    {
     "name": "stderr",
     "output_type": "stream",
     "text": [
      "404 Client Error: Not Found for url: https://query2.finance.yahoo.com/v10/finance/quoteSummary/SF%5EC?modules=financialData%2CquoteType%2CdefaultKeyStatistics%2CassetProfile%2CsummaryDetail&corsDomain=finance.yahoo.com&formatted=false&symbol=SF%5EC&crumb=znKJeXxQthY\n"
     ]
    },
    {
     "name": "stdout",
     "output_type": "stream",
     "text": [
      "Données récupérées pour SF^C\n"
     ]
    },
    {
     "name": "stderr",
     "output_type": "stream",
     "text": [
      "404 Client Error: Not Found for url: https://query2.finance.yahoo.com/v10/finance/quoteSummary/SF%5ED?modules=financialData%2CquoteType%2CdefaultKeyStatistics%2CassetProfile%2CsummaryDetail&corsDomain=finance.yahoo.com&formatted=false&symbol=SF%5ED&crumb=znKJeXxQthY\n"
     ]
    },
    {
     "name": "stdout",
     "output_type": "stream",
     "text": [
      "Données récupérées pour SF^D\n",
      "Données récupérées pour SFB\n",
      "Données récupérées pour SFBC\n",
      "Données récupérées pour SFBS\n",
      "Données récupérées pour SFIX\n",
      "Données récupérées pour SFL\n",
      "Données récupérées pour SFM\n",
      "Données récupérées pour SFNC\n",
      "Données récupérées pour SFST\n",
      "Données récupérées pour SFWL\n",
      "Données récupérées pour SG\n",
      "Données récupérées pour SGA\n",
      "Données récupérées pour SGBX\n",
      "Données récupérées pour SGC\n",
      "Données récupérées pour SGD\n",
      "Données récupérées pour SGE\n",
      "Données récupérées pour SGH\n",
      "Données récupérées pour SGHC\n",
      "Données récupérées pour SGHT\n",
      "Données récupérées pour SGLY\n",
      "Données récupérées pour SGMA\n",
      "Données récupérées pour SGML\n",
      "Données récupérées pour SGMO\n",
      "Données récupérées pour SGMT\n",
      "Données récupérées pour SGN\n",
      "Données récupérées pour SGRP\n",
      "Données récupérées pour SGRY\n",
      "Données récupérées pour SGU\n",
      "Données récupérées pour SHAK\n",
      "Données récupérées pour SHAP\n",
      "Données récupérées pour SHBI\n",
      "Données récupérées pour SHC\n",
      "Données récupérées pour SHCO\n",
      "Données récupérées pour SHCR\n",
      "Données récupérées pour SHCRW\n",
      "Données récupérées pour SHEL\n",
      "Données récupérées pour SHEN\n",
      "Données récupérées pour SHFS\n",
      "Données récupérées pour SHFSW\n",
      "Données récupérées pour SHG\n",
      "Données récupérées pour SHIM\n",
      "Données récupérées pour SHIP\n",
      "Données récupérées pour SHLS\n",
      "Données récupérées pour SHLT\n",
      "Données récupérées pour SHO\n"
     ]
    },
    {
     "name": "stderr",
     "output_type": "stream",
     "text": [
      "404 Client Error: Not Found for url: https://query2.finance.yahoo.com/v10/finance/quoteSummary/SHO%5EH?modules=financialData%2CquoteType%2CdefaultKeyStatistics%2CassetProfile%2CsummaryDetail&corsDomain=finance.yahoo.com&formatted=false&symbol=SHO%5EH&crumb=znKJeXxQthY\n"
     ]
    },
    {
     "name": "stdout",
     "output_type": "stream",
     "text": [
      "Données récupérées pour SHO^H\n"
     ]
    },
    {
     "name": "stderr",
     "output_type": "stream",
     "text": [
      "404 Client Error: Not Found for url: https://query2.finance.yahoo.com/v10/finance/quoteSummary/SHO%5EI?modules=financialData%2CquoteType%2CdefaultKeyStatistics%2CassetProfile%2CsummaryDetail&corsDomain=finance.yahoo.com&formatted=false&symbol=SHO%5EI&crumb=znKJeXxQthY\n"
     ]
    },
    {
     "name": "stdout",
     "output_type": "stream",
     "text": [
      "Données récupérées pour SHO^I\n",
      "Données récupérées pour SHOO\n",
      "Données récupérées pour SHOP\n",
      "Données récupérées pour SHOT\n",
      "Données récupérées pour SHOTW\n",
      "Données récupérées pour SHPH\n",
      "Données récupérées pour SHPW\n",
      "Données récupérées pour SHPWW\n",
      "Données récupérées pour SHW\n",
      "Données récupérées pour SHYF\n",
      "Données récupérées pour SIBN\n",
      "Données récupérées pour SID\n",
      "Données récupérées pour SIDU\n",
      "Données récupérées pour SIEB\n",
      "Données récupérées pour SIEN\n",
      "Données récupérées pour SIF\n",
      "Données récupérées pour SIFY\n",
      "Données récupérées pour SIG\n",
      "Données récupérées pour SIGA\n",
      "Données récupérées pour SIGI\n",
      "Données récupérées pour SIGIP\n",
      "Données récupérées pour SII\n",
      "Données récupérées pour SILC\n",
      "Données récupérées pour SILK\n",
      "Données récupérées pour SILO\n",
      "Données récupérées pour SILV\n",
      "Données récupérées pour SIM\n",
      "Données récupérées pour SIMO\n",
      "Données récupérées pour SING\n",
      "Données récupérées pour SINT\n",
      "Données récupérées pour SIRI\n",
      "Données récupérées pour SISI\n",
      "Données récupérées pour SITC\n"
     ]
    },
    {
     "name": "stderr",
     "output_type": "stream",
     "text": [
      "404 Client Error: Not Found for url: https://query2.finance.yahoo.com/v10/finance/quoteSummary/SITC%5EA?modules=financialData%2CquoteType%2CdefaultKeyStatistics%2CassetProfile%2CsummaryDetail&corsDomain=finance.yahoo.com&formatted=false&symbol=SITC%5EA&crumb=znKJeXxQthY\n"
     ]
    },
    {
     "name": "stdout",
     "output_type": "stream",
     "text": [
      "Données récupérées pour SITC^A\n",
      "Données récupérées pour SITE\n",
      "Données récupérées pour SITM\n",
      "Données récupérées pour SIX\n",
      "Données récupérées pour SJ\n",
      "Données récupérées pour SJM\n",
      "Données récupérées pour SJT\n",
      "Données récupérées pour SJW\n",
      "Données récupérées pour SKE\n",
      "Données récupérées pour SKGR\n",
      "Données récupérées pour SKIL\n",
      "Données récupérées pour SKIN\n",
      "Données récupérées pour SKLZ\n",
      "Données récupérées pour SKM\n",
      "Données récupérées pour SKT\n",
      "Données récupérées pour SKWD\n",
      "Données récupérées pour SKX\n",
      "Données récupérées pour SKY\n",
      "Données récupérées pour SKYH\n",
      "Données récupérées pour SKYT\n",
      "Données récupérées pour SKYW\n",
      "Données récupérées pour SKYX\n",
      "Données récupérées pour SLAB\n",
      "Données récupérées pour SLAC\n",
      "Données récupérées pour SLACU\n",
      "Données récupérées pour SLACW\n",
      "Données récupérées pour SLAM\n",
      "Données récupérées pour SLAMU\n",
      "Données récupérées pour SLAMW\n",
      "Données récupérées pour SLB\n",
      "Données récupérées pour SLCA\n",
      "Données récupérées pour SLDB\n",
      "Données récupérées pour SLDP\n",
      "Données récupérées pour SLDPW\n",
      "Données récupérées pour SLE\n",
      "Données récupérées pour SLF\n",
      "Données récupérées pour SLG\n"
     ]
    },
    {
     "name": "stderr",
     "output_type": "stream",
     "text": [
      "404 Client Error: Not Found for url: https://query2.finance.yahoo.com/v10/finance/quoteSummary/SLG%5EI?modules=financialData%2CquoteType%2CdefaultKeyStatistics%2CassetProfile%2CsummaryDetail&corsDomain=finance.yahoo.com&formatted=false&symbol=SLG%5EI&crumb=znKJeXxQthY\n"
     ]
    },
    {
     "name": "stdout",
     "output_type": "stream",
     "text": [
      "Données récupérées pour SLG^I\n",
      "Données récupérées pour SLGL\n",
      "Données récupérées pour SLGN\n",
      "Données récupérées pour SLI\n",
      "Données récupérées pour SLM\n",
      "Données récupérées pour SLMBP\n",
      "Données récupérées pour SLN\n",
      "Données récupérées pour SLNA\n",
      "Données récupérées pour SLNAW\n",
      "Données récupérées pour SLND\n",
      "Données récupérées pour SLNG\n",
      "Données récupérées pour SLNH\n",
      "Données récupérées pour SLNHP\n",
      "Données récupérées pour SLNO\n",
      "Données récupérées pour SLP\n",
      "Données récupérées pour SLQT\n",
      "Données récupérées pour SLRC\n",
      "Données récupérées pour SLRN\n",
      "Données récupérées pour SLRX\n",
      "Données récupérées pour SLS\n",
      "Données récupérées pour SLVM\n",
      "Données récupérées pour SM\n",
      "Données récupérées pour SMAR\n",
      "Données récupérées pour SMBC\n",
      "Données récupérées pour SMBK\n",
      "Données récupérées pour SMCI\n",
      "Données récupérées pour SMFG\n",
      "Données récupérées pour SMFL\n",
      "Données récupérées pour SMG\n",
      "Données récupérées pour SMHI\n",
      "Données récupérées pour SMID\n",
      "Données récupérées pour SMLP\n",
      "Données récupérées pour SMLR\n",
      "Données récupérées pour SMMF\n",
      "Données récupérées pour SMMT\n",
      "Données récupérées pour SMP\n",
      "Données récupérées pour SMPL\n",
      "Données récupérées pour SMR\n",
      "Données récupérées pour SMRT\n",
      "Données récupérées pour SMSI\n",
      "Données récupérées pour SMTC\n",
      "Données récupérées pour SMTI\n",
      "Données récupérées pour SMWB\n",
      "Données récupérées pour SMX\n",
      "Données récupérées pour SMXWW\n",
      "Données récupérées pour SN\n",
      "Données récupérées pour SNA\n",
      "Données récupérées pour SNAL\n",
      "Données récupérées pour SNAP\n",
      "Données récupérées pour SNAX\n",
      "Données récupérées pour SNAXW\n",
      "Données récupérées pour SNBR\n",
      "Données récupérées pour SNCE\n",
      "Données récupérées pour SNCR\n",
      "Données récupérées pour SNCRL\n",
      "Données récupérées pour SNCY\n",
      "Données récupérées pour SND\n",
      "Données récupérées pour SNDA\n",
      "Données récupérées pour SNDL\n",
      "Données récupérées pour SNDR\n",
      "Données récupérées pour SNDX\n",
      "Données récupérées pour SNES\n",
      "Données récupérées pour SNEX\n",
      "Données récupérées pour SNFCA\n",
      "Données récupérées pour SNGX\n",
      "Données récupérées pour SNMP\n",
      "Données récupérées pour SNN\n",
      "Données récupérées pour SNOA\n",
      "Données récupérées pour SNOW\n",
      "Données récupérées pour SNPO\n",
      "Données récupérées pour SNPS\n",
      "Données récupérées pour SNPX\n",
      "Données récupérées pour SNSE\n",
      "Données récupérées pour SNT\n",
      "Données récupérées pour SNTG\n",
      "Données récupérées pour SNTI\n",
      "Données récupérées pour SNV\n"
     ]
    },
    {
     "name": "stderr",
     "output_type": "stream",
     "text": [
      "404 Client Error: Not Found for url: https://query2.finance.yahoo.com/v10/finance/quoteSummary/SNV%5ED?modules=financialData%2CquoteType%2CdefaultKeyStatistics%2CassetProfile%2CsummaryDetail&corsDomain=finance.yahoo.com&formatted=false&symbol=SNV%5ED&crumb=znKJeXxQthY\n"
     ]
    },
    {
     "name": "stdout",
     "output_type": "stream",
     "text": [
      "Données récupérées pour SNV^D\n"
     ]
    },
    {
     "name": "stderr",
     "output_type": "stream",
     "text": [
      "404 Client Error: Not Found for url: https://query2.finance.yahoo.com/v10/finance/quoteSummary/SNV%5EE?modules=financialData%2CquoteType%2CdefaultKeyStatistics%2CassetProfile%2CsummaryDetail&corsDomain=finance.yahoo.com&formatted=false&symbol=SNV%5EE&crumb=znKJeXxQthY\n"
     ]
    },
    {
     "name": "stdout",
     "output_type": "stream",
     "text": [
      "Données récupérées pour SNV^E\n",
      "Données récupérées pour SNX\n",
      "Données récupérées pour SNY\n",
      "Données récupérées pour SO\n",
      "Données récupérées pour SOAR\n",
      "Données récupérées pour SOBR\n",
      "Données récupérées pour SOC\n",
      "Données récupérées pour SOFI\n",
      "Données récupérées pour SOGP\n",
      "Données récupérées pour SOHO\n",
      "Données récupérées pour SOHOB\n",
      "Données récupérées pour SOHON\n",
      "Données récupérées pour SOHOO\n",
      "Données récupérées pour SOHU\n",
      "Données récupérées pour SOI\n",
      "Données récupérées pour SOJC\n",
      "Données récupérées pour SOJD\n",
      "Données récupérées pour SOJE\n",
      "Données récupérées pour SOL\n",
      "Données récupérées pour SOLO\n",
      "Données récupérées pour SON\n",
      "Données récupérées pour SOND\n",
      "Données récupérées pour SONDW\n",
      "Données récupérées pour SONM\n",
      "Données récupérées pour SONN\n",
      "Données récupérées pour SONO\n",
      "Données récupérées pour SONY\n",
      "Données récupérées pour SOPA\n",
      "Données récupérées pour SOPH\n",
      "Données récupérées pour SOR\n",
      "Données récupérées pour SOS\n",
      "Données récupérées pour SOTK\n",
      "Données récupérées pour SOUN\n",
      "Données récupérées pour SOUNW\n",
      "Données récupérées pour SOVO\n",
      "Données récupérées pour SP\n",
      "Données récupérées pour SPB\n",
      "Données récupérées pour SPCB\n",
      "Données récupérées pour SPCE\n",
      "Données récupérées pour SPE\n"
     ]
    },
    {
     "name": "stderr",
     "output_type": "stream",
     "text": [
      "404 Client Error: Not Found for url: https://query2.finance.yahoo.com/v10/finance/quoteSummary/SPE%5EC?modules=financialData%2CquoteType%2CdefaultKeyStatistics%2CassetProfile%2CsummaryDetail&corsDomain=finance.yahoo.com&formatted=false&symbol=SPE%5EC&crumb=znKJeXxQthY\n"
     ]
    },
    {
     "name": "stdout",
     "output_type": "stream",
     "text": [
      "Données récupérées pour SPE^C\n",
      "Données récupérées pour SPEC\n",
      "Données récupérées pour SPECW\n",
      "Données récupérées pour SPFI\n",
      "Données récupérées pour SPG\n"
     ]
    },
    {
     "name": "stderr",
     "output_type": "stream",
     "text": [
      "404 Client Error: Not Found for url: https://query2.finance.yahoo.com/v10/finance/quoteSummary/SPG%5EJ?modules=financialData%2CquoteType%2CdefaultKeyStatistics%2CassetProfile%2CsummaryDetail&corsDomain=finance.yahoo.com&formatted=false&symbol=SPG%5EJ&crumb=znKJeXxQthY\n"
     ]
    },
    {
     "name": "stdout",
     "output_type": "stream",
     "text": [
      "Données récupérées pour SPG^J\n",
      "Données récupérées pour SPGC\n",
      "Données récupérées pour SPGI\n",
      "Données récupérées pour SPH\n",
      "Données récupérées pour SPHR\n",
      "Données récupérées pour SPI\n",
      "Données récupérées pour SPIR\n",
      "Données récupérées pour SPKL\n",
      "Données récupérées pour SPKLU\n",
      "Données récupérées pour SPKLW\n",
      "Données récupérées pour SPLK\n",
      "Données récupérées pour SPLP\n"
     ]
    },
    {
     "name": "stderr",
     "output_type": "stream",
     "text": [
      "404 Client Error: Not Found for url: https://query2.finance.yahoo.com/v10/finance/quoteSummary/SPLP%5EA?modules=financialData%2CquoteType%2CdefaultKeyStatistics%2CassetProfile%2CsummaryDetail&corsDomain=finance.yahoo.com&formatted=false&symbol=SPLP%5EA&crumb=znKJeXxQthY\n"
     ]
    },
    {
     "name": "stdout",
     "output_type": "stream",
     "text": [
      "Données récupérées pour SPLP^A\n",
      "Données récupérées pour SPNS\n",
      "Données récupérées pour SPNT\n"
     ]
    },
    {
     "name": "stderr",
     "output_type": "stream",
     "text": [
      "404 Client Error: Not Found for url: https://query2.finance.yahoo.com/v10/finance/quoteSummary/SPNT%5EB?modules=financialData%2CquoteType%2CdefaultKeyStatistics%2CassetProfile%2CsummaryDetail&corsDomain=finance.yahoo.com&formatted=false&symbol=SPNT%5EB&crumb=znKJeXxQthY\n"
     ]
    },
    {
     "name": "stdout",
     "output_type": "stream",
     "text": [
      "Données récupérées pour SPNT^B\n",
      "Données récupérées pour SPOK\n",
      "Données récupérées pour SPOT\n",
      "Données récupérées pour SPPL\n",
      "Données récupérées pour SPR\n",
      "Données récupérées pour SPRB\n",
      "Données récupérées pour SPRC\n",
      "Données récupérées pour SPRO\n",
      "Données récupérées pour SPRU\n",
      "Données récupérées pour SPRY\n",
      "Données récupérées pour SPSC\n",
      "Données récupérées pour SPT\n",
      "Données récupérées pour SPTN\n",
      "Données récupérées pour SPWH\n",
      "Données récupérées pour SPWR\n",
      "Données récupérées pour SPXC\n",
      "Données récupérées pour SPXX\n",
      "Données récupérées pour SQ\n",
      "Données récupérées pour SQFT\n",
      "Données récupérées pour SQFTP\n",
      "Données récupérées pour SQFTW\n",
      "Données récupérées pour SQM\n",
      "Données récupérées pour SQNS\n",
      "Données récupérées pour SQSP\n",
      "Données récupérées pour SR\n"
     ]
    },
    {
     "name": "stderr",
     "output_type": "stream",
     "text": [
      "404 Client Error: Not Found for url: https://query2.finance.yahoo.com/v10/finance/quoteSummary/SR%5EA?modules=financialData%2CquoteType%2CdefaultKeyStatistics%2CassetProfile%2CsummaryDetail&corsDomain=finance.yahoo.com&formatted=false&symbol=SR%5EA&crumb=znKJeXxQthY\n"
     ]
    },
    {
     "name": "stdout",
     "output_type": "stream",
     "text": [
      "Données récupérées pour SR^A\n",
      "Données récupérées pour SRAD\n",
      "Données récupérées pour SRBK\n",
      "Données récupérées pour SRCE\n",
      "Données récupérées pour SRCL\n",
      "Données récupérées pour SRDX\n",
      "Données récupérées pour SRE\n",
      "Données récupérées pour SREA\n",
      "Données récupérées pour SRFM\n",
      "Données récupérées pour SRG\n"
     ]
    },
    {
     "name": "stderr",
     "output_type": "stream",
     "text": [
      "404 Client Error: Not Found for url: https://query2.finance.yahoo.com/v10/finance/quoteSummary/SRG%5EA?modules=financialData%2CquoteType%2CdefaultKeyStatistics%2CassetProfile%2CsummaryDetail&corsDomain=finance.yahoo.com&formatted=false&symbol=SRG%5EA&crumb=znKJeXxQthY\n"
     ]
    },
    {
     "name": "stdout",
     "output_type": "stream",
     "text": [
      "Données récupérées pour SRG^A\n",
      "Données récupérées pour SRI\n",
      "Données récupérées pour SRL\n",
      "Données récupérées pour SRM\n",
      "Données récupérées pour SRPT\n",
      "Données récupérées pour SRRK\n",
      "Données récupérées pour SRTS\n",
      "Données récupérées pour SRV\n",
      "Données récupérées pour SRZN\n",
      "Données récupérées pour SRZNW\n",
      "Données récupérées pour SSB\n",
      "Données récupérées pour SSBI\n",
      "Données récupérées pour SSBK\n",
      "Données récupérées pour SSD\n",
      "Données récupérées pour SSIC\n",
      "Données récupérées pour SSKN\n",
      "Données récupérées pour SSL\n",
      "Données récupérées pour SSNC\n",
      "Données récupérées pour SSNT\n",
      "Données récupérées pour SSP\n",
      "Données récupérées pour SSRM\n",
      "Données récupérées pour SSSS\n",
      "Données récupérées pour SSSSL\n",
      "Données récupérées pour SST\n",
      "Données récupérées pour SSTI\n",
      "Données récupérées pour SSTK\n",
      "Données récupérées pour SSY\n",
      "Données récupérées pour SSYS\n",
      "Données récupérées pour ST\n",
      "Données récupérées pour STAA\n",
      "Données récupérées pour STAF\n",
      "Données récupérées pour STAG\n",
      "Données récupérées pour STBA\n",
      "Données récupérées pour STBX\n",
      "Données récupérées pour STC\n",
      "Données récupérées pour STCN\n",
      "Données récupérées pour STE\n",
      "Données récupérées pour STEL\n",
      "Données récupérées pour STEM\n",
      "Données récupérées pour STEP\n",
      "Données récupérées pour STER\n",
      "Données récupérées pour STEW\n",
      "Données récupérées pour STG\n",
      "Données récupérées pour STGW\n",
      "Données récupérées pour STHO\n",
      "Données récupérées pour STI\n",
      "Données récupérées pour STIM\n",
      "Données récupérées pour STIX\n",
      "Données récupérées pour STIXW\n",
      "Données récupérées pour STK\n",
      "Données récupérées pour STKH\n",
      "Données récupérées pour STKL\n",
      "Données récupérées pour STKS\n",
      "Données récupérées pour STLA\n",
      "Données récupérées pour STLD\n",
      "Données récupérées pour STM\n",
      "Données récupérées pour STN\n",
      "Données récupérées pour STNE\n",
      "Données récupérées pour STNG\n",
      "Données récupérées pour STOK\n",
      "Données récupérées pour STR\n",
      "Données récupérées pour STRA\n",
      "Données récupérées pour STRC\n",
      "Données récupérées pour STRCW\n",
      "Données récupérées pour STRL\n",
      "Données récupérées pour STRM\n",
      "Données récupérées pour STRO\n",
      "Données récupérées pour STRR\n",
      "Données récupérées pour STRRP\n",
      "Données récupérées pour STRS\n",
      "Données récupérées pour STRT\n",
      "Données récupérées pour STRW\n",
      "Données récupérées pour STSS\n",
      "Données récupérées pour STSSW\n",
      "Données récupérées pour STT\n"
     ]
    },
    {
     "name": "stderr",
     "output_type": "stream",
     "text": [
      "404 Client Error: Not Found for url: https://query2.finance.yahoo.com/v10/finance/quoteSummary/STT%5ED?modules=financialData%2CquoteType%2CdefaultKeyStatistics%2CassetProfile%2CsummaryDetail&corsDomain=finance.yahoo.com&formatted=false&symbol=STT%5ED&crumb=znKJeXxQthY\n"
     ]
    },
    {
     "name": "stdout",
     "output_type": "stream",
     "text": [
      "Données récupérées pour STT^D\n"
     ]
    },
    {
     "name": "stderr",
     "output_type": "stream",
     "text": [
      "404 Client Error: Not Found for url: https://query2.finance.yahoo.com/v10/finance/quoteSummary/STT%5EG?modules=financialData%2CquoteType%2CdefaultKeyStatistics%2CassetProfile%2CsummaryDetail&corsDomain=finance.yahoo.com&formatted=false&symbol=STT%5EG&crumb=znKJeXxQthY\n"
     ]
    },
    {
     "name": "stdout",
     "output_type": "stream",
     "text": [
      "Données récupérées pour STT^G\n",
      "Données récupérées pour STTK\n",
      "Données récupérées pour STVN\n",
      "Données récupérées pour STWD\n",
      "Données récupérées pour STX\n",
      "Données récupérées pour STXS\n",
      "Données récupérées pour STZ\n",
      "Données récupérées pour SU\n",
      "Données récupérées pour SUGP\n",
      "Données récupérées pour SUI\n",
      "Données récupérées pour SUM\n",
      "Données récupérées pour SUN\n",
      "Données récupérées pour SUP\n",
      "Données récupérées pour SUPN\n",
      "Données récupérées pour SUPV\n",
      "Données récupérées pour SURG\n",
      "Données récupérées pour SURGW\n",
      "Données récupérées pour SUZ\n",
      "Données récupérées pour SVC\n",
      "Données récupérées pour SVFD\n",
      "Données récupérées pour SVII\n",
      "Données récupérées pour SVIIR\n",
      "Données récupérées pour SVIIU\n",
      "Données récupérées pour SVM\n",
      "Données récupérées pour SVMH\n",
      "Données récupérées pour SVMHW\n",
      "Données récupérées pour SVRA\n",
      "Données récupérées pour SVRE\n",
      "Données récupérées pour SVT\n",
      "Données récupérées pour SVV\n",
      "Données récupérées pour SWAG\n",
      "Données récupérées pour SWAV\n",
      "Données récupérées pour SWBI\n",
      "Données récupérées pour SWI\n",
      "Données récupérées pour SWIM\n",
      "Données récupérées pour SWIN\n",
      "Données récupérées pour SWK\n",
      "Données récupérées pour SWKH\n",
      "Données récupérées pour SWKHL\n",
      "Données récupérées pour SWKS\n",
      "Données récupérées pour SWN\n",
      "Données récupérées pour SWSS\n",
      "Données récupérées pour SWSSW\n",
      "Données récupérées pour SWTX\n",
      "Données récupérées pour SWVL\n",
      "Données récupérées pour SWVLW\n",
      "Données récupérées pour SWX\n",
      "Données récupérées pour SWZ\n",
      "Données récupérées pour SXC\n",
      "Données récupérées pour SXI\n",
      "Données récupérées pour SXT\n",
      "Données récupérées pour SXTC\n",
      "Données récupérées pour SXTP\n",
      "Données récupérées pour SXTPW\n",
      "Données récupérées pour SY\n",
      "Données récupérées pour SYBT\n",
      "Données récupérées pour SYBX\n",
      "Données récupérées pour SYF\n"
     ]
    },
    {
     "name": "stderr",
     "output_type": "stream",
     "text": [
      "404 Client Error: Not Found for url: https://query2.finance.yahoo.com/v10/finance/quoteSummary/SYF%5EA?modules=financialData%2CquoteType%2CdefaultKeyStatistics%2CassetProfile%2CsummaryDetail&corsDomain=finance.yahoo.com&formatted=false&symbol=SYF%5EA&crumb=znKJeXxQthY\n"
     ]
    },
    {
     "name": "stdout",
     "output_type": "stream",
     "text": [
      "Données récupérées pour SYF^A\n",
      "Données récupérées pour SYK\n",
      "Données récupérées pour SYM\n",
      "Données récupérées pour SYNA\n",
      "Données récupérées pour SYNX\n",
      "Données récupérées pour SYPR\n",
      "Données récupérées pour SYRA\n",
      "Données récupérées pour SYRE\n",
      "Données récupérées pour SYRS\n",
      "Données récupérées pour SYT\n",
      "Données récupérées pour SYTA\n",
      "Données récupérées pour SYY\n",
      "Données récupérées pour SZZL\n",
      "Données récupérées pour SZZLU\n",
      "Données récupérées pour SZZLW\n",
      "Données récupérées pour T\n"
     ]
    },
    {
     "name": "stderr",
     "output_type": "stream",
     "text": [
      "404 Client Error: Not Found for url: https://query2.finance.yahoo.com/v10/finance/quoteSummary/T%5EA?modules=financialData%2CquoteType%2CdefaultKeyStatistics%2CassetProfile%2CsummaryDetail&corsDomain=finance.yahoo.com&formatted=false&symbol=T%5EA&crumb=znKJeXxQthY\n"
     ]
    },
    {
     "name": "stdout",
     "output_type": "stream",
     "text": [
      "Données récupérées pour T^A\n"
     ]
    },
    {
     "name": "stderr",
     "output_type": "stream",
     "text": [
      "404 Client Error: Not Found for url: https://query2.finance.yahoo.com/v10/finance/quoteSummary/T%5EC?modules=financialData%2CquoteType%2CdefaultKeyStatistics%2CassetProfile%2CsummaryDetail&corsDomain=finance.yahoo.com&formatted=false&symbol=T%5EC&crumb=znKJeXxQthY\n"
     ]
    },
    {
     "name": "stdout",
     "output_type": "stream",
     "text": [
      "Données récupérées pour T^C\n",
      "Données récupérées pour TAC\n",
      "Données récupérées pour TACT\n",
      "Données récupérées pour TAIT\n",
      "Données récupérées pour TAK\n",
      "Données récupérées pour TAL\n",
      "Données récupérées pour TALK\n",
      "Données récupérées pour TALKW\n",
      "Données récupérées pour TALO\n",
      "Données récupérées pour TANH\n",
      "Données récupérées pour TAOP\n",
      "Données récupérées pour TAP\n",
      "Données récupérées pour TARA\n",
      "Données récupérées pour TARO\n",
      "Données récupérées pour TARS\n",
      "Données récupérées pour TASK\n",
      "Données récupérées pour TAST\n",
      "Données récupérées pour TATT\n",
      "Données récupérées pour TAYD\n",
      "Données récupérées pour TBB\n",
      "Données récupérées pour TBBB\n",
      "Données récupérées pour TBBK\n",
      "Données récupérées pour TBC\n",
      "Données récupérées pour TBI\n",
      "Données récupérées pour TBIO\n",
      "Données récupérées pour TBLA\n",
      "Données récupérées pour TBLAW\n",
      "Données récupérées pour TBLD\n",
      "Données récupérées pour TBLT\n",
      "Données récupérées pour TBMC\n",
      "Données récupérées pour TBNK\n",
      "Données récupérées pour TBPH\n",
      "Données récupérées pour TC\n",
      "Données récupérées pour TCBC\n",
      "Données récupérées pour TCBI\n",
      "Données récupérées pour TCBIO\n",
      "Données récupérées pour TCBK\n",
      "Données récupérées pour TCBP\n",
      "Données récupérées pour TCBPW\n",
      "Données récupérées pour TCBS\n",
      "Données récupérées pour TCBX\n",
      "Données récupérées pour TCI\n",
      "Données récupérées pour TCJH\n",
      "Données récupérées pour TCMD\n",
      "Données récupérées pour TCN\n",
      "Données récupérées pour TCOA\n",
      "Données récupérées pour TCOM\n",
      "Données récupérées pour TCON\n",
      "Données récupérées pour TCPC\n",
      "Données récupérées pour TCRT\n",
      "Données récupérées pour TCRX\n",
      "Données récupérées pour TCS\n",
      "Données récupérées pour TCTM\n",
      "Données récupérées pour TCX\n",
      "Données récupérées pour TD\n",
      "Données récupérées pour TDC\n",
      "Données récupérées pour TDCX\n",
      "Données récupérées pour TDF\n",
      "Données récupérées pour TDG\n",
      "Données récupérées pour TDOC\n",
      "Données récupérées pour TDS\n"
     ]
    },
    {
     "name": "stderr",
     "output_type": "stream",
     "text": [
      "404 Client Error: Not Found for url: https://query2.finance.yahoo.com/v10/finance/quoteSummary/TDS%5EU?modules=financialData%2CquoteType%2CdefaultKeyStatistics%2CassetProfile%2CsummaryDetail&corsDomain=finance.yahoo.com&formatted=false&symbol=TDS%5EU&crumb=znKJeXxQthY\n"
     ]
    },
    {
     "name": "stdout",
     "output_type": "stream",
     "text": [
      "Données récupérées pour TDS^U\n"
     ]
    },
    {
     "name": "stderr",
     "output_type": "stream",
     "text": [
      "404 Client Error: Not Found for url: https://query2.finance.yahoo.com/v10/finance/quoteSummary/TDS%5EV?modules=financialData%2CquoteType%2CdefaultKeyStatistics%2CassetProfile%2CsummaryDetail&corsDomain=finance.yahoo.com&formatted=false&symbol=TDS%5EV&crumb=znKJeXxQthY\n"
     ]
    },
    {
     "name": "stdout",
     "output_type": "stream",
     "text": [
      "Données récupérées pour TDS^V\n",
      "Données récupérées pour TDUP\n",
      "Données récupérées pour TDW\n",
      "Données récupérées pour TDY\n",
      "Données récupérées pour TEAF\n",
      "Données récupérées pour TEAM\n",
      "Données récupérées pour TECH\n",
      "Données récupérées pour TECK\n",
      "Données récupérées pour TECTP\n",
      "Données récupérées pour TEF\n",
      "Données récupérées pour TEI\n",
      "Données récupérées pour TEL\n",
      "Données récupérées pour TELA\n",
      "Données récupérées pour TELL\n",
      "Données récupérées pour TELO\n",
      "Données récupérées pour TELZ\n",
      "Données récupérées pour TENB\n",
      "Données récupérées pour TENK\n",
      "Données récupérées pour TENKR\n",
      "Données récupérées pour TENKU\n",
      "Données récupérées pour TENX\n",
      "Données récupérées pour TEO\n",
      "Données récupérées pour TER\n",
      "Données récupérées pour TERN\n",
      "Données récupérées pour TETE\n",
      "Données récupérées pour TETEW\n",
      "Données récupérées pour TEVA\n",
      "Données récupérées pour TEX\n",
      "Données récupérées pour TFC\n"
     ]
    },
    {
     "name": "stderr",
     "output_type": "stream",
     "text": [
      "404 Client Error: Not Found for url: https://query2.finance.yahoo.com/v10/finance/quoteSummary/TFC%5EI?modules=financialData%2CquoteType%2CdefaultKeyStatistics%2CassetProfile%2CsummaryDetail&corsDomain=finance.yahoo.com&formatted=false&symbol=TFC%5EI&crumb=znKJeXxQthY\n"
     ]
    },
    {
     "name": "stdout",
     "output_type": "stream",
     "text": [
      "Données récupérées pour TFC^I\n"
     ]
    },
    {
     "name": "stderr",
     "output_type": "stream",
     "text": [
      "404 Client Error: Not Found for url: https://query2.finance.yahoo.com/v10/finance/quoteSummary/TFC%5EO?modules=financialData%2CquoteType%2CdefaultKeyStatistics%2CassetProfile%2CsummaryDetail&corsDomain=finance.yahoo.com&formatted=false&symbol=TFC%5EO&crumb=znKJeXxQthY\n"
     ]
    },
    {
     "name": "stdout",
     "output_type": "stream",
     "text": [
      "Données récupérées pour TFC^O\n"
     ]
    },
    {
     "name": "stderr",
     "output_type": "stream",
     "text": [
      "404 Client Error: Not Found for url: https://query2.finance.yahoo.com/v10/finance/quoteSummary/TFC%5ER?modules=financialData%2CquoteType%2CdefaultKeyStatistics%2CassetProfile%2CsummaryDetail&corsDomain=finance.yahoo.com&formatted=false&symbol=TFC%5ER&crumb=znKJeXxQthY\n"
     ]
    },
    {
     "name": "stdout",
     "output_type": "stream",
     "text": [
      "Données récupérées pour TFC^R\n",
      "Données récupérées pour TFFP\n",
      "Données récupérées pour TFII\n",
      "Données récupérées pour TFIN\n",
      "Données récupérées pour TFINP\n",
      "Données récupérées pour TFPM\n",
      "Données récupérées pour TFSA\n",
      "Données récupérées pour TFSL\n",
      "Données récupérées pour TFX\n",
      "Données récupérées pour TG\n",
      "Données récupérées pour TGAA\n",
      "Données récupérées pour TGAN\n",
      "Données récupérées pour TGB\n",
      "Données récupérées pour TGH\n"
     ]
    },
    {
     "name": "stderr",
     "output_type": "stream",
     "text": [
      "404 Client Error: Not Found for url: https://query2.finance.yahoo.com/v10/finance/quoteSummary/TGH%5EA?modules=financialData%2CquoteType%2CdefaultKeyStatistics%2CassetProfile%2CsummaryDetail&corsDomain=finance.yahoo.com&formatted=false&symbol=TGH%5EA&crumb=znKJeXxQthY\n"
     ]
    },
    {
     "name": "stdout",
     "output_type": "stream",
     "text": [
      "Données récupérées pour TGH^A\n"
     ]
    },
    {
     "name": "stderr",
     "output_type": "stream",
     "text": [
      "404 Client Error: Not Found for url: https://query2.finance.yahoo.com/v10/finance/quoteSummary/TGH%5EB?modules=financialData%2CquoteType%2CdefaultKeyStatistics%2CassetProfile%2CsummaryDetail&corsDomain=finance.yahoo.com&formatted=false&symbol=TGH%5EB&crumb=znKJeXxQthY\n"
     ]
    },
    {
     "name": "stdout",
     "output_type": "stream",
     "text": [
      "Données récupérées pour TGH^B\n",
      "Données récupérées pour TGI\n",
      "Données récupérées pour TGL\n",
      "Données récupérées pour TGLS\n",
      "Données récupérées pour TGNA\n",
      "Données récupérées pour TGS\n",
      "Données récupérées pour TGT\n",
      "Données récupérées pour TGTX\n",
      "Données récupérées pour TGVC\n",
      "Données récupérées pour TH\n",
      "Données récupérées pour THAR\n",
      "Données récupérées pour THC\n",
      "Données récupérées pour THCH\n",
      "Données récupérées pour THCP\n",
      "Données récupérées pour THCPW\n",
      "Données récupérées pour THFF\n",
      "Données récupérées pour THG\n",
      "Données récupérées pour THM\n",
      "Données récupérées pour THMO\n",
      "Données récupérées pour THO\n",
      "Données récupérées pour THQ\n",
      "Données récupérées pour THR\n",
      "Données récupérées pour THRD\n",
      "Données récupérées pour THRM\n",
      "Données récupérées pour THRY\n",
      "Données récupérées pour THS\n",
      "Données récupérées pour THTX\n",
      "Données récupérées pour THW\n",
      "Données récupérées pour THWWW\n",
      "Données récupérées pour TIGO\n",
      "Données récupérées pour TIGR\n",
      "Données récupérées pour TIL\n",
      "Données récupérées pour TILE\n",
      "Données récupérées pour TIMB\n",
      "Données récupérées pour TIPT\n",
      "Données récupérées pour TIRX\n",
      "Données récupérées pour TISI\n",
      "Données récupérées pour TITN\n",
      "Données récupérées pour TIVC\n",
      "Données récupérées pour TIXT\n",
      "Données récupérées pour TJX\n",
      "Données récupérées pour TK\n",
      "Données récupérées pour TKC\n",
      "Données récupérées pour TKLF\n",
      "Données récupérées pour TKNO\n",
      "Données récupérées pour TKO\n",
      "Données récupérées pour TKR\n",
      "Données récupérées pour TLF\n",
      "Données récupérées pour TLGY\n",
      "Données récupérées pour TLIS\n",
      "Données récupérées pour TLK\n",
      "Données récupérées pour TLPH\n",
      "Données récupérées pour TLRY\n",
      "Données récupérées pour TLS\n",
      "Données récupérées pour TLSA\n",
      "Données récupérées pour TLSI\n",
      "Données récupérées pour TLSIW\n",
      "Données récupérées pour TLYS\n",
      "Données récupérées pour TM\n",
      "Données récupérées pour TMC\n",
      "Données récupérées pour TMCI\n",
      "Données récupérées pour TMCWW\n",
      "Données récupérées pour TMDX\n",
      "Données récupérées pour TME\n",
      "Données récupérées pour TMHC\n",
      "Données récupérées pour TMO\n",
      "Données récupérées pour TMP\n",
      "Données récupérées pour TMQ\n",
      "Données récupérées pour TMST\n",
      "Données récupérées pour TMTC\n",
      "Données récupérées pour TMUS\n",
      "Données récupérées pour TNC\n",
      "Données récupérées pour TNDM\n",
      "Données récupérées pour TNET\n",
      "Données récupérées pour TNGX\n",
      "Données récupérées pour TNK\n",
      "Données récupérées pour TNL\n",
      "Données récupérées pour TNON\n",
      "Données récupérées pour TNP\n"
     ]
    },
    {
     "name": "stderr",
     "output_type": "stream",
     "text": [
      "404 Client Error: Not Found for url: https://query2.finance.yahoo.com/v10/finance/quoteSummary/TNP%5EE?modules=financialData%2CquoteType%2CdefaultKeyStatistics%2CassetProfile%2CsummaryDetail&corsDomain=finance.yahoo.com&formatted=false&symbol=TNP%5EE&crumb=znKJeXxQthY\n"
     ]
    },
    {
     "name": "stdout",
     "output_type": "stream",
     "text": [
      "Données récupérées pour TNP^E\n"
     ]
    },
    {
     "name": "stderr",
     "output_type": "stream",
     "text": [
      "404 Client Error: Not Found for url: https://query2.finance.yahoo.com/v10/finance/quoteSummary/TNP%5EF?modules=financialData%2CquoteType%2CdefaultKeyStatistics%2CassetProfile%2CsummaryDetail&corsDomain=finance.yahoo.com&formatted=false&symbol=TNP%5EF&crumb=znKJeXxQthY\n"
     ]
    },
    {
     "name": "stdout",
     "output_type": "stream",
     "text": [
      "Données récupérées pour TNP^F\n",
      "Données récupérées pour TNXP\n",
      "Données récupérées pour TNYA\n",
      "Données récupérées pour TOI\n",
      "Données récupérées pour TOIIW\n",
      "Données récupérées pour TOL\n",
      "Données récupérées pour TOMZ\n",
      "Données récupérées pour TOON\n",
      "Données récupérées pour TOP\n",
      "Données récupérées pour TOPS\n",
      "Données récupérées pour TORO\n",
      "Données récupérées pour TOST\n",
      "Données récupérées pour TOUR\n",
      "Données récupérées pour TOVX\n",
      "Données récupérées pour TOWN\n",
      "Données récupérées pour TPB\n",
      "Données récupérées pour TPC\n",
      "Données récupérées pour TPCS\n",
      "Données récupérées pour TPET\n",
      "Données récupérées pour TPG\n",
      "Données récupérées pour TPH\n",
      "Données récupérées pour TPHS\n",
      "Données récupérées pour TPIC\n",
      "Données récupérées pour TPL\n",
      "Données récupérées pour TPR\n",
      "Données récupérées pour TPST\n",
      "Données récupérées pour TPTA\n",
      "Données récupérées pour TPVG\n",
      "Données récupérées pour TPX\n",
      "Données récupérées pour TPZ\n",
      "Données récupérées pour TR\n",
      "Données récupérées pour TRAK\n",
      "Données récupérées pour TRC\n",
      "Données récupérées pour TRDA\n",
      "Données récupérées pour TREE\n",
      "Données récupérées pour TREX\n",
      "Données récupérées pour TRGP\n",
      "Données récupérées pour TRI\n",
      "Données récupérées pour TRIB\n",
      "Données récupérées pour TRIN\n",
      "Données récupérées pour TRINL\n",
      "Données récupérées pour TRIP\n",
      "Données récupérées pour TRIS\n",
      "Données récupérées pour TRMB\n",
      "Données récupérées pour TRMD\n",
      "Données récupérées pour TRMK\n",
      "Données récupérées pour TRML\n",
      "Données récupérées pour TRN\n",
      "Données récupérées pour TRNO\n",
      "Données récupérées pour TRNR\n",
      "Données récupérées pour TRNS\n",
      "Données récupérées pour TRON\n",
      "Données récupérées pour TRONW\n",
      "Données récupérées pour TROO\n",
      "Données récupérées pour TROW\n",
      "Données récupérées pour TROX\n",
      "Données récupérées pour TRP\n",
      "Données récupérées pour TRS\n",
      "Données récupérées pour TRST\n",
      "Données récupérées pour TRT\n",
      "Données récupérées pour TRTL\n"
     ]
    },
    {
     "name": "stderr",
     "output_type": "stream",
     "text": [
      "404 Client Error: Not Found for url: https://query2.finance.yahoo.com/v10/finance/quoteSummary/TRTN%5EA?modules=financialData%2CquoteType%2CdefaultKeyStatistics%2CassetProfile%2CsummaryDetail&corsDomain=finance.yahoo.com&formatted=false&symbol=TRTN%5EA&crumb=znKJeXxQthY\n"
     ]
    },
    {
     "name": "stdout",
     "output_type": "stream",
     "text": [
      "Données récupérées pour TRTN^A\n"
     ]
    },
    {
     "name": "stderr",
     "output_type": "stream",
     "text": [
      "404 Client Error: Not Found for url: https://query2.finance.yahoo.com/v10/finance/quoteSummary/TRTN%5EB?modules=financialData%2CquoteType%2CdefaultKeyStatistics%2CassetProfile%2CsummaryDetail&corsDomain=finance.yahoo.com&formatted=false&symbol=TRTN%5EB&crumb=znKJeXxQthY\n"
     ]
    },
    {
     "name": "stdout",
     "output_type": "stream",
     "text": [
      "Données récupérées pour TRTN^B\n"
     ]
    },
    {
     "name": "stderr",
     "output_type": "stream",
     "text": [
      "404 Client Error: Not Found for url: https://query2.finance.yahoo.com/v10/finance/quoteSummary/TRTN%5EC?modules=financialData%2CquoteType%2CdefaultKeyStatistics%2CassetProfile%2CsummaryDetail&corsDomain=finance.yahoo.com&formatted=false&symbol=TRTN%5EC&crumb=znKJeXxQthY\n"
     ]
    },
    {
     "name": "stdout",
     "output_type": "stream",
     "text": [
      "Données récupérées pour TRTN^C\n"
     ]
    },
    {
     "name": "stderr",
     "output_type": "stream",
     "text": [
      "404 Client Error: Not Found for url: https://query2.finance.yahoo.com/v10/finance/quoteSummary/TRTN%5ED?modules=financialData%2CquoteType%2CdefaultKeyStatistics%2CassetProfile%2CsummaryDetail&corsDomain=finance.yahoo.com&formatted=false&symbol=TRTN%5ED&crumb=znKJeXxQthY\n"
     ]
    },
    {
     "name": "stdout",
     "output_type": "stream",
     "text": [
      "Données récupérées pour TRTN^D\n"
     ]
    },
    {
     "name": "stderr",
     "output_type": "stream",
     "text": [
      "404 Client Error: Not Found for url: https://query2.finance.yahoo.com/v10/finance/quoteSummary/TRTN%5EE?modules=financialData%2CquoteType%2CdefaultKeyStatistics%2CassetProfile%2CsummaryDetail&corsDomain=finance.yahoo.com&formatted=false&symbol=TRTN%5EE&crumb=znKJeXxQthY\n"
     ]
    },
    {
     "name": "stdout",
     "output_type": "stream",
     "text": [
      "Données récupérées pour TRTN^E\n",
      "Données récupérées pour TRTX\n"
     ]
    },
    {
     "name": "stderr",
     "output_type": "stream",
     "text": [
      "404 Client Error: Not Found for url: https://query2.finance.yahoo.com/v10/finance/quoteSummary/TRTX%5EC?modules=financialData%2CquoteType%2CdefaultKeyStatistics%2CassetProfile%2CsummaryDetail&corsDomain=finance.yahoo.com&formatted=false&symbol=TRTX%5EC&crumb=znKJeXxQthY\n"
     ]
    },
    {
     "name": "stdout",
     "output_type": "stream",
     "text": [
      "Données récupérées pour TRTX^C\n",
      "Données récupérées pour TRU\n",
      "Données récupérées pour TRUE\n",
      "Données récupérées pour TRUG\n",
      "Données récupérées pour TRUP\n",
      "Données récupérées pour TRV\n",
      "Données récupérées pour TRVG\n",
      "Données récupérées pour TRVI\n",
      "Données récupérées pour TRVN\n",
      "Données récupérées pour TRX\n",
      "Données récupérées pour TS\n",
      "Données récupérées pour TSAT\n",
      "Données récupérées pour TSBK\n",
      "Données récupérées pour TSBX\n",
      "Données récupérées pour TSCO\n",
      "Données récupérées pour TSE\n",
      "Données récupérées pour TSEM\n",
      "Données récupérées pour TSHA\n",
      "Données récupérées pour TSI\n",
      "Données récupérées pour TSLA\n",
      "Données récupérées pour TSLX\n",
      "Données récupérées pour TSM\n",
      "Données récupérées pour TSN\n",
      "Données récupérées pour TSQ\n",
      "Données récupérées pour TSRI\n",
      "Données récupérées pour TSVT\n",
      "Données récupérées pour TT\n",
      "Données récupérées pour TTC\n",
      "Données récupérées pour TTD\n",
      "Données récupérées pour TTE\n",
      "Données récupérées pour TTEC\n",
      "Données récupérées pour TTEK\n",
      "Données récupérées pour TTGT\n",
      "Données récupérées pour TTI\n",
      "Données récupérées pour TTMI\n",
      "Données récupérées pour TTNP\n",
      "Données récupérées pour TTOO\n",
      "Données récupérées pour TTP\n",
      "Données récupérées pour TTSH\n",
      "Données récupérées pour TTWO\n",
      "Données récupérées pour TU\n",
      "Données récupérées pour TUP\n",
      "Données récupérées pour TURB\n",
      "Données récupérées pour TURN\n",
      "Données récupérées pour TUSK\n",
      "Données récupérées pour TUYA\n",
      "Données récupérées pour TV\n",
      "Données récupérées pour TVC\n",
      "Données récupérées pour TVE\n",
      "Données récupérées pour TVGN\n",
      "Données récupérées pour TVGNW\n",
      "Données récupérées pour TVTX\n",
      "Données récupérées pour TW\n",
      "Données récupérées pour TWI\n",
      "Données récupérées pour TWIN\n",
      "Données récupérées pour TWKS\n",
      "Données récupérées pour TWLO\n",
      "Données récupérées pour TWLV\n",
      "Données récupérées pour TWLVW\n",
      "Données récupérées pour TWN\n",
      "Données récupérées pour TWO\n"
     ]
    },
    {
     "name": "stderr",
     "output_type": "stream",
     "text": [
      "404 Client Error: Not Found for url: https://query2.finance.yahoo.com/v10/finance/quoteSummary/TWO%5EA?modules=financialData%2CquoteType%2CdefaultKeyStatistics%2CassetProfile%2CsummaryDetail&corsDomain=finance.yahoo.com&formatted=false&symbol=TWO%5EA&crumb=znKJeXxQthY\n"
     ]
    },
    {
     "name": "stdout",
     "output_type": "stream",
     "text": [
      "Données récupérées pour TWO^A\n"
     ]
    },
    {
     "name": "stderr",
     "output_type": "stream",
     "text": [
      "404 Client Error: Not Found for url: https://query2.finance.yahoo.com/v10/finance/quoteSummary/TWO%5EB?modules=financialData%2CquoteType%2CdefaultKeyStatistics%2CassetProfile%2CsummaryDetail&corsDomain=finance.yahoo.com&formatted=false&symbol=TWO%5EB&crumb=znKJeXxQthY\n"
     ]
    },
    {
     "name": "stdout",
     "output_type": "stream",
     "text": [
      "Données récupérées pour TWO^B\n"
     ]
    },
    {
     "name": "stderr",
     "output_type": "stream",
     "text": [
      "404 Client Error: Not Found for url: https://query2.finance.yahoo.com/v10/finance/quoteSummary/TWO%5EC?modules=financialData%2CquoteType%2CdefaultKeyStatistics%2CassetProfile%2CsummaryDetail&corsDomain=finance.yahoo.com&formatted=false&symbol=TWO%5EC&crumb=znKJeXxQthY\n"
     ]
    },
    {
     "name": "stdout",
     "output_type": "stream",
     "text": [
      "Données récupérées pour TWO^C\n",
      "Données récupérées pour TWOA\n",
      "Données récupérées pour TWOU\n",
      "Données récupérées pour TWST\n",
      "Données récupérées pour TX\n",
      "Données récupérées pour TXG\n",
      "Données récupérées pour TXMD\n",
      "Données récupérées pour TXN\n",
      "Données récupérées pour TXO\n",
      "Données récupérées pour TXRH\n",
      "Données récupérées pour TXT\n",
      "Données récupérées pour TY\n"
     ]
    },
    {
     "name": "stderr",
     "output_type": "stream",
     "text": [
      "404 Client Error: Not Found for url: https://query2.finance.yahoo.com/v10/finance/quoteSummary/TY%5E?modules=financialData%2CquoteType%2CdefaultKeyStatistics%2CassetProfile%2CsummaryDetail&corsDomain=finance.yahoo.com&formatted=false&symbol=TY%5E&crumb=znKJeXxQthY\n"
     ]
    },
    {
     "name": "stdout",
     "output_type": "stream",
     "text": [
      "Données récupérées pour TY^\n",
      "Données récupérées pour TYG\n",
      "Données récupérées pour TYGO\n",
      "Données récupérées pour TYL\n",
      "Données récupérées pour TYRA\n",
      "Données récupérées pour TZOO\n",
      "Données récupérées pour U\n",
      "Données récupérées pour UA\n",
      "Données récupérées pour UAA\n",
      "Données récupérées pour UAL\n",
      "Données récupérées pour UAMY\n",
      "Données récupérées pour UAN\n",
      "Données récupérées pour UAVS\n",
      "Données récupérées pour UBCP\n",
      "Données récupérées pour UBER\n",
      "Données récupérées pour UBFO\n",
      "Données récupérées pour UBS\n",
      "Données récupérées pour UBSI\n",
      "Données récupérées pour UBX\n",
      "Données récupérées pour UCAR\n",
      "Données récupérées pour UCBI\n",
      "Données récupérées pour UCBIO\n",
      "Données récupérées pour UCL\n",
      "Données récupérées pour UCTT\n",
      "Données récupérées pour UDMY\n",
      "Données récupérées pour UDR\n",
      "Données récupérées pour UE\n",
      "Données récupérées pour UEC\n",
      "Données récupérées pour UEIC\n",
      "Données récupérées pour UFCS\n",
      "Données récupérées pour UFI\n",
      "Données récupérées pour UFPI\n",
      "Données récupérées pour UFPT\n",
      "Données récupérées pour UG\n",
      "Données récupérées pour UGI\n",
      "Données récupérées pour UGIC\n",
      "Données récupérées pour UGP\n",
      "Données récupérées pour UGRO\n",
      "Données récupérées pour UHAL\n",
      "Données récupérées pour UHG\n",
      "Données récupérées pour UHGWW\n",
      "Données récupérées pour UHS\n",
      "Données récupérées pour UHT\n",
      "Données récupérées pour UI\n",
      "Données récupérées pour UIS\n",
      "Données récupérées pour UK\n",
      "Données récupérées pour UKOMW\n",
      "Données récupérées pour UL\n",
      "Données récupérées pour ULBI\n",
      "Données récupérées pour ULCC\n",
      "Données récupérées pour ULH\n",
      "Données récupérées pour ULTA\n",
      "Données récupérées pour ULY\n",
      "Données récupérées pour UMAC\n",
      "Données récupérées pour UMBF\n",
      "Données récupérées pour UMC\n",
      "Données récupérées pour UMH\n"
     ]
    },
    {
     "name": "stderr",
     "output_type": "stream",
     "text": [
      "404 Client Error: Not Found for url: https://query2.finance.yahoo.com/v10/finance/quoteSummary/UMH%5ED?modules=financialData%2CquoteType%2CdefaultKeyStatistics%2CassetProfile%2CsummaryDetail&corsDomain=finance.yahoo.com&formatted=false&symbol=UMH%5ED&crumb=znKJeXxQthY\n"
     ]
    },
    {
     "name": "stdout",
     "output_type": "stream",
     "text": [
      "Données récupérées pour UMH^D\n",
      "Données récupérées pour UNB\n",
      "Données récupérées pour UNCY\n",
      "Données récupérées pour UNF\n",
      "Données récupérées pour UNFI\n",
      "Données récupérées pour UNH\n",
      "Données récupérées pour UNIT\n",
      "Données récupérées pour UNM\n",
      "Données récupérées pour UNMA\n",
      "Données récupérées pour UNP\n",
      "Données récupérées pour UNTY\n",
      "Données récupérées pour UONE\n",
      "Données récupérées pour UONEK\n",
      "Données récupérées pour UP\n",
      "Données récupérées pour UPBD\n",
      "Données récupérées pour UPC\n",
      "Données récupérées pour UPLD\n",
      "Données récupérées pour UPS\n",
      "Données récupérées pour UPST\n",
      "Données récupérées pour UPWK\n",
      "Données récupérées pour UPXI\n",
      "Données récupérées pour URBN\n",
      "Données récupérées pour URG\n",
      "Données récupérées pour URGN\n",
      "Données récupérées pour URI\n",
      "Données récupérées pour UROY\n",
      "Données récupérées pour USA\n",
      "Données récupérées pour USAC\n",
      "Données récupérées pour USAP\n",
      "Données récupérées pour USAS\n",
      "Données récupérées pour USAU\n",
      "Données récupérées pour USB\n"
     ]
    },
    {
     "name": "stderr",
     "output_type": "stream",
     "text": [
      "404 Client Error: Not Found for url: https://query2.finance.yahoo.com/v10/finance/quoteSummary/USB%5EA?modules=financialData%2CquoteType%2CdefaultKeyStatistics%2CassetProfile%2CsummaryDetail&corsDomain=finance.yahoo.com&formatted=false&symbol=USB%5EA&crumb=znKJeXxQthY\n"
     ]
    },
    {
     "name": "stdout",
     "output_type": "stream",
     "text": [
      "Données récupérées pour USB^A\n"
     ]
    },
    {
     "name": "stderr",
     "output_type": "stream",
     "text": [
      "404 Client Error: Not Found for url: https://query2.finance.yahoo.com/v10/finance/quoteSummary/USB%5EH?modules=financialData%2CquoteType%2CdefaultKeyStatistics%2CassetProfile%2CsummaryDetail&corsDomain=finance.yahoo.com&formatted=false&symbol=USB%5EH&crumb=znKJeXxQthY\n"
     ]
    },
    {
     "name": "stdout",
     "output_type": "stream",
     "text": [
      "Données récupérées pour USB^H\n"
     ]
    },
    {
     "name": "stderr",
     "output_type": "stream",
     "text": [
      "404 Client Error: Not Found for url: https://query2.finance.yahoo.com/v10/finance/quoteSummary/USB%5EP?modules=financialData%2CquoteType%2CdefaultKeyStatistics%2CassetProfile%2CsummaryDetail&corsDomain=finance.yahoo.com&formatted=false&symbol=USB%5EP&crumb=znKJeXxQthY\n"
     ]
    },
    {
     "name": "stdout",
     "output_type": "stream",
     "text": [
      "Données récupérées pour USB^P\n"
     ]
    },
    {
     "name": "stderr",
     "output_type": "stream",
     "text": [
      "404 Client Error: Not Found for url: https://query2.finance.yahoo.com/v10/finance/quoteSummary/USB%5EQ?modules=financialData%2CquoteType%2CdefaultKeyStatistics%2CassetProfile%2CsummaryDetail&corsDomain=finance.yahoo.com&formatted=false&symbol=USB%5EQ&crumb=znKJeXxQthY\n"
     ]
    },
    {
     "name": "stdout",
     "output_type": "stream",
     "text": [
      "Données récupérées pour USB^Q\n"
     ]
    },
    {
     "name": "stderr",
     "output_type": "stream",
     "text": [
      "404 Client Error: Not Found for url: https://query2.finance.yahoo.com/v10/finance/quoteSummary/USB%5ER?modules=financialData%2CquoteType%2CdefaultKeyStatistics%2CassetProfile%2CsummaryDetail&corsDomain=finance.yahoo.com&formatted=false&symbol=USB%5ER&crumb=znKJeXxQthY\n"
     ]
    },
    {
     "name": "stdout",
     "output_type": "stream",
     "text": [
      "Données récupérées pour USB^R\n"
     ]
    },
    {
     "name": "stderr",
     "output_type": "stream",
     "text": [
      "404 Client Error: Not Found for url: https://query2.finance.yahoo.com/v10/finance/quoteSummary/USB%5ES?modules=financialData%2CquoteType%2CdefaultKeyStatistics%2CassetProfile%2CsummaryDetail&corsDomain=finance.yahoo.com&formatted=false&symbol=USB%5ES&crumb=znKJeXxQthY\n"
     ]
    },
    {
     "name": "stdout",
     "output_type": "stream",
     "text": [
      "Données récupérées pour USB^S\n",
      "Données récupérées pour USCB\n",
      "Données récupérées pour USCT\n",
      "Données récupérées pour USEA\n",
      "Données récupérées pour USEG\n",
      "Données récupérées pour USFD\n",
      "Données récupérées pour USGO\n",
      "Données récupérées pour USGOW\n",
      "Données récupérées pour USIO\n",
      "Données récupérées pour USLM\n",
      "Données récupérées pour USM\n",
      "Données récupérées pour USNA\n",
      "Données récupérées pour USPH\n",
      "Données récupérées pour UTF\n",
      "Données récupérées pour UTG\n",
      "Données récupérées pour UTHR\n",
      "Données récupérées pour UTI\n",
      "Données récupérées pour UTL\n",
      "Données récupérées pour UTMD\n",
      "Données récupérées pour UTSI\n",
      "Données récupérées pour UTZ\n",
      "Données récupérées pour UUU\n",
      "Données récupérées pour UUUU\n",
      "Données récupérées pour UVE\n",
      "Données récupérées pour UVSP\n",
      "Données récupérées pour UVV\n",
      "Données récupérées pour UWMC\n",
      "Données récupérées pour UXIN\n",
      "Données récupérées pour UZD\n",
      "Données récupérées pour UZE\n",
      "Données récupérées pour UZF\n",
      "Données récupérées pour V\n",
      "Données récupérées pour VABK\n",
      "Données récupérées pour VAC\n",
      "Données récupérées pour VAL\n",
      "Données récupérées pour VALE\n",
      "Données récupérées pour VALN\n",
      "Données récupérées pour VALU\n",
      "Données récupérées pour VANI\n",
      "Données récupérées pour VAQC\n",
      "Données récupérées pour VATE\n",
      "Données récupérées pour VAXX\n",
      "Données récupérées pour VBF\n",
      "Données récupérées pour VBFC\n",
      "Données récupérées pour VBIV\n",
      "Données récupérées pour VBNK\n",
      "Données récupérées pour VBTX\n",
      "Données récupérées pour VC\n",
      "Données récupérées pour VCEL\n",
      "Données récupérées pour VCIG\n",
      "Données récupérées pour VCNX\n",
      "Données récupérées pour VCSA\n",
      "Données récupérées pour VCTR\n",
      "Données récupérées pour VCV\n",
      "Données récupérées pour VCXB\n",
      "Données récupérées pour VCYT\n",
      "Données récupérées pour VECO\n",
      "Données récupérées pour VEEE\n",
      "Données récupérées pour VEEV\n",
      "Données récupérées pour VEL\n",
      "Données récupérées pour VEON\n",
      "Données récupérées pour VERA\n",
      "Données récupérées pour VERB\n",
      "Données récupérées pour VERBW\n",
      "Données récupérées pour VERI\n",
      "Données récupérées pour VERO\n",
      "Données récupérées pour VERU\n",
      "Données récupérées pour VERV\n",
      "Données récupérées pour VERX\n",
      "Données récupérées pour VERY\n",
      "Données récupérées pour VET\n",
      "Données récupérées pour VEV\n",
      "Données récupérées pour VFC\n",
      "Données récupérées pour VFF\n",
      "Données récupérées pour VFL\n",
      "Données récupérées pour VFS\n",
      "Données récupérées pour VFSWW\n",
      "Données récupérées pour VGAS\n",
      "Données récupérées pour VGASW\n",
      "Données récupérées pour VGI\n",
      "Données récupérées pour VGM\n",
      "Données récupérées pour VGR\n",
      "Données récupérées pour VGZ\n",
      "Données récupérées pour VHAQ\n",
      "Données récupérées pour VHC\n",
      "Données récupérées pour VHI\n",
      "Données récupérées pour VIA\n",
      "Données récupérées pour VIAO\n",
      "Données récupérées pour VIASP\n",
      "Données récupérées pour VIAV\n",
      "Données récupérées pour VICI\n",
      "Données récupérées pour VICR\n",
      "Données récupérées pour VIEW\n",
      "Données récupérées pour VIEWW\n",
      "Données récupérées pour VIGL\n",
      "Données récupérées pour VINC\n",
      "Données récupérées pour VINE\n",
      "Données récupérées pour VINO\n",
      "Données récupérées pour VINP\n",
      "Données récupérées pour VIOT\n",
      "Données récupérées pour VIPS\n",
      "Données récupérées pour VIR\n",
      "Données récupérées pour VIRC\n",
      "Données récupérées pour VIRI\n",
      "Données récupérées pour VIRT\n",
      "Données récupérées pour VIRX\n",
      "Données récupérées pour VISL\n",
      "Données récupérées pour VIST\n",
      "Données récupérées pour VITL\n",
      "Données récupérées pour VIV\n",
      "Données récupérées pour VIVK\n",
      "Données récupérées pour VJET\n",
      "Données récupérées pour VKI\n",
      "Données récupérées pour VKQ\n",
      "Données récupérées pour VKTX\n",
      "Données récupérées pour VLCN\n",
      "Données récupérées pour VLD\n",
      "Données récupérées pour VLGEA\n",
      "Données récupérées pour VLN\n",
      "Données récupérées pour VLO\n",
      "Données récupérées pour VLRS\n",
      "Données récupérées pour VLT\n",
      "Données récupérées pour VLTO\n",
      "Données récupérées pour VLY\n",
      "Données récupérées pour VLYPO\n",
      "Données récupérées pour VLYPP\n",
      "Données récupérées pour VMAR\n",
      "Données récupérées pour VMC\n",
      "Données récupérées pour VMCA\n",
      "Données récupérées pour VMD\n",
      "Données récupérées pour VMEO\n",
      "Données récupérées pour VMI\n",
      "Données récupérées pour VMO\n",
      "Données récupérées pour VNCE\n",
      "Données récupérées pour VNDA\n",
      "Données récupérées pour VNET\n",
      "Données récupérées pour VNO\n"
     ]
    },
    {
     "name": "stderr",
     "output_type": "stream",
     "text": [
      "404 Client Error: Not Found for url: https://query2.finance.yahoo.com/v10/finance/quoteSummary/VNO%5EL?modules=financialData%2CquoteType%2CdefaultKeyStatistics%2CassetProfile%2CsummaryDetail&corsDomain=finance.yahoo.com&formatted=false&symbol=VNO%5EL&crumb=znKJeXxQthY\n"
     ]
    },
    {
     "name": "stdout",
     "output_type": "stream",
     "text": [
      "Données récupérées pour VNO^L\n"
     ]
    },
    {
     "name": "stderr",
     "output_type": "stream",
     "text": [
      "404 Client Error: Not Found for url: https://query2.finance.yahoo.com/v10/finance/quoteSummary/VNO%5EM?modules=financialData%2CquoteType%2CdefaultKeyStatistics%2CassetProfile%2CsummaryDetail&corsDomain=finance.yahoo.com&formatted=false&symbol=VNO%5EM&crumb=znKJeXxQthY\n"
     ]
    },
    {
     "name": "stdout",
     "output_type": "stream",
     "text": [
      "Données récupérées pour VNO^M\n"
     ]
    },
    {
     "name": "stderr",
     "output_type": "stream",
     "text": [
      "404 Client Error: Not Found for url: https://query2.finance.yahoo.com/v10/finance/quoteSummary/VNO%5EN?modules=financialData%2CquoteType%2CdefaultKeyStatistics%2CassetProfile%2CsummaryDetail&corsDomain=finance.yahoo.com&formatted=false&symbol=VNO%5EN&crumb=znKJeXxQthY\n"
     ]
    },
    {
     "name": "stdout",
     "output_type": "stream",
     "text": [
      "Données récupérées pour VNO^N\n"
     ]
    },
    {
     "name": "stderr",
     "output_type": "stream",
     "text": [
      "404 Client Error: Not Found for url: https://query2.finance.yahoo.com/v10/finance/quoteSummary/VNO%5EO?modules=financialData%2CquoteType%2CdefaultKeyStatistics%2CassetProfile%2CsummaryDetail&corsDomain=finance.yahoo.com&formatted=false&symbol=VNO%5EO&crumb=znKJeXxQthY\n"
     ]
    },
    {
     "name": "stdout",
     "output_type": "stream",
     "text": [
      "Données récupérées pour VNO^O\n",
      "Données récupérées pour VNOM\n",
      "Données récupérées pour VNRX\n",
      "Données récupérées pour VNT\n",
      "Données récupérées pour VOC\n",
      "Données récupérées pour VOD\n",
      "Données récupérées pour VOR\n",
      "Données récupérées pour VOXR\n",
      "Données récupérées pour VOXX\n",
      "Données récupérées pour VOYA\n"
     ]
    },
    {
     "name": "stderr",
     "output_type": "stream",
     "text": [
      "404 Client Error: Not Found for url: https://query2.finance.yahoo.com/v10/finance/quoteSummary/VOYA%5EB?modules=financialData%2CquoteType%2CdefaultKeyStatistics%2CassetProfile%2CsummaryDetail&corsDomain=finance.yahoo.com&formatted=false&symbol=VOYA%5EB&crumb=znKJeXxQthY\n"
     ]
    },
    {
     "name": "stdout",
     "output_type": "stream",
     "text": [
      "Données récupérées pour VOYA^B\n",
      "Données récupérées pour VPG\n",
      "Données récupérées pour VPV\n",
      "Données récupérées pour VRA\n",
      "Données récupérées pour VRAR\n",
      "Données récupérées pour VRAX\n",
      "Données récupérées pour VRCA\n",
      "Données récupérées pour VRDN\n",
      "Données récupérées pour VRE\n",
      "Données récupérées pour VREX\n",
      "Données récupérées pour VRM\n",
      "Données récupérées pour VRME\n",
      "Données récupérées pour VRMEW\n",
      "Données récupérées pour VRNA\n",
      "Données récupérées pour VRNS\n",
      "Données récupérées pour VRNT\n",
      "Données récupérées pour VRPX\n",
      "Données récupérées pour VRRM\n",
      "Données récupérées pour VRSK\n",
      "Données récupérées pour VRSN\n",
      "Données récupérées pour VRT\n",
      "Données récupérées pour VRTS\n",
      "Données récupérées pour VRTX\n",
      "Données récupérées pour VS\n",
      "Données récupérées pour VSAC\n",
      "Données récupérées pour VSACU\n",
      "Données récupérées pour VSAT\n",
      "Données récupérées pour VSCO\n",
      "Données récupérées pour VSEC\n",
      "Données récupérées pour VSH\n",
      "Données récupérées pour VSME\n",
      "Données récupérées pour VSSYW\n",
      "Données récupérées pour VST\n",
      "Données récupérées pour VSTA\n",
      "Données récupérées pour VSTE\n",
      "Données récupérées pour VSTEW\n",
      "Données récupérées pour VSTM\n",
      "Données récupérées pour VSTO\n",
      "Données récupérées pour VSTS\n",
      "Données récupérées pour VTAK\n",
      "Données récupérées pour VTEX\n",
      "Données récupérées pour VTGN\n",
      "Données récupérées pour VTLE\n",
      "Données récupérées pour VTMX\n",
      "Données récupérées pour VTN\n",
      "Données récupérées pour VTNR\n",
      "Données récupérées pour VTOL\n",
      "Données récupérées pour VTR\n",
      "Données récupérées pour VTRS\n",
      "Données récupérées pour VTRU\n",
      "Données récupérées pour VTS\n",
      "Données récupérées pour VTSI\n",
      "Données récupérées pour VTVT\n",
      "Données récupérées pour VTYX\n",
      "Données récupérées pour VUZI\n",
      "Données récupérées pour VVI\n",
      "Données récupérées pour VVOS\n",
      "Données récupérées pour VVPR\n",
      "Données récupérées pour VVR\n",
      "Données récupérées pour VVV\n",
      "Données récupérées pour VVX\n",
      "Données récupérées pour VWE\n",
      "Données récupérées pour VWEWW\n",
      "Données récupérées pour VXRT\n",
      "Données récupérées pour VYGR\n",
      "Données récupérées pour VYNE\n",
      "Données récupérées pour VYX\n",
      "Données récupérées pour VZ\n",
      "Données récupérées pour VZIO\n",
      "Données récupérées pour VZLA\n",
      "Données récupérées pour W\n",
      "Données récupérées pour WAB\n",
      "Données récupérées pour WABC\n",
      "Données récupérées pour WAFD\n",
      "Données récupérées pour WAFDP\n",
      "Données récupérées pour WAFU\n",
      "Données récupérées pour WAL\n"
     ]
    },
    {
     "name": "stderr",
     "output_type": "stream",
     "text": [
      "404 Client Error: Not Found for url: https://query2.finance.yahoo.com/v10/finance/quoteSummary/WAL%5EA?modules=financialData%2CquoteType%2CdefaultKeyStatistics%2CassetProfile%2CsummaryDetail&corsDomain=finance.yahoo.com&formatted=false&symbol=WAL%5EA&crumb=znKJeXxQthY\n"
     ]
    },
    {
     "name": "stdout",
     "output_type": "stream",
     "text": [
      "Données récupérées pour WAL^A\n",
      "Données récupérées pour WALD\n",
      "Données récupérées pour WALDW\n",
      "Données récupérées pour WASH\n",
      "Données récupérées pour WAT\n",
      "Données récupérées pour WATT\n",
      "Données récupérées pour WAVD\n",
      "Données récupérées pour WAVE\n",
      "Données récupérées pour WAVS\n",
      "Données récupérées pour WB\n",
      "Données récupérées pour WBA\n",
      "Données récupérées pour WBD\n",
      "Données récupérées pour WBS\n"
     ]
    },
    {
     "name": "stderr",
     "output_type": "stream",
     "text": [
      "404 Client Error: Not Found for url: https://query2.finance.yahoo.com/v10/finance/quoteSummary/WBS%5EF?modules=financialData%2CquoteType%2CdefaultKeyStatistics%2CassetProfile%2CsummaryDetail&corsDomain=finance.yahoo.com&formatted=false&symbol=WBS%5EF&crumb=znKJeXxQthY\n"
     ]
    },
    {
     "name": "stdout",
     "output_type": "stream",
     "text": [
      "Données récupérées pour WBS^F\n"
     ]
    },
    {
     "name": "stderr",
     "output_type": "stream",
     "text": [
      "404 Client Error: Not Found for url: https://query2.finance.yahoo.com/v10/finance/quoteSummary/WBS%5EG?modules=financialData%2CquoteType%2CdefaultKeyStatistics%2CassetProfile%2CsummaryDetail&corsDomain=finance.yahoo.com&formatted=false&symbol=WBS%5EG&crumb=znKJeXxQthY\n"
     ]
    },
    {
     "name": "stdout",
     "output_type": "stream",
     "text": [
      "Données récupérées pour WBS^G\n",
      "Données récupérées pour WBUY\n",
      "Données récupérées pour WBX\n",
      "Données récupérées pour WCC\n"
     ]
    },
    {
     "name": "stderr",
     "output_type": "stream",
     "text": [
      "404 Client Error: Not Found for url: https://query2.finance.yahoo.com/v10/finance/quoteSummary/WCC%5EA?modules=financialData%2CquoteType%2CdefaultKeyStatistics%2CassetProfile%2CsummaryDetail&corsDomain=finance.yahoo.com&formatted=false&symbol=WCC%5EA&crumb=znKJeXxQthY\n"
     ]
    },
    {
     "name": "stdout",
     "output_type": "stream",
     "text": [
      "Données récupérées pour WCC^A\n",
      "Données récupérées pour WCN\n",
      "Données récupérées pour WD\n",
      "Données récupérées pour WDAY\n",
      "Données récupérées pour WDC\n",
      "Données récupérées pour WDFC\n",
      "Données récupérées pour WDH\n",
      "Données récupérées pour WDI\n",
      "Données récupérées pour WDS\n",
      "Données récupérées pour WEA\n",
      "Données récupérées pour WEAV\n",
      "Données récupérées pour WEC\n",
      "Données récupérées pour WEL\n",
      "Données récupérées pour WELL\n",
      "Données récupérées pour WEN\n",
      "Données récupérées pour WERN\n",
      "Données récupérées pour WES\n",
      "Données récupérées pour WEST\n",
      "Données récupérées pour WESTW\n",
      "Données récupérées pour WETG\n",
      "Données récupérées pour WEX\n",
      "Données récupérées pour WEYS\n",
      "Données récupérées pour WF\n",
      "Données récupérées pour WFC\n"
     ]
    },
    {
     "name": "stderr",
     "output_type": "stream",
     "text": [
      "404 Client Error: Not Found for url: https://query2.finance.yahoo.com/v10/finance/quoteSummary/WFC%5EA?modules=financialData%2CquoteType%2CdefaultKeyStatistics%2CassetProfile%2CsummaryDetail&corsDomain=finance.yahoo.com&formatted=false&symbol=WFC%5EA&crumb=znKJeXxQthY\n"
     ]
    },
    {
     "name": "stdout",
     "output_type": "stream",
     "text": [
      "Données récupérées pour WFC^A\n"
     ]
    },
    {
     "name": "stderr",
     "output_type": "stream",
     "text": [
      "404 Client Error: Not Found for url: https://query2.finance.yahoo.com/v10/finance/quoteSummary/WFC%5EC?modules=financialData%2CquoteType%2CdefaultKeyStatistics%2CassetProfile%2CsummaryDetail&corsDomain=finance.yahoo.com&formatted=false&symbol=WFC%5EC&crumb=znKJeXxQthY\n"
     ]
    },
    {
     "name": "stdout",
     "output_type": "stream",
     "text": [
      "Données récupérées pour WFC^C\n"
     ]
    },
    {
     "name": "stderr",
     "output_type": "stream",
     "text": [
      "404 Client Error: Not Found for url: https://query2.finance.yahoo.com/v10/finance/quoteSummary/WFC%5ED?modules=financialData%2CquoteType%2CdefaultKeyStatistics%2CassetProfile%2CsummaryDetail&corsDomain=finance.yahoo.com&formatted=false&symbol=WFC%5ED&crumb=znKJeXxQthY\n"
     ]
    },
    {
     "name": "stdout",
     "output_type": "stream",
     "text": [
      "Données récupérées pour WFC^D\n"
     ]
    },
    {
     "name": "stderr",
     "output_type": "stream",
     "text": [
      "404 Client Error: Not Found for url: https://query2.finance.yahoo.com/v10/finance/quoteSummary/WFC%5EL?modules=financialData%2CquoteType%2CdefaultKeyStatistics%2CassetProfile%2CsummaryDetail&corsDomain=finance.yahoo.com&formatted=false&symbol=WFC%5EL&crumb=znKJeXxQthY\n"
     ]
    },
    {
     "name": "stdout",
     "output_type": "stream",
     "text": [
      "Données récupérées pour WFC^L\n"
     ]
    },
    {
     "name": "stderr",
     "output_type": "stream",
     "text": [
      "404 Client Error: Not Found for url: https://query2.finance.yahoo.com/v10/finance/quoteSummary/WFC%5ER?modules=financialData%2CquoteType%2CdefaultKeyStatistics%2CassetProfile%2CsummaryDetail&corsDomain=finance.yahoo.com&formatted=false&symbol=WFC%5ER&crumb=znKJeXxQthY\n"
     ]
    },
    {
     "name": "stdout",
     "output_type": "stream",
     "text": [
      "Données récupérées pour WFC^R\n"
     ]
    },
    {
     "name": "stderr",
     "output_type": "stream",
     "text": [
      "404 Client Error: Not Found for url: https://query2.finance.yahoo.com/v10/finance/quoteSummary/WFC%5EY?modules=financialData%2CquoteType%2CdefaultKeyStatistics%2CassetProfile%2CsummaryDetail&corsDomain=finance.yahoo.com&formatted=false&symbol=WFC%5EY&crumb=znKJeXxQthY\n"
     ]
    },
    {
     "name": "stdout",
     "output_type": "stream",
     "text": [
      "Données récupérées pour WFC^Y\n"
     ]
    },
    {
     "name": "stderr",
     "output_type": "stream",
     "text": [
      "404 Client Error: Not Found for url: https://query2.finance.yahoo.com/v10/finance/quoteSummary/WFC%5EZ?modules=financialData%2CquoteType%2CdefaultKeyStatistics%2CassetProfile%2CsummaryDetail&corsDomain=finance.yahoo.com&formatted=false&symbol=WFC%5EZ&crumb=znKJeXxQthY\n"
     ]
    },
    {
     "name": "stdout",
     "output_type": "stream",
     "text": [
      "Données récupérées pour WFC^Z\n",
      "Données récupérées pour WFCF\n",
      "Données récupérées pour WFG\n",
      "Données récupérées pour WFRD\n",
      "Données récupérées pour WGO\n",
      "Données récupérées pour WGS\n",
      "Données récupérées pour WGSWW\n",
      "Données récupérées pour WH\n",
      "Données récupérées pour WHD\n",
      "Données récupérées pour WHF\n",
      "Données récupérées pour WHFCL\n",
      "Données récupérées pour WHG\n",
      "Données récupérées pour WHLM\n",
      "Données récupérées pour WHLR\n",
      "Données récupérées pour WHLRD\n",
      "Données récupérées pour WHLRP\n",
      "Données récupérées pour WHR\n",
      "Données récupérées pour WIA\n",
      "Données récupérées pour WILC\n",
      "Données récupérées pour WIMI\n",
      "Données récupérées pour WINA\n",
      "Données récupérées pour WING\n",
      "Données récupérées pour WINT\n",
      "Données récupérées pour WINV\n",
      "Données récupérées pour WINVR\n",
      "Données récupérées pour WINVU\n",
      "Données récupérées pour WIRE\n",
      "Données récupérées pour WISA\n",
      "Données récupérées pour WISH\n",
      "Données récupérées pour WIT\n",
      "Données récupérées pour WIW\n",
      "Données récupérées pour WIX\n",
      "Données récupérées pour WK\n",
      "Données récupérées pour WKC\n",
      "Données récupérées pour WKEY\n",
      "Données récupérées pour WKHS\n",
      "Données récupérées pour WKME\n",
      "Données récupérées pour WKSP\n",
      "Données récupérées pour WKSPW\n",
      "Données récupérées pour WLDN\n",
      "Données récupérées pour WLDS\n",
      "Données récupérées pour WLDSW\n",
      "Données récupérées pour WLFC\n",
      "Données récupérées pour WLGS\n",
      "Données récupérées pour WLK\n",
      "Données récupérées pour WLKP\n",
      "Données récupérées pour WLY\n",
      "Données récupérées pour WLYB\n",
      "Données récupérées pour WM\n",
      "Données récupérées pour WMB\n",
      "Données récupérées pour WMG\n",
      "Données récupérées pour WMK\n",
      "Données récupérées pour WMPN\n",
      "Données récupérées pour WMS\n",
      "Données récupérées pour WMT\n",
      "Données récupérées pour WNC\n",
      "Données récupérées pour WNEB\n",
      "Données récupérées pour WNNR\n",
      "Données récupérées pour WNS\n",
      "Données récupérées pour WNW\n",
      "Données récupérées pour WOLF\n",
      "Données récupérées pour WOOF\n",
      "Données récupérées pour WOR\n",
      "Données récupérées pour WORX\n",
      "Données récupérées pour WOW\n",
      "Données récupérées pour WPC\n",
      "Données récupérées pour WPM\n",
      "Données récupérées pour WPP\n",
      "Données récupérées pour WPRT\n",
      "Données récupérées pour WRAC\n",
      "Données récupérées pour WRAP\n",
      "Données récupérées pour WRB\n"
     ]
    },
    {
     "name": "stderr",
     "output_type": "stream",
     "text": [
      "404 Client Error: Not Found for url: https://query2.finance.yahoo.com/v10/finance/quoteSummary/WRB%5EE?modules=financialData%2CquoteType%2CdefaultKeyStatistics%2CassetProfile%2CsummaryDetail&corsDomain=finance.yahoo.com&formatted=false&symbol=WRB%5EE&crumb=znKJeXxQthY\n"
     ]
    },
    {
     "name": "stdout",
     "output_type": "stream",
     "text": [
      "Données récupérées pour WRB^E\n"
     ]
    },
    {
     "name": "stderr",
     "output_type": "stream",
     "text": [
      "404 Client Error: Not Found for url: https://query2.finance.yahoo.com/v10/finance/quoteSummary/WRB%5EF?modules=financialData%2CquoteType%2CdefaultKeyStatistics%2CassetProfile%2CsummaryDetail&corsDomain=finance.yahoo.com&formatted=false&symbol=WRB%5EF&crumb=znKJeXxQthY\n"
     ]
    },
    {
     "name": "stdout",
     "output_type": "stream",
     "text": [
      "Données récupérées pour WRB^F\n"
     ]
    },
    {
     "name": "stderr",
     "output_type": "stream",
     "text": [
      "404 Client Error: Not Found for url: https://query2.finance.yahoo.com/v10/finance/quoteSummary/WRB%5EG?modules=financialData%2CquoteType%2CdefaultKeyStatistics%2CassetProfile%2CsummaryDetail&corsDomain=finance.yahoo.com&formatted=false&symbol=WRB%5EG&crumb=znKJeXxQthY\n"
     ]
    },
    {
     "name": "stdout",
     "output_type": "stream",
     "text": [
      "Données récupérées pour WRB^G\n"
     ]
    },
    {
     "name": "stderr",
     "output_type": "stream",
     "text": [
      "404 Client Error: Not Found for url: https://query2.finance.yahoo.com/v10/finance/quoteSummary/WRB%5EH?modules=financialData%2CquoteType%2CdefaultKeyStatistics%2CassetProfile%2CsummaryDetail&corsDomain=finance.yahoo.com&formatted=false&symbol=WRB%5EH&crumb=znKJeXxQthY\n"
     ]
    },
    {
     "name": "stdout",
     "output_type": "stream",
     "text": [
      "Données récupérées pour WRB^H\n",
      "Données récupérées pour WRBY\n",
      "Données récupérées pour WRK\n",
      "Données récupérées pour WRLD\n",
      "Données récupérées pour WRN\n",
      "Données récupérées pour WRNT\n",
      "Données récupérées pour WS\n",
      "Données récupérées pour WSBC\n",
      "Données récupérées pour WSBCP\n",
      "Données récupérées pour WSBF\n",
      "Données récupérées pour WSC\n",
      "Données récupérées pour WSFS\n",
      "Données récupérées pour WSM\n",
      "Données récupérées pour WSO\n"
     ]
    },
    {
     "name": "stderr",
     "output_type": "stream",
     "text": [
      "404 Client Error: Not Found for url: https://query2.finance.yahoo.com/v10/finance/quoteSummary/WSO/B?modules=financialData%2CquoteType%2CdefaultKeyStatistics%2CassetProfile%2CsummaryDetail&corsDomain=finance.yahoo.com&formatted=false&symbol=WSO%2FB&crumb=znKJeXxQthY\n"
     ]
    },
    {
     "name": "stdout",
     "output_type": "stream",
     "text": [
      "Erreur lors de la récupération des données pour WSO/B: Failed to parse json response from Yahoo Finance: {'code': 'Not Found', 'description': 'HTTP 404 Not Found'}\n",
      "Données récupérées pour WSR\n",
      "Données récupérées pour WST\n",
      "Données récupérées pour WT\n",
      "Données récupérées pour WTBA\n",
      "Données récupérées pour WTFC\n",
      "Données récupérées pour WTFCM\n",
      "Données récupérées pour WTFCP\n",
      "Données récupérées pour WTI\n",
      "Données récupérées pour WTM\n",
      "Données récupérées pour WTMA\n",
      "Données récupérées pour WTMAR\n",
      "Données récupérées pour WTO\n",
      "Données récupérées pour WTRG\n",
      "Données récupérées pour WTS\n",
      "Données récupérées pour WTTR\n",
      "Données récupérées pour WTW\n",
      "Données récupérées pour WU\n",
      "Données récupérées pour WULF\n",
      "Données récupérées pour WVE\n",
      "Données récupérées pour WVVI\n",
      "Données récupérées pour WVVIP\n",
      "Données récupérées pour WW\n",
      "Données récupérées pour WWD\n",
      "Données récupérées pour WWR\n",
      "Données récupérées pour WWW\n",
      "Données récupérées pour WY\n",
      "Données récupérées pour WYNN\n",
      "Données récupérées pour WYY\n",
      "Données récupérées pour X\n",
      "Données récupérées pour XAIR\n",
      "Données récupérées pour XBIO\n",
      "Données récupérées pour XBIOW\n",
      "Données récupérées pour XBIT\n",
      "Données récupérées pour XBP\n",
      "Données récupérées pour XBPEW\n",
      "Données récupérées pour XCUR\n",
      "Données récupérées pour XEL\n",
      "Données récupérées pour XELA\n",
      "Données récupérées pour XELAP\n",
      "Données récupérées pour XELB\n",
      "Données récupérées pour XENE\n",
      "Données récupérées pour XERS\n",
      "Données récupérées pour XFIN\n",
      "Données récupérées pour XFLT\n"
     ]
    },
    {
     "name": "stderr",
     "output_type": "stream",
     "text": [
      "404 Client Error: Not Found for url: https://query2.finance.yahoo.com/v10/finance/quoteSummary/XFLT%5EA?modules=financialData%2CquoteType%2CdefaultKeyStatistics%2CassetProfile%2CsummaryDetail&corsDomain=finance.yahoo.com&formatted=false&symbol=XFLT%5EA&crumb=znKJeXxQthY\n"
     ]
    },
    {
     "name": "stdout",
     "output_type": "stream",
     "text": [
      "Données récupérées pour XFLT^A\n",
      "Données récupérées pour XFOR\n",
      "Données récupérées pour XGN\n",
      "Données récupérées pour XHR\n",
      "Données récupérées pour XIN\n",
      "Données récupérées pour XLO\n",
      "Données récupérées pour XMTR\n",
      "Données récupérées pour XNCR\n",
      "Données récupérées pour XNET\n",
      "Données récupérées pour XOM\n",
      "Données récupérées pour XOMA\n",
      "Données récupérées pour XOMAO\n",
      "Données récupérées pour XOMAP\n",
      "Données récupérées pour XOS\n",
      "Données récupérées pour XOSWW\n",
      "Données récupérées pour XP\n",
      "Données récupérées pour XPDB\n",
      "Données récupérées pour XPDBW\n",
      "Données récupérées pour XPEL\n",
      "Données récupérées pour XPER\n",
      "Données récupérées pour XPEV\n",
      "Données récupérées pour XPL\n",
      "Données récupérées pour XPO\n",
      "Données récupérées pour XPOF\n",
      "Données récupérées pour XPON\n",
      "Données récupérées pour XPRO\n",
      "Données récupérées pour XRAY\n",
      "Données récupérées pour XRTX\n",
      "Données récupérées pour XRX\n",
      "Données récupérées pour XTKG\n",
      "Données récupérées pour XTLB\n",
      "Données récupérées pour XTNT\n",
      "Données récupérées pour XWEL\n",
      "Données récupérées pour XXII\n",
      "Données récupérées pour XYF\n",
      "Données récupérées pour XYL\n",
      "Données récupérées pour YALA\n",
      "Données récupérées pour YCBD\n"
     ]
    },
    {
     "name": "stderr",
     "output_type": "stream",
     "text": [
      "404 Client Error: Not Found for url: https://query2.finance.yahoo.com/v10/finance/quoteSummary/YCBD%5EA?modules=financialData%2CquoteType%2CdefaultKeyStatistics%2CassetProfile%2CsummaryDetail&corsDomain=finance.yahoo.com&formatted=false&symbol=YCBD%5EA&crumb=znKJeXxQthY\n"
     ]
    },
    {
     "name": "stdout",
     "output_type": "stream",
     "text": [
      "Données récupérées pour YCBD^A\n",
      "Données récupérées pour YELP\n",
      "Données récupérées pour YETI\n",
      "Données récupérées pour YEXT\n",
      "Données récupérées pour YGMZ\n",
      "Données récupérées pour YHGJ\n",
      "Données récupérées pour YI\n",
      "Données récupérées pour YIBO\n",
      "Données récupérées pour YJ\n",
      "Données récupérées pour YMAB\n",
      "Données récupérées pour YMM\n",
      "Données récupérées pour YORW\n",
      "Données récupérées pour YOSH\n",
      "Données récupérées pour YOTA\n",
      "Données récupérées pour YOTAR\n",
      "Données récupérées pour YOTAW\n",
      "Données récupérées pour YOU\n",
      "Données récupérées pour YPF\n",
      "Données récupérées pour YQ\n",
      "Données récupérées pour YRD\n",
      "Données récupérées pour YS\n",
      "Données récupérées pour YSBPW\n",
      "Données récupérées pour YSG\n",
      "Données récupérées pour YTEN\n",
      "Données récupérées pour YTRA\n",
      "Données récupérées pour YUM\n",
      "Données récupérées pour YUMC\n",
      "Données récupérées pour YY\n",
      "Données récupérées pour Z\n",
      "Données récupérées pour ZAPP\n",
      "Données récupérées pour ZAPPW\n",
      "Données récupérées pour ZBH\n",
      "Données récupérées pour ZBRA\n",
      "Données récupérées pour ZCAR\n",
      "Données récupérées pour ZCARW\n",
      "Données récupérées pour ZCMD\n",
      "Données récupérées pour ZD\n",
      "Données récupérées pour ZDGE\n",
      "Données récupérées pour ZENV\n",
      "Données récupérées pour ZEPP\n",
      "Données récupérées pour ZETA\n",
      "Données récupérées pour ZEUS\n",
      "Données récupérées pour ZFOX\n",
      "Données récupérées pour ZFOXW\n",
      "Données récupérées pour ZG\n",
      "Données récupérées pour ZGN\n",
      "Données récupérées pour ZH\n",
      "Données récupérées pour ZI\n",
      "Données récupérées pour ZIM\n",
      "Données récupérées pour ZIMV\n",
      "Données récupérées pour ZION\n",
      "Données récupérées pour ZIONL\n",
      "Données récupérées pour ZIONO\n",
      "Données récupérées pour ZIONP\n",
      "Données récupérées pour ZIP\n",
      "Données récupérées pour ZJYL\n",
      "Données récupérées pour ZKH\n",
      "Données récupérées pour ZKIN\n",
      "Données récupérées pour ZLAB\n",
      "Données récupérées pour ZLS\n",
      "Données récupérées pour ZM\n",
      "Données récupérées pour ZNTL\n",
      "Données récupérées pour ZOM\n",
      "Données récupérées pour ZS\n",
      "Données récupérées pour ZTEK\n",
      "Données récupérées pour ZTO\n",
      "Données récupérées pour ZTR\n",
      "Données récupérées pour ZTS\n",
      "Données récupérées pour ZUMZ\n",
      "Données récupérées pour ZUO\n",
      "Données récupérées pour ZURA\n",
      "Données récupérées pour ZURAW\n",
      "Données récupérées pour ZVIA\n",
      "Données récupérées pour ZVRA\n",
      "Données récupérées pour ZVSA\n",
      "Données récupérées pour ZWS\n",
      "Données récupérées pour ZYME\n",
      "Données récupérées pour ZYXI\n",
      "Les données pour tous les symboles ont été enregistrées dans le fichier stocks_data.json.\n"
     ]
    }
   ],
   "source": [
    "import yfinance as yf\n",
    "import json\n",
    "\n",
    "# Récupérer tous les symboles de votre DataFrame\n",
    "list_symbol = df['Symbol']\n",
    "\n",
    "# Initialiser un dictionnaire pour stocker les données de chaque symbole\n",
    "all_stocks_data = {}\n",
    "\n",
    "# Itérer sur chaque symbole\n",
    "for symbol in list_symbol:\n",
    "    try:\n",
    "        # Récupérer les données pour le symbole actuel\n",
    "        stock_data = yf.Ticker(symbol)\n",
    "        info = stock_data.info\n",
    "        all_stocks_data[symbol] = info\n",
    "        print(f\"Données récupérées pour {symbol}\")\n",
    "    except Exception as e:\n",
    "        print(f\"Erreur lors de la récupération des données pour {symbol}: {e}\")\n",
    "\n",
    "# Enregistrer les données dans un fichier JSON\n",
    "with open(\"stocks_data.json\", \"w\") as file:\n",
    "    json.dump(all_stocks_data, file)\n",
    "\n",
    "print(\"Les données pour tous les symboles ont été enregistrées dans le fichier stocks_data.json.\")\n"
   ]
  },
  {
   "cell_type": "code",
   "execution_count": 35,
   "metadata": {},
   "outputs": [
    {
     "name": "stdout",
     "output_type": "stream",
     "text": [
      "7222\n"
     ]
    }
   ],
   "source": [
    "print(len(all_stocks_data))"
   ]
  },
  {
   "cell_type": "code",
   "execution_count": 29,
   "metadata": {},
   "outputs": [
    {
     "ename": "TypeError",
     "evalue": "__init__() missing 1 required positional argument: 'tickers'",
     "output_type": "error",
     "traceback": [
      "\u001b[1;31m---------------------------------------------------------------------------\u001b[0m",
      "\u001b[1;31mTypeError\u001b[0m                                 Traceback (most recent call last)",
      "Cell \u001b[1;32mIn[29], line 4\u001b[0m\n\u001b[0;32m      1\u001b[0m \u001b[38;5;28;01mimport\u001b[39;00m \u001b[38;5;21;01myfinance\u001b[39;00m \u001b[38;5;28;01mas\u001b[39;00m \u001b[38;5;21;01myf\u001b[39;00m\n\u001b[0;32m      3\u001b[0m \u001b[38;5;66;03m# Récupérer la liste de tous les tickers disponibles sur Yahoo Finance\u001b[39;00m\n\u001b[1;32m----> 4\u001b[0m all_tickers \u001b[38;5;241m=\u001b[39m \u001b[43myf\u001b[49m\u001b[38;5;241;43m.\u001b[39;49m\u001b[43mTickers\u001b[49m\u001b[43m(\u001b[49m\u001b[43m)\u001b[49m\n\u001b[0;32m      6\u001b[0m \u001b[38;5;66;03m# Obtenir la liste des tickers\u001b[39;00m\n\u001b[0;32m      7\u001b[0m all_tickers_list \u001b[38;5;241m=\u001b[39m all_tickers\u001b[38;5;241m.\u001b[39mtickers\n",
      "\u001b[1;31mTypeError\u001b[0m: __init__() missing 1 required positional argument: 'tickers'"
     ]
    }
   ],
   "source": [
    "import yfinance as yf\n",
    "\n",
    "# Récupérer la liste de tous les tickers disponibles sur Yahoo Finance\n",
    "all_tickers = yf.Tickers()\n",
    "\n",
    "# Obtenir la liste des tickers\n",
    "all_tickers_list = all_tickers.tickers\n",
    "\n",
    "# Afficher la liste des tickers\n",
    "print(all_tickers_list)\n"
   ]
  },
  {
   "cell_type": "code",
   "execution_count": 12,
   "metadata": {},
   "outputs": [
    {
     "ename": "TypeError",
     "evalue": "__init__() missing 1 required positional argument: 'tickers'",
     "output_type": "error",
     "traceback": [
      "\u001b[1;31m---------------------------------------------------------------------------\u001b[0m",
      "\u001b[1;31mTypeError\u001b[0m                                 Traceback (most recent call last)",
      "Cell \u001b[1;32mIn[12], line 5\u001b[0m\n\u001b[0;32m      2\u001b[0m \u001b[38;5;28;01mimport\u001b[39;00m \u001b[38;5;21;01mjson\u001b[39;00m\n\u001b[0;32m      4\u001b[0m \u001b[38;5;66;03m# Récupérer la liste de tous les tickers disponibles\u001b[39;00m\n\u001b[1;32m----> 5\u001b[0m all_tickers \u001b[38;5;241m=\u001b[39m \u001b[43myf\u001b[49m\u001b[38;5;241;43m.\u001b[39;49m\u001b[43mTickers\u001b[49m\u001b[43m(\u001b[49m\u001b[43m)\u001b[49m\n\u001b[0;32m      7\u001b[0m \u001b[38;5;66;03m# Obtenir la liste des tickers\u001b[39;00m\n\u001b[0;32m      8\u001b[0m ticker_list \u001b[38;5;241m=\u001b[39m all_tickers\u001b[38;5;241m.\u001b[39mtickers\n",
      "\u001b[1;31mTypeError\u001b[0m: __init__() missing 1 required positional argument: 'tickers'"
     ]
    }
   ],
   "source": [
    "import yfinance as yf\n",
    "import json\n",
    "\n",
    "# Récupérer la liste de tous les tickers disponibles\n",
    "all_tickers = yf.Tickers()\n",
    "\n",
    "# Obtenir la liste des tickers\n",
    "ticker_list = all_tickers.tickers\n",
    "\n",
    "# Initialiser un dictionnaire pour stocker les informations\n",
    "all_stocks_info = {}\n",
    "\n",
    "# Récupérer les informations pour chaque ticker\n",
    "for ticker in ticker_list:\n",
    "    try:\n",
    "        stock_data = yf.Ticker(ticker)\n",
    "        info = stock_data.info\n",
    "        all_stocks_info[ticker] = info\n",
    "    except Exception as e:\n",
    "        print(f\"Erreur lors de la récupération des informations pour le ticker {ticker}: {e}\")\n",
    "\n",
    "print(len(all_stocks_info))\n",
    "# Enregistrer les informations dans un fichier JSON\n",
    "with open(\"stocks_data.json\", \"w\") as file:\n",
    "    json.dump(all_stocks_info, file)\n",
    "\n",
    "print(\"Les informations pour tous les tickers ont été enregistrées dans le fichier stocks_data.json.\")\n"
   ]
  },
  {
   "cell_type": "code",
   "execution_count": 23,
   "metadata": {},
   "outputs": [
    {
     "data": {
      "text/plain": [
       "Index(['Symbol', 'Name', 'Last Sale', 'Net Change', '% Change', 'Market Cap',\n",
       "       'Country', 'IPO Year', 'Volume', 'Sector', 'Industry'],\n",
       "      dtype='object')"
      ]
     },
     "execution_count": 23,
     "metadata": {},
     "output_type": "execute_result"
    }
   ],
   "source": [
    "import pandas as pd \n",
    "\n",
    "df=pd.read_csv(\"nasdaq_screener_1708057294539.csv\")\n",
    "df.columns"
   ]
  },
  {
   "cell_type": "code",
   "execution_count": 24,
   "metadata": {},
   "outputs": [
    {
     "ename": "NameError",
     "evalue": "name 'stock_data' is not defined",
     "output_type": "error",
     "traceback": [
      "\u001b[1;31m---------------------------------------------------------------------------\u001b[0m",
      "\u001b[1;31mNameError\u001b[0m                                 Traceback (most recent call last)",
      "Cell \u001b[1;32mIn[24], line 2\u001b[0m\n\u001b[0;32m      1\u001b[0m \u001b[38;5;66;03m# Récupérer l'historique des prix sur une période donnée\u001b[39;00m\n\u001b[1;32m----> 2\u001b[0m historical_data \u001b[38;5;241m=\u001b[39m \u001b[43mstock_data\u001b[49m\u001b[38;5;241m.\u001b[39mhistory(period\u001b[38;5;241m=\u001b[39m\u001b[38;5;124m\"\u001b[39m\u001b[38;5;124m1y\u001b[39m\u001b[38;5;124m\"\u001b[39m)  \u001b[38;5;66;03m# Exemple : sur 1 an\u001b[39;00m\n\u001b[0;32m      4\u001b[0m \u001b[38;5;66;03m# Créer un dictionnaire avec les données récupérées\u001b[39;00m\n\u001b[0;32m      5\u001b[0m data_dict \u001b[38;5;241m=\u001b[39m {\n\u001b[0;32m      6\u001b[0m     \u001b[38;5;124m\"\u001b[39m\u001b[38;5;124mticker\u001b[39m\u001b[38;5;124m\"\u001b[39m: ticker,\n\u001b[0;32m      7\u001b[0m     \u001b[38;5;124m\"\u001b[39m\u001b[38;5;124mcompany_info\u001b[39m\u001b[38;5;124m\"\u001b[39m: info,\n\u001b[0;32m      8\u001b[0m     \u001b[38;5;124m\"\u001b[39m\u001b[38;5;124mhistorical_data\u001b[39m\u001b[38;5;124m\"\u001b[39m: historical_data\u001b[38;5;241m.\u001b[39mto_dict(orient\u001b[38;5;241m=\u001b[39m\u001b[38;5;124m\"\u001b[39m\u001b[38;5;124mrecords\u001b[39m\u001b[38;5;124m\"\u001b[39m)  \u001b[38;5;66;03m# Convertir le DataFrame en liste de dictionnaires\u001b[39;00m\n\u001b[0;32m      9\u001b[0m }\n",
      "\u001b[1;31mNameError\u001b[0m: name 'stock_data' is not defined"
     ]
    }
   ],
   "source": [
    "# Récupérer l'historique des prix sur une période donnée\n",
    "historical_data = stock_data.history(period=\"1y\")  # Exemple : sur 1 an\n",
    "\n",
    "# Créer un dictionnaire avec les données récupérées\n",
    "data_dict = {\n",
    "    \"ticker\": ticker,\n",
    "    \"company_info\": info,\n",
    "    \"historical_data\": historical_data.to_dict(orient=\"records\")  # Convertir le DataFrame en liste de dictionnaires\n",
    "}\n",
    "\n",
    "print(data_dict)"
   ]
  },
  {
   "cell_type": "code",
   "execution_count": 3,
   "metadata": {},
   "outputs": [
    {
     "name": "stderr",
     "output_type": "stream",
     "text": [
      "c:\\Users\\yskon\\anaconda3.2\\envs\\Projet_Final_App\\lib\\site-packages\\yfinance\\utils.py:775: FutureWarning: The 'unit' keyword in TimedeltaIndex construction is deprecated and will be removed in a future version. Use pd.to_timedelta instead.\n",
      "  df.index += _pd.TimedeltaIndex(dst_error_hours, 'h')\n",
      "[*********************100%%**********************]  1 of 1 completed"
     ]
    },
    {
     "name": "stdout",
     "output_type": "stream",
     "text": [
      "                  Open        High         Low       Close   Adj Close  \\\n",
      "Date                                                                     \n",
      "2021-12-27  177.089996  180.419998  177.070007  180.330002  178.065659   \n",
      "2021-12-28  180.160004  181.330002  178.529999  179.289993  177.038742   \n",
      "2021-12-29  179.330002  180.630005  178.139999  179.380005  177.127625   \n",
      "2021-12-30  179.470001  180.570007  178.089996  178.199997  175.962402   \n",
      "2021-12-31  178.089996  179.229996  177.259995  177.570007  175.340332   \n",
      "\n",
      "              Volume       SMA         EMA        RSI      MACD    Signal  \\\n",
      "Date                                                                        \n",
      "2021-12-27  74919600  171.4630  171.009600  66.890408  5.051209  5.174498   \n",
      "2021-12-28  79144300  172.4155  171.798209  64.950263  5.102919  5.160182   \n",
      "2021-12-29  62348900  173.1195  172.520285  65.044762  5.092459  5.146637   \n",
      "2021-12-30  59773000  173.7910  173.061210  62.659680  4.932099  5.103730   \n",
      "2021-12-31  64062300  174.4815  173.490619  61.365927  4.699999  5.022983   \n",
      "\n",
      "             UpperBand  MiddleBand   LowerBand  \n",
      "Date                                            \n",
      "2021-12-27  183.279656    171.4630  159.646345  \n",
      "2021-12-28  183.508992    172.4155  161.322008  \n",
      "2021-12-29  184.103940    173.1195  162.135060  \n",
      "2021-12-30  184.282603    173.7910  163.299396  \n",
      "2021-12-31  184.015573    174.4815  164.947428  \n"
     ]
    },
    {
     "name": "stderr",
     "output_type": "stream",
     "text": [
      "\n"
     ]
    }
   ],
   "source": [
    "import yfinance as yf\n",
    "import pandas as pd\n",
    "import talib\n",
    "\n",
    "# Retrieve historical price data using yfinance\n",
    "ticker = \"AAPL\"  # Example stock symbol (Apple Inc.)\n",
    "start_date = \"2021-01-01\"\n",
    "end_date = \"2022-01-01\"\n",
    "data = yf.download(ticker, start=start_date, end=end_date)\n",
    "\n",
    "# Calculate moving averages (e.g., SMA and EMA)\n",
    "data['SMA'] = data['Close'].rolling(window=20).mean()  # 20-day Simple Moving Average\n",
    "data['EMA'] = data['Close'].ewm(span=20, adjust=False).mean()  # 20-day Exponential Moving Average\n",
    "\n",
    "# Calculate RSI (Relative Strength Index)\n",
    "data['RSI'] = talib.RSI(data['Close'], timeperiod=14)\n",
    "\n",
    "# Calculate MACD (Moving Average Convergence Divergence)\n",
    "macd, signal, _ = talib.MACD(data['Close'], fastperiod=12, slowperiod=26, signalperiod=9)\n",
    "data['MACD'] = macd\n",
    "data['Signal'] = signal\n",
    "\n",
    "# Calculate Bollinger Bands\n",
    "upper_band, middle_band, lower_band = talib.BBANDS(data['Close'], timeperiod=20)\n",
    "data['UpperBand'] = upper_band\n",
    "data['MiddleBand'] = middle_band\n",
    "data['LowerBand'] = lower_band\n",
    "\n",
    "# Display the data\n",
    "print(data.tail())\n"
   ]
  },
  {
   "cell_type": "code",
   "execution_count": 7,
   "metadata": {},
   "outputs": [
    {
     "name": "stderr",
     "output_type": "stream",
     "text": [
      "c:\\Users\\yskon\\anaconda3.2\\envs\\Projet_Final_App\\lib\\site-packages\\yfinance\\utils.py:775: FutureWarning: The 'unit' keyword in TimedeltaIndex construction is deprecated and will be removed in a future version. Use pd.to_timedelta instead.\n",
      "  df.index += _pd.TimedeltaIndex(dst_error_hours, 'h')\n",
      "c:\\Users\\yskon\\anaconda3.2\\envs\\Projet_Final_App\\lib\\site-packages\\yfinance\\utils.py:775: FutureWarning: The 'unit' keyword in TimedeltaIndex construction is deprecated and will be removed in a future version. Use pd.to_timedelta instead.\n",
      "  df.index += _pd.TimedeltaIndex(dst_error_hours, 'h')\n",
      "[                       0%%                      ]c:\\Users\\yskon\\anaconda3.2\\envs\\Projet_Final_App\\lib\\site-packages\\yfinance\\utils.py:775: FutureWarning: The 'unit' keyword in TimedeltaIndex construction is deprecated and will be removed in a future version. Use pd.to_timedelta instead.\n",
      "  df.index += _pd.TimedeltaIndex(dst_error_hours, 'h')\n",
      "[*********************100%%**********************]  3 of 3 completed\n"
     ]
    },
    {
     "data": {
      "image/png": "[encoded data removed]",
      "text/plain": [
       "<Figure size 1000x600 with 1 Axes>"
      ]
     },
     "metadata": {},
     "output_type": "display_data"
    }
   ],
   "source": [
    "import yfinance as yf\n",
    "import pandas as pd\n",
    "import matplotlib.pyplot as plt\n",
    "\n",
    "# Télécharger les données historiques des prix pour plusieurs actifs\n",
    "tickers = [\"AAPL\", \"MSFT\", \"GOOG\"]  # Exemple : Apple, Microsoft, Google\n",
    "data = yf.download(tickers, period=\"1mo\")['Adj Close']\n",
    "\n",
    "# Calculer les rendements quotidiens pour chaque actif\n",
    "returns = data.pct_change()\n",
    "\n",
    "# Calculer les rendements cumulés pour chaque actif\n",
    "cumulative_returns = (1 + returns).cumprod()\n",
    "\n",
    "# Tracer le graphique des rendements cumulés\n",
    "plt.figure(figsize=(10, 6))\n",
    "for ticker in tickers:\n",
    "    plt.plot(cumulative_returns.index, cumulative_returns[ticker], label=ticker)\n",
    "\n",
    "plt.title(\"Rendements Cumulés pour un mois\")\n",
    "plt.xlabel(\"Date\")\n",
    "plt.ylabel(\"Rendements Cumulés\")\n",
    "plt.legend()\n",
    "plt.grid(True)\n",
    "plt.show()\n"
   ]
  }
 ],
 "metadata": {
  "kernelspec": {
   "display_name": "Projet_Final_App",
   "language": "python",
   "name": "python3"
  },
  "language_info": {
   "codemirror_mode": {
    "name": "ipython",
    "version": 3
   },
   "file_extension": ".py",
   "mimetype": "text/x-python",
   "name": "python",
   "nbconvert_exporter": "python",
   "pygments_lexer": "ipython3",
   "version": "3.9.0"
  }
 },
 "nbformat": 4,
 "nbformat_minor": 2
}
